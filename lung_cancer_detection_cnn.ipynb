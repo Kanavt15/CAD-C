{
 "cells": [
  {
   "cell_type": "markdown",
   "id": "c3b3afd9",
   "metadata": {},
   "source": [
    "# 🫁 LUNA16 Lung Cancer Detection - 3D CNN Approach\n",
    "\n",
    "**Advanced Deep Learning with 3D Convolutional Neural Networks**\n",
    "\n",
    "### Key Features:\n",
    "- 🔮 **3D CNN** - Purpose-built for volumetric medical imaging\n",
    "- ⚖️ **Improved Imbalance Handling** - Focal Loss with strong nodule weighting\n",
    "- 🎯 **3D Patch Processing** - Direct learning from CT scan patches\n",
    "- 📈 **Advanced Metrics** - Precision, Recall, F1, AUC-ROC optimized for imbalanced data\n",
    "- 🚀 **Pre-loaded Data** - Fast training with patches cached in memory\n",
    "\n",
    "**Dataset**: LUNA16 (Lung Nodule Analysis 2016)\n",
    "\n",
    "### Why 3D CNN?\n",
    "- Better suited for 3D medical imaging than Vision Transformers\n",
    "- Captures local spatial patterns effectively\n",
    "- Proven track record in medical image analysis\n",
    "- More parameter efficient for 3D data"
   ]
  },
  {
   "cell_type": "markdown",
   "id": "dc90f1ce",
   "metadata": {},
   "source": [
    "## 1. 📦 Import Required Libraries"
   ]
  },
  {
   "cell_type": "code",
   "execution_count": 23,
   "id": "d71c9a88",
   "metadata": {},
   "outputs": [
    {
     "name": "stdout",
     "output_type": "stream",
     "text": [
      "✅ All libraries imported successfully!\n",
      "🔥 PyTorch Version: 2.10.0.dev20250930+cu128\n",
      "⚡ CUDA Available: True\n",
      "🎮 GPU: NVIDIA GeForce RTX 5060 Ti\n",
      "💾 GPU Memory: 17.1 GB\n"
     ]
    }
   ],
   "source": [
    "# Core libraries\n",
    "import os\n",
    "import sys\n",
    "import glob\n",
    "import warnings\n",
    "from pathlib import Path\n",
    "import time\n",
    "import math\n",
    "\n",
    "# Data processing\n",
    "import numpy as np\n",
    "import pandas as pd\n",
    "from collections import Counter\n",
    "\n",
    "# Medical imaging\n",
    "import SimpleITK as sitk\n",
    "\n",
    "# PyTorch and deep learning\n",
    "import torch\n",
    "import torch.nn as nn\n",
    "import torch.nn.functional as F\n",
    "import torch.optim as optim\n",
    "from torch.utils.data import Dataset, DataLoader, WeightedRandomSampler\n",
    "from torch.optim.lr_scheduler import CosineAnnealingLR, ReduceLROnPlateau\n",
    "import torchvision.transforms as transforms\n",
    "\n",
    "# Machine learning and metrics\n",
    "from sklearn.model_selection import train_test_split\n",
    "from sklearn.metrics import (\n",
    "    classification_report, confusion_matrix, roc_auc_score, \n",
    "    roc_curve, precision_recall_curve, f1_score, \n",
    "    balanced_accuracy_score, matthews_corrcoef, average_precision_score\n",
    ")\n",
    "\n",
    "# Visualization\n",
    "import matplotlib.pyplot as plt\n",
    "import seaborn as sns\n",
    "from tqdm import tqdm\n",
    "\n",
    "# Set random seeds for reproducibility\n",
    "torch.manual_seed(42)\n",
    "np.random.seed(42)\n",
    "if torch.cuda.is_available():\n",
    "    torch.cuda.manual_seed_all(42)\n",
    "\n",
    "# Suppress warnings\n",
    "warnings.filterwarnings('ignore')\n",
    "\n",
    "print(\"✅ All libraries imported successfully!\")\n",
    "print(f\"🔥 PyTorch Version: {torch.__version__}\")\n",
    "print(f\"⚡ CUDA Available: {torch.cuda.is_available()}\")\n",
    "if torch.cuda.is_available():\n",
    "    print(f\"🎮 GPU: {torch.cuda.get_device_name(0)}\")\n",
    "    print(f\"💾 GPU Memory: {torch.cuda.get_device_properties(0).total_memory / 1e9:.1f} GB\")"
   ]
  },
  {
   "cell_type": "markdown",
   "id": "4f694c89",
   "metadata": {},
   "source": [
    "## 2. 🔧 Configuration - Optimized for Better Nodule Detection"
   ]
  },
  {
   "cell_type": "code",
   "execution_count": 41,
   "id": "8c428f1b",
   "metadata": {},
   "outputs": [
    {
     "name": "stdout",
     "output_type": "stream",
     "text": [
      "✅ Configuration set - TRULY BALANCED!\n",
      "🎯 Device: cuda\n",
      "📦 Batch Size: 32\n",
      "📐 Patch Size: 32x32x32\n",
      "\n",
      "🔥 TRULY BALANCED SETTINGS:\n",
      "   • Focal Loss Alpha: 0.25 (minimal favor)\n",
      "   • Focal Loss Gamma: 2.0\n",
      "   • Positive Weight: 1.5x (minimal)\n",
      "   • Effective nodule weight: 0.38\n",
      "   • Learning Rate: 0.0003\n",
      "   • Dropout: 0.4\n",
      "   • This should prevent 'predict all as nodules' behavior!\n"
     ]
    }
   ],
   "source": [
    "# Configuration - OPTIMIZED FOR BALANCED NODULE DETECTION\n",
    "class Config:\n",
    "    # Paths\n",
    "    BASE_DIR = Path(r\"e:\\Kanav\\Projects\\CAD_C\")\n",
    "    ANNOTATIONS_FILE = BASE_DIR / \"annotations.csv\"\n",
    "    CANDIDATES_FILE = BASE_DIR / \"candidates_V2.csv\"\n",
    "    MODEL_SAVE_DIR = BASE_DIR / \"models_cnn\"\n",
    "    \n",
    "    # Data settings\n",
    "    USE_SUBSET = True  # Set to False for full dataset\n",
    "    SUBSET_SIZE = 10000  # Number of samples for quick testing\n",
    "    PATCH_SIZE = 32  # Size of 3D patch (32x32x32)\n",
    "    \n",
    "    # CNN Architecture settings\n",
    "    INITIAL_FILTERS = 32  # Starting number of filters\n",
    "    DROPOUT = 0.3  # Dropout rate for regularization\n",
    "    \n",
    "    # Training settings\n",
    "    BATCH_SIZE = 16  # Batch size\n",
    "    NUM_EPOCHS = 100  # Maximum training epochs\n",
    "    LEARNING_RATE = 1e-4  # Initial learning rate\n",
    "    WEIGHT_DECAY = 1e-4  # Weight decay for regularization\n",
    "    WARMUP_EPOCHS = 5  # Warmup learning rate\n",
    "    \n",
    "    # Class imbalance handling - BALANCED APPROACH\n",
    "    USE_FOCAL_LOSS = True  # Use Focal Loss\n",
    "    FOCAL_ALPHA = 0.5  # Balanced weight (not too aggressive)\n",
    "    FOCAL_GAMMA = 3.0  # Focus on hard examples\n",
    "    POSITIVE_WEIGHT = 5.0  # Moderate weight multiplier for nodules\n",
    "    \n",
    "    # Device\n",
    "    DEVICE = torch.device('cuda' if torch.cuda.is_available() else 'cpu')\n",
    "    \n",
    "    # Mixed precision training\n",
    "    USE_AMP = True  # Automatic Mixed Precision\n",
    "    \n",
    "    # Early stopping\n",
    "    PATIENCE = 15  # Early stopping patience\n",
    "\n",
    "config = Config()\n",
    "\n",
    "# Create subset directories list after instantiation\n",
    "config.SUBSET_DIRS = [config.BASE_DIR / f\"subset{i}\" for i in range(10)]\n",
    "config.MODEL_SAVE_DIR.mkdir(exist_ok=True)\n",
    "\n",
    "print(\"✅ Configuration set!\")\n",
    "print(f\"🎯 Device: {config.DEVICE}\")\n",
    "print(f\"📦 Batch Size: {config.BATCH_SIZE}\")\n",
    "print(f\"📐 Patch Size: {config.PATCH_SIZE}x{config.PATCH_SIZE}x{config.PATCH_SIZE}\")\n",
    "print(f\"\\n🔥 BALANCED SETTINGS:\")\n",
    "print(f\"   • Focal Loss Alpha: {config.FOCAL_ALPHA} (balanced)\")\n",
    "print(f\"   • Focal Loss Gamma: {config.FOCAL_GAMMA}\")\n",
    "print(f\"   • Positive Weight: {config.POSITIVE_WEIGHT}x (moderate)\")\n",
    "print(f\"   • Effective nodule weight: {config.FOCAL_ALPHA * config.POSITIVE_WEIGHT:.2f}\")\n",
    "print(f\"   • Epochs: {config.NUM_EPOCHS}\")\n",
    "print(f\"   • Dropout: {config.DROPOUT}\")"
   ]
  },
  {
   "cell_type": "markdown",
   "id": "a8c19938",
   "metadata": {},
   "source": [
    "## 3. 📂 Data Loading"
   ]
  },
  {
   "cell_type": "code",
   "execution_count": 25,
   "id": "300e2177",
   "metadata": {},
   "outputs": [
    {
     "name": "stdout",
     "output_type": "stream",
     "text": [
      "📊 Annotations shape: (1186, 5)\n",
      "📈 Unique patients with nodules: 601\n",
      "⏳ Loading candidates file...\n",
      "📊 Candidates shape: (754975, 5)\n",
      "\n",
      "⚖️ Class Distribution:\n",
      "class\n",
      "0    753418\n",
      "1      1557\n",
      "Name: count, dtype: int64\n",
      "Imbalance Ratio: 483.89:1 (negative:positive)\n",
      "📊 Candidates shape: (754975, 5)\n",
      "\n",
      "⚖️ Class Distribution:\n",
      "class\n",
      "0    753418\n",
      "1      1557\n",
      "Name: count, dtype: int64\n",
      "Imbalance Ratio: 483.89:1 (negative:positive)\n"
     ]
    }
   ],
   "source": [
    "# Load annotations\n",
    "annotations = pd.read_csv(config.ANNOTATIONS_FILE)\n",
    "print(f\"📊 Annotations shape: {annotations.shape}\")\n",
    "print(f\"📈 Unique patients with nodules: {annotations['seriesuid'].nunique()}\")\n",
    "\n",
    "# Load candidates\n",
    "print(\"⏳ Loading candidates file...\")\n",
    "candidates = pd.read_csv(config.CANDIDATES_FILE)\n",
    "print(f\"📊 Candidates shape: {candidates.shape}\")\n",
    "\n",
    "# Check class distribution\n",
    "class_dist = candidates['class'].value_counts()\n",
    "print(f\"\\n⚖️ Class Distribution:\")\n",
    "print(class_dist)\n",
    "print(f\"Imbalance Ratio: {class_dist[0]/class_dist[1]:.2f}:1 (negative:positive)\")"
   ]
  },
  {
   "cell_type": "code",
   "execution_count": 26,
   "id": "9490d854",
   "metadata": {},
   "outputs": [
    {
     "name": "stdout",
     "output_type": "stream",
     "text": [
      "\n",
      "🔬 Using subset of 6557 samples\n",
      "Class distribution: \n",
      "class\n",
      "0    5000\n",
      "1    1557\n",
      "Name: count, dtype: int64\n"
     ]
    }
   ],
   "source": [
    "# Sample subset if needed\n",
    "if config.USE_SUBSET:\n",
    "    # Stratified sampling to maintain class balance\n",
    "    candidates_subset = candidates.groupby('class', group_keys=False).apply(\n",
    "        lambda x: x.sample(min(len(x), config.SUBSET_SIZE // 2), random_state=42)\n",
    "    ).reset_index(drop=True)\n",
    "    print(f\"\\n🔬 Using subset of {len(candidates_subset)} samples\")\n",
    "    print(f\"Class distribution: \\n{candidates_subset['class'].value_counts()}\")\n",
    "    candidates_to_process = candidates_subset\n",
    "else:\n",
    "    candidates_to_process = candidates\n",
    "    print(f\"\\n🔬 Using full dataset of {len(candidates)} samples\")"
   ]
  },
  {
   "cell_type": "markdown",
   "id": "18b4f0c4",
   "metadata": {},
   "source": [
    "## 4. 🎯 Dataset Class with Pre-loading"
   ]
  },
  {
   "cell_type": "code",
   "execution_count": 27,
   "id": "8b4bd5b7",
   "metadata": {},
   "outputs": [
    {
     "name": "stdout",
     "output_type": "stream",
     "text": [
      "✅ Enhanced Dataset class with AGGRESSIVE augmentation defined!\n"
     ]
    }
   ],
   "source": [
    "class LungNoduleDataset(Dataset):\n",
    "    \"\"\"Optimized Dataset with pre-extracted patches for faster training\"\"\"\n",
    "    \n",
    "    def __init__(self, candidates_df, subset_dirs, patch_size=32, augment=False, preload=True):\n",
    "        self.candidates_df = candidates_df.reset_index(drop=True)\n",
    "        self.subset_dirs = subset_dirs\n",
    "        self.patch_size = patch_size\n",
    "        self.augment = augment\n",
    "        \n",
    "        # Pre-extract and cache all patches\n",
    "        self.patches = []\n",
    "        self.labels = []\n",
    "        \n",
    "        if preload:\n",
    "            print(f\"⏳ Pre-extracting {len(candidates_df)} patches for faster training...\")\n",
    "            self._preload_patches()\n",
    "        \n",
    "    def _preload_patches(self):\n",
    "        \"\"\"Pre-extract all patches to memory\"\"\"\n",
    "        for idx in tqdm(range(len(self.candidates_df)), desc=\"Extracting patches\"):\n",
    "            row = self.candidates_df.iloc[idx]\n",
    "            series_uid = row['seriesuid']\n",
    "            world_coords = np.array([row['coordX'], row['coordY'], row['coordZ']])\n",
    "            label = row['class']\n",
    "            \n",
    "            # Load and extract patch\n",
    "            patch = self._load_and_extract_patch(series_uid, world_coords)\n",
    "            \n",
    "            if patch is not None:\n",
    "                self.patches.append(patch)\n",
    "                self.labels.append(label)\n",
    "        \n",
    "        print(f\"✅ Pre-extracted {len(self.patches)} patches successfully!\")\n",
    "        \n",
    "    def _load_and_extract_patch(self, series_uid, world_coords):\n",
    "        \"\"\"Load CT scan and extract patch\"\"\"\n",
    "        # Find and load CT scan\n",
    "        for subset_dir in self.subset_dirs:\n",
    "            mhd_file = subset_dir / f\"{series_uid}.mhd\"\n",
    "            if mhd_file.exists():\n",
    "                try:\n",
    "                    ct_scan = sitk.ReadImage(str(mhd_file))\n",
    "                    ct_array = sitk.GetArrayFromImage(ct_scan)\n",
    "                    origin = np.array(ct_scan.GetOrigin())\n",
    "                    spacing = np.array(ct_scan.GetSpacing())\n",
    "                    \n",
    "                    # Convert to voxel coordinates\n",
    "                    voxel_coords = np.abs((world_coords - origin) / spacing).astype(int)\n",
    "                    \n",
    "                    # Extract patch\n",
    "                    z, y, x = voxel_coords\n",
    "                    half_size = self.patch_size // 2\n",
    "                    \n",
    "                    z_start = max(0, z - half_size)\n",
    "                    z_end = min(ct_array.shape[0], z + half_size)\n",
    "                    y_start = max(0, y - half_size)\n",
    "                    y_end = min(ct_array.shape[1], y + half_size)\n",
    "                    x_start = max(0, x - half_size)\n",
    "                    x_end = min(ct_array.shape[2], x + half_size)\n",
    "                    \n",
    "                    patch = ct_array[z_start:z_end, y_start:y_end, x_start:x_end]\n",
    "                    \n",
    "                    # Pad if necessary\n",
    "                    if patch.shape != (self.patch_size, self.patch_size, self.patch_size):\n",
    "                        padded = np.zeros((self.patch_size, self.patch_size, self.patch_size), dtype=np.float32)\n",
    "                        padded[:patch.shape[0], :patch.shape[1], :patch.shape[2]] = patch\n",
    "                        patch = padded\n",
    "                    \n",
    "                    # Normalize (clip and scale)\n",
    "                    patch = np.clip(patch, -1000, 400)\n",
    "                    patch = (patch + 1000) / 1400\n",
    "                    \n",
    "                    return patch.astype(np.float32)\n",
    "                    \n",
    "                except Exception as e:\n",
    "                    print(f\"Error loading {series_uid}: {e}\")\n",
    "                    return None\n",
    "        \n",
    "        return None\n",
    "    \n",
    "    def __len__(self):\n",
    "        return len(self.patches)\n",
    "    \n",
    "    def augment_patch(self, patch):\n",
    "        \"\"\"Apply data augmentation\"\"\"\n",
    "        # Random flip\n",
    "        if np.random.rand() > 0.5:\n",
    "            patch = np.flip(patch, axis=0).copy()\n",
    "        if np.random.rand() > 0.5:\n",
    "            patch = np.flip(patch, axis=1).copy()\n",
    "        if np.random.rand() > 0.5:\n",
    "            patch = np.flip(patch, axis=2).copy()\n",
    "        \n",
    "        # Random rotation (90 degrees)\n",
    "        if np.random.rand() > 0.5:\n",
    "            k = np.random.randint(1, 4)\n",
    "            patch = np.rot90(patch, k, axes=(1, 2)).copy()\n",
    "        \n",
    "        # Add slight noise\n",
    "        if np.random.rand() > 0.5:\n",
    "            noise = np.random.normal(0, 0.01, patch.shape).astype(np.float32)\n",
    "            patch = patch + noise\n",
    "            patch = np.clip(patch, 0, 1)\n",
    "        \n",
    "        return patch\n",
    "    \n",
    "    def __getitem__(self, idx):\n",
    "        # Get pre-extracted patch\n",
    "        patch = self.patches[idx].copy()\n",
    "        label = self.labels[idx]\n",
    "        \n",
    "        # Augmentation\n",
    "        if self.augment:\n",
    "            patch = self.augment_patch(patch)\n",
    "        \n",
    "        # Convert to tensor (add channel dimension)\n",
    "        patch = torch.FloatTensor(patch).unsqueeze(0)  # Shape: (1, D, H, W)\n",
    "        label = torch.LongTensor([label])[0]\n",
    "        \n",
    "        return patch, label\n",
    "\n",
    "print(\"✅ Optimized Dataset class defined with pre-loading!\")"
   ]
  },
  {
   "cell_type": "markdown",
   "id": "3d9fca22",
   "metadata": {},
   "source": [
    "## 5. 🏗️ 3D CNN Architecture\n",
    "\n",
    "Building a deep 3D CNN specifically for medical image classification."
   ]
  },
  {
   "cell_type": "code",
   "execution_count": 28,
   "id": "8332a0c7",
   "metadata": {},
   "outputs": [
    {
     "name": "stdout",
     "output_type": "stream",
     "text": [
      "✅ 3D CNN architecture defined!\n"
     ]
    }
   ],
   "source": [
    "class CNN3D(nn.Module):\n",
    "    \"\"\"3D CNN for lung nodule detection\"\"\"\n",
    "    \n",
    "    def __init__(self, in_channels=1, num_classes=2, initial_filters=32, dropout=0.3):\n",
    "        super().__init__()\n",
    "        \n",
    "        # Convolutional blocks with batch norm and residual connections\n",
    "        self.conv1 = self._make_conv_block(in_channels, initial_filters)\n",
    "        self.conv2 = self._make_conv_block(initial_filters, initial_filters * 2)\n",
    "        self.conv3 = self._make_conv_block(initial_filters * 2, initial_filters * 4)\n",
    "        self.conv4 = self._make_conv_block(initial_filters * 4, initial_filters * 8)\n",
    "        \n",
    "        # Max pooling\n",
    "        self.pool = nn.MaxPool3d(kernel_size=2, stride=2)\n",
    "        \n",
    "        # Global average pooling\n",
    "        self.global_pool = nn.AdaptiveAvgPool3d(1)\n",
    "        \n",
    "        # Fully connected layers\n",
    "        self.fc1 = nn.Linear(initial_filters * 8, 128)\n",
    "        self.fc2 = nn.Linear(128, 64)\n",
    "        self.fc3 = nn.Linear(64, num_classes)\n",
    "        \n",
    "        self.dropout = nn.Dropout(dropout)\n",
    "        self.relu = nn.ReLU(inplace=True)\n",
    "        \n",
    "    def _make_conv_block(self, in_channels, out_channels):\n",
    "        \"\"\"Create a convolutional block with batch norm\"\"\"\n",
    "        return nn.Sequential(\n",
    "            nn.Conv3d(in_channels, out_channels, kernel_size=3, padding=1, bias=False),\n",
    "            nn.BatchNorm3d(out_channels),\n",
    "            nn.ReLU(inplace=True),\n",
    "            nn.Conv3d(out_channels, out_channels, kernel_size=3, padding=1, bias=False),\n",
    "            nn.BatchNorm3d(out_channels),\n",
    "            nn.ReLU(inplace=True)\n",
    "        )\n",
    "    \n",
    "    def forward(self, x):\n",
    "        # Convolutional blocks with pooling\n",
    "        x = self.conv1(x)\n",
    "        x = self.pool(x)\n",
    "        \n",
    "        x = self.conv2(x)\n",
    "        x = self.pool(x)\n",
    "        \n",
    "        x = self.conv3(x)\n",
    "        x = self.pool(x)\n",
    "        \n",
    "        x = self.conv4(x)\n",
    "        \n",
    "        # Global pooling\n",
    "        x = self.global_pool(x)\n",
    "        x = x.view(x.size(0), -1)\n",
    "        \n",
    "        # Fully connected layers\n",
    "        x = self.dropout(self.relu(self.fc1(x)))\n",
    "        x = self.dropout(self.relu(self.fc2(x)))\n",
    "        x = self.fc3(x)\n",
    "        \n",
    "        return x\n",
    "\n",
    "print(\"✅ 3D CNN architecture defined!\")"
   ]
  },
  {
   "cell_type": "markdown",
   "id": "3578411b",
   "metadata": {},
   "source": [
    "## 6. 🔥 Improved Focal Loss"
   ]
  },
  {
   "cell_type": "code",
   "execution_count": 29,
   "id": "294d6689",
   "metadata": {},
   "outputs": [
    {
     "name": "stdout",
     "output_type": "stream",
     "text": [
      "✅ Improved Focal Loss with balanced nodule weighting defined!\n"
     ]
    }
   ],
   "source": [
    "class FocalLoss(nn.Module):\n",
    "    \"\"\"Improved Focal Loss with balanced class weighting\"\"\"\n",
    "    \n",
    "    def __init__(self, alpha=0.5, gamma=3.0, positive_weight=5.0, reduction='mean', label_smoothing=0.1):\n",
    "        super().__init__()\n",
    "        self.alpha = alpha\n",
    "        self.gamma = gamma\n",
    "        self.positive_weight = positive_weight\n",
    "        self.reduction = reduction\n",
    "        self.label_smoothing = label_smoothing\n",
    "        \n",
    "    def forward(self, inputs, targets):\n",
    "        # Apply label smoothing\n",
    "        num_classes = inputs.size(1)\n",
    "        if self.label_smoothing > 0:\n",
    "            # Convert targets to one-hot with smoothing\n",
    "            targets_one_hot = torch.zeros_like(inputs)\n",
    "            targets_one_hot.scatter_(1, targets.unsqueeze(1), 1)\n",
    "            targets_one_hot = targets_one_hot * (1 - self.label_smoothing) + self.label_smoothing / num_classes\n",
    "            ce_loss = -(targets_one_hot * F.log_softmax(inputs, dim=1)).sum(dim=1)\n",
    "        else:\n",
    "            ce_loss = F.cross_entropy(inputs, targets, reduction='none')\n",
    "        \n",
    "        # Calculate focal term\n",
    "        pt = torch.exp(-ce_loss)\n",
    "        focal_term = (1 - pt) ** self.gamma\n",
    "        \n",
    "        # Apply class-specific alpha (higher weight for positive class)\n",
    "        alpha_t = torch.where(targets == 1, \n",
    "                             torch.tensor(self.alpha * self.positive_weight, device=inputs.device),\n",
    "                             torch.tensor(1.0 - self.alpha, device=inputs.device))\n",
    "        \n",
    "        focal_loss = alpha_t * focal_term * ce_loss\n",
    "        \n",
    "        if self.reduction == 'mean':\n",
    "            return focal_loss.mean()\n",
    "        elif self.reduction == 'sum':\n",
    "            return focal_loss.sum()\n",
    "        else:\n",
    "            return focal_loss\n",
    "\n",
    "print(\"✅ Improved Focal Loss with balanced nodule weighting defined!\")"
   ]
  },
  {
   "cell_type": "markdown",
   "id": "2efe08ea",
   "metadata": {},
   "source": [
    "## 7. 📊 Prepare Data Loaders"
   ]
  },
  {
   "cell_type": "code",
   "execution_count": 30,
   "id": "501f921c",
   "metadata": {},
   "outputs": [
    {
     "name": "stdout",
     "output_type": "stream",
     "text": [
      "📊 Training set: 4458 samples\n",
      "📊 Validation set: 787 samples\n",
      "📊 Test set: 1312 samples\n",
      "\n",
      "⚖️ Training set class distribution:\n",
      "class\n",
      "0    3400\n",
      "1    1058\n",
      "Name: count, dtype: int64\n",
      "\n",
      "⚖️ Validation set class distribution:\n",
      "class\n",
      "0    600\n",
      "1    187\n",
      "Name: count, dtype: int64\n",
      "\n",
      "⚖️ Test set class distribution:\n",
      "class\n",
      "0    1000\n",
      "1     312\n",
      "Name: count, dtype: int64\n"
     ]
    }
   ],
   "source": [
    "# Split data\n",
    "train_df, test_df = train_test_split(\n",
    "    candidates_to_process, \n",
    "    test_size=0.2, \n",
    "    random_state=42, \n",
    "    stratify=candidates_to_process['class']\n",
    ")\n",
    "\n",
    "train_df, val_df = train_test_split(\n",
    "    train_df, \n",
    "    test_size=0.15, \n",
    "    random_state=42, \n",
    "    stratify=train_df['class']\n",
    ")\n",
    "\n",
    "print(f\"📊 Training set: {len(train_df)} samples\")\n",
    "print(f\"📊 Validation set: {len(val_df)} samples\")\n",
    "print(f\"📊 Test set: {len(test_df)} samples\")\n",
    "\n",
    "print(f\"\\n⚖️ Training set class distribution:\")\n",
    "print(train_df['class'].value_counts())\n",
    "print(f\"\\n⚖️ Validation set class distribution:\")\n",
    "print(val_df['class'].value_counts())\n",
    "print(f\"\\n⚖️ Test set class distribution:\")\n",
    "print(test_df['class'].value_counts())"
   ]
  },
  {
   "cell_type": "code",
   "execution_count": 31,
   "id": "cf2fc5a4",
   "metadata": {},
   "outputs": [
    {
     "name": "stdout",
     "output_type": "stream",
     "text": [
      "⏳ Pre-extracting 4458 patches for faster training...\n"
     ]
    },
    {
     "name": "stdout",
     "output_type": "stream",
     "text": [
      "⏳ Pre-extracting 4458 patches for faster training...\n"
     ]
    },
    {
     "name": "stderr",
     "output_type": "stream",
     "text": [
      "Extracting patches: 100%|██████████| 4458/4458 [15:31<00:00,  4.78it/s]\n",
      "Extracting patches: 100%|██████████| 4458/4458 [15:31<00:00,  4.78it/s]\n"
     ]
    },
    {
     "name": "stdout",
     "output_type": "stream",
     "text": [
      "⏳ Pre-extracting 4458 patches for faster training...\n"
     ]
    },
    {
     "name": "stderr",
     "output_type": "stream",
     "text": [
      "Extracting patches: 100%|██████████| 4458/4458 [15:31<00:00,  4.78it/s]\n",
      "Extracting patches: 100%|██████████| 4458/4458 [15:31<00:00,  4.78it/s]\n"
     ]
    },
    {
     "name": "stdout",
     "output_type": "stream",
     "text": [
      "✅ Pre-extracted 4458 patches successfully!\n",
      "⏳ Pre-extracting 787 patches for faster training...\n"
     ]
    },
    {
     "name": "stderr",
     "output_type": "stream",
     "text": [
      "Extracting patches: 100%|██████████| 787/787 [02:45<00:00,  4.76it/s]\n",
      "Extracting patches: 100%|██████████| 787/787 [02:45<00:00,  4.76it/s]\n"
     ]
    },
    {
     "name": "stdout",
     "output_type": "stream",
     "text": [
      "⏳ Pre-extracting 4458 patches for faster training...\n"
     ]
    },
    {
     "name": "stderr",
     "output_type": "stream",
     "text": [
      "Extracting patches: 100%|██████████| 4458/4458 [15:31<00:00,  4.78it/s]\n",
      "Extracting patches: 100%|██████████| 4458/4458 [15:31<00:00,  4.78it/s]\n"
     ]
    },
    {
     "name": "stdout",
     "output_type": "stream",
     "text": [
      "✅ Pre-extracted 4458 patches successfully!\n",
      "⏳ Pre-extracting 787 patches for faster training...\n"
     ]
    },
    {
     "name": "stderr",
     "output_type": "stream",
     "text": [
      "Extracting patches: 100%|██████████| 787/787 [02:45<00:00,  4.76it/s]\n",
      "Extracting patches: 100%|██████████| 787/787 [02:45<00:00,  4.76it/s]\n"
     ]
    },
    {
     "name": "stdout",
     "output_type": "stream",
     "text": [
      "✅ Pre-extracted 787 patches successfully!\n",
      "⏳ Pre-extracting 1312 patches for faster training...\n"
     ]
    },
    {
     "name": "stderr",
     "output_type": "stream",
     "text": [
      "Extracting patches: 100%|██████████| 1312/1312 [04:31<00:00,  4.84it/s]"
     ]
    },
    {
     "name": "stdout",
     "output_type": "stream",
     "text": [
      "⏳ Pre-extracting 4458 patches for faster training...\n"
     ]
    },
    {
     "name": "stderr",
     "output_type": "stream",
     "text": [
      "Extracting patches: 100%|██████████| 4458/4458 [15:31<00:00,  4.78it/s]\n",
      "Extracting patches: 100%|██████████| 4458/4458 [15:31<00:00,  4.78it/s]\n"
     ]
    },
    {
     "name": "stdout",
     "output_type": "stream",
     "text": [
      "✅ Pre-extracted 4458 patches successfully!\n",
      "⏳ Pre-extracting 787 patches for faster training...\n"
     ]
    },
    {
     "name": "stderr",
     "output_type": "stream",
     "text": [
      "Extracting patches: 100%|██████████| 787/787 [02:45<00:00,  4.76it/s]\n",
      "Extracting patches: 100%|██████████| 787/787 [02:45<00:00,  4.76it/s]\n"
     ]
    },
    {
     "name": "stdout",
     "output_type": "stream",
     "text": [
      "✅ Pre-extracted 787 patches successfully!\n",
      "⏳ Pre-extracting 1312 patches for faster training...\n"
     ]
    },
    {
     "name": "stderr",
     "output_type": "stream",
     "text": [
      "Extracting patches: 100%|██████████| 1312/1312 [04:31<00:00,  4.84it/s]"
     ]
    },
    {
     "name": "stdout",
     "output_type": "stream",
     "text": [
      "✅ Pre-extracted 1312 patches successfully!\n",
      "✅ Datasets created!\n",
      "   Training: 4458 samples\n",
      "   Validation: 787 samples\n",
      "   Test: 1312 samples\n"
     ]
    },
    {
     "name": "stderr",
     "output_type": "stream",
     "text": [
      "\n"
     ]
    }
   ],
   "source": [
    "# Create datasets\n",
    "train_dataset = LungNoduleDataset(train_df, config.SUBSET_DIRS, config.PATCH_SIZE, augment=True)\n",
    "val_dataset = LungNoduleDataset(val_df, config.SUBSET_DIRS, config.PATCH_SIZE, augment=False)\n",
    "test_dataset = LungNoduleDataset(test_df, config.SUBSET_DIRS, config.PATCH_SIZE, augment=False)\n",
    "\n",
    "print(f\"✅ Datasets created!\")\n",
    "print(f\"   Training: {len(train_dataset)} samples\")\n",
    "print(f\"   Validation: {len(val_dataset)} samples\")\n",
    "print(f\"   Test: {len(test_dataset)} samples\")"
   ]
  },
  {
   "cell_type": "code",
   "execution_count": 42,
   "id": "8902a925",
   "metadata": {},
   "outputs": [
    {
     "name": "stdout",
     "output_type": "stream",
     "text": [
      "✅ Data loaders created with balanced sampling!\n",
      "   Training batches: 140\n",
      "   Validation batches: 25\n",
      "   Test batches: 41\n"
     ]
    }
   ],
   "source": [
    "# Create weighted sampler for balanced training\n",
    "class_counts = train_df['class'].value_counts().sort_index()\n",
    "class_weights = 1.0 / torch.tensor(class_counts.values, dtype=torch.float)\n",
    "sample_weights = class_weights[train_df['class'].values]\n",
    "sampler = WeightedRandomSampler(\n",
    "    weights=sample_weights,\n",
    "    num_samples=len(sample_weights),\n",
    "    replacement=True\n",
    ")\n",
    "\n",
    "# Create data loaders\n",
    "train_loader = DataLoader(\n",
    "    train_dataset, \n",
    "    batch_size=config.BATCH_SIZE, \n",
    "    sampler=sampler,\n",
    "    num_workers=0,\n",
    "    pin_memory=True if config.DEVICE.type == 'cuda' else False\n",
    ")\n",
    "\n",
    "val_loader = DataLoader(\n",
    "    val_dataset, \n",
    "    batch_size=config.BATCH_SIZE, \n",
    "    shuffle=False,\n",
    "    num_workers=0,\n",
    "    pin_memory=True if config.DEVICE.type == 'cuda' else False\n",
    ")\n",
    "\n",
    "test_loader = DataLoader(\n",
    "    test_dataset, \n",
    "    batch_size=config.BATCH_SIZE, \n",
    "    shuffle=False,\n",
    "    num_workers=0,\n",
    "    pin_memory=True if config.DEVICE.type == 'cuda' else False\n",
    ")\n",
    "\n",
    "print(\"✅ Data loaders created with balanced sampling!\")\n",
    "print(f\"   Training batches: {len(train_loader)}\")\n",
    "print(f\"   Validation batches: {len(val_loader)}\")\n",
    "print(f\"   Test batches: {len(test_loader)}\")"
   ]
  },
  {
   "cell_type": "markdown",
   "id": "19a9f33d",
   "metadata": {},
   "source": [
    "## 8. 🎯 Initialize Model and Training Components"
   ]
  },
  {
   "cell_type": "code",
   "execution_count": 43,
   "id": "95c02320",
   "metadata": {},
   "outputs": [
    {
     "name": "stdout",
     "output_type": "stream",
     "text": [
      "✅ 3D CNN Model initialized!\n",
      "📊 Total parameters: 3,555,362\n",
      "📊 Trainable parameters: 3,555,362\n"
     ]
    }
   ],
   "source": [
    "# Initialize model\n",
    "model = CNN3D(\n",
    "    in_channels=1,\n",
    "    num_classes=2,\n",
    "    initial_filters=config.INITIAL_FILTERS,\n",
    "    dropout=config.DROPOUT\n",
    ").to(config.DEVICE)\n",
    "\n",
    "# Count parameters\n",
    "total_params = sum(p.numel() for p in model.parameters())\n",
    "trainable_params = sum(p.numel() for p in model.parameters() if p.requires_grad)\n",
    "\n",
    "print(\"✅ 3D CNN Model initialized!\")\n",
    "print(f\"📊 Total parameters: {total_params:,}\")\n",
    "print(f\"📊 Trainable parameters: {trainable_params:,}\")"
   ]
  },
  {
   "cell_type": "code",
   "execution_count": 44,
   "id": "8f381b15",
   "metadata": {},
   "outputs": [
    {
     "name": "stdout",
     "output_type": "stream",
     "text": [
      "✅ Using BALANCED Focal Loss\n",
      "   Alpha: 0.25 | Gamma: 2.0\n",
      "   Positive Weight: 1.5x\n",
      "   Label Smoothing: 0.1\n",
      "   Effective nodule weight: 0.38\n",
      "✅ Training components initialized!\n"
     ]
    }
   ],
   "source": [
    "# Loss function - BALANCED APPROACH\n",
    "if config.USE_FOCAL_LOSS:\n",
    "    criterion = FocalLoss(\n",
    "        alpha=config.FOCAL_ALPHA, \n",
    "        gamma=config.FOCAL_GAMMA,\n",
    "        positive_weight=config.POSITIVE_WEIGHT,\n",
    "        label_smoothing=0.1\n",
    "    )\n",
    "    print(f\"✅ Using BALANCED Focal Loss\")\n",
    "    print(f\"   Alpha: {config.FOCAL_ALPHA} | Gamma: {config.FOCAL_GAMMA}\")\n",
    "    print(f\"   Positive Weight: {config.POSITIVE_WEIGHT}x\")\n",
    "    print(f\"   Label Smoothing: 0.1\")\n",
    "    print(f\"   Effective nodule weight: {config.FOCAL_ALPHA * config.POSITIVE_WEIGHT:.2f}\")\n",
    "else:\n",
    "    # Use class weights for standard cross-entropy\n",
    "    class_weights_tensor = class_weights.to(config.DEVICE)\n",
    "    criterion = nn.CrossEntropyLoss(weight=class_weights_tensor)\n",
    "    print(f\"✅ Using Weighted Cross-Entropy Loss\")\n",
    "\n",
    "# Optimizer\n",
    "optimizer = optim.AdamW(\n",
    "    model.parameters(), \n",
    "    lr=config.LEARNING_RATE, \n",
    "    weight_decay=config.WEIGHT_DECAY\n",
    ")\n",
    "\n",
    "# Learning rate scheduler with warmup\n",
    "def get_lr_scheduler_with_warmup(optimizer, warmup_epochs, total_epochs):\n",
    "    \"\"\"Learning rate scheduler with warmup\"\"\"\n",
    "    def lr_lambda(epoch):\n",
    "        if epoch < warmup_epochs:\n",
    "            # Linear warmup\n",
    "            return (epoch + 1) / warmup_epochs\n",
    "        else:\n",
    "            # Cosine annealing after warmup\n",
    "            progress = (epoch - warmup_epochs) / (total_epochs - warmup_epochs)\n",
    "            return 0.5 * (1 + np.cos(np.pi * progress))\n",
    "    return optim.lr_scheduler.LambdaLR(optimizer, lr_lambda)\n",
    "\n",
    "scheduler = get_lr_scheduler_with_warmup(optimizer, config.WARMUP_EPOCHS, config.NUM_EPOCHS)\n",
    "\n",
    "# Mixed precision scaler\n",
    "scaler = torch.cuda.amp.GradScaler() if config.USE_AMP and config.DEVICE.type == 'cuda' else None\n",
    "\n",
    "print(\"✅ Training components initialized!\")"
   ]
  },
  {
   "cell_type": "markdown",
   "id": "13266024",
   "metadata": {},
   "source": [
    "## 9. 🚀 Training Loop"
   ]
  },
  {
   "cell_type": "code",
   "execution_count": 36,
   "id": "a06e7d73",
   "metadata": {},
   "outputs": [
    {
     "name": "stdout",
     "output_type": "stream",
     "text": [
      "✅ Training and validation functions defined!\n"
     ]
    }
   ],
   "source": [
    "def train_epoch(model, loader, criterion, optimizer, scaler, device):\n",
    "    \"\"\"Train for one epoch\"\"\"\n",
    "    model.train()\n",
    "    running_loss = 0.0\n",
    "    correct = 0\n",
    "    total = 0\n",
    "    \n",
    "    all_preds = []\n",
    "    all_labels = []\n",
    "    all_probs = []\n",
    "    \n",
    "    pbar = tqdm(loader, desc='Training')\n",
    "    for inputs, labels in pbar:\n",
    "        inputs, labels = inputs.to(device), labels.to(device)\n",
    "        \n",
    "        optimizer.zero_grad()\n",
    "        \n",
    "        # Mixed precision training\n",
    "        if scaler is not None:\n",
    "            with torch.cuda.amp.autocast():\n",
    "                outputs = model(inputs)\n",
    "                loss = criterion(outputs, labels)\n",
    "            scaler.scale(loss).backward()\n",
    "            scaler.step(optimizer)\n",
    "            scaler.update()\n",
    "        else:\n",
    "            outputs = model(inputs)\n",
    "            loss = criterion(outputs, labels)\n",
    "            loss.backward()\n",
    "            optimizer.step()\n",
    "        \n",
    "        # Statistics\n",
    "        running_loss += loss.item() * inputs.size(0)\n",
    "        probs = F.softmax(outputs, dim=1)\n",
    "        _, predicted = torch.max(outputs, 1)\n",
    "        total += labels.size(0)\n",
    "        correct += (predicted == labels).sum().item()\n",
    "        \n",
    "        all_preds.extend(predicted.cpu().numpy())\n",
    "        all_labels.extend(labels.cpu().numpy())\n",
    "        all_probs.extend(probs[:, 1].detach().cpu().numpy())\n",
    "        \n",
    "        # Update progress bar\n",
    "        pbar.set_postfix({'loss': loss.item(), 'acc': 100 * correct / total})\n",
    "    \n",
    "    epoch_loss = running_loss / total\n",
    "    epoch_acc = 100 * correct / total\n",
    "    \n",
    "    # Calculate AUC\n",
    "    try:\n",
    "        epoch_auc = roc_auc_score(all_labels, all_probs)\n",
    "    except:\n",
    "        epoch_auc = 0.0\n",
    "    \n",
    "    return epoch_loss, epoch_acc, epoch_auc\n",
    "\n",
    "def validate(model, loader, criterion, device):\n",
    "    \"\"\"Validate the model\"\"\"\n",
    "    model.eval()\n",
    "    running_loss = 0.0\n",
    "    correct = 0\n",
    "    total = 0\n",
    "    \n",
    "    all_preds = []\n",
    "    all_labels = []\n",
    "    all_probs = []\n",
    "    \n",
    "    with torch.no_grad():\n",
    "        for inputs, labels in tqdm(loader, desc='Validation'):\n",
    "            inputs, labels = inputs.to(device), labels.to(device)\n",
    "            \n",
    "            # Mixed precision inference\n",
    "            if device.type == 'cuda':\n",
    "                with torch.cuda.amp.autocast():\n",
    "                    outputs = model(inputs)\n",
    "                    loss = criterion(outputs, labels)\n",
    "            else:\n",
    "                outputs = model(inputs)\n",
    "                loss = criterion(outputs, labels)\n",
    "            \n",
    "            # Statistics\n",
    "            running_loss += loss.item() * inputs.size(0)\n",
    "            probs = F.softmax(outputs, dim=1)\n",
    "            _, predicted = torch.max(outputs, 1)\n",
    "            total += labels.size(0)\n",
    "            correct += (predicted == labels).sum().item()\n",
    "            \n",
    "            all_preds.extend(predicted.cpu().numpy())\n",
    "            all_labels.extend(labels.cpu().numpy())\n",
    "            all_probs.extend(probs[:, 1].cpu().numpy())\n",
    "    \n",
    "    epoch_loss = running_loss / total\n",
    "    epoch_acc = 100 * correct / total\n",
    "    \n",
    "    # Calculate AUC\n",
    "    try:\n",
    "        epoch_auc = roc_auc_score(all_labels, all_probs)\n",
    "    except:\n",
    "        epoch_auc = 0.0\n",
    "    \n",
    "    return epoch_loss, epoch_acc, epoch_auc, all_probs, all_labels\n",
    "\n",
    "print(\"✅ Training and validation functions defined!\")"
   ]
  },
  {
   "cell_type": "code",
   "execution_count": 45,
   "id": "f5660887",
   "metadata": {},
   "outputs": [
    {
     "name": "stdout",
     "output_type": "stream",
     "text": [
      "🚀 Starting training...\n",
      "📊 Training for up to 100 epochs\n",
      "⏱️ Early stopping patience: 25 epochs\n",
      "🔥 Using device: cuda\n",
      "================================================================================\n"
     ]
    },
    {
     "name": "stdout",
     "output_type": "stream",
     "text": [
      "🚀 Starting training...\n",
      "📊 Training for up to 100 epochs\n",
      "⏱️ Early stopping patience: 25 epochs\n",
      "🔥 Using device: cuda\n",
      "================================================================================\n"
     ]
    },
    {
     "name": "stderr",
     "output_type": "stream",
     "text": [
      "Training: 100%|██████████| 140/140 [00:43<00:00,  3.18it/s, loss=0.0957, acc=49.2]\n",
      "Training: 100%|██████████| 140/140 [00:43<00:00,  3.18it/s, loss=0.0957, acc=49.2]\n",
      "Validation: 100%|██████████| 25/25 [00:00<00:00, 37.42it/s]\n",
      "\n"
     ]
    },
    {
     "name": "stdout",
     "output_type": "stream",
     "text": [
      "🚀 Starting training...\n",
      "📊 Training for up to 100 epochs\n",
      "⏱️ Early stopping patience: 25 epochs\n",
      "🔥 Using device: cuda\n",
      "================================================================================\n"
     ]
    },
    {
     "name": "stderr",
     "output_type": "stream",
     "text": [
      "Training: 100%|██████████| 140/140 [00:43<00:00,  3.18it/s, loss=0.0957, acc=49.2]\n",
      "Training: 100%|██████████| 140/140 [00:43<00:00,  3.18it/s, loss=0.0957, acc=49.2]\n",
      "Validation: 100%|██████████| 25/25 [00:00<00:00, 37.42it/s]\n",
      "\n"
     ]
    },
    {
     "name": "stdout",
     "output_type": "stream",
     "text": [
      "\n",
      "📊 Epoch [1/100] - 44.66s - LR: 0.000200\n",
      "   Train Loss: 0.0920 | Train Acc: 49.19% | Train AUC: 0.4932\n",
      "   Val Loss:   0.0868 | Val Acc:   76.24% | Val AUC:   0.5226\n",
      "   ✅ New best model saved! (Val AUC: 0.5226)\n",
      "--------------------------------------------------------------------------------\n"
     ]
    },
    {
     "name": "stderr",
     "output_type": "stream",
     "text": [
      "Training: 100%|██████████| 140/140 [00:40<00:00,  3.48it/s, loss=0.09, acc=49.2]  \n",
      "Training: 100%|██████████| 140/140 [00:40<00:00,  3.48it/s, loss=0.09, acc=49.2]  \n",
      "Validation: 100%|██████████| 25/25 [00:00<00:00, 43.26it/s]\n",
      "Validation: 100%|██████████| 25/25 [00:00<00:00, 43.26it/s]\n"
     ]
    },
    {
     "name": "stdout",
     "output_type": "stream",
     "text": [
      "🚀 Starting training...\n",
      "📊 Training for up to 100 epochs\n",
      "⏱️ Early stopping patience: 25 epochs\n",
      "🔥 Using device: cuda\n",
      "================================================================================\n"
     ]
    },
    {
     "name": "stderr",
     "output_type": "stream",
     "text": [
      "Training: 100%|██████████| 140/140 [00:43<00:00,  3.18it/s, loss=0.0957, acc=49.2]\n",
      "Training: 100%|██████████| 140/140 [00:43<00:00,  3.18it/s, loss=0.0957, acc=49.2]\n",
      "Validation: 100%|██████████| 25/25 [00:00<00:00, 37.42it/s]\n",
      "\n"
     ]
    },
    {
     "name": "stdout",
     "output_type": "stream",
     "text": [
      "\n",
      "📊 Epoch [1/100] - 44.66s - LR: 0.000200\n",
      "   Train Loss: 0.0920 | Train Acc: 49.19% | Train AUC: 0.4932\n",
      "   Val Loss:   0.0868 | Val Acc:   76.24% | Val AUC:   0.5226\n",
      "   ✅ New best model saved! (Val AUC: 0.5226)\n",
      "--------------------------------------------------------------------------------\n"
     ]
    },
    {
     "name": "stderr",
     "output_type": "stream",
     "text": [
      "Training: 100%|██████████| 140/140 [00:40<00:00,  3.48it/s, loss=0.09, acc=49.2]  \n",
      "Training: 100%|██████████| 140/140 [00:40<00:00,  3.48it/s, loss=0.09, acc=49.2]  \n",
      "Validation: 100%|██████████| 25/25 [00:00<00:00, 43.26it/s]\n",
      "Validation: 100%|██████████| 25/25 [00:00<00:00, 43.26it/s]\n"
     ]
    },
    {
     "name": "stdout",
     "output_type": "stream",
     "text": [
      "\n",
      "📊 Epoch [2/100] - 40.80s - LR: 0.000300\n",
      "   Train Loss: 0.0916 | Train Acc: 49.21% | Train AUC: 0.4915\n",
      "   Val Loss:   0.0894 | Val Acc:   76.24% | Val AUC:   0.5081\n",
      "   ⏱️ No improvement for 1/25 epochs\n",
      "--------------------------------------------------------------------------------\n"
     ]
    },
    {
     "name": "stderr",
     "output_type": "stream",
     "text": [
      "Training: 100%|██████████| 140/140 [00:30<00:00,  4.55it/s, loss=0.0904, acc=49.6]\n",
      "Training: 100%|██████████| 140/140 [00:30<00:00,  4.55it/s, loss=0.0904, acc=49.6]\n",
      "Validation: 100%|██████████| 25/25 [00:00<00:00, 42.49it/s]\n",
      "Validation: 100%|██████████| 25/25 [00:00<00:00, 42.49it/s]\n"
     ]
    },
    {
     "name": "stdout",
     "output_type": "stream",
     "text": [
      "🚀 Starting training...\n",
      "📊 Training for up to 100 epochs\n",
      "⏱️ Early stopping patience: 25 epochs\n",
      "🔥 Using device: cuda\n",
      "================================================================================\n"
     ]
    },
    {
     "name": "stderr",
     "output_type": "stream",
     "text": [
      "Training: 100%|██████████| 140/140 [00:43<00:00,  3.18it/s, loss=0.0957, acc=49.2]\n",
      "Training: 100%|██████████| 140/140 [00:43<00:00,  3.18it/s, loss=0.0957, acc=49.2]\n",
      "Validation: 100%|██████████| 25/25 [00:00<00:00, 37.42it/s]\n",
      "\n"
     ]
    },
    {
     "name": "stdout",
     "output_type": "stream",
     "text": [
      "\n",
      "📊 Epoch [1/100] - 44.66s - LR: 0.000200\n",
      "   Train Loss: 0.0920 | Train Acc: 49.19% | Train AUC: 0.4932\n",
      "   Val Loss:   0.0868 | Val Acc:   76.24% | Val AUC:   0.5226\n",
      "   ✅ New best model saved! (Val AUC: 0.5226)\n",
      "--------------------------------------------------------------------------------\n"
     ]
    },
    {
     "name": "stderr",
     "output_type": "stream",
     "text": [
      "Training: 100%|██████████| 140/140 [00:40<00:00,  3.48it/s, loss=0.09, acc=49.2]  \n",
      "Training: 100%|██████████| 140/140 [00:40<00:00,  3.48it/s, loss=0.09, acc=49.2]  \n",
      "Validation: 100%|██████████| 25/25 [00:00<00:00, 43.26it/s]\n",
      "Validation: 100%|██████████| 25/25 [00:00<00:00, 43.26it/s]\n"
     ]
    },
    {
     "name": "stdout",
     "output_type": "stream",
     "text": [
      "\n",
      "📊 Epoch [2/100] - 40.80s - LR: 0.000300\n",
      "   Train Loss: 0.0916 | Train Acc: 49.21% | Train AUC: 0.4915\n",
      "   Val Loss:   0.0894 | Val Acc:   76.24% | Val AUC:   0.5081\n",
      "   ⏱️ No improvement for 1/25 epochs\n",
      "--------------------------------------------------------------------------------\n"
     ]
    },
    {
     "name": "stderr",
     "output_type": "stream",
     "text": [
      "Training: 100%|██████████| 140/140 [00:30<00:00,  4.55it/s, loss=0.0904, acc=49.6]\n",
      "Training: 100%|██████████| 140/140 [00:30<00:00,  4.55it/s, loss=0.0904, acc=49.6]\n",
      "Validation: 100%|██████████| 25/25 [00:00<00:00, 42.49it/s]\n",
      "Validation: 100%|██████████| 25/25 [00:00<00:00, 42.49it/s]\n"
     ]
    },
    {
     "name": "stdout",
     "output_type": "stream",
     "text": [
      "\n",
      "📊 Epoch [3/100] - 31.35s - LR: 0.000300\n",
      "   Train Loss: 0.0912 | Train Acc: 49.57% | Train AUC: 0.5020\n",
      "   Val Loss:   0.0866 | Val Acc:   76.24% | Val AUC:   0.5084\n",
      "   ⏱️ No improvement for 2/25 epochs\n",
      "--------------------------------------------------------------------------------\n"
     ]
    },
    {
     "name": "stderr",
     "output_type": "stream",
     "text": [
      "Training: 100%|██████████| 140/140 [00:44<00:00,  3.11it/s, loss=0.0919, acc=50.2]\n",
      "Training: 100%|██████████| 140/140 [00:44<00:00,  3.11it/s, loss=0.0919, acc=50.2]\n",
      "Validation: 100%|██████████| 25/25 [00:00<00:00, 36.29it/s]\n",
      "Validation: 100%|██████████| 25/25 [00:00<00:00, 36.29it/s]\n"
     ]
    },
    {
     "name": "stdout",
     "output_type": "stream",
     "text": [
      "🚀 Starting training...\n",
      "📊 Training for up to 100 epochs\n",
      "⏱️ Early stopping patience: 25 epochs\n",
      "🔥 Using device: cuda\n",
      "================================================================================\n"
     ]
    },
    {
     "name": "stderr",
     "output_type": "stream",
     "text": [
      "Training: 100%|██████████| 140/140 [00:43<00:00,  3.18it/s, loss=0.0957, acc=49.2]\n",
      "Training: 100%|██████████| 140/140 [00:43<00:00,  3.18it/s, loss=0.0957, acc=49.2]\n",
      "Validation: 100%|██████████| 25/25 [00:00<00:00, 37.42it/s]\n",
      "\n"
     ]
    },
    {
     "name": "stdout",
     "output_type": "stream",
     "text": [
      "\n",
      "📊 Epoch [1/100] - 44.66s - LR: 0.000200\n",
      "   Train Loss: 0.0920 | Train Acc: 49.19% | Train AUC: 0.4932\n",
      "   Val Loss:   0.0868 | Val Acc:   76.24% | Val AUC:   0.5226\n",
      "   ✅ New best model saved! (Val AUC: 0.5226)\n",
      "--------------------------------------------------------------------------------\n"
     ]
    },
    {
     "name": "stderr",
     "output_type": "stream",
     "text": [
      "Training: 100%|██████████| 140/140 [00:40<00:00,  3.48it/s, loss=0.09, acc=49.2]  \n",
      "Training: 100%|██████████| 140/140 [00:40<00:00,  3.48it/s, loss=0.09, acc=49.2]  \n",
      "Validation: 100%|██████████| 25/25 [00:00<00:00, 43.26it/s]\n",
      "Validation: 100%|██████████| 25/25 [00:00<00:00, 43.26it/s]\n"
     ]
    },
    {
     "name": "stdout",
     "output_type": "stream",
     "text": [
      "\n",
      "📊 Epoch [2/100] - 40.80s - LR: 0.000300\n",
      "   Train Loss: 0.0916 | Train Acc: 49.21% | Train AUC: 0.4915\n",
      "   Val Loss:   0.0894 | Val Acc:   76.24% | Val AUC:   0.5081\n",
      "   ⏱️ No improvement for 1/25 epochs\n",
      "--------------------------------------------------------------------------------\n"
     ]
    },
    {
     "name": "stderr",
     "output_type": "stream",
     "text": [
      "Training: 100%|██████████| 140/140 [00:30<00:00,  4.55it/s, loss=0.0904, acc=49.6]\n",
      "Training: 100%|██████████| 140/140 [00:30<00:00,  4.55it/s, loss=0.0904, acc=49.6]\n",
      "Validation: 100%|██████████| 25/25 [00:00<00:00, 42.49it/s]\n",
      "Validation: 100%|██████████| 25/25 [00:00<00:00, 42.49it/s]\n"
     ]
    },
    {
     "name": "stdout",
     "output_type": "stream",
     "text": [
      "\n",
      "📊 Epoch [3/100] - 31.35s - LR: 0.000300\n",
      "   Train Loss: 0.0912 | Train Acc: 49.57% | Train AUC: 0.5020\n",
      "   Val Loss:   0.0866 | Val Acc:   76.24% | Val AUC:   0.5084\n",
      "   ⏱️ No improvement for 2/25 epochs\n",
      "--------------------------------------------------------------------------------\n"
     ]
    },
    {
     "name": "stderr",
     "output_type": "stream",
     "text": [
      "Training: 100%|██████████| 140/140 [00:44<00:00,  3.11it/s, loss=0.0919, acc=50.2]\n",
      "Training: 100%|██████████| 140/140 [00:44<00:00,  3.11it/s, loss=0.0919, acc=50.2]\n",
      "Validation: 100%|██████████| 25/25 [00:00<00:00, 36.29it/s]\n",
      "Validation: 100%|██████████| 25/25 [00:00<00:00, 36.29it/s]\n"
     ]
    },
    {
     "name": "stdout",
     "output_type": "stream",
     "text": [
      "\n",
      "📊 Epoch [4/100] - 45.68s - LR: 0.000300\n",
      "   Train Loss: 0.0911 | Train Acc: 50.25% | Train AUC: 0.4927\n",
      "   Val Loss:   0.0861 | Val Acc:   76.24% | Val AUC:   0.5152\n",
      "   ⏱️ No improvement for 3/25 epochs\n",
      "--------------------------------------------------------------------------------\n"
     ]
    },
    {
     "name": "stderr",
     "output_type": "stream",
     "text": [
      "Training: 100%|██████████| 140/140 [00:52<00:00,  2.68it/s, loss=0.094, acc=50.3] \n",
      "Training: 100%|██████████| 140/140 [00:52<00:00,  2.68it/s, loss=0.094, acc=50.3]\n",
      "Validation: 100%|██████████| 25/25 [00:00<00:00, 36.17it/s]\n",
      "Validation: 100%|██████████| 25/25 [00:00<00:00, 36.17it/s]\n"
     ]
    },
    {
     "name": "stdout",
     "output_type": "stream",
     "text": [
      "🚀 Starting training...\n",
      "📊 Training for up to 100 epochs\n",
      "⏱️ Early stopping patience: 25 epochs\n",
      "🔥 Using device: cuda\n",
      "================================================================================\n"
     ]
    },
    {
     "name": "stderr",
     "output_type": "stream",
     "text": [
      "Training: 100%|██████████| 140/140 [00:43<00:00,  3.18it/s, loss=0.0957, acc=49.2]\n",
      "Training: 100%|██████████| 140/140 [00:43<00:00,  3.18it/s, loss=0.0957, acc=49.2]\n",
      "Validation: 100%|██████████| 25/25 [00:00<00:00, 37.42it/s]\n",
      "\n"
     ]
    },
    {
     "name": "stdout",
     "output_type": "stream",
     "text": [
      "\n",
      "📊 Epoch [1/100] - 44.66s - LR: 0.000200\n",
      "   Train Loss: 0.0920 | Train Acc: 49.19% | Train AUC: 0.4932\n",
      "   Val Loss:   0.0868 | Val Acc:   76.24% | Val AUC:   0.5226\n",
      "   ✅ New best model saved! (Val AUC: 0.5226)\n",
      "--------------------------------------------------------------------------------\n"
     ]
    },
    {
     "name": "stderr",
     "output_type": "stream",
     "text": [
      "Training: 100%|██████████| 140/140 [00:40<00:00,  3.48it/s, loss=0.09, acc=49.2]  \n",
      "Training: 100%|██████████| 140/140 [00:40<00:00,  3.48it/s, loss=0.09, acc=49.2]  \n",
      "Validation: 100%|██████████| 25/25 [00:00<00:00, 43.26it/s]\n",
      "Validation: 100%|██████████| 25/25 [00:00<00:00, 43.26it/s]\n"
     ]
    },
    {
     "name": "stdout",
     "output_type": "stream",
     "text": [
      "\n",
      "📊 Epoch [2/100] - 40.80s - LR: 0.000300\n",
      "   Train Loss: 0.0916 | Train Acc: 49.21% | Train AUC: 0.4915\n",
      "   Val Loss:   0.0894 | Val Acc:   76.24% | Val AUC:   0.5081\n",
      "   ⏱️ No improvement for 1/25 epochs\n",
      "--------------------------------------------------------------------------------\n"
     ]
    },
    {
     "name": "stderr",
     "output_type": "stream",
     "text": [
      "Training: 100%|██████████| 140/140 [00:30<00:00,  4.55it/s, loss=0.0904, acc=49.6]\n",
      "Training: 100%|██████████| 140/140 [00:30<00:00,  4.55it/s, loss=0.0904, acc=49.6]\n",
      "Validation: 100%|██████████| 25/25 [00:00<00:00, 42.49it/s]\n",
      "Validation: 100%|██████████| 25/25 [00:00<00:00, 42.49it/s]\n"
     ]
    },
    {
     "name": "stdout",
     "output_type": "stream",
     "text": [
      "\n",
      "📊 Epoch [3/100] - 31.35s - LR: 0.000300\n",
      "   Train Loss: 0.0912 | Train Acc: 49.57% | Train AUC: 0.5020\n",
      "   Val Loss:   0.0866 | Val Acc:   76.24% | Val AUC:   0.5084\n",
      "   ⏱️ No improvement for 2/25 epochs\n",
      "--------------------------------------------------------------------------------\n"
     ]
    },
    {
     "name": "stderr",
     "output_type": "stream",
     "text": [
      "Training: 100%|██████████| 140/140 [00:44<00:00,  3.11it/s, loss=0.0919, acc=50.2]\n",
      "Training: 100%|██████████| 140/140 [00:44<00:00,  3.11it/s, loss=0.0919, acc=50.2]\n",
      "Validation: 100%|██████████| 25/25 [00:00<00:00, 36.29it/s]\n",
      "Validation: 100%|██████████| 25/25 [00:00<00:00, 36.29it/s]\n"
     ]
    },
    {
     "name": "stdout",
     "output_type": "stream",
     "text": [
      "\n",
      "📊 Epoch [4/100] - 45.68s - LR: 0.000300\n",
      "   Train Loss: 0.0911 | Train Acc: 50.25% | Train AUC: 0.4927\n",
      "   Val Loss:   0.0861 | Val Acc:   76.24% | Val AUC:   0.5152\n",
      "   ⏱️ No improvement for 3/25 epochs\n",
      "--------------------------------------------------------------------------------\n"
     ]
    },
    {
     "name": "stderr",
     "output_type": "stream",
     "text": [
      "Training: 100%|██████████| 140/140 [00:52<00:00,  2.68it/s, loss=0.094, acc=50.3] \n",
      "Training: 100%|██████████| 140/140 [00:52<00:00,  2.68it/s, loss=0.094, acc=50.3]\n",
      "Validation: 100%|██████████| 25/25 [00:00<00:00, 36.17it/s]\n",
      "Validation: 100%|██████████| 25/25 [00:00<00:00, 36.17it/s]\n"
     ]
    },
    {
     "name": "stdout",
     "output_type": "stream",
     "text": [
      "\n",
      "📊 Epoch [5/100] - 53.00s - LR: 0.000300\n",
      "   Train Loss: 0.0910 | Train Acc: 50.27% | Train AUC: 0.5113\n",
      "   Val Loss:   0.0889 | Val Acc:   76.24% | Val AUC:   0.5147\n",
      "   ⏱️ No improvement for 4/25 epochs\n",
      "--------------------------------------------------------------------------------\n"
     ]
    },
    {
     "name": "stderr",
     "output_type": "stream",
     "text": [
      "Training: 100%|██████████| 140/140 [00:53<00:00,  2.61it/s, loss=0.0917, acc=50]  \n",
      "Training: 100%|██████████| 140/140 [00:53<00:00,  2.61it/s, loss=0.0917, acc=50]\n",
      "Validation: 100%|██████████| 25/25 [00:00<00:00, 36.34it/s]\n",
      "\n"
     ]
    },
    {
     "name": "stdout",
     "output_type": "stream",
     "text": [
      "🚀 Starting training...\n",
      "📊 Training for up to 100 epochs\n",
      "⏱️ Early stopping patience: 25 epochs\n",
      "🔥 Using device: cuda\n",
      "================================================================================\n"
     ]
    },
    {
     "name": "stderr",
     "output_type": "stream",
     "text": [
      "Training: 100%|██████████| 140/140 [00:43<00:00,  3.18it/s, loss=0.0957, acc=49.2]\n",
      "Training: 100%|██████████| 140/140 [00:43<00:00,  3.18it/s, loss=0.0957, acc=49.2]\n",
      "Validation: 100%|██████████| 25/25 [00:00<00:00, 37.42it/s]\n",
      "\n"
     ]
    },
    {
     "name": "stdout",
     "output_type": "stream",
     "text": [
      "\n",
      "📊 Epoch [1/100] - 44.66s - LR: 0.000200\n",
      "   Train Loss: 0.0920 | Train Acc: 49.19% | Train AUC: 0.4932\n",
      "   Val Loss:   0.0868 | Val Acc:   76.24% | Val AUC:   0.5226\n",
      "   ✅ New best model saved! (Val AUC: 0.5226)\n",
      "--------------------------------------------------------------------------------\n"
     ]
    },
    {
     "name": "stderr",
     "output_type": "stream",
     "text": [
      "Training: 100%|██████████| 140/140 [00:40<00:00,  3.48it/s, loss=0.09, acc=49.2]  \n",
      "Training: 100%|██████████| 140/140 [00:40<00:00,  3.48it/s, loss=0.09, acc=49.2]  \n",
      "Validation: 100%|██████████| 25/25 [00:00<00:00, 43.26it/s]\n",
      "Validation: 100%|██████████| 25/25 [00:00<00:00, 43.26it/s]\n"
     ]
    },
    {
     "name": "stdout",
     "output_type": "stream",
     "text": [
      "\n",
      "📊 Epoch [2/100] - 40.80s - LR: 0.000300\n",
      "   Train Loss: 0.0916 | Train Acc: 49.21% | Train AUC: 0.4915\n",
      "   Val Loss:   0.0894 | Val Acc:   76.24% | Val AUC:   0.5081\n",
      "   ⏱️ No improvement for 1/25 epochs\n",
      "--------------------------------------------------------------------------------\n"
     ]
    },
    {
     "name": "stderr",
     "output_type": "stream",
     "text": [
      "Training: 100%|██████████| 140/140 [00:30<00:00,  4.55it/s, loss=0.0904, acc=49.6]\n",
      "Training: 100%|██████████| 140/140 [00:30<00:00,  4.55it/s, loss=0.0904, acc=49.6]\n",
      "Validation: 100%|██████████| 25/25 [00:00<00:00, 42.49it/s]\n",
      "Validation: 100%|██████████| 25/25 [00:00<00:00, 42.49it/s]\n"
     ]
    },
    {
     "name": "stdout",
     "output_type": "stream",
     "text": [
      "\n",
      "📊 Epoch [3/100] - 31.35s - LR: 0.000300\n",
      "   Train Loss: 0.0912 | Train Acc: 49.57% | Train AUC: 0.5020\n",
      "   Val Loss:   0.0866 | Val Acc:   76.24% | Val AUC:   0.5084\n",
      "   ⏱️ No improvement for 2/25 epochs\n",
      "--------------------------------------------------------------------------------\n"
     ]
    },
    {
     "name": "stderr",
     "output_type": "stream",
     "text": [
      "Training: 100%|██████████| 140/140 [00:44<00:00,  3.11it/s, loss=0.0919, acc=50.2]\n",
      "Training: 100%|██████████| 140/140 [00:44<00:00,  3.11it/s, loss=0.0919, acc=50.2]\n",
      "Validation: 100%|██████████| 25/25 [00:00<00:00, 36.29it/s]\n",
      "Validation: 100%|██████████| 25/25 [00:00<00:00, 36.29it/s]\n"
     ]
    },
    {
     "name": "stdout",
     "output_type": "stream",
     "text": [
      "\n",
      "📊 Epoch [4/100] - 45.68s - LR: 0.000300\n",
      "   Train Loss: 0.0911 | Train Acc: 50.25% | Train AUC: 0.4927\n",
      "   Val Loss:   0.0861 | Val Acc:   76.24% | Val AUC:   0.5152\n",
      "   ⏱️ No improvement for 3/25 epochs\n",
      "--------------------------------------------------------------------------------\n"
     ]
    },
    {
     "name": "stderr",
     "output_type": "stream",
     "text": [
      "Training: 100%|██████████| 140/140 [00:52<00:00,  2.68it/s, loss=0.094, acc=50.3] \n",
      "Training: 100%|██████████| 140/140 [00:52<00:00,  2.68it/s, loss=0.094, acc=50.3]\n",
      "Validation: 100%|██████████| 25/25 [00:00<00:00, 36.17it/s]\n",
      "Validation: 100%|██████████| 25/25 [00:00<00:00, 36.17it/s]\n"
     ]
    },
    {
     "name": "stdout",
     "output_type": "stream",
     "text": [
      "\n",
      "📊 Epoch [5/100] - 53.00s - LR: 0.000300\n",
      "   Train Loss: 0.0910 | Train Acc: 50.27% | Train AUC: 0.5113\n",
      "   Val Loss:   0.0889 | Val Acc:   76.24% | Val AUC:   0.5147\n",
      "   ⏱️ No improvement for 4/25 epochs\n",
      "--------------------------------------------------------------------------------\n"
     ]
    },
    {
     "name": "stderr",
     "output_type": "stream",
     "text": [
      "Training: 100%|██████████| 140/140 [00:53<00:00,  2.61it/s, loss=0.0917, acc=50]  \n",
      "Training: 100%|██████████| 140/140 [00:53<00:00,  2.61it/s, loss=0.0917, acc=50]\n",
      "Validation: 100%|██████████| 25/25 [00:00<00:00, 36.34it/s]\n",
      "\n"
     ]
    },
    {
     "name": "stdout",
     "output_type": "stream",
     "text": [
      "\n",
      "📊 Epoch [6/100] - 54.33s - LR: 0.000299\n",
      "   Train Loss: 0.0911 | Train Acc: 49.96% | Train AUC: 0.4963\n",
      "   Val Loss:   0.0886 | Val Acc:   76.24% | Val AUC:   0.4984\n",
      "   ⏱️ No improvement for 5/25 epochs\n",
      "--------------------------------------------------------------------------------\n"
     ]
    },
    {
     "name": "stderr",
     "output_type": "stream",
     "text": [
      "Training: 100%|██████████| 140/140 [00:52<00:00,  2.65it/s, loss=0.0912, acc=48.7]\n",
      "Training: 100%|██████████| 140/140 [00:52<00:00,  2.65it/s, loss=0.0912, acc=48.7]\n",
      "Validation: 100%|██████████| 25/25 [00:00<00:00, 36.03it/s]\n",
      "\n"
     ]
    },
    {
     "name": "stdout",
     "output_type": "stream",
     "text": [
      "🚀 Starting training...\n",
      "📊 Training for up to 100 epochs\n",
      "⏱️ Early stopping patience: 25 epochs\n",
      "🔥 Using device: cuda\n",
      "================================================================================\n"
     ]
    },
    {
     "name": "stderr",
     "output_type": "stream",
     "text": [
      "Training: 100%|██████████| 140/140 [00:43<00:00,  3.18it/s, loss=0.0957, acc=49.2]\n",
      "Training: 100%|██████████| 140/140 [00:43<00:00,  3.18it/s, loss=0.0957, acc=49.2]\n",
      "Validation: 100%|██████████| 25/25 [00:00<00:00, 37.42it/s]\n",
      "\n"
     ]
    },
    {
     "name": "stdout",
     "output_type": "stream",
     "text": [
      "\n",
      "📊 Epoch [1/100] - 44.66s - LR: 0.000200\n",
      "   Train Loss: 0.0920 | Train Acc: 49.19% | Train AUC: 0.4932\n",
      "   Val Loss:   0.0868 | Val Acc:   76.24% | Val AUC:   0.5226\n",
      "   ✅ New best model saved! (Val AUC: 0.5226)\n",
      "--------------------------------------------------------------------------------\n"
     ]
    },
    {
     "name": "stderr",
     "output_type": "stream",
     "text": [
      "Training: 100%|██████████| 140/140 [00:40<00:00,  3.48it/s, loss=0.09, acc=49.2]  \n",
      "Training: 100%|██████████| 140/140 [00:40<00:00,  3.48it/s, loss=0.09, acc=49.2]  \n",
      "Validation: 100%|██████████| 25/25 [00:00<00:00, 43.26it/s]\n",
      "Validation: 100%|██████████| 25/25 [00:00<00:00, 43.26it/s]\n"
     ]
    },
    {
     "name": "stdout",
     "output_type": "stream",
     "text": [
      "\n",
      "📊 Epoch [2/100] - 40.80s - LR: 0.000300\n",
      "   Train Loss: 0.0916 | Train Acc: 49.21% | Train AUC: 0.4915\n",
      "   Val Loss:   0.0894 | Val Acc:   76.24% | Val AUC:   0.5081\n",
      "   ⏱️ No improvement for 1/25 epochs\n",
      "--------------------------------------------------------------------------------\n"
     ]
    },
    {
     "name": "stderr",
     "output_type": "stream",
     "text": [
      "Training: 100%|██████████| 140/140 [00:30<00:00,  4.55it/s, loss=0.0904, acc=49.6]\n",
      "Training: 100%|██████████| 140/140 [00:30<00:00,  4.55it/s, loss=0.0904, acc=49.6]\n",
      "Validation: 100%|██████████| 25/25 [00:00<00:00, 42.49it/s]\n",
      "Validation: 100%|██████████| 25/25 [00:00<00:00, 42.49it/s]\n"
     ]
    },
    {
     "name": "stdout",
     "output_type": "stream",
     "text": [
      "\n",
      "📊 Epoch [3/100] - 31.35s - LR: 0.000300\n",
      "   Train Loss: 0.0912 | Train Acc: 49.57% | Train AUC: 0.5020\n",
      "   Val Loss:   0.0866 | Val Acc:   76.24% | Val AUC:   0.5084\n",
      "   ⏱️ No improvement for 2/25 epochs\n",
      "--------------------------------------------------------------------------------\n"
     ]
    },
    {
     "name": "stderr",
     "output_type": "stream",
     "text": [
      "Training: 100%|██████████| 140/140 [00:44<00:00,  3.11it/s, loss=0.0919, acc=50.2]\n",
      "Training: 100%|██████████| 140/140 [00:44<00:00,  3.11it/s, loss=0.0919, acc=50.2]\n",
      "Validation: 100%|██████████| 25/25 [00:00<00:00, 36.29it/s]\n",
      "Validation: 100%|██████████| 25/25 [00:00<00:00, 36.29it/s]\n"
     ]
    },
    {
     "name": "stdout",
     "output_type": "stream",
     "text": [
      "\n",
      "📊 Epoch [4/100] - 45.68s - LR: 0.000300\n",
      "   Train Loss: 0.0911 | Train Acc: 50.25% | Train AUC: 0.4927\n",
      "   Val Loss:   0.0861 | Val Acc:   76.24% | Val AUC:   0.5152\n",
      "   ⏱️ No improvement for 3/25 epochs\n",
      "--------------------------------------------------------------------------------\n"
     ]
    },
    {
     "name": "stderr",
     "output_type": "stream",
     "text": [
      "Training: 100%|██████████| 140/140 [00:52<00:00,  2.68it/s, loss=0.094, acc=50.3] \n",
      "Training: 100%|██████████| 140/140 [00:52<00:00,  2.68it/s, loss=0.094, acc=50.3]\n",
      "Validation: 100%|██████████| 25/25 [00:00<00:00, 36.17it/s]\n",
      "Validation: 100%|██████████| 25/25 [00:00<00:00, 36.17it/s]\n"
     ]
    },
    {
     "name": "stdout",
     "output_type": "stream",
     "text": [
      "\n",
      "📊 Epoch [5/100] - 53.00s - LR: 0.000300\n",
      "   Train Loss: 0.0910 | Train Acc: 50.27% | Train AUC: 0.5113\n",
      "   Val Loss:   0.0889 | Val Acc:   76.24% | Val AUC:   0.5147\n",
      "   ⏱️ No improvement for 4/25 epochs\n",
      "--------------------------------------------------------------------------------\n"
     ]
    },
    {
     "name": "stderr",
     "output_type": "stream",
     "text": [
      "Training: 100%|██████████| 140/140 [00:53<00:00,  2.61it/s, loss=0.0917, acc=50]  \n",
      "Training: 100%|██████████| 140/140 [00:53<00:00,  2.61it/s, loss=0.0917, acc=50]\n",
      "Validation: 100%|██████████| 25/25 [00:00<00:00, 36.34it/s]\n",
      "\n"
     ]
    },
    {
     "name": "stdout",
     "output_type": "stream",
     "text": [
      "\n",
      "📊 Epoch [6/100] - 54.33s - LR: 0.000299\n",
      "   Train Loss: 0.0911 | Train Acc: 49.96% | Train AUC: 0.4963\n",
      "   Val Loss:   0.0886 | Val Acc:   76.24% | Val AUC:   0.4984\n",
      "   ⏱️ No improvement for 5/25 epochs\n",
      "--------------------------------------------------------------------------------\n"
     ]
    },
    {
     "name": "stderr",
     "output_type": "stream",
     "text": [
      "Training: 100%|██████████| 140/140 [00:52<00:00,  2.65it/s, loss=0.0912, acc=48.7]\n",
      "Training: 100%|██████████| 140/140 [00:52<00:00,  2.65it/s, loss=0.0912, acc=48.7]\n",
      "Validation: 100%|██████████| 25/25 [00:00<00:00, 36.03it/s]\n",
      "\n"
     ]
    },
    {
     "name": "stdout",
     "output_type": "stream",
     "text": [
      "\n",
      "📊 Epoch [7/100] - 53.51s - LR: 0.000299\n",
      "   Train Loss: 0.0911 | Train Acc: 48.72% | Train AUC: 0.4976\n",
      "   Val Loss:   0.0896 | Val Acc:   76.24% | Val AUC:   0.4970\n",
      "   ⏱️ No improvement for 6/25 epochs\n",
      "--------------------------------------------------------------------------------\n"
     ]
    },
    {
     "name": "stderr",
     "output_type": "stream",
     "text": [
      "Training: 100%|██████████| 140/140 [00:54<00:00,  2.58it/s, loss=0.0883, acc=50.1]\n",
      "Training: 100%|██████████| 140/140 [00:54<00:00,  2.58it/s, loss=0.0883, acc=50.1]\n",
      "Validation: 100%|██████████| 25/25 [00:00<00:00, 37.40it/s]\n",
      "Validation: 100%|██████████| 25/25 [00:00<00:00, 37.40it/s]\n"
     ]
    },
    {
     "name": "stdout",
     "output_type": "stream",
     "text": [
      "🚀 Starting training...\n",
      "📊 Training for up to 100 epochs\n",
      "⏱️ Early stopping patience: 25 epochs\n",
      "🔥 Using device: cuda\n",
      "================================================================================\n"
     ]
    },
    {
     "name": "stderr",
     "output_type": "stream",
     "text": [
      "Training: 100%|██████████| 140/140 [00:43<00:00,  3.18it/s, loss=0.0957, acc=49.2]\n",
      "Training: 100%|██████████| 140/140 [00:43<00:00,  3.18it/s, loss=0.0957, acc=49.2]\n",
      "Validation: 100%|██████████| 25/25 [00:00<00:00, 37.42it/s]\n",
      "\n"
     ]
    },
    {
     "name": "stdout",
     "output_type": "stream",
     "text": [
      "\n",
      "📊 Epoch [1/100] - 44.66s - LR: 0.000200\n",
      "   Train Loss: 0.0920 | Train Acc: 49.19% | Train AUC: 0.4932\n",
      "   Val Loss:   0.0868 | Val Acc:   76.24% | Val AUC:   0.5226\n",
      "   ✅ New best model saved! (Val AUC: 0.5226)\n",
      "--------------------------------------------------------------------------------\n"
     ]
    },
    {
     "name": "stderr",
     "output_type": "stream",
     "text": [
      "Training: 100%|██████████| 140/140 [00:40<00:00,  3.48it/s, loss=0.09, acc=49.2]  \n",
      "Training: 100%|██████████| 140/140 [00:40<00:00,  3.48it/s, loss=0.09, acc=49.2]  \n",
      "Validation: 100%|██████████| 25/25 [00:00<00:00, 43.26it/s]\n",
      "Validation: 100%|██████████| 25/25 [00:00<00:00, 43.26it/s]\n"
     ]
    },
    {
     "name": "stdout",
     "output_type": "stream",
     "text": [
      "\n",
      "📊 Epoch [2/100] - 40.80s - LR: 0.000300\n",
      "   Train Loss: 0.0916 | Train Acc: 49.21% | Train AUC: 0.4915\n",
      "   Val Loss:   0.0894 | Val Acc:   76.24% | Val AUC:   0.5081\n",
      "   ⏱️ No improvement for 1/25 epochs\n",
      "--------------------------------------------------------------------------------\n"
     ]
    },
    {
     "name": "stderr",
     "output_type": "stream",
     "text": [
      "Training: 100%|██████████| 140/140 [00:30<00:00,  4.55it/s, loss=0.0904, acc=49.6]\n",
      "Training: 100%|██████████| 140/140 [00:30<00:00,  4.55it/s, loss=0.0904, acc=49.6]\n",
      "Validation: 100%|██████████| 25/25 [00:00<00:00, 42.49it/s]\n",
      "Validation: 100%|██████████| 25/25 [00:00<00:00, 42.49it/s]\n"
     ]
    },
    {
     "name": "stdout",
     "output_type": "stream",
     "text": [
      "\n",
      "📊 Epoch [3/100] - 31.35s - LR: 0.000300\n",
      "   Train Loss: 0.0912 | Train Acc: 49.57% | Train AUC: 0.5020\n",
      "   Val Loss:   0.0866 | Val Acc:   76.24% | Val AUC:   0.5084\n",
      "   ⏱️ No improvement for 2/25 epochs\n",
      "--------------------------------------------------------------------------------\n"
     ]
    },
    {
     "name": "stderr",
     "output_type": "stream",
     "text": [
      "Training: 100%|██████████| 140/140 [00:44<00:00,  3.11it/s, loss=0.0919, acc=50.2]\n",
      "Training: 100%|██████████| 140/140 [00:44<00:00,  3.11it/s, loss=0.0919, acc=50.2]\n",
      "Validation: 100%|██████████| 25/25 [00:00<00:00, 36.29it/s]\n",
      "Validation: 100%|██████████| 25/25 [00:00<00:00, 36.29it/s]\n"
     ]
    },
    {
     "name": "stdout",
     "output_type": "stream",
     "text": [
      "\n",
      "📊 Epoch [4/100] - 45.68s - LR: 0.000300\n",
      "   Train Loss: 0.0911 | Train Acc: 50.25% | Train AUC: 0.4927\n",
      "   Val Loss:   0.0861 | Val Acc:   76.24% | Val AUC:   0.5152\n",
      "   ⏱️ No improvement for 3/25 epochs\n",
      "--------------------------------------------------------------------------------\n"
     ]
    },
    {
     "name": "stderr",
     "output_type": "stream",
     "text": [
      "Training: 100%|██████████| 140/140 [00:52<00:00,  2.68it/s, loss=0.094, acc=50.3] \n",
      "Training: 100%|██████████| 140/140 [00:52<00:00,  2.68it/s, loss=0.094, acc=50.3]\n",
      "Validation: 100%|██████████| 25/25 [00:00<00:00, 36.17it/s]\n",
      "Validation: 100%|██████████| 25/25 [00:00<00:00, 36.17it/s]\n"
     ]
    },
    {
     "name": "stdout",
     "output_type": "stream",
     "text": [
      "\n",
      "📊 Epoch [5/100] - 53.00s - LR: 0.000300\n",
      "   Train Loss: 0.0910 | Train Acc: 50.27% | Train AUC: 0.5113\n",
      "   Val Loss:   0.0889 | Val Acc:   76.24% | Val AUC:   0.5147\n",
      "   ⏱️ No improvement for 4/25 epochs\n",
      "--------------------------------------------------------------------------------\n"
     ]
    },
    {
     "name": "stderr",
     "output_type": "stream",
     "text": [
      "Training: 100%|██████████| 140/140 [00:53<00:00,  2.61it/s, loss=0.0917, acc=50]  \n",
      "Training: 100%|██████████| 140/140 [00:53<00:00,  2.61it/s, loss=0.0917, acc=50]\n",
      "Validation: 100%|██████████| 25/25 [00:00<00:00, 36.34it/s]\n",
      "\n"
     ]
    },
    {
     "name": "stdout",
     "output_type": "stream",
     "text": [
      "\n",
      "📊 Epoch [6/100] - 54.33s - LR: 0.000299\n",
      "   Train Loss: 0.0911 | Train Acc: 49.96% | Train AUC: 0.4963\n",
      "   Val Loss:   0.0886 | Val Acc:   76.24% | Val AUC:   0.4984\n",
      "   ⏱️ No improvement for 5/25 epochs\n",
      "--------------------------------------------------------------------------------\n"
     ]
    },
    {
     "name": "stderr",
     "output_type": "stream",
     "text": [
      "Training: 100%|██████████| 140/140 [00:52<00:00,  2.65it/s, loss=0.0912, acc=48.7]\n",
      "Training: 100%|██████████| 140/140 [00:52<00:00,  2.65it/s, loss=0.0912, acc=48.7]\n",
      "Validation: 100%|██████████| 25/25 [00:00<00:00, 36.03it/s]\n",
      "\n"
     ]
    },
    {
     "name": "stdout",
     "output_type": "stream",
     "text": [
      "\n",
      "📊 Epoch [7/100] - 53.51s - LR: 0.000299\n",
      "   Train Loss: 0.0911 | Train Acc: 48.72% | Train AUC: 0.4976\n",
      "   Val Loss:   0.0896 | Val Acc:   76.24% | Val AUC:   0.4970\n",
      "   ⏱️ No improvement for 6/25 epochs\n",
      "--------------------------------------------------------------------------------\n"
     ]
    },
    {
     "name": "stderr",
     "output_type": "stream",
     "text": [
      "Training: 100%|██████████| 140/140 [00:54<00:00,  2.58it/s, loss=0.0883, acc=50.1]\n",
      "Training: 100%|██████████| 140/140 [00:54<00:00,  2.58it/s, loss=0.0883, acc=50.1]\n",
      "Validation: 100%|██████████| 25/25 [00:00<00:00, 37.40it/s]\n",
      "Validation: 100%|██████████| 25/25 [00:00<00:00, 37.40it/s]\n"
     ]
    },
    {
     "name": "stdout",
     "output_type": "stream",
     "text": [
      "\n",
      "📊 Epoch [8/100] - 55.04s - LR: 0.000298\n",
      "   Train Loss: 0.0909 | Train Acc: 50.07% | Train AUC: 0.4996\n",
      "   Val Loss:   0.0883 | Val Acc:   76.24% | Val AUC:   0.4994\n",
      "   ⏱️ No improvement for 7/25 epochs\n",
      "--------------------------------------------------------------------------------\n"
     ]
    },
    {
     "name": "stderr",
     "output_type": "stream",
     "text": [
      "Training: 100%|██████████| 140/140 [00:54<00:00,  2.55it/s, loss=0.0915, acc=50.4]\n",
      "Training: 100%|██████████| 140/140 [00:54<00:00,  2.55it/s, loss=0.0915, acc=50.4]\n",
      "Validation: 100%|██████████| 25/25 [00:00<00:00, 35.56it/s]\n",
      "Validation: 100%|██████████| 25/25 [00:00<00:00, 35.56it/s]\n"
     ]
    },
    {
     "name": "stdout",
     "output_type": "stream",
     "text": [
      "🚀 Starting training...\n",
      "📊 Training for up to 100 epochs\n",
      "⏱️ Early stopping patience: 25 epochs\n",
      "🔥 Using device: cuda\n",
      "================================================================================\n"
     ]
    },
    {
     "name": "stderr",
     "output_type": "stream",
     "text": [
      "Training: 100%|██████████| 140/140 [00:43<00:00,  3.18it/s, loss=0.0957, acc=49.2]\n",
      "Training: 100%|██████████| 140/140 [00:43<00:00,  3.18it/s, loss=0.0957, acc=49.2]\n",
      "Validation: 100%|██████████| 25/25 [00:00<00:00, 37.42it/s]\n",
      "\n"
     ]
    },
    {
     "name": "stdout",
     "output_type": "stream",
     "text": [
      "\n",
      "📊 Epoch [1/100] - 44.66s - LR: 0.000200\n",
      "   Train Loss: 0.0920 | Train Acc: 49.19% | Train AUC: 0.4932\n",
      "   Val Loss:   0.0868 | Val Acc:   76.24% | Val AUC:   0.5226\n",
      "   ✅ New best model saved! (Val AUC: 0.5226)\n",
      "--------------------------------------------------------------------------------\n"
     ]
    },
    {
     "name": "stderr",
     "output_type": "stream",
     "text": [
      "Training: 100%|██████████| 140/140 [00:40<00:00,  3.48it/s, loss=0.09, acc=49.2]  \n",
      "Training: 100%|██████████| 140/140 [00:40<00:00,  3.48it/s, loss=0.09, acc=49.2]  \n",
      "Validation: 100%|██████████| 25/25 [00:00<00:00, 43.26it/s]\n",
      "Validation: 100%|██████████| 25/25 [00:00<00:00, 43.26it/s]\n"
     ]
    },
    {
     "name": "stdout",
     "output_type": "stream",
     "text": [
      "\n",
      "📊 Epoch [2/100] - 40.80s - LR: 0.000300\n",
      "   Train Loss: 0.0916 | Train Acc: 49.21% | Train AUC: 0.4915\n",
      "   Val Loss:   0.0894 | Val Acc:   76.24% | Val AUC:   0.5081\n",
      "   ⏱️ No improvement for 1/25 epochs\n",
      "--------------------------------------------------------------------------------\n"
     ]
    },
    {
     "name": "stderr",
     "output_type": "stream",
     "text": [
      "Training: 100%|██████████| 140/140 [00:30<00:00,  4.55it/s, loss=0.0904, acc=49.6]\n",
      "Training: 100%|██████████| 140/140 [00:30<00:00,  4.55it/s, loss=0.0904, acc=49.6]\n",
      "Validation: 100%|██████████| 25/25 [00:00<00:00, 42.49it/s]\n",
      "Validation: 100%|██████████| 25/25 [00:00<00:00, 42.49it/s]\n"
     ]
    },
    {
     "name": "stdout",
     "output_type": "stream",
     "text": [
      "\n",
      "📊 Epoch [3/100] - 31.35s - LR: 0.000300\n",
      "   Train Loss: 0.0912 | Train Acc: 49.57% | Train AUC: 0.5020\n",
      "   Val Loss:   0.0866 | Val Acc:   76.24% | Val AUC:   0.5084\n",
      "   ⏱️ No improvement for 2/25 epochs\n",
      "--------------------------------------------------------------------------------\n"
     ]
    },
    {
     "name": "stderr",
     "output_type": "stream",
     "text": [
      "Training: 100%|██████████| 140/140 [00:44<00:00,  3.11it/s, loss=0.0919, acc=50.2]\n",
      "Training: 100%|██████████| 140/140 [00:44<00:00,  3.11it/s, loss=0.0919, acc=50.2]\n",
      "Validation: 100%|██████████| 25/25 [00:00<00:00, 36.29it/s]\n",
      "Validation: 100%|██████████| 25/25 [00:00<00:00, 36.29it/s]\n"
     ]
    },
    {
     "name": "stdout",
     "output_type": "stream",
     "text": [
      "\n",
      "📊 Epoch [4/100] - 45.68s - LR: 0.000300\n",
      "   Train Loss: 0.0911 | Train Acc: 50.25% | Train AUC: 0.4927\n",
      "   Val Loss:   0.0861 | Val Acc:   76.24% | Val AUC:   0.5152\n",
      "   ⏱️ No improvement for 3/25 epochs\n",
      "--------------------------------------------------------------------------------\n"
     ]
    },
    {
     "name": "stderr",
     "output_type": "stream",
     "text": [
      "Training: 100%|██████████| 140/140 [00:52<00:00,  2.68it/s, loss=0.094, acc=50.3] \n",
      "Training: 100%|██████████| 140/140 [00:52<00:00,  2.68it/s, loss=0.094, acc=50.3]\n",
      "Validation: 100%|██████████| 25/25 [00:00<00:00, 36.17it/s]\n",
      "Validation: 100%|██████████| 25/25 [00:00<00:00, 36.17it/s]\n"
     ]
    },
    {
     "name": "stdout",
     "output_type": "stream",
     "text": [
      "\n",
      "📊 Epoch [5/100] - 53.00s - LR: 0.000300\n",
      "   Train Loss: 0.0910 | Train Acc: 50.27% | Train AUC: 0.5113\n",
      "   Val Loss:   0.0889 | Val Acc:   76.24% | Val AUC:   0.5147\n",
      "   ⏱️ No improvement for 4/25 epochs\n",
      "--------------------------------------------------------------------------------\n"
     ]
    },
    {
     "name": "stderr",
     "output_type": "stream",
     "text": [
      "Training: 100%|██████████| 140/140 [00:53<00:00,  2.61it/s, loss=0.0917, acc=50]  \n",
      "Training: 100%|██████████| 140/140 [00:53<00:00,  2.61it/s, loss=0.0917, acc=50]\n",
      "Validation: 100%|██████████| 25/25 [00:00<00:00, 36.34it/s]\n",
      "\n"
     ]
    },
    {
     "name": "stdout",
     "output_type": "stream",
     "text": [
      "\n",
      "📊 Epoch [6/100] - 54.33s - LR: 0.000299\n",
      "   Train Loss: 0.0911 | Train Acc: 49.96% | Train AUC: 0.4963\n",
      "   Val Loss:   0.0886 | Val Acc:   76.24% | Val AUC:   0.4984\n",
      "   ⏱️ No improvement for 5/25 epochs\n",
      "--------------------------------------------------------------------------------\n"
     ]
    },
    {
     "name": "stderr",
     "output_type": "stream",
     "text": [
      "Training: 100%|██████████| 140/140 [00:52<00:00,  2.65it/s, loss=0.0912, acc=48.7]\n",
      "Training: 100%|██████████| 140/140 [00:52<00:00,  2.65it/s, loss=0.0912, acc=48.7]\n",
      "Validation: 100%|██████████| 25/25 [00:00<00:00, 36.03it/s]\n",
      "\n"
     ]
    },
    {
     "name": "stdout",
     "output_type": "stream",
     "text": [
      "\n",
      "📊 Epoch [7/100] - 53.51s - LR: 0.000299\n",
      "   Train Loss: 0.0911 | Train Acc: 48.72% | Train AUC: 0.4976\n",
      "   Val Loss:   0.0896 | Val Acc:   76.24% | Val AUC:   0.4970\n",
      "   ⏱️ No improvement for 6/25 epochs\n",
      "--------------------------------------------------------------------------------\n"
     ]
    },
    {
     "name": "stderr",
     "output_type": "stream",
     "text": [
      "Training: 100%|██████████| 140/140 [00:54<00:00,  2.58it/s, loss=0.0883, acc=50.1]\n",
      "Training: 100%|██████████| 140/140 [00:54<00:00,  2.58it/s, loss=0.0883, acc=50.1]\n",
      "Validation: 100%|██████████| 25/25 [00:00<00:00, 37.40it/s]\n",
      "Validation: 100%|██████████| 25/25 [00:00<00:00, 37.40it/s]\n"
     ]
    },
    {
     "name": "stdout",
     "output_type": "stream",
     "text": [
      "\n",
      "📊 Epoch [8/100] - 55.04s - LR: 0.000298\n",
      "   Train Loss: 0.0909 | Train Acc: 50.07% | Train AUC: 0.4996\n",
      "   Val Loss:   0.0883 | Val Acc:   76.24% | Val AUC:   0.4994\n",
      "   ⏱️ No improvement for 7/25 epochs\n",
      "--------------------------------------------------------------------------------\n"
     ]
    },
    {
     "name": "stderr",
     "output_type": "stream",
     "text": [
      "Training: 100%|██████████| 140/140 [00:54<00:00,  2.55it/s, loss=0.0915, acc=50.4]\n",
      "Training: 100%|██████████| 140/140 [00:54<00:00,  2.55it/s, loss=0.0915, acc=50.4]\n",
      "Validation: 100%|██████████| 25/25 [00:00<00:00, 35.56it/s]\n",
      "Validation: 100%|██████████| 25/25 [00:00<00:00, 35.56it/s]\n"
     ]
    },
    {
     "name": "stdout",
     "output_type": "stream",
     "text": [
      "\n",
      "📊 Epoch [9/100] - 55.59s - LR: 0.000297\n",
      "   Train Loss: 0.0909 | Train Acc: 50.38% | Train AUC: 0.4965\n",
      "   Val Loss:   0.0867 | Val Acc:   76.24% | Val AUC:   0.4891\n",
      "   ⏱️ No improvement for 8/25 epochs\n",
      "--------------------------------------------------------------------------------\n"
     ]
    },
    {
     "name": "stderr",
     "output_type": "stream",
     "text": [
      "Training: 100%|██████████| 140/140 [00:54<00:00,  2.56it/s, loss=0.0876, acc=49.7]\n",
      "Training: 100%|██████████| 140/140 [00:54<00:00,  2.56it/s, loss=0.0876, acc=49.7]\n",
      "Validation: 100%|██████████| 25/25 [00:00<00:00, 34.86it/s]\n",
      "\n"
     ]
    },
    {
     "name": "stdout",
     "output_type": "stream",
     "text": [
      "🚀 Starting training...\n",
      "📊 Training for up to 100 epochs\n",
      "⏱️ Early stopping patience: 25 epochs\n",
      "🔥 Using device: cuda\n",
      "================================================================================\n"
     ]
    },
    {
     "name": "stderr",
     "output_type": "stream",
     "text": [
      "Training: 100%|██████████| 140/140 [00:43<00:00,  3.18it/s, loss=0.0957, acc=49.2]\n",
      "Training: 100%|██████████| 140/140 [00:43<00:00,  3.18it/s, loss=0.0957, acc=49.2]\n",
      "Validation: 100%|██████████| 25/25 [00:00<00:00, 37.42it/s]\n",
      "\n"
     ]
    },
    {
     "name": "stdout",
     "output_type": "stream",
     "text": [
      "\n",
      "📊 Epoch [1/100] - 44.66s - LR: 0.000200\n",
      "   Train Loss: 0.0920 | Train Acc: 49.19% | Train AUC: 0.4932\n",
      "   Val Loss:   0.0868 | Val Acc:   76.24% | Val AUC:   0.5226\n",
      "   ✅ New best model saved! (Val AUC: 0.5226)\n",
      "--------------------------------------------------------------------------------\n"
     ]
    },
    {
     "name": "stderr",
     "output_type": "stream",
     "text": [
      "Training: 100%|██████████| 140/140 [00:40<00:00,  3.48it/s, loss=0.09, acc=49.2]  \n",
      "Training: 100%|██████████| 140/140 [00:40<00:00,  3.48it/s, loss=0.09, acc=49.2]  \n",
      "Validation: 100%|██████████| 25/25 [00:00<00:00, 43.26it/s]\n",
      "Validation: 100%|██████████| 25/25 [00:00<00:00, 43.26it/s]\n"
     ]
    },
    {
     "name": "stdout",
     "output_type": "stream",
     "text": [
      "\n",
      "📊 Epoch [2/100] - 40.80s - LR: 0.000300\n",
      "   Train Loss: 0.0916 | Train Acc: 49.21% | Train AUC: 0.4915\n",
      "   Val Loss:   0.0894 | Val Acc:   76.24% | Val AUC:   0.5081\n",
      "   ⏱️ No improvement for 1/25 epochs\n",
      "--------------------------------------------------------------------------------\n"
     ]
    },
    {
     "name": "stderr",
     "output_type": "stream",
     "text": [
      "Training: 100%|██████████| 140/140 [00:30<00:00,  4.55it/s, loss=0.0904, acc=49.6]\n",
      "Training: 100%|██████████| 140/140 [00:30<00:00,  4.55it/s, loss=0.0904, acc=49.6]\n",
      "Validation: 100%|██████████| 25/25 [00:00<00:00, 42.49it/s]\n",
      "Validation: 100%|██████████| 25/25 [00:00<00:00, 42.49it/s]\n"
     ]
    },
    {
     "name": "stdout",
     "output_type": "stream",
     "text": [
      "\n",
      "📊 Epoch [3/100] - 31.35s - LR: 0.000300\n",
      "   Train Loss: 0.0912 | Train Acc: 49.57% | Train AUC: 0.5020\n",
      "   Val Loss:   0.0866 | Val Acc:   76.24% | Val AUC:   0.5084\n",
      "   ⏱️ No improvement for 2/25 epochs\n",
      "--------------------------------------------------------------------------------\n"
     ]
    },
    {
     "name": "stderr",
     "output_type": "stream",
     "text": [
      "Training: 100%|██████████| 140/140 [00:44<00:00,  3.11it/s, loss=0.0919, acc=50.2]\n",
      "Training: 100%|██████████| 140/140 [00:44<00:00,  3.11it/s, loss=0.0919, acc=50.2]\n",
      "Validation: 100%|██████████| 25/25 [00:00<00:00, 36.29it/s]\n",
      "Validation: 100%|██████████| 25/25 [00:00<00:00, 36.29it/s]\n"
     ]
    },
    {
     "name": "stdout",
     "output_type": "stream",
     "text": [
      "\n",
      "📊 Epoch [4/100] - 45.68s - LR: 0.000300\n",
      "   Train Loss: 0.0911 | Train Acc: 50.25% | Train AUC: 0.4927\n",
      "   Val Loss:   0.0861 | Val Acc:   76.24% | Val AUC:   0.5152\n",
      "   ⏱️ No improvement for 3/25 epochs\n",
      "--------------------------------------------------------------------------------\n"
     ]
    },
    {
     "name": "stderr",
     "output_type": "stream",
     "text": [
      "Training: 100%|██████████| 140/140 [00:52<00:00,  2.68it/s, loss=0.094, acc=50.3] \n",
      "Training: 100%|██████████| 140/140 [00:52<00:00,  2.68it/s, loss=0.094, acc=50.3]\n",
      "Validation: 100%|██████████| 25/25 [00:00<00:00, 36.17it/s]\n",
      "Validation: 100%|██████████| 25/25 [00:00<00:00, 36.17it/s]\n"
     ]
    },
    {
     "name": "stdout",
     "output_type": "stream",
     "text": [
      "\n",
      "📊 Epoch [5/100] - 53.00s - LR: 0.000300\n",
      "   Train Loss: 0.0910 | Train Acc: 50.27% | Train AUC: 0.5113\n",
      "   Val Loss:   0.0889 | Val Acc:   76.24% | Val AUC:   0.5147\n",
      "   ⏱️ No improvement for 4/25 epochs\n",
      "--------------------------------------------------------------------------------\n"
     ]
    },
    {
     "name": "stderr",
     "output_type": "stream",
     "text": [
      "Training: 100%|██████████| 140/140 [00:53<00:00,  2.61it/s, loss=0.0917, acc=50]  \n",
      "Training: 100%|██████████| 140/140 [00:53<00:00,  2.61it/s, loss=0.0917, acc=50]\n",
      "Validation: 100%|██████████| 25/25 [00:00<00:00, 36.34it/s]\n",
      "\n"
     ]
    },
    {
     "name": "stdout",
     "output_type": "stream",
     "text": [
      "\n",
      "📊 Epoch [6/100] - 54.33s - LR: 0.000299\n",
      "   Train Loss: 0.0911 | Train Acc: 49.96% | Train AUC: 0.4963\n",
      "   Val Loss:   0.0886 | Val Acc:   76.24% | Val AUC:   0.4984\n",
      "   ⏱️ No improvement for 5/25 epochs\n",
      "--------------------------------------------------------------------------------\n"
     ]
    },
    {
     "name": "stderr",
     "output_type": "stream",
     "text": [
      "Training: 100%|██████████| 140/140 [00:52<00:00,  2.65it/s, loss=0.0912, acc=48.7]\n",
      "Training: 100%|██████████| 140/140 [00:52<00:00,  2.65it/s, loss=0.0912, acc=48.7]\n",
      "Validation: 100%|██████████| 25/25 [00:00<00:00, 36.03it/s]\n",
      "\n"
     ]
    },
    {
     "name": "stdout",
     "output_type": "stream",
     "text": [
      "\n",
      "📊 Epoch [7/100] - 53.51s - LR: 0.000299\n",
      "   Train Loss: 0.0911 | Train Acc: 48.72% | Train AUC: 0.4976\n",
      "   Val Loss:   0.0896 | Val Acc:   76.24% | Val AUC:   0.4970\n",
      "   ⏱️ No improvement for 6/25 epochs\n",
      "--------------------------------------------------------------------------------\n"
     ]
    },
    {
     "name": "stderr",
     "output_type": "stream",
     "text": [
      "Training: 100%|██████████| 140/140 [00:54<00:00,  2.58it/s, loss=0.0883, acc=50.1]\n",
      "Training: 100%|██████████| 140/140 [00:54<00:00,  2.58it/s, loss=0.0883, acc=50.1]\n",
      "Validation: 100%|██████████| 25/25 [00:00<00:00, 37.40it/s]\n",
      "Validation: 100%|██████████| 25/25 [00:00<00:00, 37.40it/s]\n"
     ]
    },
    {
     "name": "stdout",
     "output_type": "stream",
     "text": [
      "\n",
      "📊 Epoch [8/100] - 55.04s - LR: 0.000298\n",
      "   Train Loss: 0.0909 | Train Acc: 50.07% | Train AUC: 0.4996\n",
      "   Val Loss:   0.0883 | Val Acc:   76.24% | Val AUC:   0.4994\n",
      "   ⏱️ No improvement for 7/25 epochs\n",
      "--------------------------------------------------------------------------------\n"
     ]
    },
    {
     "name": "stderr",
     "output_type": "stream",
     "text": [
      "Training: 100%|██████████| 140/140 [00:54<00:00,  2.55it/s, loss=0.0915, acc=50.4]\n",
      "Training: 100%|██████████| 140/140 [00:54<00:00,  2.55it/s, loss=0.0915, acc=50.4]\n",
      "Validation: 100%|██████████| 25/25 [00:00<00:00, 35.56it/s]\n",
      "Validation: 100%|██████████| 25/25 [00:00<00:00, 35.56it/s]\n"
     ]
    },
    {
     "name": "stdout",
     "output_type": "stream",
     "text": [
      "\n",
      "📊 Epoch [9/100] - 55.59s - LR: 0.000297\n",
      "   Train Loss: 0.0909 | Train Acc: 50.38% | Train AUC: 0.4965\n",
      "   Val Loss:   0.0867 | Val Acc:   76.24% | Val AUC:   0.4891\n",
      "   ⏱️ No improvement for 8/25 epochs\n",
      "--------------------------------------------------------------------------------\n"
     ]
    },
    {
     "name": "stderr",
     "output_type": "stream",
     "text": [
      "Training: 100%|██████████| 140/140 [00:54<00:00,  2.56it/s, loss=0.0876, acc=49.7]\n",
      "Training: 100%|██████████| 140/140 [00:54<00:00,  2.56it/s, loss=0.0876, acc=49.7]\n",
      "Validation: 100%|██████████| 25/25 [00:00<00:00, 34.86it/s]\n",
      "\n"
     ]
    },
    {
     "name": "stdout",
     "output_type": "stream",
     "text": [
      "\n",
      "📊 Epoch [10/100] - 55.46s - LR: 0.000296\n",
      "   Train Loss: 0.0910 | Train Acc: 49.71% | Train AUC: 0.4966\n",
      "   Val Loss:   0.0893 | Val Acc:   76.24% | Val AUC:   0.4880\n",
      "   ⏱️ No improvement for 9/25 epochs\n",
      "--------------------------------------------------------------------------------\n"
     ]
    },
    {
     "name": "stderr",
     "output_type": "stream",
     "text": [
      "Training: 100%|██████████| 140/140 [00:55<00:00,  2.54it/s, loss=0.0937, acc=49.8]\n",
      "Training: 100%|██████████| 140/140 [00:55<00:00,  2.54it/s, loss=0.0937, acc=49.8]\n",
      "Validation: 100%|██████████| 25/25 [00:00<00:00, 36.71it/s]\n",
      "Validation: 100%|██████████| 25/25 [00:00<00:00, 36.71it/s]\n"
     ]
    },
    {
     "name": "stdout",
     "output_type": "stream",
     "text": [
      "🚀 Starting training...\n",
      "📊 Training for up to 100 epochs\n",
      "⏱️ Early stopping patience: 25 epochs\n",
      "🔥 Using device: cuda\n",
      "================================================================================\n"
     ]
    },
    {
     "name": "stderr",
     "output_type": "stream",
     "text": [
      "Training: 100%|██████████| 140/140 [00:43<00:00,  3.18it/s, loss=0.0957, acc=49.2]\n",
      "Training: 100%|██████████| 140/140 [00:43<00:00,  3.18it/s, loss=0.0957, acc=49.2]\n",
      "Validation: 100%|██████████| 25/25 [00:00<00:00, 37.42it/s]\n",
      "\n"
     ]
    },
    {
     "name": "stdout",
     "output_type": "stream",
     "text": [
      "\n",
      "📊 Epoch [1/100] - 44.66s - LR: 0.000200\n",
      "   Train Loss: 0.0920 | Train Acc: 49.19% | Train AUC: 0.4932\n",
      "   Val Loss:   0.0868 | Val Acc:   76.24% | Val AUC:   0.5226\n",
      "   ✅ New best model saved! (Val AUC: 0.5226)\n",
      "--------------------------------------------------------------------------------\n"
     ]
    },
    {
     "name": "stderr",
     "output_type": "stream",
     "text": [
      "Training: 100%|██████████| 140/140 [00:40<00:00,  3.48it/s, loss=0.09, acc=49.2]  \n",
      "Training: 100%|██████████| 140/140 [00:40<00:00,  3.48it/s, loss=0.09, acc=49.2]  \n",
      "Validation: 100%|██████████| 25/25 [00:00<00:00, 43.26it/s]\n",
      "Validation: 100%|██████████| 25/25 [00:00<00:00, 43.26it/s]\n"
     ]
    },
    {
     "name": "stdout",
     "output_type": "stream",
     "text": [
      "\n",
      "📊 Epoch [2/100] - 40.80s - LR: 0.000300\n",
      "   Train Loss: 0.0916 | Train Acc: 49.21% | Train AUC: 0.4915\n",
      "   Val Loss:   0.0894 | Val Acc:   76.24% | Val AUC:   0.5081\n",
      "   ⏱️ No improvement for 1/25 epochs\n",
      "--------------------------------------------------------------------------------\n"
     ]
    },
    {
     "name": "stderr",
     "output_type": "stream",
     "text": [
      "Training: 100%|██████████| 140/140 [00:30<00:00,  4.55it/s, loss=0.0904, acc=49.6]\n",
      "Training: 100%|██████████| 140/140 [00:30<00:00,  4.55it/s, loss=0.0904, acc=49.6]\n",
      "Validation: 100%|██████████| 25/25 [00:00<00:00, 42.49it/s]\n",
      "Validation: 100%|██████████| 25/25 [00:00<00:00, 42.49it/s]\n"
     ]
    },
    {
     "name": "stdout",
     "output_type": "stream",
     "text": [
      "\n",
      "📊 Epoch [3/100] - 31.35s - LR: 0.000300\n",
      "   Train Loss: 0.0912 | Train Acc: 49.57% | Train AUC: 0.5020\n",
      "   Val Loss:   0.0866 | Val Acc:   76.24% | Val AUC:   0.5084\n",
      "   ⏱️ No improvement for 2/25 epochs\n",
      "--------------------------------------------------------------------------------\n"
     ]
    },
    {
     "name": "stderr",
     "output_type": "stream",
     "text": [
      "Training: 100%|██████████| 140/140 [00:44<00:00,  3.11it/s, loss=0.0919, acc=50.2]\n",
      "Training: 100%|██████████| 140/140 [00:44<00:00,  3.11it/s, loss=0.0919, acc=50.2]\n",
      "Validation: 100%|██████████| 25/25 [00:00<00:00, 36.29it/s]\n",
      "Validation: 100%|██████████| 25/25 [00:00<00:00, 36.29it/s]\n"
     ]
    },
    {
     "name": "stdout",
     "output_type": "stream",
     "text": [
      "\n",
      "📊 Epoch [4/100] - 45.68s - LR: 0.000300\n",
      "   Train Loss: 0.0911 | Train Acc: 50.25% | Train AUC: 0.4927\n",
      "   Val Loss:   0.0861 | Val Acc:   76.24% | Val AUC:   0.5152\n",
      "   ⏱️ No improvement for 3/25 epochs\n",
      "--------------------------------------------------------------------------------\n"
     ]
    },
    {
     "name": "stderr",
     "output_type": "stream",
     "text": [
      "Training: 100%|██████████| 140/140 [00:52<00:00,  2.68it/s, loss=0.094, acc=50.3] \n",
      "Training: 100%|██████████| 140/140 [00:52<00:00,  2.68it/s, loss=0.094, acc=50.3]\n",
      "Validation: 100%|██████████| 25/25 [00:00<00:00, 36.17it/s]\n",
      "Validation: 100%|██████████| 25/25 [00:00<00:00, 36.17it/s]\n"
     ]
    },
    {
     "name": "stdout",
     "output_type": "stream",
     "text": [
      "\n",
      "📊 Epoch [5/100] - 53.00s - LR: 0.000300\n",
      "   Train Loss: 0.0910 | Train Acc: 50.27% | Train AUC: 0.5113\n",
      "   Val Loss:   0.0889 | Val Acc:   76.24% | Val AUC:   0.5147\n",
      "   ⏱️ No improvement for 4/25 epochs\n",
      "--------------------------------------------------------------------------------\n"
     ]
    },
    {
     "name": "stderr",
     "output_type": "stream",
     "text": [
      "Training: 100%|██████████| 140/140 [00:53<00:00,  2.61it/s, loss=0.0917, acc=50]  \n",
      "Training: 100%|██████████| 140/140 [00:53<00:00,  2.61it/s, loss=0.0917, acc=50]\n",
      "Validation: 100%|██████████| 25/25 [00:00<00:00, 36.34it/s]\n",
      "\n"
     ]
    },
    {
     "name": "stdout",
     "output_type": "stream",
     "text": [
      "\n",
      "📊 Epoch [6/100] - 54.33s - LR: 0.000299\n",
      "   Train Loss: 0.0911 | Train Acc: 49.96% | Train AUC: 0.4963\n",
      "   Val Loss:   0.0886 | Val Acc:   76.24% | Val AUC:   0.4984\n",
      "   ⏱️ No improvement for 5/25 epochs\n",
      "--------------------------------------------------------------------------------\n"
     ]
    },
    {
     "name": "stderr",
     "output_type": "stream",
     "text": [
      "Training: 100%|██████████| 140/140 [00:52<00:00,  2.65it/s, loss=0.0912, acc=48.7]\n",
      "Training: 100%|██████████| 140/140 [00:52<00:00,  2.65it/s, loss=0.0912, acc=48.7]\n",
      "Validation: 100%|██████████| 25/25 [00:00<00:00, 36.03it/s]\n",
      "\n"
     ]
    },
    {
     "name": "stdout",
     "output_type": "stream",
     "text": [
      "\n",
      "📊 Epoch [7/100] - 53.51s - LR: 0.000299\n",
      "   Train Loss: 0.0911 | Train Acc: 48.72% | Train AUC: 0.4976\n",
      "   Val Loss:   0.0896 | Val Acc:   76.24% | Val AUC:   0.4970\n",
      "   ⏱️ No improvement for 6/25 epochs\n",
      "--------------------------------------------------------------------------------\n"
     ]
    },
    {
     "name": "stderr",
     "output_type": "stream",
     "text": [
      "Training: 100%|██████████| 140/140 [00:54<00:00,  2.58it/s, loss=0.0883, acc=50.1]\n",
      "Training: 100%|██████████| 140/140 [00:54<00:00,  2.58it/s, loss=0.0883, acc=50.1]\n",
      "Validation: 100%|██████████| 25/25 [00:00<00:00, 37.40it/s]\n",
      "Validation: 100%|██████████| 25/25 [00:00<00:00, 37.40it/s]\n"
     ]
    },
    {
     "name": "stdout",
     "output_type": "stream",
     "text": [
      "\n",
      "📊 Epoch [8/100] - 55.04s - LR: 0.000298\n",
      "   Train Loss: 0.0909 | Train Acc: 50.07% | Train AUC: 0.4996\n",
      "   Val Loss:   0.0883 | Val Acc:   76.24% | Val AUC:   0.4994\n",
      "   ⏱️ No improvement for 7/25 epochs\n",
      "--------------------------------------------------------------------------------\n"
     ]
    },
    {
     "name": "stderr",
     "output_type": "stream",
     "text": [
      "Training: 100%|██████████| 140/140 [00:54<00:00,  2.55it/s, loss=0.0915, acc=50.4]\n",
      "Training: 100%|██████████| 140/140 [00:54<00:00,  2.55it/s, loss=0.0915, acc=50.4]\n",
      "Validation: 100%|██████████| 25/25 [00:00<00:00, 35.56it/s]\n",
      "Validation: 100%|██████████| 25/25 [00:00<00:00, 35.56it/s]\n"
     ]
    },
    {
     "name": "stdout",
     "output_type": "stream",
     "text": [
      "\n",
      "📊 Epoch [9/100] - 55.59s - LR: 0.000297\n",
      "   Train Loss: 0.0909 | Train Acc: 50.38% | Train AUC: 0.4965\n",
      "   Val Loss:   0.0867 | Val Acc:   76.24% | Val AUC:   0.4891\n",
      "   ⏱️ No improvement for 8/25 epochs\n",
      "--------------------------------------------------------------------------------\n"
     ]
    },
    {
     "name": "stderr",
     "output_type": "stream",
     "text": [
      "Training: 100%|██████████| 140/140 [00:54<00:00,  2.56it/s, loss=0.0876, acc=49.7]\n",
      "Training: 100%|██████████| 140/140 [00:54<00:00,  2.56it/s, loss=0.0876, acc=49.7]\n",
      "Validation: 100%|██████████| 25/25 [00:00<00:00, 34.86it/s]\n",
      "\n"
     ]
    },
    {
     "name": "stdout",
     "output_type": "stream",
     "text": [
      "\n",
      "📊 Epoch [10/100] - 55.46s - LR: 0.000296\n",
      "   Train Loss: 0.0910 | Train Acc: 49.71% | Train AUC: 0.4966\n",
      "   Val Loss:   0.0893 | Val Acc:   76.24% | Val AUC:   0.4880\n",
      "   ⏱️ No improvement for 9/25 epochs\n",
      "--------------------------------------------------------------------------------\n"
     ]
    },
    {
     "name": "stderr",
     "output_type": "stream",
     "text": [
      "Training: 100%|██████████| 140/140 [00:55<00:00,  2.54it/s, loss=0.0937, acc=49.8]\n",
      "Training: 100%|██████████| 140/140 [00:55<00:00,  2.54it/s, loss=0.0937, acc=49.8]\n",
      "Validation: 100%|██████████| 25/25 [00:00<00:00, 36.71it/s]\n",
      "Validation: 100%|██████████| 25/25 [00:00<00:00, 36.71it/s]\n"
     ]
    },
    {
     "name": "stdout",
     "output_type": "stream",
     "text": [
      "\n",
      "📊 Epoch [11/100] - 55.72s - LR: 0.000295\n",
      "   Train Loss: 0.0910 | Train Acc: 49.80% | Train AUC: 0.4939\n",
      "   Val Loss:   0.0884 | Val Acc:   76.24% | Val AUC:   0.4682\n",
      "   ⏱️ No improvement for 10/25 epochs\n",
      "--------------------------------------------------------------------------------\n"
     ]
    },
    {
     "name": "stderr",
     "output_type": "stream",
     "text": [
      "Training: 100%|██████████| 140/140 [01:09<00:00,  2.02it/s, loss=0.0914, acc=51.5]\n",
      "Training: 100%|██████████| 140/140 [01:09<00:00,  2.02it/s, loss=0.0914, acc=51.5]\n",
      "Validation: 100%|██████████| 25/25 [00:01<00:00, 12.88it/s]\n",
      "Validation: 100%|██████████| 25/25 [00:01<00:00, 12.88it/s]\n"
     ]
    },
    {
     "name": "stdout",
     "output_type": "stream",
     "text": [
      "🚀 Starting training...\n",
      "📊 Training for up to 100 epochs\n",
      "⏱️ Early stopping patience: 25 epochs\n",
      "🔥 Using device: cuda\n",
      "================================================================================\n"
     ]
    },
    {
     "name": "stderr",
     "output_type": "stream",
     "text": [
      "Training: 100%|██████████| 140/140 [00:43<00:00,  3.18it/s, loss=0.0957, acc=49.2]\n",
      "Training: 100%|██████████| 140/140 [00:43<00:00,  3.18it/s, loss=0.0957, acc=49.2]\n",
      "Validation: 100%|██████████| 25/25 [00:00<00:00, 37.42it/s]\n",
      "\n"
     ]
    },
    {
     "name": "stdout",
     "output_type": "stream",
     "text": [
      "\n",
      "📊 Epoch [1/100] - 44.66s - LR: 0.000200\n",
      "   Train Loss: 0.0920 | Train Acc: 49.19% | Train AUC: 0.4932\n",
      "   Val Loss:   0.0868 | Val Acc:   76.24% | Val AUC:   0.5226\n",
      "   ✅ New best model saved! (Val AUC: 0.5226)\n",
      "--------------------------------------------------------------------------------\n"
     ]
    },
    {
     "name": "stderr",
     "output_type": "stream",
     "text": [
      "Training: 100%|██████████| 140/140 [00:40<00:00,  3.48it/s, loss=0.09, acc=49.2]  \n",
      "Training: 100%|██████████| 140/140 [00:40<00:00,  3.48it/s, loss=0.09, acc=49.2]  \n",
      "Validation: 100%|██████████| 25/25 [00:00<00:00, 43.26it/s]\n",
      "Validation: 100%|██████████| 25/25 [00:00<00:00, 43.26it/s]\n"
     ]
    },
    {
     "name": "stdout",
     "output_type": "stream",
     "text": [
      "\n",
      "📊 Epoch [2/100] - 40.80s - LR: 0.000300\n",
      "   Train Loss: 0.0916 | Train Acc: 49.21% | Train AUC: 0.4915\n",
      "   Val Loss:   0.0894 | Val Acc:   76.24% | Val AUC:   0.5081\n",
      "   ⏱️ No improvement for 1/25 epochs\n",
      "--------------------------------------------------------------------------------\n"
     ]
    },
    {
     "name": "stderr",
     "output_type": "stream",
     "text": [
      "Training: 100%|██████████| 140/140 [00:30<00:00,  4.55it/s, loss=0.0904, acc=49.6]\n",
      "Training: 100%|██████████| 140/140 [00:30<00:00,  4.55it/s, loss=0.0904, acc=49.6]\n",
      "Validation: 100%|██████████| 25/25 [00:00<00:00, 42.49it/s]\n",
      "Validation: 100%|██████████| 25/25 [00:00<00:00, 42.49it/s]\n"
     ]
    },
    {
     "name": "stdout",
     "output_type": "stream",
     "text": [
      "\n",
      "📊 Epoch [3/100] - 31.35s - LR: 0.000300\n",
      "   Train Loss: 0.0912 | Train Acc: 49.57% | Train AUC: 0.5020\n",
      "   Val Loss:   0.0866 | Val Acc:   76.24% | Val AUC:   0.5084\n",
      "   ⏱️ No improvement for 2/25 epochs\n",
      "--------------------------------------------------------------------------------\n"
     ]
    },
    {
     "name": "stderr",
     "output_type": "stream",
     "text": [
      "Training: 100%|██████████| 140/140 [00:44<00:00,  3.11it/s, loss=0.0919, acc=50.2]\n",
      "Training: 100%|██████████| 140/140 [00:44<00:00,  3.11it/s, loss=0.0919, acc=50.2]\n",
      "Validation: 100%|██████████| 25/25 [00:00<00:00, 36.29it/s]\n",
      "Validation: 100%|██████████| 25/25 [00:00<00:00, 36.29it/s]\n"
     ]
    },
    {
     "name": "stdout",
     "output_type": "stream",
     "text": [
      "\n",
      "📊 Epoch [4/100] - 45.68s - LR: 0.000300\n",
      "   Train Loss: 0.0911 | Train Acc: 50.25% | Train AUC: 0.4927\n",
      "   Val Loss:   0.0861 | Val Acc:   76.24% | Val AUC:   0.5152\n",
      "   ⏱️ No improvement for 3/25 epochs\n",
      "--------------------------------------------------------------------------------\n"
     ]
    },
    {
     "name": "stderr",
     "output_type": "stream",
     "text": [
      "Training: 100%|██████████| 140/140 [00:52<00:00,  2.68it/s, loss=0.094, acc=50.3] \n",
      "Training: 100%|██████████| 140/140 [00:52<00:00,  2.68it/s, loss=0.094, acc=50.3]\n",
      "Validation: 100%|██████████| 25/25 [00:00<00:00, 36.17it/s]\n",
      "Validation: 100%|██████████| 25/25 [00:00<00:00, 36.17it/s]\n"
     ]
    },
    {
     "name": "stdout",
     "output_type": "stream",
     "text": [
      "\n",
      "📊 Epoch [5/100] - 53.00s - LR: 0.000300\n",
      "   Train Loss: 0.0910 | Train Acc: 50.27% | Train AUC: 0.5113\n",
      "   Val Loss:   0.0889 | Val Acc:   76.24% | Val AUC:   0.5147\n",
      "   ⏱️ No improvement for 4/25 epochs\n",
      "--------------------------------------------------------------------------------\n"
     ]
    },
    {
     "name": "stderr",
     "output_type": "stream",
     "text": [
      "Training: 100%|██████████| 140/140 [00:53<00:00,  2.61it/s, loss=0.0917, acc=50]  \n",
      "Training: 100%|██████████| 140/140 [00:53<00:00,  2.61it/s, loss=0.0917, acc=50]\n",
      "Validation: 100%|██████████| 25/25 [00:00<00:00, 36.34it/s]\n",
      "\n"
     ]
    },
    {
     "name": "stdout",
     "output_type": "stream",
     "text": [
      "\n",
      "📊 Epoch [6/100] - 54.33s - LR: 0.000299\n",
      "   Train Loss: 0.0911 | Train Acc: 49.96% | Train AUC: 0.4963\n",
      "   Val Loss:   0.0886 | Val Acc:   76.24% | Val AUC:   0.4984\n",
      "   ⏱️ No improvement for 5/25 epochs\n",
      "--------------------------------------------------------------------------------\n"
     ]
    },
    {
     "name": "stderr",
     "output_type": "stream",
     "text": [
      "Training: 100%|██████████| 140/140 [00:52<00:00,  2.65it/s, loss=0.0912, acc=48.7]\n",
      "Training: 100%|██████████| 140/140 [00:52<00:00,  2.65it/s, loss=0.0912, acc=48.7]\n",
      "Validation: 100%|██████████| 25/25 [00:00<00:00, 36.03it/s]\n",
      "\n"
     ]
    },
    {
     "name": "stdout",
     "output_type": "stream",
     "text": [
      "\n",
      "📊 Epoch [7/100] - 53.51s - LR: 0.000299\n",
      "   Train Loss: 0.0911 | Train Acc: 48.72% | Train AUC: 0.4976\n",
      "   Val Loss:   0.0896 | Val Acc:   76.24% | Val AUC:   0.4970\n",
      "   ⏱️ No improvement for 6/25 epochs\n",
      "--------------------------------------------------------------------------------\n"
     ]
    },
    {
     "name": "stderr",
     "output_type": "stream",
     "text": [
      "Training: 100%|██████████| 140/140 [00:54<00:00,  2.58it/s, loss=0.0883, acc=50.1]\n",
      "Training: 100%|██████████| 140/140 [00:54<00:00,  2.58it/s, loss=0.0883, acc=50.1]\n",
      "Validation: 100%|██████████| 25/25 [00:00<00:00, 37.40it/s]\n",
      "Validation: 100%|██████████| 25/25 [00:00<00:00, 37.40it/s]\n"
     ]
    },
    {
     "name": "stdout",
     "output_type": "stream",
     "text": [
      "\n",
      "📊 Epoch [8/100] - 55.04s - LR: 0.000298\n",
      "   Train Loss: 0.0909 | Train Acc: 50.07% | Train AUC: 0.4996\n",
      "   Val Loss:   0.0883 | Val Acc:   76.24% | Val AUC:   0.4994\n",
      "   ⏱️ No improvement for 7/25 epochs\n",
      "--------------------------------------------------------------------------------\n"
     ]
    },
    {
     "name": "stderr",
     "output_type": "stream",
     "text": [
      "Training: 100%|██████████| 140/140 [00:54<00:00,  2.55it/s, loss=0.0915, acc=50.4]\n",
      "Training: 100%|██████████| 140/140 [00:54<00:00,  2.55it/s, loss=0.0915, acc=50.4]\n",
      "Validation: 100%|██████████| 25/25 [00:00<00:00, 35.56it/s]\n",
      "Validation: 100%|██████████| 25/25 [00:00<00:00, 35.56it/s]\n"
     ]
    },
    {
     "name": "stdout",
     "output_type": "stream",
     "text": [
      "\n",
      "📊 Epoch [9/100] - 55.59s - LR: 0.000297\n",
      "   Train Loss: 0.0909 | Train Acc: 50.38% | Train AUC: 0.4965\n",
      "   Val Loss:   0.0867 | Val Acc:   76.24% | Val AUC:   0.4891\n",
      "   ⏱️ No improvement for 8/25 epochs\n",
      "--------------------------------------------------------------------------------\n"
     ]
    },
    {
     "name": "stderr",
     "output_type": "stream",
     "text": [
      "Training: 100%|██████████| 140/140 [00:54<00:00,  2.56it/s, loss=0.0876, acc=49.7]\n",
      "Training: 100%|██████████| 140/140 [00:54<00:00,  2.56it/s, loss=0.0876, acc=49.7]\n",
      "Validation: 100%|██████████| 25/25 [00:00<00:00, 34.86it/s]\n",
      "\n"
     ]
    },
    {
     "name": "stdout",
     "output_type": "stream",
     "text": [
      "\n",
      "📊 Epoch [10/100] - 55.46s - LR: 0.000296\n",
      "   Train Loss: 0.0910 | Train Acc: 49.71% | Train AUC: 0.4966\n",
      "   Val Loss:   0.0893 | Val Acc:   76.24% | Val AUC:   0.4880\n",
      "   ⏱️ No improvement for 9/25 epochs\n",
      "--------------------------------------------------------------------------------\n"
     ]
    },
    {
     "name": "stderr",
     "output_type": "stream",
     "text": [
      "Training: 100%|██████████| 140/140 [00:55<00:00,  2.54it/s, loss=0.0937, acc=49.8]\n",
      "Training: 100%|██████████| 140/140 [00:55<00:00,  2.54it/s, loss=0.0937, acc=49.8]\n",
      "Validation: 100%|██████████| 25/25 [00:00<00:00, 36.71it/s]\n",
      "Validation: 100%|██████████| 25/25 [00:00<00:00, 36.71it/s]\n"
     ]
    },
    {
     "name": "stdout",
     "output_type": "stream",
     "text": [
      "\n",
      "📊 Epoch [11/100] - 55.72s - LR: 0.000295\n",
      "   Train Loss: 0.0910 | Train Acc: 49.80% | Train AUC: 0.4939\n",
      "   Val Loss:   0.0884 | Val Acc:   76.24% | Val AUC:   0.4682\n",
      "   ⏱️ No improvement for 10/25 epochs\n",
      "--------------------------------------------------------------------------------\n"
     ]
    },
    {
     "name": "stderr",
     "output_type": "stream",
     "text": [
      "Training: 100%|██████████| 140/140 [01:09<00:00,  2.02it/s, loss=0.0914, acc=51.5]\n",
      "Training: 100%|██████████| 140/140 [01:09<00:00,  2.02it/s, loss=0.0914, acc=51.5]\n",
      "Validation: 100%|██████████| 25/25 [00:01<00:00, 12.88it/s]\n",
      "Validation: 100%|██████████| 25/25 [00:01<00:00, 12.88it/s]\n"
     ]
    },
    {
     "name": "stdout",
     "output_type": "stream",
     "text": [
      "\n",
      "📊 Epoch [12/100] - 71.37s - LR: 0.000294\n",
      "   Train Loss: 0.0907 | Train Acc: 51.46% | Train AUC: 0.5041\n",
      "   Val Loss:   0.0863 | Val Acc:   76.24% | Val AUC:   0.4670\n",
      "   ⏱️ No improvement for 11/25 epochs\n",
      "--------------------------------------------------------------------------------\n"
     ]
    },
    {
     "name": "stderr",
     "output_type": "stream",
     "text": [
      "Training: 100%|██████████| 140/140 [00:39<00:00,  3.56it/s, loss=0.093, acc=48.6] \n",
      "Training: 100%|██████████| 140/140 [00:39<00:00,  3.56it/s, loss=0.093, acc=48.6] \n",
      "Validation: 100%|██████████| 25/25 [00:00<00:00, 42.40it/s]\n",
      "Validation: 100%|██████████| 25/25 [00:00<00:00, 42.40it/s]\n"
     ]
    },
    {
     "name": "stdout",
     "output_type": "stream",
     "text": [
      "🚀 Starting training...\n",
      "📊 Training for up to 100 epochs\n",
      "⏱️ Early stopping patience: 25 epochs\n",
      "🔥 Using device: cuda\n",
      "================================================================================\n"
     ]
    },
    {
     "name": "stderr",
     "output_type": "stream",
     "text": [
      "Training: 100%|██████████| 140/140 [00:43<00:00,  3.18it/s, loss=0.0957, acc=49.2]\n",
      "Training: 100%|██████████| 140/140 [00:43<00:00,  3.18it/s, loss=0.0957, acc=49.2]\n",
      "Validation: 100%|██████████| 25/25 [00:00<00:00, 37.42it/s]\n",
      "\n"
     ]
    },
    {
     "name": "stdout",
     "output_type": "stream",
     "text": [
      "\n",
      "📊 Epoch [1/100] - 44.66s - LR: 0.000200\n",
      "   Train Loss: 0.0920 | Train Acc: 49.19% | Train AUC: 0.4932\n",
      "   Val Loss:   0.0868 | Val Acc:   76.24% | Val AUC:   0.5226\n",
      "   ✅ New best model saved! (Val AUC: 0.5226)\n",
      "--------------------------------------------------------------------------------\n"
     ]
    },
    {
     "name": "stderr",
     "output_type": "stream",
     "text": [
      "Training: 100%|██████████| 140/140 [00:40<00:00,  3.48it/s, loss=0.09, acc=49.2]  \n",
      "Training: 100%|██████████| 140/140 [00:40<00:00,  3.48it/s, loss=0.09, acc=49.2]  \n",
      "Validation: 100%|██████████| 25/25 [00:00<00:00, 43.26it/s]\n",
      "Validation: 100%|██████████| 25/25 [00:00<00:00, 43.26it/s]\n"
     ]
    },
    {
     "name": "stdout",
     "output_type": "stream",
     "text": [
      "\n",
      "📊 Epoch [2/100] - 40.80s - LR: 0.000300\n",
      "   Train Loss: 0.0916 | Train Acc: 49.21% | Train AUC: 0.4915\n",
      "   Val Loss:   0.0894 | Val Acc:   76.24% | Val AUC:   0.5081\n",
      "   ⏱️ No improvement for 1/25 epochs\n",
      "--------------------------------------------------------------------------------\n"
     ]
    },
    {
     "name": "stderr",
     "output_type": "stream",
     "text": [
      "Training: 100%|██████████| 140/140 [00:30<00:00,  4.55it/s, loss=0.0904, acc=49.6]\n",
      "Training: 100%|██████████| 140/140 [00:30<00:00,  4.55it/s, loss=0.0904, acc=49.6]\n",
      "Validation: 100%|██████████| 25/25 [00:00<00:00, 42.49it/s]\n",
      "Validation: 100%|██████████| 25/25 [00:00<00:00, 42.49it/s]\n"
     ]
    },
    {
     "name": "stdout",
     "output_type": "stream",
     "text": [
      "\n",
      "📊 Epoch [3/100] - 31.35s - LR: 0.000300\n",
      "   Train Loss: 0.0912 | Train Acc: 49.57% | Train AUC: 0.5020\n",
      "   Val Loss:   0.0866 | Val Acc:   76.24% | Val AUC:   0.5084\n",
      "   ⏱️ No improvement for 2/25 epochs\n",
      "--------------------------------------------------------------------------------\n"
     ]
    },
    {
     "name": "stderr",
     "output_type": "stream",
     "text": [
      "Training: 100%|██████████| 140/140 [00:44<00:00,  3.11it/s, loss=0.0919, acc=50.2]\n",
      "Training: 100%|██████████| 140/140 [00:44<00:00,  3.11it/s, loss=0.0919, acc=50.2]\n",
      "Validation: 100%|██████████| 25/25 [00:00<00:00, 36.29it/s]\n",
      "Validation: 100%|██████████| 25/25 [00:00<00:00, 36.29it/s]\n"
     ]
    },
    {
     "name": "stdout",
     "output_type": "stream",
     "text": [
      "\n",
      "📊 Epoch [4/100] - 45.68s - LR: 0.000300\n",
      "   Train Loss: 0.0911 | Train Acc: 50.25% | Train AUC: 0.4927\n",
      "   Val Loss:   0.0861 | Val Acc:   76.24% | Val AUC:   0.5152\n",
      "   ⏱️ No improvement for 3/25 epochs\n",
      "--------------------------------------------------------------------------------\n"
     ]
    },
    {
     "name": "stderr",
     "output_type": "stream",
     "text": [
      "Training: 100%|██████████| 140/140 [00:52<00:00,  2.68it/s, loss=0.094, acc=50.3] \n",
      "Training: 100%|██████████| 140/140 [00:52<00:00,  2.68it/s, loss=0.094, acc=50.3]\n",
      "Validation: 100%|██████████| 25/25 [00:00<00:00, 36.17it/s]\n",
      "Validation: 100%|██████████| 25/25 [00:00<00:00, 36.17it/s]\n"
     ]
    },
    {
     "name": "stdout",
     "output_type": "stream",
     "text": [
      "\n",
      "📊 Epoch [5/100] - 53.00s - LR: 0.000300\n",
      "   Train Loss: 0.0910 | Train Acc: 50.27% | Train AUC: 0.5113\n",
      "   Val Loss:   0.0889 | Val Acc:   76.24% | Val AUC:   0.5147\n",
      "   ⏱️ No improvement for 4/25 epochs\n",
      "--------------------------------------------------------------------------------\n"
     ]
    },
    {
     "name": "stderr",
     "output_type": "stream",
     "text": [
      "Training: 100%|██████████| 140/140 [00:53<00:00,  2.61it/s, loss=0.0917, acc=50]  \n",
      "Training: 100%|██████████| 140/140 [00:53<00:00,  2.61it/s, loss=0.0917, acc=50]\n",
      "Validation: 100%|██████████| 25/25 [00:00<00:00, 36.34it/s]\n",
      "\n"
     ]
    },
    {
     "name": "stdout",
     "output_type": "stream",
     "text": [
      "\n",
      "📊 Epoch [6/100] - 54.33s - LR: 0.000299\n",
      "   Train Loss: 0.0911 | Train Acc: 49.96% | Train AUC: 0.4963\n",
      "   Val Loss:   0.0886 | Val Acc:   76.24% | Val AUC:   0.4984\n",
      "   ⏱️ No improvement for 5/25 epochs\n",
      "--------------------------------------------------------------------------------\n"
     ]
    },
    {
     "name": "stderr",
     "output_type": "stream",
     "text": [
      "Training: 100%|██████████| 140/140 [00:52<00:00,  2.65it/s, loss=0.0912, acc=48.7]\n",
      "Training: 100%|██████████| 140/140 [00:52<00:00,  2.65it/s, loss=0.0912, acc=48.7]\n",
      "Validation: 100%|██████████| 25/25 [00:00<00:00, 36.03it/s]\n",
      "\n"
     ]
    },
    {
     "name": "stdout",
     "output_type": "stream",
     "text": [
      "\n",
      "📊 Epoch [7/100] - 53.51s - LR: 0.000299\n",
      "   Train Loss: 0.0911 | Train Acc: 48.72% | Train AUC: 0.4976\n",
      "   Val Loss:   0.0896 | Val Acc:   76.24% | Val AUC:   0.4970\n",
      "   ⏱️ No improvement for 6/25 epochs\n",
      "--------------------------------------------------------------------------------\n"
     ]
    },
    {
     "name": "stderr",
     "output_type": "stream",
     "text": [
      "Training: 100%|██████████| 140/140 [00:54<00:00,  2.58it/s, loss=0.0883, acc=50.1]\n",
      "Training: 100%|██████████| 140/140 [00:54<00:00,  2.58it/s, loss=0.0883, acc=50.1]\n",
      "Validation: 100%|██████████| 25/25 [00:00<00:00, 37.40it/s]\n",
      "Validation: 100%|██████████| 25/25 [00:00<00:00, 37.40it/s]\n"
     ]
    },
    {
     "name": "stdout",
     "output_type": "stream",
     "text": [
      "\n",
      "📊 Epoch [8/100] - 55.04s - LR: 0.000298\n",
      "   Train Loss: 0.0909 | Train Acc: 50.07% | Train AUC: 0.4996\n",
      "   Val Loss:   0.0883 | Val Acc:   76.24% | Val AUC:   0.4994\n",
      "   ⏱️ No improvement for 7/25 epochs\n",
      "--------------------------------------------------------------------------------\n"
     ]
    },
    {
     "name": "stderr",
     "output_type": "stream",
     "text": [
      "Training: 100%|██████████| 140/140 [00:54<00:00,  2.55it/s, loss=0.0915, acc=50.4]\n",
      "Training: 100%|██████████| 140/140 [00:54<00:00,  2.55it/s, loss=0.0915, acc=50.4]\n",
      "Validation: 100%|██████████| 25/25 [00:00<00:00, 35.56it/s]\n",
      "Validation: 100%|██████████| 25/25 [00:00<00:00, 35.56it/s]\n"
     ]
    },
    {
     "name": "stdout",
     "output_type": "stream",
     "text": [
      "\n",
      "📊 Epoch [9/100] - 55.59s - LR: 0.000297\n",
      "   Train Loss: 0.0909 | Train Acc: 50.38% | Train AUC: 0.4965\n",
      "   Val Loss:   0.0867 | Val Acc:   76.24% | Val AUC:   0.4891\n",
      "   ⏱️ No improvement for 8/25 epochs\n",
      "--------------------------------------------------------------------------------\n"
     ]
    },
    {
     "name": "stderr",
     "output_type": "stream",
     "text": [
      "Training: 100%|██████████| 140/140 [00:54<00:00,  2.56it/s, loss=0.0876, acc=49.7]\n",
      "Training: 100%|██████████| 140/140 [00:54<00:00,  2.56it/s, loss=0.0876, acc=49.7]\n",
      "Validation: 100%|██████████| 25/25 [00:00<00:00, 34.86it/s]\n",
      "\n"
     ]
    },
    {
     "name": "stdout",
     "output_type": "stream",
     "text": [
      "\n",
      "📊 Epoch [10/100] - 55.46s - LR: 0.000296\n",
      "   Train Loss: 0.0910 | Train Acc: 49.71% | Train AUC: 0.4966\n",
      "   Val Loss:   0.0893 | Val Acc:   76.24% | Val AUC:   0.4880\n",
      "   ⏱️ No improvement for 9/25 epochs\n",
      "--------------------------------------------------------------------------------\n"
     ]
    },
    {
     "name": "stderr",
     "output_type": "stream",
     "text": [
      "Training: 100%|██████████| 140/140 [00:55<00:00,  2.54it/s, loss=0.0937, acc=49.8]\n",
      "Training: 100%|██████████| 140/140 [00:55<00:00,  2.54it/s, loss=0.0937, acc=49.8]\n",
      "Validation: 100%|██████████| 25/25 [00:00<00:00, 36.71it/s]\n",
      "Validation: 100%|██████████| 25/25 [00:00<00:00, 36.71it/s]\n"
     ]
    },
    {
     "name": "stdout",
     "output_type": "stream",
     "text": [
      "\n",
      "📊 Epoch [11/100] - 55.72s - LR: 0.000295\n",
      "   Train Loss: 0.0910 | Train Acc: 49.80% | Train AUC: 0.4939\n",
      "   Val Loss:   0.0884 | Val Acc:   76.24% | Val AUC:   0.4682\n",
      "   ⏱️ No improvement for 10/25 epochs\n",
      "--------------------------------------------------------------------------------\n"
     ]
    },
    {
     "name": "stderr",
     "output_type": "stream",
     "text": [
      "Training: 100%|██████████| 140/140 [01:09<00:00,  2.02it/s, loss=0.0914, acc=51.5]\n",
      "Training: 100%|██████████| 140/140 [01:09<00:00,  2.02it/s, loss=0.0914, acc=51.5]\n",
      "Validation: 100%|██████████| 25/25 [00:01<00:00, 12.88it/s]\n",
      "Validation: 100%|██████████| 25/25 [00:01<00:00, 12.88it/s]\n"
     ]
    },
    {
     "name": "stdout",
     "output_type": "stream",
     "text": [
      "\n",
      "📊 Epoch [12/100] - 71.37s - LR: 0.000294\n",
      "   Train Loss: 0.0907 | Train Acc: 51.46% | Train AUC: 0.5041\n",
      "   Val Loss:   0.0863 | Val Acc:   76.24% | Val AUC:   0.4670\n",
      "   ⏱️ No improvement for 11/25 epochs\n",
      "--------------------------------------------------------------------------------\n"
     ]
    },
    {
     "name": "stderr",
     "output_type": "stream",
     "text": [
      "Training: 100%|██████████| 140/140 [00:39<00:00,  3.56it/s, loss=0.093, acc=48.6] \n",
      "Training: 100%|██████████| 140/140 [00:39<00:00,  3.56it/s, loss=0.093, acc=48.6] \n",
      "Validation: 100%|██████████| 25/25 [00:00<00:00, 42.40it/s]\n",
      "Validation: 100%|██████████| 25/25 [00:00<00:00, 42.40it/s]\n"
     ]
    },
    {
     "name": "stdout",
     "output_type": "stream",
     "text": [
      "\n",
      "📊 Epoch [13/100] - 39.89s - LR: 0.000292\n",
      "   Train Loss: 0.0910 | Train Acc: 48.61% | Train AUC: 0.5014\n",
      "   Val Loss:   0.0885 | Val Acc:   76.24% | Val AUC:   0.5151\n",
      "   ⏱️ No improvement for 12/25 epochs\n",
      "--------------------------------------------------------------------------------\n"
     ]
    },
    {
     "name": "stderr",
     "output_type": "stream",
     "text": [
      "Training: 100%|██████████| 140/140 [00:32<00:00,  4.33it/s, loss=0.0866, acc=50.9]\n",
      "Training: 100%|██████████| 140/140 [00:32<00:00,  4.33it/s, loss=0.0866, acc=50.9]\n",
      "Validation: 100%|██████████| 25/25 [00:00<00:00, 42.28it/s]\n",
      "Validation: 100%|██████████| 25/25 [00:00<00:00, 42.28it/s]\n"
     ]
    },
    {
     "name": "stdout",
     "output_type": "stream",
     "text": [
      "🚀 Starting training...\n",
      "📊 Training for up to 100 epochs\n",
      "⏱️ Early stopping patience: 25 epochs\n",
      "🔥 Using device: cuda\n",
      "================================================================================\n"
     ]
    },
    {
     "name": "stderr",
     "output_type": "stream",
     "text": [
      "Training: 100%|██████████| 140/140 [00:43<00:00,  3.18it/s, loss=0.0957, acc=49.2]\n",
      "Training: 100%|██████████| 140/140 [00:43<00:00,  3.18it/s, loss=0.0957, acc=49.2]\n",
      "Validation: 100%|██████████| 25/25 [00:00<00:00, 37.42it/s]\n",
      "\n"
     ]
    },
    {
     "name": "stdout",
     "output_type": "stream",
     "text": [
      "\n",
      "📊 Epoch [1/100] - 44.66s - LR: 0.000200\n",
      "   Train Loss: 0.0920 | Train Acc: 49.19% | Train AUC: 0.4932\n",
      "   Val Loss:   0.0868 | Val Acc:   76.24% | Val AUC:   0.5226\n",
      "   ✅ New best model saved! (Val AUC: 0.5226)\n",
      "--------------------------------------------------------------------------------\n"
     ]
    },
    {
     "name": "stderr",
     "output_type": "stream",
     "text": [
      "Training: 100%|██████████| 140/140 [00:40<00:00,  3.48it/s, loss=0.09, acc=49.2]  \n",
      "Training: 100%|██████████| 140/140 [00:40<00:00,  3.48it/s, loss=0.09, acc=49.2]  \n",
      "Validation: 100%|██████████| 25/25 [00:00<00:00, 43.26it/s]\n",
      "Validation: 100%|██████████| 25/25 [00:00<00:00, 43.26it/s]\n"
     ]
    },
    {
     "name": "stdout",
     "output_type": "stream",
     "text": [
      "\n",
      "📊 Epoch [2/100] - 40.80s - LR: 0.000300\n",
      "   Train Loss: 0.0916 | Train Acc: 49.21% | Train AUC: 0.4915\n",
      "   Val Loss:   0.0894 | Val Acc:   76.24% | Val AUC:   0.5081\n",
      "   ⏱️ No improvement for 1/25 epochs\n",
      "--------------------------------------------------------------------------------\n"
     ]
    },
    {
     "name": "stderr",
     "output_type": "stream",
     "text": [
      "Training: 100%|██████████| 140/140 [00:30<00:00,  4.55it/s, loss=0.0904, acc=49.6]\n",
      "Training: 100%|██████████| 140/140 [00:30<00:00,  4.55it/s, loss=0.0904, acc=49.6]\n",
      "Validation: 100%|██████████| 25/25 [00:00<00:00, 42.49it/s]\n",
      "Validation: 100%|██████████| 25/25 [00:00<00:00, 42.49it/s]\n"
     ]
    },
    {
     "name": "stdout",
     "output_type": "stream",
     "text": [
      "\n",
      "📊 Epoch [3/100] - 31.35s - LR: 0.000300\n",
      "   Train Loss: 0.0912 | Train Acc: 49.57% | Train AUC: 0.5020\n",
      "   Val Loss:   0.0866 | Val Acc:   76.24% | Val AUC:   0.5084\n",
      "   ⏱️ No improvement for 2/25 epochs\n",
      "--------------------------------------------------------------------------------\n"
     ]
    },
    {
     "name": "stderr",
     "output_type": "stream",
     "text": [
      "Training: 100%|██████████| 140/140 [00:44<00:00,  3.11it/s, loss=0.0919, acc=50.2]\n",
      "Training: 100%|██████████| 140/140 [00:44<00:00,  3.11it/s, loss=0.0919, acc=50.2]\n",
      "Validation: 100%|██████████| 25/25 [00:00<00:00, 36.29it/s]\n",
      "Validation: 100%|██████████| 25/25 [00:00<00:00, 36.29it/s]\n"
     ]
    },
    {
     "name": "stdout",
     "output_type": "stream",
     "text": [
      "\n",
      "📊 Epoch [4/100] - 45.68s - LR: 0.000300\n",
      "   Train Loss: 0.0911 | Train Acc: 50.25% | Train AUC: 0.4927\n",
      "   Val Loss:   0.0861 | Val Acc:   76.24% | Val AUC:   0.5152\n",
      "   ⏱️ No improvement for 3/25 epochs\n",
      "--------------------------------------------------------------------------------\n"
     ]
    },
    {
     "name": "stderr",
     "output_type": "stream",
     "text": [
      "Training: 100%|██████████| 140/140 [00:52<00:00,  2.68it/s, loss=0.094, acc=50.3] \n",
      "Training: 100%|██████████| 140/140 [00:52<00:00,  2.68it/s, loss=0.094, acc=50.3]\n",
      "Validation: 100%|██████████| 25/25 [00:00<00:00, 36.17it/s]\n",
      "Validation: 100%|██████████| 25/25 [00:00<00:00, 36.17it/s]\n"
     ]
    },
    {
     "name": "stdout",
     "output_type": "stream",
     "text": [
      "\n",
      "📊 Epoch [5/100] - 53.00s - LR: 0.000300\n",
      "   Train Loss: 0.0910 | Train Acc: 50.27% | Train AUC: 0.5113\n",
      "   Val Loss:   0.0889 | Val Acc:   76.24% | Val AUC:   0.5147\n",
      "   ⏱️ No improvement for 4/25 epochs\n",
      "--------------------------------------------------------------------------------\n"
     ]
    },
    {
     "name": "stderr",
     "output_type": "stream",
     "text": [
      "Training: 100%|██████████| 140/140 [00:53<00:00,  2.61it/s, loss=0.0917, acc=50]  \n",
      "Training: 100%|██████████| 140/140 [00:53<00:00,  2.61it/s, loss=0.0917, acc=50]\n",
      "Validation: 100%|██████████| 25/25 [00:00<00:00, 36.34it/s]\n",
      "\n"
     ]
    },
    {
     "name": "stdout",
     "output_type": "stream",
     "text": [
      "\n",
      "📊 Epoch [6/100] - 54.33s - LR: 0.000299\n",
      "   Train Loss: 0.0911 | Train Acc: 49.96% | Train AUC: 0.4963\n",
      "   Val Loss:   0.0886 | Val Acc:   76.24% | Val AUC:   0.4984\n",
      "   ⏱️ No improvement for 5/25 epochs\n",
      "--------------------------------------------------------------------------------\n"
     ]
    },
    {
     "name": "stderr",
     "output_type": "stream",
     "text": [
      "Training: 100%|██████████| 140/140 [00:52<00:00,  2.65it/s, loss=0.0912, acc=48.7]\n",
      "Training: 100%|██████████| 140/140 [00:52<00:00,  2.65it/s, loss=0.0912, acc=48.7]\n",
      "Validation: 100%|██████████| 25/25 [00:00<00:00, 36.03it/s]\n",
      "\n"
     ]
    },
    {
     "name": "stdout",
     "output_type": "stream",
     "text": [
      "\n",
      "📊 Epoch [7/100] - 53.51s - LR: 0.000299\n",
      "   Train Loss: 0.0911 | Train Acc: 48.72% | Train AUC: 0.4976\n",
      "   Val Loss:   0.0896 | Val Acc:   76.24% | Val AUC:   0.4970\n",
      "   ⏱️ No improvement for 6/25 epochs\n",
      "--------------------------------------------------------------------------------\n"
     ]
    },
    {
     "name": "stderr",
     "output_type": "stream",
     "text": [
      "Training: 100%|██████████| 140/140 [00:54<00:00,  2.58it/s, loss=0.0883, acc=50.1]\n",
      "Training: 100%|██████████| 140/140 [00:54<00:00,  2.58it/s, loss=0.0883, acc=50.1]\n",
      "Validation: 100%|██████████| 25/25 [00:00<00:00, 37.40it/s]\n",
      "Validation: 100%|██████████| 25/25 [00:00<00:00, 37.40it/s]\n"
     ]
    },
    {
     "name": "stdout",
     "output_type": "stream",
     "text": [
      "\n",
      "📊 Epoch [8/100] - 55.04s - LR: 0.000298\n",
      "   Train Loss: 0.0909 | Train Acc: 50.07% | Train AUC: 0.4996\n",
      "   Val Loss:   0.0883 | Val Acc:   76.24% | Val AUC:   0.4994\n",
      "   ⏱️ No improvement for 7/25 epochs\n",
      "--------------------------------------------------------------------------------\n"
     ]
    },
    {
     "name": "stderr",
     "output_type": "stream",
     "text": [
      "Training: 100%|██████████| 140/140 [00:54<00:00,  2.55it/s, loss=0.0915, acc=50.4]\n",
      "Training: 100%|██████████| 140/140 [00:54<00:00,  2.55it/s, loss=0.0915, acc=50.4]\n",
      "Validation: 100%|██████████| 25/25 [00:00<00:00, 35.56it/s]\n",
      "Validation: 100%|██████████| 25/25 [00:00<00:00, 35.56it/s]\n"
     ]
    },
    {
     "name": "stdout",
     "output_type": "stream",
     "text": [
      "\n",
      "📊 Epoch [9/100] - 55.59s - LR: 0.000297\n",
      "   Train Loss: 0.0909 | Train Acc: 50.38% | Train AUC: 0.4965\n",
      "   Val Loss:   0.0867 | Val Acc:   76.24% | Val AUC:   0.4891\n",
      "   ⏱️ No improvement for 8/25 epochs\n",
      "--------------------------------------------------------------------------------\n"
     ]
    },
    {
     "name": "stderr",
     "output_type": "stream",
     "text": [
      "Training: 100%|██████████| 140/140 [00:54<00:00,  2.56it/s, loss=0.0876, acc=49.7]\n",
      "Training: 100%|██████████| 140/140 [00:54<00:00,  2.56it/s, loss=0.0876, acc=49.7]\n",
      "Validation: 100%|██████████| 25/25 [00:00<00:00, 34.86it/s]\n",
      "\n"
     ]
    },
    {
     "name": "stdout",
     "output_type": "stream",
     "text": [
      "\n",
      "📊 Epoch [10/100] - 55.46s - LR: 0.000296\n",
      "   Train Loss: 0.0910 | Train Acc: 49.71% | Train AUC: 0.4966\n",
      "   Val Loss:   0.0893 | Val Acc:   76.24% | Val AUC:   0.4880\n",
      "   ⏱️ No improvement for 9/25 epochs\n",
      "--------------------------------------------------------------------------------\n"
     ]
    },
    {
     "name": "stderr",
     "output_type": "stream",
     "text": [
      "Training: 100%|██████████| 140/140 [00:55<00:00,  2.54it/s, loss=0.0937, acc=49.8]\n",
      "Training: 100%|██████████| 140/140 [00:55<00:00,  2.54it/s, loss=0.0937, acc=49.8]\n",
      "Validation: 100%|██████████| 25/25 [00:00<00:00, 36.71it/s]\n",
      "Validation: 100%|██████████| 25/25 [00:00<00:00, 36.71it/s]\n"
     ]
    },
    {
     "name": "stdout",
     "output_type": "stream",
     "text": [
      "\n",
      "📊 Epoch [11/100] - 55.72s - LR: 0.000295\n",
      "   Train Loss: 0.0910 | Train Acc: 49.80% | Train AUC: 0.4939\n",
      "   Val Loss:   0.0884 | Val Acc:   76.24% | Val AUC:   0.4682\n",
      "   ⏱️ No improvement for 10/25 epochs\n",
      "--------------------------------------------------------------------------------\n"
     ]
    },
    {
     "name": "stderr",
     "output_type": "stream",
     "text": [
      "Training: 100%|██████████| 140/140 [01:09<00:00,  2.02it/s, loss=0.0914, acc=51.5]\n",
      "Training: 100%|██████████| 140/140 [01:09<00:00,  2.02it/s, loss=0.0914, acc=51.5]\n",
      "Validation: 100%|██████████| 25/25 [00:01<00:00, 12.88it/s]\n",
      "Validation: 100%|██████████| 25/25 [00:01<00:00, 12.88it/s]\n"
     ]
    },
    {
     "name": "stdout",
     "output_type": "stream",
     "text": [
      "\n",
      "📊 Epoch [12/100] - 71.37s - LR: 0.000294\n",
      "   Train Loss: 0.0907 | Train Acc: 51.46% | Train AUC: 0.5041\n",
      "   Val Loss:   0.0863 | Val Acc:   76.24% | Val AUC:   0.4670\n",
      "   ⏱️ No improvement for 11/25 epochs\n",
      "--------------------------------------------------------------------------------\n"
     ]
    },
    {
     "name": "stderr",
     "output_type": "stream",
     "text": [
      "Training: 100%|██████████| 140/140 [00:39<00:00,  3.56it/s, loss=0.093, acc=48.6] \n",
      "Training: 100%|██████████| 140/140 [00:39<00:00,  3.56it/s, loss=0.093, acc=48.6] \n",
      "Validation: 100%|██████████| 25/25 [00:00<00:00, 42.40it/s]\n",
      "Validation: 100%|██████████| 25/25 [00:00<00:00, 42.40it/s]\n"
     ]
    },
    {
     "name": "stdout",
     "output_type": "stream",
     "text": [
      "\n",
      "📊 Epoch [13/100] - 39.89s - LR: 0.000292\n",
      "   Train Loss: 0.0910 | Train Acc: 48.61% | Train AUC: 0.5014\n",
      "   Val Loss:   0.0885 | Val Acc:   76.24% | Val AUC:   0.5151\n",
      "   ⏱️ No improvement for 12/25 epochs\n",
      "--------------------------------------------------------------------------------\n"
     ]
    },
    {
     "name": "stderr",
     "output_type": "stream",
     "text": [
      "Training: 100%|██████████| 140/140 [00:32<00:00,  4.33it/s, loss=0.0866, acc=50.9]\n",
      "Training: 100%|██████████| 140/140 [00:32<00:00,  4.33it/s, loss=0.0866, acc=50.9]\n",
      "Validation: 100%|██████████| 25/25 [00:00<00:00, 42.28it/s]\n",
      "Validation: 100%|██████████| 25/25 [00:00<00:00, 42.28it/s]\n"
     ]
    },
    {
     "name": "stdout",
     "output_type": "stream",
     "text": [
      "\n",
      "📊 Epoch [14/100] - 32.93s - LR: 0.000291\n",
      "   Train Loss: 0.0908 | Train Acc: 50.90% | Train AUC: 0.4977\n",
      "   Val Loss:   0.0871 | Val Acc:   76.24% | Val AUC:   0.5147\n",
      "   ⏱️ No improvement for 13/25 epochs\n",
      "--------------------------------------------------------------------------------\n"
     ]
    },
    {
     "name": "stderr",
     "output_type": "stream",
     "text": [
      "Training: 100%|██████████| 140/140 [00:31<00:00,  4.38it/s, loss=0.0912, acc=49.5]\n",
      "Training: 100%|██████████| 140/140 [00:31<00:00,  4.38it/s, loss=0.0912, acc=49.5]\n",
      "Validation: 100%|██████████| 25/25 [00:00<00:00, 42.39it/s]\n",
      "Validation: 100%|██████████| 25/25 [00:00<00:00, 42.39it/s]\n"
     ]
    },
    {
     "name": "stdout",
     "output_type": "stream",
     "text": [
      "🚀 Starting training...\n",
      "📊 Training for up to 100 epochs\n",
      "⏱️ Early stopping patience: 25 epochs\n",
      "🔥 Using device: cuda\n",
      "================================================================================\n"
     ]
    },
    {
     "name": "stderr",
     "output_type": "stream",
     "text": [
      "Training: 100%|██████████| 140/140 [00:43<00:00,  3.18it/s, loss=0.0957, acc=49.2]\n",
      "Training: 100%|██████████| 140/140 [00:43<00:00,  3.18it/s, loss=0.0957, acc=49.2]\n",
      "Validation: 100%|██████████| 25/25 [00:00<00:00, 37.42it/s]\n",
      "\n"
     ]
    },
    {
     "name": "stdout",
     "output_type": "stream",
     "text": [
      "\n",
      "📊 Epoch [1/100] - 44.66s - LR: 0.000200\n",
      "   Train Loss: 0.0920 | Train Acc: 49.19% | Train AUC: 0.4932\n",
      "   Val Loss:   0.0868 | Val Acc:   76.24% | Val AUC:   0.5226\n",
      "   ✅ New best model saved! (Val AUC: 0.5226)\n",
      "--------------------------------------------------------------------------------\n"
     ]
    },
    {
     "name": "stderr",
     "output_type": "stream",
     "text": [
      "Training: 100%|██████████| 140/140 [00:40<00:00,  3.48it/s, loss=0.09, acc=49.2]  \n",
      "Training: 100%|██████████| 140/140 [00:40<00:00,  3.48it/s, loss=0.09, acc=49.2]  \n",
      "Validation: 100%|██████████| 25/25 [00:00<00:00, 43.26it/s]\n",
      "Validation: 100%|██████████| 25/25 [00:00<00:00, 43.26it/s]\n"
     ]
    },
    {
     "name": "stdout",
     "output_type": "stream",
     "text": [
      "\n",
      "📊 Epoch [2/100] - 40.80s - LR: 0.000300\n",
      "   Train Loss: 0.0916 | Train Acc: 49.21% | Train AUC: 0.4915\n",
      "   Val Loss:   0.0894 | Val Acc:   76.24% | Val AUC:   0.5081\n",
      "   ⏱️ No improvement for 1/25 epochs\n",
      "--------------------------------------------------------------------------------\n"
     ]
    },
    {
     "name": "stderr",
     "output_type": "stream",
     "text": [
      "Training: 100%|██████████| 140/140 [00:30<00:00,  4.55it/s, loss=0.0904, acc=49.6]\n",
      "Training: 100%|██████████| 140/140 [00:30<00:00,  4.55it/s, loss=0.0904, acc=49.6]\n",
      "Validation: 100%|██████████| 25/25 [00:00<00:00, 42.49it/s]\n",
      "Validation: 100%|██████████| 25/25 [00:00<00:00, 42.49it/s]\n"
     ]
    },
    {
     "name": "stdout",
     "output_type": "stream",
     "text": [
      "\n",
      "📊 Epoch [3/100] - 31.35s - LR: 0.000300\n",
      "   Train Loss: 0.0912 | Train Acc: 49.57% | Train AUC: 0.5020\n",
      "   Val Loss:   0.0866 | Val Acc:   76.24% | Val AUC:   0.5084\n",
      "   ⏱️ No improvement for 2/25 epochs\n",
      "--------------------------------------------------------------------------------\n"
     ]
    },
    {
     "name": "stderr",
     "output_type": "stream",
     "text": [
      "Training: 100%|██████████| 140/140 [00:44<00:00,  3.11it/s, loss=0.0919, acc=50.2]\n",
      "Training: 100%|██████████| 140/140 [00:44<00:00,  3.11it/s, loss=0.0919, acc=50.2]\n",
      "Validation: 100%|██████████| 25/25 [00:00<00:00, 36.29it/s]\n",
      "Validation: 100%|██████████| 25/25 [00:00<00:00, 36.29it/s]\n"
     ]
    },
    {
     "name": "stdout",
     "output_type": "stream",
     "text": [
      "\n",
      "📊 Epoch [4/100] - 45.68s - LR: 0.000300\n",
      "   Train Loss: 0.0911 | Train Acc: 50.25% | Train AUC: 0.4927\n",
      "   Val Loss:   0.0861 | Val Acc:   76.24% | Val AUC:   0.5152\n",
      "   ⏱️ No improvement for 3/25 epochs\n",
      "--------------------------------------------------------------------------------\n"
     ]
    },
    {
     "name": "stderr",
     "output_type": "stream",
     "text": [
      "Training: 100%|██████████| 140/140 [00:52<00:00,  2.68it/s, loss=0.094, acc=50.3] \n",
      "Training: 100%|██████████| 140/140 [00:52<00:00,  2.68it/s, loss=0.094, acc=50.3]\n",
      "Validation: 100%|██████████| 25/25 [00:00<00:00, 36.17it/s]\n",
      "Validation: 100%|██████████| 25/25 [00:00<00:00, 36.17it/s]\n"
     ]
    },
    {
     "name": "stdout",
     "output_type": "stream",
     "text": [
      "\n",
      "📊 Epoch [5/100] - 53.00s - LR: 0.000300\n",
      "   Train Loss: 0.0910 | Train Acc: 50.27% | Train AUC: 0.5113\n",
      "   Val Loss:   0.0889 | Val Acc:   76.24% | Val AUC:   0.5147\n",
      "   ⏱️ No improvement for 4/25 epochs\n",
      "--------------------------------------------------------------------------------\n"
     ]
    },
    {
     "name": "stderr",
     "output_type": "stream",
     "text": [
      "Training: 100%|██████████| 140/140 [00:53<00:00,  2.61it/s, loss=0.0917, acc=50]  \n",
      "Training: 100%|██████████| 140/140 [00:53<00:00,  2.61it/s, loss=0.0917, acc=50]\n",
      "Validation: 100%|██████████| 25/25 [00:00<00:00, 36.34it/s]\n",
      "\n"
     ]
    },
    {
     "name": "stdout",
     "output_type": "stream",
     "text": [
      "\n",
      "📊 Epoch [6/100] - 54.33s - LR: 0.000299\n",
      "   Train Loss: 0.0911 | Train Acc: 49.96% | Train AUC: 0.4963\n",
      "   Val Loss:   0.0886 | Val Acc:   76.24% | Val AUC:   0.4984\n",
      "   ⏱️ No improvement for 5/25 epochs\n",
      "--------------------------------------------------------------------------------\n"
     ]
    },
    {
     "name": "stderr",
     "output_type": "stream",
     "text": [
      "Training: 100%|██████████| 140/140 [00:52<00:00,  2.65it/s, loss=0.0912, acc=48.7]\n",
      "Training: 100%|██████████| 140/140 [00:52<00:00,  2.65it/s, loss=0.0912, acc=48.7]\n",
      "Validation: 100%|██████████| 25/25 [00:00<00:00, 36.03it/s]\n",
      "\n"
     ]
    },
    {
     "name": "stdout",
     "output_type": "stream",
     "text": [
      "\n",
      "📊 Epoch [7/100] - 53.51s - LR: 0.000299\n",
      "   Train Loss: 0.0911 | Train Acc: 48.72% | Train AUC: 0.4976\n",
      "   Val Loss:   0.0896 | Val Acc:   76.24% | Val AUC:   0.4970\n",
      "   ⏱️ No improvement for 6/25 epochs\n",
      "--------------------------------------------------------------------------------\n"
     ]
    },
    {
     "name": "stderr",
     "output_type": "stream",
     "text": [
      "Training: 100%|██████████| 140/140 [00:54<00:00,  2.58it/s, loss=0.0883, acc=50.1]\n",
      "Training: 100%|██████████| 140/140 [00:54<00:00,  2.58it/s, loss=0.0883, acc=50.1]\n",
      "Validation: 100%|██████████| 25/25 [00:00<00:00, 37.40it/s]\n",
      "Validation: 100%|██████████| 25/25 [00:00<00:00, 37.40it/s]\n"
     ]
    },
    {
     "name": "stdout",
     "output_type": "stream",
     "text": [
      "\n",
      "📊 Epoch [8/100] - 55.04s - LR: 0.000298\n",
      "   Train Loss: 0.0909 | Train Acc: 50.07% | Train AUC: 0.4996\n",
      "   Val Loss:   0.0883 | Val Acc:   76.24% | Val AUC:   0.4994\n",
      "   ⏱️ No improvement for 7/25 epochs\n",
      "--------------------------------------------------------------------------------\n"
     ]
    },
    {
     "name": "stderr",
     "output_type": "stream",
     "text": [
      "Training: 100%|██████████| 140/140 [00:54<00:00,  2.55it/s, loss=0.0915, acc=50.4]\n",
      "Training: 100%|██████████| 140/140 [00:54<00:00,  2.55it/s, loss=0.0915, acc=50.4]\n",
      "Validation: 100%|██████████| 25/25 [00:00<00:00, 35.56it/s]\n",
      "Validation: 100%|██████████| 25/25 [00:00<00:00, 35.56it/s]\n"
     ]
    },
    {
     "name": "stdout",
     "output_type": "stream",
     "text": [
      "\n",
      "📊 Epoch [9/100] - 55.59s - LR: 0.000297\n",
      "   Train Loss: 0.0909 | Train Acc: 50.38% | Train AUC: 0.4965\n",
      "   Val Loss:   0.0867 | Val Acc:   76.24% | Val AUC:   0.4891\n",
      "   ⏱️ No improvement for 8/25 epochs\n",
      "--------------------------------------------------------------------------------\n"
     ]
    },
    {
     "name": "stderr",
     "output_type": "stream",
     "text": [
      "Training: 100%|██████████| 140/140 [00:54<00:00,  2.56it/s, loss=0.0876, acc=49.7]\n",
      "Training: 100%|██████████| 140/140 [00:54<00:00,  2.56it/s, loss=0.0876, acc=49.7]\n",
      "Validation: 100%|██████████| 25/25 [00:00<00:00, 34.86it/s]\n",
      "\n"
     ]
    },
    {
     "name": "stdout",
     "output_type": "stream",
     "text": [
      "\n",
      "📊 Epoch [10/100] - 55.46s - LR: 0.000296\n",
      "   Train Loss: 0.0910 | Train Acc: 49.71% | Train AUC: 0.4966\n",
      "   Val Loss:   0.0893 | Val Acc:   76.24% | Val AUC:   0.4880\n",
      "   ⏱️ No improvement for 9/25 epochs\n",
      "--------------------------------------------------------------------------------\n"
     ]
    },
    {
     "name": "stderr",
     "output_type": "stream",
     "text": [
      "Training: 100%|██████████| 140/140 [00:55<00:00,  2.54it/s, loss=0.0937, acc=49.8]\n",
      "Training: 100%|██████████| 140/140 [00:55<00:00,  2.54it/s, loss=0.0937, acc=49.8]\n",
      "Validation: 100%|██████████| 25/25 [00:00<00:00, 36.71it/s]\n",
      "Validation: 100%|██████████| 25/25 [00:00<00:00, 36.71it/s]\n"
     ]
    },
    {
     "name": "stdout",
     "output_type": "stream",
     "text": [
      "\n",
      "📊 Epoch [11/100] - 55.72s - LR: 0.000295\n",
      "   Train Loss: 0.0910 | Train Acc: 49.80% | Train AUC: 0.4939\n",
      "   Val Loss:   0.0884 | Val Acc:   76.24% | Val AUC:   0.4682\n",
      "   ⏱️ No improvement for 10/25 epochs\n",
      "--------------------------------------------------------------------------------\n"
     ]
    },
    {
     "name": "stderr",
     "output_type": "stream",
     "text": [
      "Training: 100%|██████████| 140/140 [01:09<00:00,  2.02it/s, loss=0.0914, acc=51.5]\n",
      "Training: 100%|██████████| 140/140 [01:09<00:00,  2.02it/s, loss=0.0914, acc=51.5]\n",
      "Validation: 100%|██████████| 25/25 [00:01<00:00, 12.88it/s]\n",
      "Validation: 100%|██████████| 25/25 [00:01<00:00, 12.88it/s]\n"
     ]
    },
    {
     "name": "stdout",
     "output_type": "stream",
     "text": [
      "\n",
      "📊 Epoch [12/100] - 71.37s - LR: 0.000294\n",
      "   Train Loss: 0.0907 | Train Acc: 51.46% | Train AUC: 0.5041\n",
      "   Val Loss:   0.0863 | Val Acc:   76.24% | Val AUC:   0.4670\n",
      "   ⏱️ No improvement for 11/25 epochs\n",
      "--------------------------------------------------------------------------------\n"
     ]
    },
    {
     "name": "stderr",
     "output_type": "stream",
     "text": [
      "Training: 100%|██████████| 140/140 [00:39<00:00,  3.56it/s, loss=0.093, acc=48.6] \n",
      "Training: 100%|██████████| 140/140 [00:39<00:00,  3.56it/s, loss=0.093, acc=48.6] \n",
      "Validation: 100%|██████████| 25/25 [00:00<00:00, 42.40it/s]\n",
      "Validation: 100%|██████████| 25/25 [00:00<00:00, 42.40it/s]\n"
     ]
    },
    {
     "name": "stdout",
     "output_type": "stream",
     "text": [
      "\n",
      "📊 Epoch [13/100] - 39.89s - LR: 0.000292\n",
      "   Train Loss: 0.0910 | Train Acc: 48.61% | Train AUC: 0.5014\n",
      "   Val Loss:   0.0885 | Val Acc:   76.24% | Val AUC:   0.5151\n",
      "   ⏱️ No improvement for 12/25 epochs\n",
      "--------------------------------------------------------------------------------\n"
     ]
    },
    {
     "name": "stderr",
     "output_type": "stream",
     "text": [
      "Training: 100%|██████████| 140/140 [00:32<00:00,  4.33it/s, loss=0.0866, acc=50.9]\n",
      "Training: 100%|██████████| 140/140 [00:32<00:00,  4.33it/s, loss=0.0866, acc=50.9]\n",
      "Validation: 100%|██████████| 25/25 [00:00<00:00, 42.28it/s]\n",
      "Validation: 100%|██████████| 25/25 [00:00<00:00, 42.28it/s]\n"
     ]
    },
    {
     "name": "stdout",
     "output_type": "stream",
     "text": [
      "\n",
      "📊 Epoch [14/100] - 32.93s - LR: 0.000291\n",
      "   Train Loss: 0.0908 | Train Acc: 50.90% | Train AUC: 0.4977\n",
      "   Val Loss:   0.0871 | Val Acc:   76.24% | Val AUC:   0.5147\n",
      "   ⏱️ No improvement for 13/25 epochs\n",
      "--------------------------------------------------------------------------------\n"
     ]
    },
    {
     "name": "stderr",
     "output_type": "stream",
     "text": [
      "Training: 100%|██████████| 140/140 [00:31<00:00,  4.38it/s, loss=0.0912, acc=49.5]\n",
      "Training: 100%|██████████| 140/140 [00:31<00:00,  4.38it/s, loss=0.0912, acc=49.5]\n",
      "Validation: 100%|██████████| 25/25 [00:00<00:00, 42.39it/s]\n",
      "Validation: 100%|██████████| 25/25 [00:00<00:00, 42.39it/s]\n"
     ]
    },
    {
     "name": "stdout",
     "output_type": "stream",
     "text": [
      "\n",
      "📊 Epoch [15/100] - 32.58s - LR: 0.000289\n",
      "   Train Loss: 0.0909 | Train Acc: 49.48% | Train AUC: 0.5071\n",
      "   Val Loss:   0.0888 | Val Acc:   76.24% | Val AUC:   0.5003\n",
      "   ⏱️ No improvement for 14/25 epochs\n",
      "--------------------------------------------------------------------------------\n"
     ]
    },
    {
     "name": "stderr",
     "output_type": "stream",
     "text": [
      "Training: 100%|██████████| 140/140 [00:32<00:00,  4.30it/s, loss=0.0906, acc=50]  \n",
      "Training: 100%|██████████| 140/140 [00:32<00:00,  4.30it/s, loss=0.0906, acc=50]\n",
      "Validation: 100%|██████████| 25/25 [00:00<00:00, 40.52it/s]\n",
      "Validation: 100%|██████████| 25/25 [00:00<00:00, 40.52it/s]\n"
     ]
    },
    {
     "name": "stdout",
     "output_type": "stream",
     "text": [
      "🚀 Starting training...\n",
      "📊 Training for up to 100 epochs\n",
      "⏱️ Early stopping patience: 25 epochs\n",
      "🔥 Using device: cuda\n",
      "================================================================================\n"
     ]
    },
    {
     "name": "stderr",
     "output_type": "stream",
     "text": [
      "Training: 100%|██████████| 140/140 [00:43<00:00,  3.18it/s, loss=0.0957, acc=49.2]\n",
      "Training: 100%|██████████| 140/140 [00:43<00:00,  3.18it/s, loss=0.0957, acc=49.2]\n",
      "Validation: 100%|██████████| 25/25 [00:00<00:00, 37.42it/s]\n",
      "\n"
     ]
    },
    {
     "name": "stdout",
     "output_type": "stream",
     "text": [
      "\n",
      "📊 Epoch [1/100] - 44.66s - LR: 0.000200\n",
      "   Train Loss: 0.0920 | Train Acc: 49.19% | Train AUC: 0.4932\n",
      "   Val Loss:   0.0868 | Val Acc:   76.24% | Val AUC:   0.5226\n",
      "   ✅ New best model saved! (Val AUC: 0.5226)\n",
      "--------------------------------------------------------------------------------\n"
     ]
    },
    {
     "name": "stderr",
     "output_type": "stream",
     "text": [
      "Training: 100%|██████████| 140/140 [00:40<00:00,  3.48it/s, loss=0.09, acc=49.2]  \n",
      "Training: 100%|██████████| 140/140 [00:40<00:00,  3.48it/s, loss=0.09, acc=49.2]  \n",
      "Validation: 100%|██████████| 25/25 [00:00<00:00, 43.26it/s]\n",
      "Validation: 100%|██████████| 25/25 [00:00<00:00, 43.26it/s]\n"
     ]
    },
    {
     "name": "stdout",
     "output_type": "stream",
     "text": [
      "\n",
      "📊 Epoch [2/100] - 40.80s - LR: 0.000300\n",
      "   Train Loss: 0.0916 | Train Acc: 49.21% | Train AUC: 0.4915\n",
      "   Val Loss:   0.0894 | Val Acc:   76.24% | Val AUC:   0.5081\n",
      "   ⏱️ No improvement for 1/25 epochs\n",
      "--------------------------------------------------------------------------------\n"
     ]
    },
    {
     "name": "stderr",
     "output_type": "stream",
     "text": [
      "Training: 100%|██████████| 140/140 [00:30<00:00,  4.55it/s, loss=0.0904, acc=49.6]\n",
      "Training: 100%|██████████| 140/140 [00:30<00:00,  4.55it/s, loss=0.0904, acc=49.6]\n",
      "Validation: 100%|██████████| 25/25 [00:00<00:00, 42.49it/s]\n",
      "Validation: 100%|██████████| 25/25 [00:00<00:00, 42.49it/s]\n"
     ]
    },
    {
     "name": "stdout",
     "output_type": "stream",
     "text": [
      "\n",
      "📊 Epoch [3/100] - 31.35s - LR: 0.000300\n",
      "   Train Loss: 0.0912 | Train Acc: 49.57% | Train AUC: 0.5020\n",
      "   Val Loss:   0.0866 | Val Acc:   76.24% | Val AUC:   0.5084\n",
      "   ⏱️ No improvement for 2/25 epochs\n",
      "--------------------------------------------------------------------------------\n"
     ]
    },
    {
     "name": "stderr",
     "output_type": "stream",
     "text": [
      "Training: 100%|██████████| 140/140 [00:44<00:00,  3.11it/s, loss=0.0919, acc=50.2]\n",
      "Training: 100%|██████████| 140/140 [00:44<00:00,  3.11it/s, loss=0.0919, acc=50.2]\n",
      "Validation: 100%|██████████| 25/25 [00:00<00:00, 36.29it/s]\n",
      "Validation: 100%|██████████| 25/25 [00:00<00:00, 36.29it/s]\n"
     ]
    },
    {
     "name": "stdout",
     "output_type": "stream",
     "text": [
      "\n",
      "📊 Epoch [4/100] - 45.68s - LR: 0.000300\n",
      "   Train Loss: 0.0911 | Train Acc: 50.25% | Train AUC: 0.4927\n",
      "   Val Loss:   0.0861 | Val Acc:   76.24% | Val AUC:   0.5152\n",
      "   ⏱️ No improvement for 3/25 epochs\n",
      "--------------------------------------------------------------------------------\n"
     ]
    },
    {
     "name": "stderr",
     "output_type": "stream",
     "text": [
      "Training: 100%|██████████| 140/140 [00:52<00:00,  2.68it/s, loss=0.094, acc=50.3] \n",
      "Training: 100%|██████████| 140/140 [00:52<00:00,  2.68it/s, loss=0.094, acc=50.3]\n",
      "Validation: 100%|██████████| 25/25 [00:00<00:00, 36.17it/s]\n",
      "Validation: 100%|██████████| 25/25 [00:00<00:00, 36.17it/s]\n"
     ]
    },
    {
     "name": "stdout",
     "output_type": "stream",
     "text": [
      "\n",
      "📊 Epoch [5/100] - 53.00s - LR: 0.000300\n",
      "   Train Loss: 0.0910 | Train Acc: 50.27% | Train AUC: 0.5113\n",
      "   Val Loss:   0.0889 | Val Acc:   76.24% | Val AUC:   0.5147\n",
      "   ⏱️ No improvement for 4/25 epochs\n",
      "--------------------------------------------------------------------------------\n"
     ]
    },
    {
     "name": "stderr",
     "output_type": "stream",
     "text": [
      "Training: 100%|██████████| 140/140 [00:53<00:00,  2.61it/s, loss=0.0917, acc=50]  \n",
      "Training: 100%|██████████| 140/140 [00:53<00:00,  2.61it/s, loss=0.0917, acc=50]\n",
      "Validation: 100%|██████████| 25/25 [00:00<00:00, 36.34it/s]\n",
      "\n"
     ]
    },
    {
     "name": "stdout",
     "output_type": "stream",
     "text": [
      "\n",
      "📊 Epoch [6/100] - 54.33s - LR: 0.000299\n",
      "   Train Loss: 0.0911 | Train Acc: 49.96% | Train AUC: 0.4963\n",
      "   Val Loss:   0.0886 | Val Acc:   76.24% | Val AUC:   0.4984\n",
      "   ⏱️ No improvement for 5/25 epochs\n",
      "--------------------------------------------------------------------------------\n"
     ]
    },
    {
     "name": "stderr",
     "output_type": "stream",
     "text": [
      "Training: 100%|██████████| 140/140 [00:52<00:00,  2.65it/s, loss=0.0912, acc=48.7]\n",
      "Training: 100%|██████████| 140/140 [00:52<00:00,  2.65it/s, loss=0.0912, acc=48.7]\n",
      "Validation: 100%|██████████| 25/25 [00:00<00:00, 36.03it/s]\n",
      "\n"
     ]
    },
    {
     "name": "stdout",
     "output_type": "stream",
     "text": [
      "\n",
      "📊 Epoch [7/100] - 53.51s - LR: 0.000299\n",
      "   Train Loss: 0.0911 | Train Acc: 48.72% | Train AUC: 0.4976\n",
      "   Val Loss:   0.0896 | Val Acc:   76.24% | Val AUC:   0.4970\n",
      "   ⏱️ No improvement for 6/25 epochs\n",
      "--------------------------------------------------------------------------------\n"
     ]
    },
    {
     "name": "stderr",
     "output_type": "stream",
     "text": [
      "Training: 100%|██████████| 140/140 [00:54<00:00,  2.58it/s, loss=0.0883, acc=50.1]\n",
      "Training: 100%|██████████| 140/140 [00:54<00:00,  2.58it/s, loss=0.0883, acc=50.1]\n",
      "Validation: 100%|██████████| 25/25 [00:00<00:00, 37.40it/s]\n",
      "Validation: 100%|██████████| 25/25 [00:00<00:00, 37.40it/s]\n"
     ]
    },
    {
     "name": "stdout",
     "output_type": "stream",
     "text": [
      "\n",
      "📊 Epoch [8/100] - 55.04s - LR: 0.000298\n",
      "   Train Loss: 0.0909 | Train Acc: 50.07% | Train AUC: 0.4996\n",
      "   Val Loss:   0.0883 | Val Acc:   76.24% | Val AUC:   0.4994\n",
      "   ⏱️ No improvement for 7/25 epochs\n",
      "--------------------------------------------------------------------------------\n"
     ]
    },
    {
     "name": "stderr",
     "output_type": "stream",
     "text": [
      "Training: 100%|██████████| 140/140 [00:54<00:00,  2.55it/s, loss=0.0915, acc=50.4]\n",
      "Training: 100%|██████████| 140/140 [00:54<00:00,  2.55it/s, loss=0.0915, acc=50.4]\n",
      "Validation: 100%|██████████| 25/25 [00:00<00:00, 35.56it/s]\n",
      "Validation: 100%|██████████| 25/25 [00:00<00:00, 35.56it/s]\n"
     ]
    },
    {
     "name": "stdout",
     "output_type": "stream",
     "text": [
      "\n",
      "📊 Epoch [9/100] - 55.59s - LR: 0.000297\n",
      "   Train Loss: 0.0909 | Train Acc: 50.38% | Train AUC: 0.4965\n",
      "   Val Loss:   0.0867 | Val Acc:   76.24% | Val AUC:   0.4891\n",
      "   ⏱️ No improvement for 8/25 epochs\n",
      "--------------------------------------------------------------------------------\n"
     ]
    },
    {
     "name": "stderr",
     "output_type": "stream",
     "text": [
      "Training: 100%|██████████| 140/140 [00:54<00:00,  2.56it/s, loss=0.0876, acc=49.7]\n",
      "Training: 100%|██████████| 140/140 [00:54<00:00,  2.56it/s, loss=0.0876, acc=49.7]\n",
      "Validation: 100%|██████████| 25/25 [00:00<00:00, 34.86it/s]\n",
      "\n"
     ]
    },
    {
     "name": "stdout",
     "output_type": "stream",
     "text": [
      "\n",
      "📊 Epoch [10/100] - 55.46s - LR: 0.000296\n",
      "   Train Loss: 0.0910 | Train Acc: 49.71% | Train AUC: 0.4966\n",
      "   Val Loss:   0.0893 | Val Acc:   76.24% | Val AUC:   0.4880\n",
      "   ⏱️ No improvement for 9/25 epochs\n",
      "--------------------------------------------------------------------------------\n"
     ]
    },
    {
     "name": "stderr",
     "output_type": "stream",
     "text": [
      "Training: 100%|██████████| 140/140 [00:55<00:00,  2.54it/s, loss=0.0937, acc=49.8]\n",
      "Training: 100%|██████████| 140/140 [00:55<00:00,  2.54it/s, loss=0.0937, acc=49.8]\n",
      "Validation: 100%|██████████| 25/25 [00:00<00:00, 36.71it/s]\n",
      "Validation: 100%|██████████| 25/25 [00:00<00:00, 36.71it/s]\n"
     ]
    },
    {
     "name": "stdout",
     "output_type": "stream",
     "text": [
      "\n",
      "📊 Epoch [11/100] - 55.72s - LR: 0.000295\n",
      "   Train Loss: 0.0910 | Train Acc: 49.80% | Train AUC: 0.4939\n",
      "   Val Loss:   0.0884 | Val Acc:   76.24% | Val AUC:   0.4682\n",
      "   ⏱️ No improvement for 10/25 epochs\n",
      "--------------------------------------------------------------------------------\n"
     ]
    },
    {
     "name": "stderr",
     "output_type": "stream",
     "text": [
      "Training: 100%|██████████| 140/140 [01:09<00:00,  2.02it/s, loss=0.0914, acc=51.5]\n",
      "Training: 100%|██████████| 140/140 [01:09<00:00,  2.02it/s, loss=0.0914, acc=51.5]\n",
      "Validation: 100%|██████████| 25/25 [00:01<00:00, 12.88it/s]\n",
      "Validation: 100%|██████████| 25/25 [00:01<00:00, 12.88it/s]\n"
     ]
    },
    {
     "name": "stdout",
     "output_type": "stream",
     "text": [
      "\n",
      "📊 Epoch [12/100] - 71.37s - LR: 0.000294\n",
      "   Train Loss: 0.0907 | Train Acc: 51.46% | Train AUC: 0.5041\n",
      "   Val Loss:   0.0863 | Val Acc:   76.24% | Val AUC:   0.4670\n",
      "   ⏱️ No improvement for 11/25 epochs\n",
      "--------------------------------------------------------------------------------\n"
     ]
    },
    {
     "name": "stderr",
     "output_type": "stream",
     "text": [
      "Training: 100%|██████████| 140/140 [00:39<00:00,  3.56it/s, loss=0.093, acc=48.6] \n",
      "Training: 100%|██████████| 140/140 [00:39<00:00,  3.56it/s, loss=0.093, acc=48.6] \n",
      "Validation: 100%|██████████| 25/25 [00:00<00:00, 42.40it/s]\n",
      "Validation: 100%|██████████| 25/25 [00:00<00:00, 42.40it/s]\n"
     ]
    },
    {
     "name": "stdout",
     "output_type": "stream",
     "text": [
      "\n",
      "📊 Epoch [13/100] - 39.89s - LR: 0.000292\n",
      "   Train Loss: 0.0910 | Train Acc: 48.61% | Train AUC: 0.5014\n",
      "   Val Loss:   0.0885 | Val Acc:   76.24% | Val AUC:   0.5151\n",
      "   ⏱️ No improvement for 12/25 epochs\n",
      "--------------------------------------------------------------------------------\n"
     ]
    },
    {
     "name": "stderr",
     "output_type": "stream",
     "text": [
      "Training: 100%|██████████| 140/140 [00:32<00:00,  4.33it/s, loss=0.0866, acc=50.9]\n",
      "Training: 100%|██████████| 140/140 [00:32<00:00,  4.33it/s, loss=0.0866, acc=50.9]\n",
      "Validation: 100%|██████████| 25/25 [00:00<00:00, 42.28it/s]\n",
      "Validation: 100%|██████████| 25/25 [00:00<00:00, 42.28it/s]\n"
     ]
    },
    {
     "name": "stdout",
     "output_type": "stream",
     "text": [
      "\n",
      "📊 Epoch [14/100] - 32.93s - LR: 0.000291\n",
      "   Train Loss: 0.0908 | Train Acc: 50.90% | Train AUC: 0.4977\n",
      "   Val Loss:   0.0871 | Val Acc:   76.24% | Val AUC:   0.5147\n",
      "   ⏱️ No improvement for 13/25 epochs\n",
      "--------------------------------------------------------------------------------\n"
     ]
    },
    {
     "name": "stderr",
     "output_type": "stream",
     "text": [
      "Training: 100%|██████████| 140/140 [00:31<00:00,  4.38it/s, loss=0.0912, acc=49.5]\n",
      "Training: 100%|██████████| 140/140 [00:31<00:00,  4.38it/s, loss=0.0912, acc=49.5]\n",
      "Validation: 100%|██████████| 25/25 [00:00<00:00, 42.39it/s]\n",
      "Validation: 100%|██████████| 25/25 [00:00<00:00, 42.39it/s]\n"
     ]
    },
    {
     "name": "stdout",
     "output_type": "stream",
     "text": [
      "\n",
      "📊 Epoch [15/100] - 32.58s - LR: 0.000289\n",
      "   Train Loss: 0.0909 | Train Acc: 49.48% | Train AUC: 0.5071\n",
      "   Val Loss:   0.0888 | Val Acc:   76.24% | Val AUC:   0.5003\n",
      "   ⏱️ No improvement for 14/25 epochs\n",
      "--------------------------------------------------------------------------------\n"
     ]
    },
    {
     "name": "stderr",
     "output_type": "stream",
     "text": [
      "Training: 100%|██████████| 140/140 [00:32<00:00,  4.30it/s, loss=0.0906, acc=50]  \n",
      "Training: 100%|██████████| 140/140 [00:32<00:00,  4.30it/s, loss=0.0906, acc=50]\n",
      "Validation: 100%|██████████| 25/25 [00:00<00:00, 40.52it/s]\n",
      "Validation: 100%|██████████| 25/25 [00:00<00:00, 40.52it/s]\n"
     ]
    },
    {
     "name": "stdout",
     "output_type": "stream",
     "text": [
      "\n",
      "📊 Epoch [16/100] - 33.17s - LR: 0.000287\n",
      "   Train Loss: 0.0909 | Train Acc: 50.00% | Train AUC: 0.5044\n",
      "   Val Loss:   0.0881 | Val Acc:   76.24% | Val AUC:   0.5001\n",
      "   ⏱️ No improvement for 15/25 epochs\n",
      "--------------------------------------------------------------------------------\n"
     ]
    },
    {
     "name": "stderr",
     "output_type": "stream",
     "text": [
      "Training: 100%|██████████| 140/140 [00:37<00:00,  3.77it/s, loss=0.0883, acc=49.8]\n",
      "Training: 100%|██████████| 140/140 [00:37<00:00,  3.77it/s, loss=0.0883, acc=49.8]\n",
      "Validation: 100%|██████████| 25/25 [00:00<00:00, 38.41it/s]\n",
      "\n"
     ]
    },
    {
     "name": "stdout",
     "output_type": "stream",
     "text": [
      "🚀 Starting training...\n",
      "📊 Training for up to 100 epochs\n",
      "⏱️ Early stopping patience: 25 epochs\n",
      "🔥 Using device: cuda\n",
      "================================================================================\n"
     ]
    },
    {
     "name": "stderr",
     "output_type": "stream",
     "text": [
      "Training: 100%|██████████| 140/140 [00:43<00:00,  3.18it/s, loss=0.0957, acc=49.2]\n",
      "Training: 100%|██████████| 140/140 [00:43<00:00,  3.18it/s, loss=0.0957, acc=49.2]\n",
      "Validation: 100%|██████████| 25/25 [00:00<00:00, 37.42it/s]\n",
      "\n"
     ]
    },
    {
     "name": "stdout",
     "output_type": "stream",
     "text": [
      "\n",
      "📊 Epoch [1/100] - 44.66s - LR: 0.000200\n",
      "   Train Loss: 0.0920 | Train Acc: 49.19% | Train AUC: 0.4932\n",
      "   Val Loss:   0.0868 | Val Acc:   76.24% | Val AUC:   0.5226\n",
      "   ✅ New best model saved! (Val AUC: 0.5226)\n",
      "--------------------------------------------------------------------------------\n"
     ]
    },
    {
     "name": "stderr",
     "output_type": "stream",
     "text": [
      "Training: 100%|██████████| 140/140 [00:40<00:00,  3.48it/s, loss=0.09, acc=49.2]  \n",
      "Training: 100%|██████████| 140/140 [00:40<00:00,  3.48it/s, loss=0.09, acc=49.2]  \n",
      "Validation: 100%|██████████| 25/25 [00:00<00:00, 43.26it/s]\n",
      "Validation: 100%|██████████| 25/25 [00:00<00:00, 43.26it/s]\n"
     ]
    },
    {
     "name": "stdout",
     "output_type": "stream",
     "text": [
      "\n",
      "📊 Epoch [2/100] - 40.80s - LR: 0.000300\n",
      "   Train Loss: 0.0916 | Train Acc: 49.21% | Train AUC: 0.4915\n",
      "   Val Loss:   0.0894 | Val Acc:   76.24% | Val AUC:   0.5081\n",
      "   ⏱️ No improvement for 1/25 epochs\n",
      "--------------------------------------------------------------------------------\n"
     ]
    },
    {
     "name": "stderr",
     "output_type": "stream",
     "text": [
      "Training: 100%|██████████| 140/140 [00:30<00:00,  4.55it/s, loss=0.0904, acc=49.6]\n",
      "Training: 100%|██████████| 140/140 [00:30<00:00,  4.55it/s, loss=0.0904, acc=49.6]\n",
      "Validation: 100%|██████████| 25/25 [00:00<00:00, 42.49it/s]\n",
      "Validation: 100%|██████████| 25/25 [00:00<00:00, 42.49it/s]\n"
     ]
    },
    {
     "name": "stdout",
     "output_type": "stream",
     "text": [
      "\n",
      "📊 Epoch [3/100] - 31.35s - LR: 0.000300\n",
      "   Train Loss: 0.0912 | Train Acc: 49.57% | Train AUC: 0.5020\n",
      "   Val Loss:   0.0866 | Val Acc:   76.24% | Val AUC:   0.5084\n",
      "   ⏱️ No improvement for 2/25 epochs\n",
      "--------------------------------------------------------------------------------\n"
     ]
    },
    {
     "name": "stderr",
     "output_type": "stream",
     "text": [
      "Training: 100%|██████████| 140/140 [00:44<00:00,  3.11it/s, loss=0.0919, acc=50.2]\n",
      "Training: 100%|██████████| 140/140 [00:44<00:00,  3.11it/s, loss=0.0919, acc=50.2]\n",
      "Validation: 100%|██████████| 25/25 [00:00<00:00, 36.29it/s]\n",
      "Validation: 100%|██████████| 25/25 [00:00<00:00, 36.29it/s]\n"
     ]
    },
    {
     "name": "stdout",
     "output_type": "stream",
     "text": [
      "\n",
      "📊 Epoch [4/100] - 45.68s - LR: 0.000300\n",
      "   Train Loss: 0.0911 | Train Acc: 50.25% | Train AUC: 0.4927\n",
      "   Val Loss:   0.0861 | Val Acc:   76.24% | Val AUC:   0.5152\n",
      "   ⏱️ No improvement for 3/25 epochs\n",
      "--------------------------------------------------------------------------------\n"
     ]
    },
    {
     "name": "stderr",
     "output_type": "stream",
     "text": [
      "Training: 100%|██████████| 140/140 [00:52<00:00,  2.68it/s, loss=0.094, acc=50.3] \n",
      "Training: 100%|██████████| 140/140 [00:52<00:00,  2.68it/s, loss=0.094, acc=50.3]\n",
      "Validation: 100%|██████████| 25/25 [00:00<00:00, 36.17it/s]\n",
      "Validation: 100%|██████████| 25/25 [00:00<00:00, 36.17it/s]\n"
     ]
    },
    {
     "name": "stdout",
     "output_type": "stream",
     "text": [
      "\n",
      "📊 Epoch [5/100] - 53.00s - LR: 0.000300\n",
      "   Train Loss: 0.0910 | Train Acc: 50.27% | Train AUC: 0.5113\n",
      "   Val Loss:   0.0889 | Val Acc:   76.24% | Val AUC:   0.5147\n",
      "   ⏱️ No improvement for 4/25 epochs\n",
      "--------------------------------------------------------------------------------\n"
     ]
    },
    {
     "name": "stderr",
     "output_type": "stream",
     "text": [
      "Training: 100%|██████████| 140/140 [00:53<00:00,  2.61it/s, loss=0.0917, acc=50]  \n",
      "Training: 100%|██████████| 140/140 [00:53<00:00,  2.61it/s, loss=0.0917, acc=50]\n",
      "Validation: 100%|██████████| 25/25 [00:00<00:00, 36.34it/s]\n",
      "\n"
     ]
    },
    {
     "name": "stdout",
     "output_type": "stream",
     "text": [
      "\n",
      "📊 Epoch [6/100] - 54.33s - LR: 0.000299\n",
      "   Train Loss: 0.0911 | Train Acc: 49.96% | Train AUC: 0.4963\n",
      "   Val Loss:   0.0886 | Val Acc:   76.24% | Val AUC:   0.4984\n",
      "   ⏱️ No improvement for 5/25 epochs\n",
      "--------------------------------------------------------------------------------\n"
     ]
    },
    {
     "name": "stderr",
     "output_type": "stream",
     "text": [
      "Training: 100%|██████████| 140/140 [00:52<00:00,  2.65it/s, loss=0.0912, acc=48.7]\n",
      "Training: 100%|██████████| 140/140 [00:52<00:00,  2.65it/s, loss=0.0912, acc=48.7]\n",
      "Validation: 100%|██████████| 25/25 [00:00<00:00, 36.03it/s]\n",
      "\n"
     ]
    },
    {
     "name": "stdout",
     "output_type": "stream",
     "text": [
      "\n",
      "📊 Epoch [7/100] - 53.51s - LR: 0.000299\n",
      "   Train Loss: 0.0911 | Train Acc: 48.72% | Train AUC: 0.4976\n",
      "   Val Loss:   0.0896 | Val Acc:   76.24% | Val AUC:   0.4970\n",
      "   ⏱️ No improvement for 6/25 epochs\n",
      "--------------------------------------------------------------------------------\n"
     ]
    },
    {
     "name": "stderr",
     "output_type": "stream",
     "text": [
      "Training: 100%|██████████| 140/140 [00:54<00:00,  2.58it/s, loss=0.0883, acc=50.1]\n",
      "Training: 100%|██████████| 140/140 [00:54<00:00,  2.58it/s, loss=0.0883, acc=50.1]\n",
      "Validation: 100%|██████████| 25/25 [00:00<00:00, 37.40it/s]\n",
      "Validation: 100%|██████████| 25/25 [00:00<00:00, 37.40it/s]\n"
     ]
    },
    {
     "name": "stdout",
     "output_type": "stream",
     "text": [
      "\n",
      "📊 Epoch [8/100] - 55.04s - LR: 0.000298\n",
      "   Train Loss: 0.0909 | Train Acc: 50.07% | Train AUC: 0.4996\n",
      "   Val Loss:   0.0883 | Val Acc:   76.24% | Val AUC:   0.4994\n",
      "   ⏱️ No improvement for 7/25 epochs\n",
      "--------------------------------------------------------------------------------\n"
     ]
    },
    {
     "name": "stderr",
     "output_type": "stream",
     "text": [
      "Training: 100%|██████████| 140/140 [00:54<00:00,  2.55it/s, loss=0.0915, acc=50.4]\n",
      "Training: 100%|██████████| 140/140 [00:54<00:00,  2.55it/s, loss=0.0915, acc=50.4]\n",
      "Validation: 100%|██████████| 25/25 [00:00<00:00, 35.56it/s]\n",
      "Validation: 100%|██████████| 25/25 [00:00<00:00, 35.56it/s]\n"
     ]
    },
    {
     "name": "stdout",
     "output_type": "stream",
     "text": [
      "\n",
      "📊 Epoch [9/100] - 55.59s - LR: 0.000297\n",
      "   Train Loss: 0.0909 | Train Acc: 50.38% | Train AUC: 0.4965\n",
      "   Val Loss:   0.0867 | Val Acc:   76.24% | Val AUC:   0.4891\n",
      "   ⏱️ No improvement for 8/25 epochs\n",
      "--------------------------------------------------------------------------------\n"
     ]
    },
    {
     "name": "stderr",
     "output_type": "stream",
     "text": [
      "Training: 100%|██████████| 140/140 [00:54<00:00,  2.56it/s, loss=0.0876, acc=49.7]\n",
      "Training: 100%|██████████| 140/140 [00:54<00:00,  2.56it/s, loss=0.0876, acc=49.7]\n",
      "Validation: 100%|██████████| 25/25 [00:00<00:00, 34.86it/s]\n",
      "\n"
     ]
    },
    {
     "name": "stdout",
     "output_type": "stream",
     "text": [
      "\n",
      "📊 Epoch [10/100] - 55.46s - LR: 0.000296\n",
      "   Train Loss: 0.0910 | Train Acc: 49.71% | Train AUC: 0.4966\n",
      "   Val Loss:   0.0893 | Val Acc:   76.24% | Val AUC:   0.4880\n",
      "   ⏱️ No improvement for 9/25 epochs\n",
      "--------------------------------------------------------------------------------\n"
     ]
    },
    {
     "name": "stderr",
     "output_type": "stream",
     "text": [
      "Training: 100%|██████████| 140/140 [00:55<00:00,  2.54it/s, loss=0.0937, acc=49.8]\n",
      "Training: 100%|██████████| 140/140 [00:55<00:00,  2.54it/s, loss=0.0937, acc=49.8]\n",
      "Validation: 100%|██████████| 25/25 [00:00<00:00, 36.71it/s]\n",
      "Validation: 100%|██████████| 25/25 [00:00<00:00, 36.71it/s]\n"
     ]
    },
    {
     "name": "stdout",
     "output_type": "stream",
     "text": [
      "\n",
      "📊 Epoch [11/100] - 55.72s - LR: 0.000295\n",
      "   Train Loss: 0.0910 | Train Acc: 49.80% | Train AUC: 0.4939\n",
      "   Val Loss:   0.0884 | Val Acc:   76.24% | Val AUC:   0.4682\n",
      "   ⏱️ No improvement for 10/25 epochs\n",
      "--------------------------------------------------------------------------------\n"
     ]
    },
    {
     "name": "stderr",
     "output_type": "stream",
     "text": [
      "Training: 100%|██████████| 140/140 [01:09<00:00,  2.02it/s, loss=0.0914, acc=51.5]\n",
      "Training: 100%|██████████| 140/140 [01:09<00:00,  2.02it/s, loss=0.0914, acc=51.5]\n",
      "Validation: 100%|██████████| 25/25 [00:01<00:00, 12.88it/s]\n",
      "Validation: 100%|██████████| 25/25 [00:01<00:00, 12.88it/s]\n"
     ]
    },
    {
     "name": "stdout",
     "output_type": "stream",
     "text": [
      "\n",
      "📊 Epoch [12/100] - 71.37s - LR: 0.000294\n",
      "   Train Loss: 0.0907 | Train Acc: 51.46% | Train AUC: 0.5041\n",
      "   Val Loss:   0.0863 | Val Acc:   76.24% | Val AUC:   0.4670\n",
      "   ⏱️ No improvement for 11/25 epochs\n",
      "--------------------------------------------------------------------------------\n"
     ]
    },
    {
     "name": "stderr",
     "output_type": "stream",
     "text": [
      "Training: 100%|██████████| 140/140 [00:39<00:00,  3.56it/s, loss=0.093, acc=48.6] \n",
      "Training: 100%|██████████| 140/140 [00:39<00:00,  3.56it/s, loss=0.093, acc=48.6] \n",
      "Validation: 100%|██████████| 25/25 [00:00<00:00, 42.40it/s]\n",
      "Validation: 100%|██████████| 25/25 [00:00<00:00, 42.40it/s]\n"
     ]
    },
    {
     "name": "stdout",
     "output_type": "stream",
     "text": [
      "\n",
      "📊 Epoch [13/100] - 39.89s - LR: 0.000292\n",
      "   Train Loss: 0.0910 | Train Acc: 48.61% | Train AUC: 0.5014\n",
      "   Val Loss:   0.0885 | Val Acc:   76.24% | Val AUC:   0.5151\n",
      "   ⏱️ No improvement for 12/25 epochs\n",
      "--------------------------------------------------------------------------------\n"
     ]
    },
    {
     "name": "stderr",
     "output_type": "stream",
     "text": [
      "Training: 100%|██████████| 140/140 [00:32<00:00,  4.33it/s, loss=0.0866, acc=50.9]\n",
      "Training: 100%|██████████| 140/140 [00:32<00:00,  4.33it/s, loss=0.0866, acc=50.9]\n",
      "Validation: 100%|██████████| 25/25 [00:00<00:00, 42.28it/s]\n",
      "Validation: 100%|██████████| 25/25 [00:00<00:00, 42.28it/s]\n"
     ]
    },
    {
     "name": "stdout",
     "output_type": "stream",
     "text": [
      "\n",
      "📊 Epoch [14/100] - 32.93s - LR: 0.000291\n",
      "   Train Loss: 0.0908 | Train Acc: 50.90% | Train AUC: 0.4977\n",
      "   Val Loss:   0.0871 | Val Acc:   76.24% | Val AUC:   0.5147\n",
      "   ⏱️ No improvement for 13/25 epochs\n",
      "--------------------------------------------------------------------------------\n"
     ]
    },
    {
     "name": "stderr",
     "output_type": "stream",
     "text": [
      "Training: 100%|██████████| 140/140 [00:31<00:00,  4.38it/s, loss=0.0912, acc=49.5]\n",
      "Training: 100%|██████████| 140/140 [00:31<00:00,  4.38it/s, loss=0.0912, acc=49.5]\n",
      "Validation: 100%|██████████| 25/25 [00:00<00:00, 42.39it/s]\n",
      "Validation: 100%|██████████| 25/25 [00:00<00:00, 42.39it/s]\n"
     ]
    },
    {
     "name": "stdout",
     "output_type": "stream",
     "text": [
      "\n",
      "📊 Epoch [15/100] - 32.58s - LR: 0.000289\n",
      "   Train Loss: 0.0909 | Train Acc: 49.48% | Train AUC: 0.5071\n",
      "   Val Loss:   0.0888 | Val Acc:   76.24% | Val AUC:   0.5003\n",
      "   ⏱️ No improvement for 14/25 epochs\n",
      "--------------------------------------------------------------------------------\n"
     ]
    },
    {
     "name": "stderr",
     "output_type": "stream",
     "text": [
      "Training: 100%|██████████| 140/140 [00:32<00:00,  4.30it/s, loss=0.0906, acc=50]  \n",
      "Training: 100%|██████████| 140/140 [00:32<00:00,  4.30it/s, loss=0.0906, acc=50]\n",
      "Validation: 100%|██████████| 25/25 [00:00<00:00, 40.52it/s]\n",
      "Validation: 100%|██████████| 25/25 [00:00<00:00, 40.52it/s]\n"
     ]
    },
    {
     "name": "stdout",
     "output_type": "stream",
     "text": [
      "\n",
      "📊 Epoch [16/100] - 33.17s - LR: 0.000287\n",
      "   Train Loss: 0.0909 | Train Acc: 50.00% | Train AUC: 0.5044\n",
      "   Val Loss:   0.0881 | Val Acc:   76.24% | Val AUC:   0.5001\n",
      "   ⏱️ No improvement for 15/25 epochs\n",
      "--------------------------------------------------------------------------------\n"
     ]
    },
    {
     "name": "stderr",
     "output_type": "stream",
     "text": [
      "Training: 100%|██████████| 140/140 [00:37<00:00,  3.77it/s, loss=0.0883, acc=49.8]\n",
      "Training: 100%|██████████| 140/140 [00:37<00:00,  3.77it/s, loss=0.0883, acc=49.8]\n",
      "Validation: 100%|██████████| 25/25 [00:00<00:00, 38.41it/s]\n",
      "\n"
     ]
    },
    {
     "name": "stdout",
     "output_type": "stream",
     "text": [
      "\n",
      "📊 Epoch [17/100] - 37.82s - LR: 0.000285\n",
      "   Train Loss: 0.0909 | Train Acc: 49.84% | Train AUC: 0.5019\n",
      "   Val Loss:   0.0882 | Val Acc:   76.24% | Val AUC:   0.5063\n",
      "   ⏱️ No improvement for 16/25 epochs\n",
      "--------------------------------------------------------------------------------\n"
     ]
    },
    {
     "name": "stderr",
     "output_type": "stream",
     "text": [
      "Training: 100%|██████████| 140/140 [00:48<00:00,  2.91it/s, loss=0.0907, acc=49.3]\n",
      "Training: 100%|██████████| 140/140 [00:48<00:00,  2.91it/s, loss=0.0907, acc=49.3]\n",
      "Validation: 100%|██████████| 25/25 [00:00<00:00, 35.12it/s]\n",
      "Validation: 100%|██████████| 25/25 [00:00<00:00, 35.12it/s]\n"
     ]
    },
    {
     "name": "stdout",
     "output_type": "stream",
     "text": [
      "🚀 Starting training...\n",
      "📊 Training for up to 100 epochs\n",
      "⏱️ Early stopping patience: 25 epochs\n",
      "🔥 Using device: cuda\n",
      "================================================================================\n"
     ]
    },
    {
     "name": "stderr",
     "output_type": "stream",
     "text": [
      "Training: 100%|██████████| 140/140 [00:43<00:00,  3.18it/s, loss=0.0957, acc=49.2]\n",
      "Training: 100%|██████████| 140/140 [00:43<00:00,  3.18it/s, loss=0.0957, acc=49.2]\n",
      "Validation: 100%|██████████| 25/25 [00:00<00:00, 37.42it/s]\n",
      "\n"
     ]
    },
    {
     "name": "stdout",
     "output_type": "stream",
     "text": [
      "\n",
      "📊 Epoch [1/100] - 44.66s - LR: 0.000200\n",
      "   Train Loss: 0.0920 | Train Acc: 49.19% | Train AUC: 0.4932\n",
      "   Val Loss:   0.0868 | Val Acc:   76.24% | Val AUC:   0.5226\n",
      "   ✅ New best model saved! (Val AUC: 0.5226)\n",
      "--------------------------------------------------------------------------------\n"
     ]
    },
    {
     "name": "stderr",
     "output_type": "stream",
     "text": [
      "Training: 100%|██████████| 140/140 [00:40<00:00,  3.48it/s, loss=0.09, acc=49.2]  \n",
      "Training: 100%|██████████| 140/140 [00:40<00:00,  3.48it/s, loss=0.09, acc=49.2]  \n",
      "Validation: 100%|██████████| 25/25 [00:00<00:00, 43.26it/s]\n",
      "Validation: 100%|██████████| 25/25 [00:00<00:00, 43.26it/s]\n"
     ]
    },
    {
     "name": "stdout",
     "output_type": "stream",
     "text": [
      "\n",
      "📊 Epoch [2/100] - 40.80s - LR: 0.000300\n",
      "   Train Loss: 0.0916 | Train Acc: 49.21% | Train AUC: 0.4915\n",
      "   Val Loss:   0.0894 | Val Acc:   76.24% | Val AUC:   0.5081\n",
      "   ⏱️ No improvement for 1/25 epochs\n",
      "--------------------------------------------------------------------------------\n"
     ]
    },
    {
     "name": "stderr",
     "output_type": "stream",
     "text": [
      "Training: 100%|██████████| 140/140 [00:30<00:00,  4.55it/s, loss=0.0904, acc=49.6]\n",
      "Training: 100%|██████████| 140/140 [00:30<00:00,  4.55it/s, loss=0.0904, acc=49.6]\n",
      "Validation: 100%|██████████| 25/25 [00:00<00:00, 42.49it/s]\n",
      "Validation: 100%|██████████| 25/25 [00:00<00:00, 42.49it/s]\n"
     ]
    },
    {
     "name": "stdout",
     "output_type": "stream",
     "text": [
      "\n",
      "📊 Epoch [3/100] - 31.35s - LR: 0.000300\n",
      "   Train Loss: 0.0912 | Train Acc: 49.57% | Train AUC: 0.5020\n",
      "   Val Loss:   0.0866 | Val Acc:   76.24% | Val AUC:   0.5084\n",
      "   ⏱️ No improvement for 2/25 epochs\n",
      "--------------------------------------------------------------------------------\n"
     ]
    },
    {
     "name": "stderr",
     "output_type": "stream",
     "text": [
      "Training: 100%|██████████| 140/140 [00:44<00:00,  3.11it/s, loss=0.0919, acc=50.2]\n",
      "Training: 100%|██████████| 140/140 [00:44<00:00,  3.11it/s, loss=0.0919, acc=50.2]\n",
      "Validation: 100%|██████████| 25/25 [00:00<00:00, 36.29it/s]\n",
      "Validation: 100%|██████████| 25/25 [00:00<00:00, 36.29it/s]\n"
     ]
    },
    {
     "name": "stdout",
     "output_type": "stream",
     "text": [
      "\n",
      "📊 Epoch [4/100] - 45.68s - LR: 0.000300\n",
      "   Train Loss: 0.0911 | Train Acc: 50.25% | Train AUC: 0.4927\n",
      "   Val Loss:   0.0861 | Val Acc:   76.24% | Val AUC:   0.5152\n",
      "   ⏱️ No improvement for 3/25 epochs\n",
      "--------------------------------------------------------------------------------\n"
     ]
    },
    {
     "name": "stderr",
     "output_type": "stream",
     "text": [
      "Training: 100%|██████████| 140/140 [00:52<00:00,  2.68it/s, loss=0.094, acc=50.3] \n",
      "Training: 100%|██████████| 140/140 [00:52<00:00,  2.68it/s, loss=0.094, acc=50.3]\n",
      "Validation: 100%|██████████| 25/25 [00:00<00:00, 36.17it/s]\n",
      "Validation: 100%|██████████| 25/25 [00:00<00:00, 36.17it/s]\n"
     ]
    },
    {
     "name": "stdout",
     "output_type": "stream",
     "text": [
      "\n",
      "📊 Epoch [5/100] - 53.00s - LR: 0.000300\n",
      "   Train Loss: 0.0910 | Train Acc: 50.27% | Train AUC: 0.5113\n",
      "   Val Loss:   0.0889 | Val Acc:   76.24% | Val AUC:   0.5147\n",
      "   ⏱️ No improvement for 4/25 epochs\n",
      "--------------------------------------------------------------------------------\n"
     ]
    },
    {
     "name": "stderr",
     "output_type": "stream",
     "text": [
      "Training: 100%|██████████| 140/140 [00:53<00:00,  2.61it/s, loss=0.0917, acc=50]  \n",
      "Training: 100%|██████████| 140/140 [00:53<00:00,  2.61it/s, loss=0.0917, acc=50]\n",
      "Validation: 100%|██████████| 25/25 [00:00<00:00, 36.34it/s]\n",
      "\n"
     ]
    },
    {
     "name": "stdout",
     "output_type": "stream",
     "text": [
      "\n",
      "📊 Epoch [6/100] - 54.33s - LR: 0.000299\n",
      "   Train Loss: 0.0911 | Train Acc: 49.96% | Train AUC: 0.4963\n",
      "   Val Loss:   0.0886 | Val Acc:   76.24% | Val AUC:   0.4984\n",
      "   ⏱️ No improvement for 5/25 epochs\n",
      "--------------------------------------------------------------------------------\n"
     ]
    },
    {
     "name": "stderr",
     "output_type": "stream",
     "text": [
      "Training: 100%|██████████| 140/140 [00:52<00:00,  2.65it/s, loss=0.0912, acc=48.7]\n",
      "Training: 100%|██████████| 140/140 [00:52<00:00,  2.65it/s, loss=0.0912, acc=48.7]\n",
      "Validation: 100%|██████████| 25/25 [00:00<00:00, 36.03it/s]\n",
      "\n"
     ]
    },
    {
     "name": "stdout",
     "output_type": "stream",
     "text": [
      "\n",
      "📊 Epoch [7/100] - 53.51s - LR: 0.000299\n",
      "   Train Loss: 0.0911 | Train Acc: 48.72% | Train AUC: 0.4976\n",
      "   Val Loss:   0.0896 | Val Acc:   76.24% | Val AUC:   0.4970\n",
      "   ⏱️ No improvement for 6/25 epochs\n",
      "--------------------------------------------------------------------------------\n"
     ]
    },
    {
     "name": "stderr",
     "output_type": "stream",
     "text": [
      "Training: 100%|██████████| 140/140 [00:54<00:00,  2.58it/s, loss=0.0883, acc=50.1]\n",
      "Training: 100%|██████████| 140/140 [00:54<00:00,  2.58it/s, loss=0.0883, acc=50.1]\n",
      "Validation: 100%|██████████| 25/25 [00:00<00:00, 37.40it/s]\n",
      "Validation: 100%|██████████| 25/25 [00:00<00:00, 37.40it/s]\n"
     ]
    },
    {
     "name": "stdout",
     "output_type": "stream",
     "text": [
      "\n",
      "📊 Epoch [8/100] - 55.04s - LR: 0.000298\n",
      "   Train Loss: 0.0909 | Train Acc: 50.07% | Train AUC: 0.4996\n",
      "   Val Loss:   0.0883 | Val Acc:   76.24% | Val AUC:   0.4994\n",
      "   ⏱️ No improvement for 7/25 epochs\n",
      "--------------------------------------------------------------------------------\n"
     ]
    },
    {
     "name": "stderr",
     "output_type": "stream",
     "text": [
      "Training: 100%|██████████| 140/140 [00:54<00:00,  2.55it/s, loss=0.0915, acc=50.4]\n",
      "Training: 100%|██████████| 140/140 [00:54<00:00,  2.55it/s, loss=0.0915, acc=50.4]\n",
      "Validation: 100%|██████████| 25/25 [00:00<00:00, 35.56it/s]\n",
      "Validation: 100%|██████████| 25/25 [00:00<00:00, 35.56it/s]\n"
     ]
    },
    {
     "name": "stdout",
     "output_type": "stream",
     "text": [
      "\n",
      "📊 Epoch [9/100] - 55.59s - LR: 0.000297\n",
      "   Train Loss: 0.0909 | Train Acc: 50.38% | Train AUC: 0.4965\n",
      "   Val Loss:   0.0867 | Val Acc:   76.24% | Val AUC:   0.4891\n",
      "   ⏱️ No improvement for 8/25 epochs\n",
      "--------------------------------------------------------------------------------\n"
     ]
    },
    {
     "name": "stderr",
     "output_type": "stream",
     "text": [
      "Training: 100%|██████████| 140/140 [00:54<00:00,  2.56it/s, loss=0.0876, acc=49.7]\n",
      "Training: 100%|██████████| 140/140 [00:54<00:00,  2.56it/s, loss=0.0876, acc=49.7]\n",
      "Validation: 100%|██████████| 25/25 [00:00<00:00, 34.86it/s]\n",
      "\n"
     ]
    },
    {
     "name": "stdout",
     "output_type": "stream",
     "text": [
      "\n",
      "📊 Epoch [10/100] - 55.46s - LR: 0.000296\n",
      "   Train Loss: 0.0910 | Train Acc: 49.71% | Train AUC: 0.4966\n",
      "   Val Loss:   0.0893 | Val Acc:   76.24% | Val AUC:   0.4880\n",
      "   ⏱️ No improvement for 9/25 epochs\n",
      "--------------------------------------------------------------------------------\n"
     ]
    },
    {
     "name": "stderr",
     "output_type": "stream",
     "text": [
      "Training: 100%|██████████| 140/140 [00:55<00:00,  2.54it/s, loss=0.0937, acc=49.8]\n",
      "Training: 100%|██████████| 140/140 [00:55<00:00,  2.54it/s, loss=0.0937, acc=49.8]\n",
      "Validation: 100%|██████████| 25/25 [00:00<00:00, 36.71it/s]\n",
      "Validation: 100%|██████████| 25/25 [00:00<00:00, 36.71it/s]\n"
     ]
    },
    {
     "name": "stdout",
     "output_type": "stream",
     "text": [
      "\n",
      "📊 Epoch [11/100] - 55.72s - LR: 0.000295\n",
      "   Train Loss: 0.0910 | Train Acc: 49.80% | Train AUC: 0.4939\n",
      "   Val Loss:   0.0884 | Val Acc:   76.24% | Val AUC:   0.4682\n",
      "   ⏱️ No improvement for 10/25 epochs\n",
      "--------------------------------------------------------------------------------\n"
     ]
    },
    {
     "name": "stderr",
     "output_type": "stream",
     "text": [
      "Training: 100%|██████████| 140/140 [01:09<00:00,  2.02it/s, loss=0.0914, acc=51.5]\n",
      "Training: 100%|██████████| 140/140 [01:09<00:00,  2.02it/s, loss=0.0914, acc=51.5]\n",
      "Validation: 100%|██████████| 25/25 [00:01<00:00, 12.88it/s]\n",
      "Validation: 100%|██████████| 25/25 [00:01<00:00, 12.88it/s]\n"
     ]
    },
    {
     "name": "stdout",
     "output_type": "stream",
     "text": [
      "\n",
      "📊 Epoch [12/100] - 71.37s - LR: 0.000294\n",
      "   Train Loss: 0.0907 | Train Acc: 51.46% | Train AUC: 0.5041\n",
      "   Val Loss:   0.0863 | Val Acc:   76.24% | Val AUC:   0.4670\n",
      "   ⏱️ No improvement for 11/25 epochs\n",
      "--------------------------------------------------------------------------------\n"
     ]
    },
    {
     "name": "stderr",
     "output_type": "stream",
     "text": [
      "Training: 100%|██████████| 140/140 [00:39<00:00,  3.56it/s, loss=0.093, acc=48.6] \n",
      "Training: 100%|██████████| 140/140 [00:39<00:00,  3.56it/s, loss=0.093, acc=48.6] \n",
      "Validation: 100%|██████████| 25/25 [00:00<00:00, 42.40it/s]\n",
      "Validation: 100%|██████████| 25/25 [00:00<00:00, 42.40it/s]\n"
     ]
    },
    {
     "name": "stdout",
     "output_type": "stream",
     "text": [
      "\n",
      "📊 Epoch [13/100] - 39.89s - LR: 0.000292\n",
      "   Train Loss: 0.0910 | Train Acc: 48.61% | Train AUC: 0.5014\n",
      "   Val Loss:   0.0885 | Val Acc:   76.24% | Val AUC:   0.5151\n",
      "   ⏱️ No improvement for 12/25 epochs\n",
      "--------------------------------------------------------------------------------\n"
     ]
    },
    {
     "name": "stderr",
     "output_type": "stream",
     "text": [
      "Training: 100%|██████████| 140/140 [00:32<00:00,  4.33it/s, loss=0.0866, acc=50.9]\n",
      "Training: 100%|██████████| 140/140 [00:32<00:00,  4.33it/s, loss=0.0866, acc=50.9]\n",
      "Validation: 100%|██████████| 25/25 [00:00<00:00, 42.28it/s]\n",
      "Validation: 100%|██████████| 25/25 [00:00<00:00, 42.28it/s]\n"
     ]
    },
    {
     "name": "stdout",
     "output_type": "stream",
     "text": [
      "\n",
      "📊 Epoch [14/100] - 32.93s - LR: 0.000291\n",
      "   Train Loss: 0.0908 | Train Acc: 50.90% | Train AUC: 0.4977\n",
      "   Val Loss:   0.0871 | Val Acc:   76.24% | Val AUC:   0.5147\n",
      "   ⏱️ No improvement for 13/25 epochs\n",
      "--------------------------------------------------------------------------------\n"
     ]
    },
    {
     "name": "stderr",
     "output_type": "stream",
     "text": [
      "Training: 100%|██████████| 140/140 [00:31<00:00,  4.38it/s, loss=0.0912, acc=49.5]\n",
      "Training: 100%|██████████| 140/140 [00:31<00:00,  4.38it/s, loss=0.0912, acc=49.5]\n",
      "Validation: 100%|██████████| 25/25 [00:00<00:00, 42.39it/s]\n",
      "Validation: 100%|██████████| 25/25 [00:00<00:00, 42.39it/s]\n"
     ]
    },
    {
     "name": "stdout",
     "output_type": "stream",
     "text": [
      "\n",
      "📊 Epoch [15/100] - 32.58s - LR: 0.000289\n",
      "   Train Loss: 0.0909 | Train Acc: 49.48% | Train AUC: 0.5071\n",
      "   Val Loss:   0.0888 | Val Acc:   76.24% | Val AUC:   0.5003\n",
      "   ⏱️ No improvement for 14/25 epochs\n",
      "--------------------------------------------------------------------------------\n"
     ]
    },
    {
     "name": "stderr",
     "output_type": "stream",
     "text": [
      "Training: 100%|██████████| 140/140 [00:32<00:00,  4.30it/s, loss=0.0906, acc=50]  \n",
      "Training: 100%|██████████| 140/140 [00:32<00:00,  4.30it/s, loss=0.0906, acc=50]\n",
      "Validation: 100%|██████████| 25/25 [00:00<00:00, 40.52it/s]\n",
      "Validation: 100%|██████████| 25/25 [00:00<00:00, 40.52it/s]\n"
     ]
    },
    {
     "name": "stdout",
     "output_type": "stream",
     "text": [
      "\n",
      "📊 Epoch [16/100] - 33.17s - LR: 0.000287\n",
      "   Train Loss: 0.0909 | Train Acc: 50.00% | Train AUC: 0.5044\n",
      "   Val Loss:   0.0881 | Val Acc:   76.24% | Val AUC:   0.5001\n",
      "   ⏱️ No improvement for 15/25 epochs\n",
      "--------------------------------------------------------------------------------\n"
     ]
    },
    {
     "name": "stderr",
     "output_type": "stream",
     "text": [
      "Training: 100%|██████████| 140/140 [00:37<00:00,  3.77it/s, loss=0.0883, acc=49.8]\n",
      "Training: 100%|██████████| 140/140 [00:37<00:00,  3.77it/s, loss=0.0883, acc=49.8]\n",
      "Validation: 100%|██████████| 25/25 [00:00<00:00, 38.41it/s]\n",
      "\n"
     ]
    },
    {
     "name": "stdout",
     "output_type": "stream",
     "text": [
      "\n",
      "📊 Epoch [17/100] - 37.82s - LR: 0.000285\n",
      "   Train Loss: 0.0909 | Train Acc: 49.84% | Train AUC: 0.5019\n",
      "   Val Loss:   0.0882 | Val Acc:   76.24% | Val AUC:   0.5063\n",
      "   ⏱️ No improvement for 16/25 epochs\n",
      "--------------------------------------------------------------------------------\n"
     ]
    },
    {
     "name": "stderr",
     "output_type": "stream",
     "text": [
      "Training: 100%|██████████| 140/140 [00:48<00:00,  2.91it/s, loss=0.0907, acc=49.3]\n",
      "Training: 100%|██████████| 140/140 [00:48<00:00,  2.91it/s, loss=0.0907, acc=49.3]\n",
      "Validation: 100%|██████████| 25/25 [00:00<00:00, 35.12it/s]\n",
      "Validation: 100%|██████████| 25/25 [00:00<00:00, 35.12it/s]\n"
     ]
    },
    {
     "name": "stdout",
     "output_type": "stream",
     "text": [
      "\n",
      "📊 Epoch [18/100] - 48.84s - LR: 0.000283\n",
      "   Train Loss: 0.0909 | Train Acc: 49.28% | Train AUC: 0.5079\n",
      "   Val Loss:   0.0889 | Val Acc:   76.24% | Val AUC:   0.4825\n",
      "   ⏱️ No improvement for 17/25 epochs\n",
      "--------------------------------------------------------------------------------\n"
     ]
    },
    {
     "name": "stderr",
     "output_type": "stream",
     "text": [
      "Training: 100%|██████████| 140/140 [00:54<00:00,  2.58it/s, loss=0.0898, acc=48.4]\n",
      "Training: 100%|██████████| 140/140 [00:54<00:00,  2.58it/s, loss=0.0898, acc=48.4]\n",
      "Validation: 100%|██████████| 25/25 [00:00<00:00, 35.26it/s]\n",
      "Validation: 100%|██████████| 25/25 [00:00<00:00, 35.26it/s]\n"
     ]
    },
    {
     "name": "stdout",
     "output_type": "stream",
     "text": [
      "🚀 Starting training...\n",
      "📊 Training for up to 100 epochs\n",
      "⏱️ Early stopping patience: 25 epochs\n",
      "🔥 Using device: cuda\n",
      "================================================================================\n"
     ]
    },
    {
     "name": "stderr",
     "output_type": "stream",
     "text": [
      "Training: 100%|██████████| 140/140 [00:43<00:00,  3.18it/s, loss=0.0957, acc=49.2]\n",
      "Training: 100%|██████████| 140/140 [00:43<00:00,  3.18it/s, loss=0.0957, acc=49.2]\n",
      "Validation: 100%|██████████| 25/25 [00:00<00:00, 37.42it/s]\n",
      "\n"
     ]
    },
    {
     "name": "stdout",
     "output_type": "stream",
     "text": [
      "\n",
      "📊 Epoch [1/100] - 44.66s - LR: 0.000200\n",
      "   Train Loss: 0.0920 | Train Acc: 49.19% | Train AUC: 0.4932\n",
      "   Val Loss:   0.0868 | Val Acc:   76.24% | Val AUC:   0.5226\n",
      "   ✅ New best model saved! (Val AUC: 0.5226)\n",
      "--------------------------------------------------------------------------------\n"
     ]
    },
    {
     "name": "stderr",
     "output_type": "stream",
     "text": [
      "Training: 100%|██████████| 140/140 [00:40<00:00,  3.48it/s, loss=0.09, acc=49.2]  \n",
      "Training: 100%|██████████| 140/140 [00:40<00:00,  3.48it/s, loss=0.09, acc=49.2]  \n",
      "Validation: 100%|██████████| 25/25 [00:00<00:00, 43.26it/s]\n",
      "Validation: 100%|██████████| 25/25 [00:00<00:00, 43.26it/s]\n"
     ]
    },
    {
     "name": "stdout",
     "output_type": "stream",
     "text": [
      "\n",
      "📊 Epoch [2/100] - 40.80s - LR: 0.000300\n",
      "   Train Loss: 0.0916 | Train Acc: 49.21% | Train AUC: 0.4915\n",
      "   Val Loss:   0.0894 | Val Acc:   76.24% | Val AUC:   0.5081\n",
      "   ⏱️ No improvement for 1/25 epochs\n",
      "--------------------------------------------------------------------------------\n"
     ]
    },
    {
     "name": "stderr",
     "output_type": "stream",
     "text": [
      "Training: 100%|██████████| 140/140 [00:30<00:00,  4.55it/s, loss=0.0904, acc=49.6]\n",
      "Training: 100%|██████████| 140/140 [00:30<00:00,  4.55it/s, loss=0.0904, acc=49.6]\n",
      "Validation: 100%|██████████| 25/25 [00:00<00:00, 42.49it/s]\n",
      "Validation: 100%|██████████| 25/25 [00:00<00:00, 42.49it/s]\n"
     ]
    },
    {
     "name": "stdout",
     "output_type": "stream",
     "text": [
      "\n",
      "📊 Epoch [3/100] - 31.35s - LR: 0.000300\n",
      "   Train Loss: 0.0912 | Train Acc: 49.57% | Train AUC: 0.5020\n",
      "   Val Loss:   0.0866 | Val Acc:   76.24% | Val AUC:   0.5084\n",
      "   ⏱️ No improvement for 2/25 epochs\n",
      "--------------------------------------------------------------------------------\n"
     ]
    },
    {
     "name": "stderr",
     "output_type": "stream",
     "text": [
      "Training: 100%|██████████| 140/140 [00:44<00:00,  3.11it/s, loss=0.0919, acc=50.2]\n",
      "Training: 100%|██████████| 140/140 [00:44<00:00,  3.11it/s, loss=0.0919, acc=50.2]\n",
      "Validation: 100%|██████████| 25/25 [00:00<00:00, 36.29it/s]\n",
      "Validation: 100%|██████████| 25/25 [00:00<00:00, 36.29it/s]\n"
     ]
    },
    {
     "name": "stdout",
     "output_type": "stream",
     "text": [
      "\n",
      "📊 Epoch [4/100] - 45.68s - LR: 0.000300\n",
      "   Train Loss: 0.0911 | Train Acc: 50.25% | Train AUC: 0.4927\n",
      "   Val Loss:   0.0861 | Val Acc:   76.24% | Val AUC:   0.5152\n",
      "   ⏱️ No improvement for 3/25 epochs\n",
      "--------------------------------------------------------------------------------\n"
     ]
    },
    {
     "name": "stderr",
     "output_type": "stream",
     "text": [
      "Training: 100%|██████████| 140/140 [00:52<00:00,  2.68it/s, loss=0.094, acc=50.3] \n",
      "Training: 100%|██████████| 140/140 [00:52<00:00,  2.68it/s, loss=0.094, acc=50.3]\n",
      "Validation: 100%|██████████| 25/25 [00:00<00:00, 36.17it/s]\n",
      "Validation: 100%|██████████| 25/25 [00:00<00:00, 36.17it/s]\n"
     ]
    },
    {
     "name": "stdout",
     "output_type": "stream",
     "text": [
      "\n",
      "📊 Epoch [5/100] - 53.00s - LR: 0.000300\n",
      "   Train Loss: 0.0910 | Train Acc: 50.27% | Train AUC: 0.5113\n",
      "   Val Loss:   0.0889 | Val Acc:   76.24% | Val AUC:   0.5147\n",
      "   ⏱️ No improvement for 4/25 epochs\n",
      "--------------------------------------------------------------------------------\n"
     ]
    },
    {
     "name": "stderr",
     "output_type": "stream",
     "text": [
      "Training: 100%|██████████| 140/140 [00:53<00:00,  2.61it/s, loss=0.0917, acc=50]  \n",
      "Training: 100%|██████████| 140/140 [00:53<00:00,  2.61it/s, loss=0.0917, acc=50]\n",
      "Validation: 100%|██████████| 25/25 [00:00<00:00, 36.34it/s]\n",
      "\n"
     ]
    },
    {
     "name": "stdout",
     "output_type": "stream",
     "text": [
      "\n",
      "📊 Epoch [6/100] - 54.33s - LR: 0.000299\n",
      "   Train Loss: 0.0911 | Train Acc: 49.96% | Train AUC: 0.4963\n",
      "   Val Loss:   0.0886 | Val Acc:   76.24% | Val AUC:   0.4984\n",
      "   ⏱️ No improvement for 5/25 epochs\n",
      "--------------------------------------------------------------------------------\n"
     ]
    },
    {
     "name": "stderr",
     "output_type": "stream",
     "text": [
      "Training: 100%|██████████| 140/140 [00:52<00:00,  2.65it/s, loss=0.0912, acc=48.7]\n",
      "Training: 100%|██████████| 140/140 [00:52<00:00,  2.65it/s, loss=0.0912, acc=48.7]\n",
      "Validation: 100%|██████████| 25/25 [00:00<00:00, 36.03it/s]\n",
      "\n"
     ]
    },
    {
     "name": "stdout",
     "output_type": "stream",
     "text": [
      "\n",
      "📊 Epoch [7/100] - 53.51s - LR: 0.000299\n",
      "   Train Loss: 0.0911 | Train Acc: 48.72% | Train AUC: 0.4976\n",
      "   Val Loss:   0.0896 | Val Acc:   76.24% | Val AUC:   0.4970\n",
      "   ⏱️ No improvement for 6/25 epochs\n",
      "--------------------------------------------------------------------------------\n"
     ]
    },
    {
     "name": "stderr",
     "output_type": "stream",
     "text": [
      "Training: 100%|██████████| 140/140 [00:54<00:00,  2.58it/s, loss=0.0883, acc=50.1]\n",
      "Training: 100%|██████████| 140/140 [00:54<00:00,  2.58it/s, loss=0.0883, acc=50.1]\n",
      "Validation: 100%|██████████| 25/25 [00:00<00:00, 37.40it/s]\n",
      "Validation: 100%|██████████| 25/25 [00:00<00:00, 37.40it/s]\n"
     ]
    },
    {
     "name": "stdout",
     "output_type": "stream",
     "text": [
      "\n",
      "📊 Epoch [8/100] - 55.04s - LR: 0.000298\n",
      "   Train Loss: 0.0909 | Train Acc: 50.07% | Train AUC: 0.4996\n",
      "   Val Loss:   0.0883 | Val Acc:   76.24% | Val AUC:   0.4994\n",
      "   ⏱️ No improvement for 7/25 epochs\n",
      "--------------------------------------------------------------------------------\n"
     ]
    },
    {
     "name": "stderr",
     "output_type": "stream",
     "text": [
      "Training: 100%|██████████| 140/140 [00:54<00:00,  2.55it/s, loss=0.0915, acc=50.4]\n",
      "Training: 100%|██████████| 140/140 [00:54<00:00,  2.55it/s, loss=0.0915, acc=50.4]\n",
      "Validation: 100%|██████████| 25/25 [00:00<00:00, 35.56it/s]\n",
      "Validation: 100%|██████████| 25/25 [00:00<00:00, 35.56it/s]\n"
     ]
    },
    {
     "name": "stdout",
     "output_type": "stream",
     "text": [
      "\n",
      "📊 Epoch [9/100] - 55.59s - LR: 0.000297\n",
      "   Train Loss: 0.0909 | Train Acc: 50.38% | Train AUC: 0.4965\n",
      "   Val Loss:   0.0867 | Val Acc:   76.24% | Val AUC:   0.4891\n",
      "   ⏱️ No improvement for 8/25 epochs\n",
      "--------------------------------------------------------------------------------\n"
     ]
    },
    {
     "name": "stderr",
     "output_type": "stream",
     "text": [
      "Training: 100%|██████████| 140/140 [00:54<00:00,  2.56it/s, loss=0.0876, acc=49.7]\n",
      "Training: 100%|██████████| 140/140 [00:54<00:00,  2.56it/s, loss=0.0876, acc=49.7]\n",
      "Validation: 100%|██████████| 25/25 [00:00<00:00, 34.86it/s]\n",
      "\n"
     ]
    },
    {
     "name": "stdout",
     "output_type": "stream",
     "text": [
      "\n",
      "📊 Epoch [10/100] - 55.46s - LR: 0.000296\n",
      "   Train Loss: 0.0910 | Train Acc: 49.71% | Train AUC: 0.4966\n",
      "   Val Loss:   0.0893 | Val Acc:   76.24% | Val AUC:   0.4880\n",
      "   ⏱️ No improvement for 9/25 epochs\n",
      "--------------------------------------------------------------------------------\n"
     ]
    },
    {
     "name": "stderr",
     "output_type": "stream",
     "text": [
      "Training: 100%|██████████| 140/140 [00:55<00:00,  2.54it/s, loss=0.0937, acc=49.8]\n",
      "Training: 100%|██████████| 140/140 [00:55<00:00,  2.54it/s, loss=0.0937, acc=49.8]\n",
      "Validation: 100%|██████████| 25/25 [00:00<00:00, 36.71it/s]\n",
      "Validation: 100%|██████████| 25/25 [00:00<00:00, 36.71it/s]\n"
     ]
    },
    {
     "name": "stdout",
     "output_type": "stream",
     "text": [
      "\n",
      "📊 Epoch [11/100] - 55.72s - LR: 0.000295\n",
      "   Train Loss: 0.0910 | Train Acc: 49.80% | Train AUC: 0.4939\n",
      "   Val Loss:   0.0884 | Val Acc:   76.24% | Val AUC:   0.4682\n",
      "   ⏱️ No improvement for 10/25 epochs\n",
      "--------------------------------------------------------------------------------\n"
     ]
    },
    {
     "name": "stderr",
     "output_type": "stream",
     "text": [
      "Training: 100%|██████████| 140/140 [01:09<00:00,  2.02it/s, loss=0.0914, acc=51.5]\n",
      "Training: 100%|██████████| 140/140 [01:09<00:00,  2.02it/s, loss=0.0914, acc=51.5]\n",
      "Validation: 100%|██████████| 25/25 [00:01<00:00, 12.88it/s]\n",
      "Validation: 100%|██████████| 25/25 [00:01<00:00, 12.88it/s]\n"
     ]
    },
    {
     "name": "stdout",
     "output_type": "stream",
     "text": [
      "\n",
      "📊 Epoch [12/100] - 71.37s - LR: 0.000294\n",
      "   Train Loss: 0.0907 | Train Acc: 51.46% | Train AUC: 0.5041\n",
      "   Val Loss:   0.0863 | Val Acc:   76.24% | Val AUC:   0.4670\n",
      "   ⏱️ No improvement for 11/25 epochs\n",
      "--------------------------------------------------------------------------------\n"
     ]
    },
    {
     "name": "stderr",
     "output_type": "stream",
     "text": [
      "Training: 100%|██████████| 140/140 [00:39<00:00,  3.56it/s, loss=0.093, acc=48.6] \n",
      "Training: 100%|██████████| 140/140 [00:39<00:00,  3.56it/s, loss=0.093, acc=48.6] \n",
      "Validation: 100%|██████████| 25/25 [00:00<00:00, 42.40it/s]\n",
      "Validation: 100%|██████████| 25/25 [00:00<00:00, 42.40it/s]\n"
     ]
    },
    {
     "name": "stdout",
     "output_type": "stream",
     "text": [
      "\n",
      "📊 Epoch [13/100] - 39.89s - LR: 0.000292\n",
      "   Train Loss: 0.0910 | Train Acc: 48.61% | Train AUC: 0.5014\n",
      "   Val Loss:   0.0885 | Val Acc:   76.24% | Val AUC:   0.5151\n",
      "   ⏱️ No improvement for 12/25 epochs\n",
      "--------------------------------------------------------------------------------\n"
     ]
    },
    {
     "name": "stderr",
     "output_type": "stream",
     "text": [
      "Training: 100%|██████████| 140/140 [00:32<00:00,  4.33it/s, loss=0.0866, acc=50.9]\n",
      "Training: 100%|██████████| 140/140 [00:32<00:00,  4.33it/s, loss=0.0866, acc=50.9]\n",
      "Validation: 100%|██████████| 25/25 [00:00<00:00, 42.28it/s]\n",
      "Validation: 100%|██████████| 25/25 [00:00<00:00, 42.28it/s]\n"
     ]
    },
    {
     "name": "stdout",
     "output_type": "stream",
     "text": [
      "\n",
      "📊 Epoch [14/100] - 32.93s - LR: 0.000291\n",
      "   Train Loss: 0.0908 | Train Acc: 50.90% | Train AUC: 0.4977\n",
      "   Val Loss:   0.0871 | Val Acc:   76.24% | Val AUC:   0.5147\n",
      "   ⏱️ No improvement for 13/25 epochs\n",
      "--------------------------------------------------------------------------------\n"
     ]
    },
    {
     "name": "stderr",
     "output_type": "stream",
     "text": [
      "Training: 100%|██████████| 140/140 [00:31<00:00,  4.38it/s, loss=0.0912, acc=49.5]\n",
      "Training: 100%|██████████| 140/140 [00:31<00:00,  4.38it/s, loss=0.0912, acc=49.5]\n",
      "Validation: 100%|██████████| 25/25 [00:00<00:00, 42.39it/s]\n",
      "Validation: 100%|██████████| 25/25 [00:00<00:00, 42.39it/s]\n"
     ]
    },
    {
     "name": "stdout",
     "output_type": "stream",
     "text": [
      "\n",
      "📊 Epoch [15/100] - 32.58s - LR: 0.000289\n",
      "   Train Loss: 0.0909 | Train Acc: 49.48% | Train AUC: 0.5071\n",
      "   Val Loss:   0.0888 | Val Acc:   76.24% | Val AUC:   0.5003\n",
      "   ⏱️ No improvement for 14/25 epochs\n",
      "--------------------------------------------------------------------------------\n"
     ]
    },
    {
     "name": "stderr",
     "output_type": "stream",
     "text": [
      "Training: 100%|██████████| 140/140 [00:32<00:00,  4.30it/s, loss=0.0906, acc=50]  \n",
      "Training: 100%|██████████| 140/140 [00:32<00:00,  4.30it/s, loss=0.0906, acc=50]\n",
      "Validation: 100%|██████████| 25/25 [00:00<00:00, 40.52it/s]\n",
      "Validation: 100%|██████████| 25/25 [00:00<00:00, 40.52it/s]\n"
     ]
    },
    {
     "name": "stdout",
     "output_type": "stream",
     "text": [
      "\n",
      "📊 Epoch [16/100] - 33.17s - LR: 0.000287\n",
      "   Train Loss: 0.0909 | Train Acc: 50.00% | Train AUC: 0.5044\n",
      "   Val Loss:   0.0881 | Val Acc:   76.24% | Val AUC:   0.5001\n",
      "   ⏱️ No improvement for 15/25 epochs\n",
      "--------------------------------------------------------------------------------\n"
     ]
    },
    {
     "name": "stderr",
     "output_type": "stream",
     "text": [
      "Training: 100%|██████████| 140/140 [00:37<00:00,  3.77it/s, loss=0.0883, acc=49.8]\n",
      "Training: 100%|██████████| 140/140 [00:37<00:00,  3.77it/s, loss=0.0883, acc=49.8]\n",
      "Validation: 100%|██████████| 25/25 [00:00<00:00, 38.41it/s]\n",
      "\n"
     ]
    },
    {
     "name": "stdout",
     "output_type": "stream",
     "text": [
      "\n",
      "📊 Epoch [17/100] - 37.82s - LR: 0.000285\n",
      "   Train Loss: 0.0909 | Train Acc: 49.84% | Train AUC: 0.5019\n",
      "   Val Loss:   0.0882 | Val Acc:   76.24% | Val AUC:   0.5063\n",
      "   ⏱️ No improvement for 16/25 epochs\n",
      "--------------------------------------------------------------------------------\n"
     ]
    },
    {
     "name": "stderr",
     "output_type": "stream",
     "text": [
      "Training: 100%|██████████| 140/140 [00:48<00:00,  2.91it/s, loss=0.0907, acc=49.3]\n",
      "Training: 100%|██████████| 140/140 [00:48<00:00,  2.91it/s, loss=0.0907, acc=49.3]\n",
      "Validation: 100%|██████████| 25/25 [00:00<00:00, 35.12it/s]\n",
      "Validation: 100%|██████████| 25/25 [00:00<00:00, 35.12it/s]\n"
     ]
    },
    {
     "name": "stdout",
     "output_type": "stream",
     "text": [
      "\n",
      "📊 Epoch [18/100] - 48.84s - LR: 0.000283\n",
      "   Train Loss: 0.0909 | Train Acc: 49.28% | Train AUC: 0.5079\n",
      "   Val Loss:   0.0889 | Val Acc:   76.24% | Val AUC:   0.4825\n",
      "   ⏱️ No improvement for 17/25 epochs\n",
      "--------------------------------------------------------------------------------\n"
     ]
    },
    {
     "name": "stderr",
     "output_type": "stream",
     "text": [
      "Training: 100%|██████████| 140/140 [00:54<00:00,  2.58it/s, loss=0.0898, acc=48.4]\n",
      "Training: 100%|██████████| 140/140 [00:54<00:00,  2.58it/s, loss=0.0898, acc=48.4]\n",
      "Validation: 100%|██████████| 25/25 [00:00<00:00, 35.26it/s]\n",
      "Validation: 100%|██████████| 25/25 [00:00<00:00, 35.26it/s]\n"
     ]
    },
    {
     "name": "stdout",
     "output_type": "stream",
     "text": [
      "\n",
      "📊 Epoch [19/100] - 54.91s - LR: 0.000280\n",
      "   Train Loss: 0.0910 | Train Acc: 48.36% | Train AUC: 0.5000\n",
      "   Val Loss:   0.0893 | Val Acc:   76.24% | Val AUC:   0.5036\n",
      "   ⏱️ No improvement for 18/25 epochs\n",
      "--------------------------------------------------------------------------------\n"
     ]
    },
    {
     "name": "stderr",
     "output_type": "stream",
     "text": [
      "Training: 100%|██████████| 140/140 [00:54<00:00,  2.59it/s, loss=0.0916, acc=49.2]\n",
      "Training: 100%|██████████| 140/140 [00:54<00:00,  2.59it/s, loss=0.0916, acc=49.2]\n",
      "Validation: 100%|██████████| 25/25 [00:00<00:00, 35.36it/s]\n",
      "\n"
     ]
    },
    {
     "name": "stdout",
     "output_type": "stream",
     "text": [
      "🚀 Starting training...\n",
      "📊 Training for up to 100 epochs\n",
      "⏱️ Early stopping patience: 25 epochs\n",
      "🔥 Using device: cuda\n",
      "================================================================================\n"
     ]
    },
    {
     "name": "stderr",
     "output_type": "stream",
     "text": [
      "Training: 100%|██████████| 140/140 [00:43<00:00,  3.18it/s, loss=0.0957, acc=49.2]\n",
      "Training: 100%|██████████| 140/140 [00:43<00:00,  3.18it/s, loss=0.0957, acc=49.2]\n",
      "Validation: 100%|██████████| 25/25 [00:00<00:00, 37.42it/s]\n",
      "\n"
     ]
    },
    {
     "name": "stdout",
     "output_type": "stream",
     "text": [
      "\n",
      "📊 Epoch [1/100] - 44.66s - LR: 0.000200\n",
      "   Train Loss: 0.0920 | Train Acc: 49.19% | Train AUC: 0.4932\n",
      "   Val Loss:   0.0868 | Val Acc:   76.24% | Val AUC:   0.5226\n",
      "   ✅ New best model saved! (Val AUC: 0.5226)\n",
      "--------------------------------------------------------------------------------\n"
     ]
    },
    {
     "name": "stderr",
     "output_type": "stream",
     "text": [
      "Training: 100%|██████████| 140/140 [00:40<00:00,  3.48it/s, loss=0.09, acc=49.2]  \n",
      "Training: 100%|██████████| 140/140 [00:40<00:00,  3.48it/s, loss=0.09, acc=49.2]  \n",
      "Validation: 100%|██████████| 25/25 [00:00<00:00, 43.26it/s]\n",
      "Validation: 100%|██████████| 25/25 [00:00<00:00, 43.26it/s]\n"
     ]
    },
    {
     "name": "stdout",
     "output_type": "stream",
     "text": [
      "\n",
      "📊 Epoch [2/100] - 40.80s - LR: 0.000300\n",
      "   Train Loss: 0.0916 | Train Acc: 49.21% | Train AUC: 0.4915\n",
      "   Val Loss:   0.0894 | Val Acc:   76.24% | Val AUC:   0.5081\n",
      "   ⏱️ No improvement for 1/25 epochs\n",
      "--------------------------------------------------------------------------------\n"
     ]
    },
    {
     "name": "stderr",
     "output_type": "stream",
     "text": [
      "Training: 100%|██████████| 140/140 [00:30<00:00,  4.55it/s, loss=0.0904, acc=49.6]\n",
      "Training: 100%|██████████| 140/140 [00:30<00:00,  4.55it/s, loss=0.0904, acc=49.6]\n",
      "Validation: 100%|██████████| 25/25 [00:00<00:00, 42.49it/s]\n",
      "Validation: 100%|██████████| 25/25 [00:00<00:00, 42.49it/s]\n"
     ]
    },
    {
     "name": "stdout",
     "output_type": "stream",
     "text": [
      "\n",
      "📊 Epoch [3/100] - 31.35s - LR: 0.000300\n",
      "   Train Loss: 0.0912 | Train Acc: 49.57% | Train AUC: 0.5020\n",
      "   Val Loss:   0.0866 | Val Acc:   76.24% | Val AUC:   0.5084\n",
      "   ⏱️ No improvement for 2/25 epochs\n",
      "--------------------------------------------------------------------------------\n"
     ]
    },
    {
     "name": "stderr",
     "output_type": "stream",
     "text": [
      "Training: 100%|██████████| 140/140 [00:44<00:00,  3.11it/s, loss=0.0919, acc=50.2]\n",
      "Training: 100%|██████████| 140/140 [00:44<00:00,  3.11it/s, loss=0.0919, acc=50.2]\n",
      "Validation: 100%|██████████| 25/25 [00:00<00:00, 36.29it/s]\n",
      "Validation: 100%|██████████| 25/25 [00:00<00:00, 36.29it/s]\n"
     ]
    },
    {
     "name": "stdout",
     "output_type": "stream",
     "text": [
      "\n",
      "📊 Epoch [4/100] - 45.68s - LR: 0.000300\n",
      "   Train Loss: 0.0911 | Train Acc: 50.25% | Train AUC: 0.4927\n",
      "   Val Loss:   0.0861 | Val Acc:   76.24% | Val AUC:   0.5152\n",
      "   ⏱️ No improvement for 3/25 epochs\n",
      "--------------------------------------------------------------------------------\n"
     ]
    },
    {
     "name": "stderr",
     "output_type": "stream",
     "text": [
      "Training: 100%|██████████| 140/140 [00:52<00:00,  2.68it/s, loss=0.094, acc=50.3] \n",
      "Training: 100%|██████████| 140/140 [00:52<00:00,  2.68it/s, loss=0.094, acc=50.3]\n",
      "Validation: 100%|██████████| 25/25 [00:00<00:00, 36.17it/s]\n",
      "Validation: 100%|██████████| 25/25 [00:00<00:00, 36.17it/s]\n"
     ]
    },
    {
     "name": "stdout",
     "output_type": "stream",
     "text": [
      "\n",
      "📊 Epoch [5/100] - 53.00s - LR: 0.000300\n",
      "   Train Loss: 0.0910 | Train Acc: 50.27% | Train AUC: 0.5113\n",
      "   Val Loss:   0.0889 | Val Acc:   76.24% | Val AUC:   0.5147\n",
      "   ⏱️ No improvement for 4/25 epochs\n",
      "--------------------------------------------------------------------------------\n"
     ]
    },
    {
     "name": "stderr",
     "output_type": "stream",
     "text": [
      "Training: 100%|██████████| 140/140 [00:53<00:00,  2.61it/s, loss=0.0917, acc=50]  \n",
      "Training: 100%|██████████| 140/140 [00:53<00:00,  2.61it/s, loss=0.0917, acc=50]\n",
      "Validation: 100%|██████████| 25/25 [00:00<00:00, 36.34it/s]\n",
      "\n"
     ]
    },
    {
     "name": "stdout",
     "output_type": "stream",
     "text": [
      "\n",
      "📊 Epoch [6/100] - 54.33s - LR: 0.000299\n",
      "   Train Loss: 0.0911 | Train Acc: 49.96% | Train AUC: 0.4963\n",
      "   Val Loss:   0.0886 | Val Acc:   76.24% | Val AUC:   0.4984\n",
      "   ⏱️ No improvement for 5/25 epochs\n",
      "--------------------------------------------------------------------------------\n"
     ]
    },
    {
     "name": "stderr",
     "output_type": "stream",
     "text": [
      "Training: 100%|██████████| 140/140 [00:52<00:00,  2.65it/s, loss=0.0912, acc=48.7]\n",
      "Training: 100%|██████████| 140/140 [00:52<00:00,  2.65it/s, loss=0.0912, acc=48.7]\n",
      "Validation: 100%|██████████| 25/25 [00:00<00:00, 36.03it/s]\n",
      "\n"
     ]
    },
    {
     "name": "stdout",
     "output_type": "stream",
     "text": [
      "\n",
      "📊 Epoch [7/100] - 53.51s - LR: 0.000299\n",
      "   Train Loss: 0.0911 | Train Acc: 48.72% | Train AUC: 0.4976\n",
      "   Val Loss:   0.0896 | Val Acc:   76.24% | Val AUC:   0.4970\n",
      "   ⏱️ No improvement for 6/25 epochs\n",
      "--------------------------------------------------------------------------------\n"
     ]
    },
    {
     "name": "stderr",
     "output_type": "stream",
     "text": [
      "Training: 100%|██████████| 140/140 [00:54<00:00,  2.58it/s, loss=0.0883, acc=50.1]\n",
      "Training: 100%|██████████| 140/140 [00:54<00:00,  2.58it/s, loss=0.0883, acc=50.1]\n",
      "Validation: 100%|██████████| 25/25 [00:00<00:00, 37.40it/s]\n",
      "Validation: 100%|██████████| 25/25 [00:00<00:00, 37.40it/s]\n"
     ]
    },
    {
     "name": "stdout",
     "output_type": "stream",
     "text": [
      "\n",
      "📊 Epoch [8/100] - 55.04s - LR: 0.000298\n",
      "   Train Loss: 0.0909 | Train Acc: 50.07% | Train AUC: 0.4996\n",
      "   Val Loss:   0.0883 | Val Acc:   76.24% | Val AUC:   0.4994\n",
      "   ⏱️ No improvement for 7/25 epochs\n",
      "--------------------------------------------------------------------------------\n"
     ]
    },
    {
     "name": "stderr",
     "output_type": "stream",
     "text": [
      "Training: 100%|██████████| 140/140 [00:54<00:00,  2.55it/s, loss=0.0915, acc=50.4]\n",
      "Training: 100%|██████████| 140/140 [00:54<00:00,  2.55it/s, loss=0.0915, acc=50.4]\n",
      "Validation: 100%|██████████| 25/25 [00:00<00:00, 35.56it/s]\n",
      "Validation: 100%|██████████| 25/25 [00:00<00:00, 35.56it/s]\n"
     ]
    },
    {
     "name": "stdout",
     "output_type": "stream",
     "text": [
      "\n",
      "📊 Epoch [9/100] - 55.59s - LR: 0.000297\n",
      "   Train Loss: 0.0909 | Train Acc: 50.38% | Train AUC: 0.4965\n",
      "   Val Loss:   0.0867 | Val Acc:   76.24% | Val AUC:   0.4891\n",
      "   ⏱️ No improvement for 8/25 epochs\n",
      "--------------------------------------------------------------------------------\n"
     ]
    },
    {
     "name": "stderr",
     "output_type": "stream",
     "text": [
      "Training: 100%|██████████| 140/140 [00:54<00:00,  2.56it/s, loss=0.0876, acc=49.7]\n",
      "Training: 100%|██████████| 140/140 [00:54<00:00,  2.56it/s, loss=0.0876, acc=49.7]\n",
      "Validation: 100%|██████████| 25/25 [00:00<00:00, 34.86it/s]\n",
      "\n"
     ]
    },
    {
     "name": "stdout",
     "output_type": "stream",
     "text": [
      "\n",
      "📊 Epoch [10/100] - 55.46s - LR: 0.000296\n",
      "   Train Loss: 0.0910 | Train Acc: 49.71% | Train AUC: 0.4966\n",
      "   Val Loss:   0.0893 | Val Acc:   76.24% | Val AUC:   0.4880\n",
      "   ⏱️ No improvement for 9/25 epochs\n",
      "--------------------------------------------------------------------------------\n"
     ]
    },
    {
     "name": "stderr",
     "output_type": "stream",
     "text": [
      "Training: 100%|██████████| 140/140 [00:55<00:00,  2.54it/s, loss=0.0937, acc=49.8]\n",
      "Training: 100%|██████████| 140/140 [00:55<00:00,  2.54it/s, loss=0.0937, acc=49.8]\n",
      "Validation: 100%|██████████| 25/25 [00:00<00:00, 36.71it/s]\n",
      "Validation: 100%|██████████| 25/25 [00:00<00:00, 36.71it/s]\n"
     ]
    },
    {
     "name": "stdout",
     "output_type": "stream",
     "text": [
      "\n",
      "📊 Epoch [11/100] - 55.72s - LR: 0.000295\n",
      "   Train Loss: 0.0910 | Train Acc: 49.80% | Train AUC: 0.4939\n",
      "   Val Loss:   0.0884 | Val Acc:   76.24% | Val AUC:   0.4682\n",
      "   ⏱️ No improvement for 10/25 epochs\n",
      "--------------------------------------------------------------------------------\n"
     ]
    },
    {
     "name": "stderr",
     "output_type": "stream",
     "text": [
      "Training: 100%|██████████| 140/140 [01:09<00:00,  2.02it/s, loss=0.0914, acc=51.5]\n",
      "Training: 100%|██████████| 140/140 [01:09<00:00,  2.02it/s, loss=0.0914, acc=51.5]\n",
      "Validation: 100%|██████████| 25/25 [00:01<00:00, 12.88it/s]\n",
      "Validation: 100%|██████████| 25/25 [00:01<00:00, 12.88it/s]\n"
     ]
    },
    {
     "name": "stdout",
     "output_type": "stream",
     "text": [
      "\n",
      "📊 Epoch [12/100] - 71.37s - LR: 0.000294\n",
      "   Train Loss: 0.0907 | Train Acc: 51.46% | Train AUC: 0.5041\n",
      "   Val Loss:   0.0863 | Val Acc:   76.24% | Val AUC:   0.4670\n",
      "   ⏱️ No improvement for 11/25 epochs\n",
      "--------------------------------------------------------------------------------\n"
     ]
    },
    {
     "name": "stderr",
     "output_type": "stream",
     "text": [
      "Training: 100%|██████████| 140/140 [00:39<00:00,  3.56it/s, loss=0.093, acc=48.6] \n",
      "Training: 100%|██████████| 140/140 [00:39<00:00,  3.56it/s, loss=0.093, acc=48.6] \n",
      "Validation: 100%|██████████| 25/25 [00:00<00:00, 42.40it/s]\n",
      "Validation: 100%|██████████| 25/25 [00:00<00:00, 42.40it/s]\n"
     ]
    },
    {
     "name": "stdout",
     "output_type": "stream",
     "text": [
      "\n",
      "📊 Epoch [13/100] - 39.89s - LR: 0.000292\n",
      "   Train Loss: 0.0910 | Train Acc: 48.61% | Train AUC: 0.5014\n",
      "   Val Loss:   0.0885 | Val Acc:   76.24% | Val AUC:   0.5151\n",
      "   ⏱️ No improvement for 12/25 epochs\n",
      "--------------------------------------------------------------------------------\n"
     ]
    },
    {
     "name": "stderr",
     "output_type": "stream",
     "text": [
      "Training: 100%|██████████| 140/140 [00:32<00:00,  4.33it/s, loss=0.0866, acc=50.9]\n",
      "Training: 100%|██████████| 140/140 [00:32<00:00,  4.33it/s, loss=0.0866, acc=50.9]\n",
      "Validation: 100%|██████████| 25/25 [00:00<00:00, 42.28it/s]\n",
      "Validation: 100%|██████████| 25/25 [00:00<00:00, 42.28it/s]\n"
     ]
    },
    {
     "name": "stdout",
     "output_type": "stream",
     "text": [
      "\n",
      "📊 Epoch [14/100] - 32.93s - LR: 0.000291\n",
      "   Train Loss: 0.0908 | Train Acc: 50.90% | Train AUC: 0.4977\n",
      "   Val Loss:   0.0871 | Val Acc:   76.24% | Val AUC:   0.5147\n",
      "   ⏱️ No improvement for 13/25 epochs\n",
      "--------------------------------------------------------------------------------\n"
     ]
    },
    {
     "name": "stderr",
     "output_type": "stream",
     "text": [
      "Training: 100%|██████████| 140/140 [00:31<00:00,  4.38it/s, loss=0.0912, acc=49.5]\n",
      "Training: 100%|██████████| 140/140 [00:31<00:00,  4.38it/s, loss=0.0912, acc=49.5]\n",
      "Validation: 100%|██████████| 25/25 [00:00<00:00, 42.39it/s]\n",
      "Validation: 100%|██████████| 25/25 [00:00<00:00, 42.39it/s]\n"
     ]
    },
    {
     "name": "stdout",
     "output_type": "stream",
     "text": [
      "\n",
      "📊 Epoch [15/100] - 32.58s - LR: 0.000289\n",
      "   Train Loss: 0.0909 | Train Acc: 49.48% | Train AUC: 0.5071\n",
      "   Val Loss:   0.0888 | Val Acc:   76.24% | Val AUC:   0.5003\n",
      "   ⏱️ No improvement for 14/25 epochs\n",
      "--------------------------------------------------------------------------------\n"
     ]
    },
    {
     "name": "stderr",
     "output_type": "stream",
     "text": [
      "Training: 100%|██████████| 140/140 [00:32<00:00,  4.30it/s, loss=0.0906, acc=50]  \n",
      "Training: 100%|██████████| 140/140 [00:32<00:00,  4.30it/s, loss=0.0906, acc=50]\n",
      "Validation: 100%|██████████| 25/25 [00:00<00:00, 40.52it/s]\n",
      "Validation: 100%|██████████| 25/25 [00:00<00:00, 40.52it/s]\n"
     ]
    },
    {
     "name": "stdout",
     "output_type": "stream",
     "text": [
      "\n",
      "📊 Epoch [16/100] - 33.17s - LR: 0.000287\n",
      "   Train Loss: 0.0909 | Train Acc: 50.00% | Train AUC: 0.5044\n",
      "   Val Loss:   0.0881 | Val Acc:   76.24% | Val AUC:   0.5001\n",
      "   ⏱️ No improvement for 15/25 epochs\n",
      "--------------------------------------------------------------------------------\n"
     ]
    },
    {
     "name": "stderr",
     "output_type": "stream",
     "text": [
      "Training: 100%|██████████| 140/140 [00:37<00:00,  3.77it/s, loss=0.0883, acc=49.8]\n",
      "Training: 100%|██████████| 140/140 [00:37<00:00,  3.77it/s, loss=0.0883, acc=49.8]\n",
      "Validation: 100%|██████████| 25/25 [00:00<00:00, 38.41it/s]\n",
      "\n"
     ]
    },
    {
     "name": "stdout",
     "output_type": "stream",
     "text": [
      "\n",
      "📊 Epoch [17/100] - 37.82s - LR: 0.000285\n",
      "   Train Loss: 0.0909 | Train Acc: 49.84% | Train AUC: 0.5019\n",
      "   Val Loss:   0.0882 | Val Acc:   76.24% | Val AUC:   0.5063\n",
      "   ⏱️ No improvement for 16/25 epochs\n",
      "--------------------------------------------------------------------------------\n"
     ]
    },
    {
     "name": "stderr",
     "output_type": "stream",
     "text": [
      "Training: 100%|██████████| 140/140 [00:48<00:00,  2.91it/s, loss=0.0907, acc=49.3]\n",
      "Training: 100%|██████████| 140/140 [00:48<00:00,  2.91it/s, loss=0.0907, acc=49.3]\n",
      "Validation: 100%|██████████| 25/25 [00:00<00:00, 35.12it/s]\n",
      "Validation: 100%|██████████| 25/25 [00:00<00:00, 35.12it/s]\n"
     ]
    },
    {
     "name": "stdout",
     "output_type": "stream",
     "text": [
      "\n",
      "📊 Epoch [18/100] - 48.84s - LR: 0.000283\n",
      "   Train Loss: 0.0909 | Train Acc: 49.28% | Train AUC: 0.5079\n",
      "   Val Loss:   0.0889 | Val Acc:   76.24% | Val AUC:   0.4825\n",
      "   ⏱️ No improvement for 17/25 epochs\n",
      "--------------------------------------------------------------------------------\n"
     ]
    },
    {
     "name": "stderr",
     "output_type": "stream",
     "text": [
      "Training: 100%|██████████| 140/140 [00:54<00:00,  2.58it/s, loss=0.0898, acc=48.4]\n",
      "Training: 100%|██████████| 140/140 [00:54<00:00,  2.58it/s, loss=0.0898, acc=48.4]\n",
      "Validation: 100%|██████████| 25/25 [00:00<00:00, 35.26it/s]\n",
      "Validation: 100%|██████████| 25/25 [00:00<00:00, 35.26it/s]\n"
     ]
    },
    {
     "name": "stdout",
     "output_type": "stream",
     "text": [
      "\n",
      "📊 Epoch [19/100] - 54.91s - LR: 0.000280\n",
      "   Train Loss: 0.0910 | Train Acc: 48.36% | Train AUC: 0.5000\n",
      "   Val Loss:   0.0893 | Val Acc:   76.24% | Val AUC:   0.5036\n",
      "   ⏱️ No improvement for 18/25 epochs\n",
      "--------------------------------------------------------------------------------\n"
     ]
    },
    {
     "name": "stderr",
     "output_type": "stream",
     "text": [
      "Training: 100%|██████████| 140/140 [00:54<00:00,  2.59it/s, loss=0.0916, acc=49.2]\n",
      "Training: 100%|██████████| 140/140 [00:54<00:00,  2.59it/s, loss=0.0916, acc=49.2]\n",
      "Validation: 100%|██████████| 25/25 [00:00<00:00, 35.36it/s]\n",
      "\n"
     ]
    },
    {
     "name": "stdout",
     "output_type": "stream",
     "text": [
      "\n",
      "📊 Epoch [20/100] - 54.74s - LR: 0.000278\n",
      "   Train Loss: 0.0910 | Train Acc: 49.21% | Train AUC: 0.4984\n",
      "   Val Loss:   0.0895 | Val Acc:   76.24% | Val AUC:   0.4926\n",
      "   ⏱️ No improvement for 19/25 epochs\n",
      "--------------------------------------------------------------------------------\n"
     ]
    },
    {
     "name": "stderr",
     "output_type": "stream",
     "text": [
      "Training: 100%|██████████| 140/140 [00:53<00:00,  2.61it/s, loss=0.0895, acc=50.4]\n",
      "Training: 100%|██████████| 140/140 [00:53<00:00,  2.61it/s, loss=0.0895, acc=50.4]\n",
      "Validation: 100%|██████████| 25/25 [00:00<00:00, 36.13it/s]\n",
      "\n"
     ]
    },
    {
     "name": "stdout",
     "output_type": "stream",
     "text": [
      "🚀 Starting training...\n",
      "📊 Training for up to 100 epochs\n",
      "⏱️ Early stopping patience: 25 epochs\n",
      "🔥 Using device: cuda\n",
      "================================================================================\n"
     ]
    },
    {
     "name": "stderr",
     "output_type": "stream",
     "text": [
      "Training: 100%|██████████| 140/140 [00:43<00:00,  3.18it/s, loss=0.0957, acc=49.2]\n",
      "Training: 100%|██████████| 140/140 [00:43<00:00,  3.18it/s, loss=0.0957, acc=49.2]\n",
      "Validation: 100%|██████████| 25/25 [00:00<00:00, 37.42it/s]\n",
      "\n"
     ]
    },
    {
     "name": "stdout",
     "output_type": "stream",
     "text": [
      "\n",
      "📊 Epoch [1/100] - 44.66s - LR: 0.000200\n",
      "   Train Loss: 0.0920 | Train Acc: 49.19% | Train AUC: 0.4932\n",
      "   Val Loss:   0.0868 | Val Acc:   76.24% | Val AUC:   0.5226\n",
      "   ✅ New best model saved! (Val AUC: 0.5226)\n",
      "--------------------------------------------------------------------------------\n"
     ]
    },
    {
     "name": "stderr",
     "output_type": "stream",
     "text": [
      "Training: 100%|██████████| 140/140 [00:40<00:00,  3.48it/s, loss=0.09, acc=49.2]  \n",
      "Training: 100%|██████████| 140/140 [00:40<00:00,  3.48it/s, loss=0.09, acc=49.2]  \n",
      "Validation: 100%|██████████| 25/25 [00:00<00:00, 43.26it/s]\n",
      "Validation: 100%|██████████| 25/25 [00:00<00:00, 43.26it/s]\n"
     ]
    },
    {
     "name": "stdout",
     "output_type": "stream",
     "text": [
      "\n",
      "📊 Epoch [2/100] - 40.80s - LR: 0.000300\n",
      "   Train Loss: 0.0916 | Train Acc: 49.21% | Train AUC: 0.4915\n",
      "   Val Loss:   0.0894 | Val Acc:   76.24% | Val AUC:   0.5081\n",
      "   ⏱️ No improvement for 1/25 epochs\n",
      "--------------------------------------------------------------------------------\n"
     ]
    },
    {
     "name": "stderr",
     "output_type": "stream",
     "text": [
      "Training: 100%|██████████| 140/140 [00:30<00:00,  4.55it/s, loss=0.0904, acc=49.6]\n",
      "Training: 100%|██████████| 140/140 [00:30<00:00,  4.55it/s, loss=0.0904, acc=49.6]\n",
      "Validation: 100%|██████████| 25/25 [00:00<00:00, 42.49it/s]\n",
      "Validation: 100%|██████████| 25/25 [00:00<00:00, 42.49it/s]\n"
     ]
    },
    {
     "name": "stdout",
     "output_type": "stream",
     "text": [
      "\n",
      "📊 Epoch [3/100] - 31.35s - LR: 0.000300\n",
      "   Train Loss: 0.0912 | Train Acc: 49.57% | Train AUC: 0.5020\n",
      "   Val Loss:   0.0866 | Val Acc:   76.24% | Val AUC:   0.5084\n",
      "   ⏱️ No improvement for 2/25 epochs\n",
      "--------------------------------------------------------------------------------\n"
     ]
    },
    {
     "name": "stderr",
     "output_type": "stream",
     "text": [
      "Training: 100%|██████████| 140/140 [00:44<00:00,  3.11it/s, loss=0.0919, acc=50.2]\n",
      "Training: 100%|██████████| 140/140 [00:44<00:00,  3.11it/s, loss=0.0919, acc=50.2]\n",
      "Validation: 100%|██████████| 25/25 [00:00<00:00, 36.29it/s]\n",
      "Validation: 100%|██████████| 25/25 [00:00<00:00, 36.29it/s]\n"
     ]
    },
    {
     "name": "stdout",
     "output_type": "stream",
     "text": [
      "\n",
      "📊 Epoch [4/100] - 45.68s - LR: 0.000300\n",
      "   Train Loss: 0.0911 | Train Acc: 50.25% | Train AUC: 0.4927\n",
      "   Val Loss:   0.0861 | Val Acc:   76.24% | Val AUC:   0.5152\n",
      "   ⏱️ No improvement for 3/25 epochs\n",
      "--------------------------------------------------------------------------------\n"
     ]
    },
    {
     "name": "stderr",
     "output_type": "stream",
     "text": [
      "Training: 100%|██████████| 140/140 [00:52<00:00,  2.68it/s, loss=0.094, acc=50.3] \n",
      "Training: 100%|██████████| 140/140 [00:52<00:00,  2.68it/s, loss=0.094, acc=50.3]\n",
      "Validation: 100%|██████████| 25/25 [00:00<00:00, 36.17it/s]\n",
      "Validation: 100%|██████████| 25/25 [00:00<00:00, 36.17it/s]\n"
     ]
    },
    {
     "name": "stdout",
     "output_type": "stream",
     "text": [
      "\n",
      "📊 Epoch [5/100] - 53.00s - LR: 0.000300\n",
      "   Train Loss: 0.0910 | Train Acc: 50.27% | Train AUC: 0.5113\n",
      "   Val Loss:   0.0889 | Val Acc:   76.24% | Val AUC:   0.5147\n",
      "   ⏱️ No improvement for 4/25 epochs\n",
      "--------------------------------------------------------------------------------\n"
     ]
    },
    {
     "name": "stderr",
     "output_type": "stream",
     "text": [
      "Training: 100%|██████████| 140/140 [00:53<00:00,  2.61it/s, loss=0.0917, acc=50]  \n",
      "Training: 100%|██████████| 140/140 [00:53<00:00,  2.61it/s, loss=0.0917, acc=50]\n",
      "Validation: 100%|██████████| 25/25 [00:00<00:00, 36.34it/s]\n",
      "\n"
     ]
    },
    {
     "name": "stdout",
     "output_type": "stream",
     "text": [
      "\n",
      "📊 Epoch [6/100] - 54.33s - LR: 0.000299\n",
      "   Train Loss: 0.0911 | Train Acc: 49.96% | Train AUC: 0.4963\n",
      "   Val Loss:   0.0886 | Val Acc:   76.24% | Val AUC:   0.4984\n",
      "   ⏱️ No improvement for 5/25 epochs\n",
      "--------------------------------------------------------------------------------\n"
     ]
    },
    {
     "name": "stderr",
     "output_type": "stream",
     "text": [
      "Training: 100%|██████████| 140/140 [00:52<00:00,  2.65it/s, loss=0.0912, acc=48.7]\n",
      "Training: 100%|██████████| 140/140 [00:52<00:00,  2.65it/s, loss=0.0912, acc=48.7]\n",
      "Validation: 100%|██████████| 25/25 [00:00<00:00, 36.03it/s]\n",
      "\n"
     ]
    },
    {
     "name": "stdout",
     "output_type": "stream",
     "text": [
      "\n",
      "📊 Epoch [7/100] - 53.51s - LR: 0.000299\n",
      "   Train Loss: 0.0911 | Train Acc: 48.72% | Train AUC: 0.4976\n",
      "   Val Loss:   0.0896 | Val Acc:   76.24% | Val AUC:   0.4970\n",
      "   ⏱️ No improvement for 6/25 epochs\n",
      "--------------------------------------------------------------------------------\n"
     ]
    },
    {
     "name": "stderr",
     "output_type": "stream",
     "text": [
      "Training: 100%|██████████| 140/140 [00:54<00:00,  2.58it/s, loss=0.0883, acc=50.1]\n",
      "Training: 100%|██████████| 140/140 [00:54<00:00,  2.58it/s, loss=0.0883, acc=50.1]\n",
      "Validation: 100%|██████████| 25/25 [00:00<00:00, 37.40it/s]\n",
      "Validation: 100%|██████████| 25/25 [00:00<00:00, 37.40it/s]\n"
     ]
    },
    {
     "name": "stdout",
     "output_type": "stream",
     "text": [
      "\n",
      "📊 Epoch [8/100] - 55.04s - LR: 0.000298\n",
      "   Train Loss: 0.0909 | Train Acc: 50.07% | Train AUC: 0.4996\n",
      "   Val Loss:   0.0883 | Val Acc:   76.24% | Val AUC:   0.4994\n",
      "   ⏱️ No improvement for 7/25 epochs\n",
      "--------------------------------------------------------------------------------\n"
     ]
    },
    {
     "name": "stderr",
     "output_type": "stream",
     "text": [
      "Training: 100%|██████████| 140/140 [00:54<00:00,  2.55it/s, loss=0.0915, acc=50.4]\n",
      "Training: 100%|██████████| 140/140 [00:54<00:00,  2.55it/s, loss=0.0915, acc=50.4]\n",
      "Validation: 100%|██████████| 25/25 [00:00<00:00, 35.56it/s]\n",
      "Validation: 100%|██████████| 25/25 [00:00<00:00, 35.56it/s]\n"
     ]
    },
    {
     "name": "stdout",
     "output_type": "stream",
     "text": [
      "\n",
      "📊 Epoch [9/100] - 55.59s - LR: 0.000297\n",
      "   Train Loss: 0.0909 | Train Acc: 50.38% | Train AUC: 0.4965\n",
      "   Val Loss:   0.0867 | Val Acc:   76.24% | Val AUC:   0.4891\n",
      "   ⏱️ No improvement for 8/25 epochs\n",
      "--------------------------------------------------------------------------------\n"
     ]
    },
    {
     "name": "stderr",
     "output_type": "stream",
     "text": [
      "Training: 100%|██████████| 140/140 [00:54<00:00,  2.56it/s, loss=0.0876, acc=49.7]\n",
      "Training: 100%|██████████| 140/140 [00:54<00:00,  2.56it/s, loss=0.0876, acc=49.7]\n",
      "Validation: 100%|██████████| 25/25 [00:00<00:00, 34.86it/s]\n",
      "\n"
     ]
    },
    {
     "name": "stdout",
     "output_type": "stream",
     "text": [
      "\n",
      "📊 Epoch [10/100] - 55.46s - LR: 0.000296\n",
      "   Train Loss: 0.0910 | Train Acc: 49.71% | Train AUC: 0.4966\n",
      "   Val Loss:   0.0893 | Val Acc:   76.24% | Val AUC:   0.4880\n",
      "   ⏱️ No improvement for 9/25 epochs\n",
      "--------------------------------------------------------------------------------\n"
     ]
    },
    {
     "name": "stderr",
     "output_type": "stream",
     "text": [
      "Training: 100%|██████████| 140/140 [00:55<00:00,  2.54it/s, loss=0.0937, acc=49.8]\n",
      "Training: 100%|██████████| 140/140 [00:55<00:00,  2.54it/s, loss=0.0937, acc=49.8]\n",
      "Validation: 100%|██████████| 25/25 [00:00<00:00, 36.71it/s]\n",
      "Validation: 100%|██████████| 25/25 [00:00<00:00, 36.71it/s]\n"
     ]
    },
    {
     "name": "stdout",
     "output_type": "stream",
     "text": [
      "\n",
      "📊 Epoch [11/100] - 55.72s - LR: 0.000295\n",
      "   Train Loss: 0.0910 | Train Acc: 49.80% | Train AUC: 0.4939\n",
      "   Val Loss:   0.0884 | Val Acc:   76.24% | Val AUC:   0.4682\n",
      "   ⏱️ No improvement for 10/25 epochs\n",
      "--------------------------------------------------------------------------------\n"
     ]
    },
    {
     "name": "stderr",
     "output_type": "stream",
     "text": [
      "Training: 100%|██████████| 140/140 [01:09<00:00,  2.02it/s, loss=0.0914, acc=51.5]\n",
      "Training: 100%|██████████| 140/140 [01:09<00:00,  2.02it/s, loss=0.0914, acc=51.5]\n",
      "Validation: 100%|██████████| 25/25 [00:01<00:00, 12.88it/s]\n",
      "Validation: 100%|██████████| 25/25 [00:01<00:00, 12.88it/s]\n"
     ]
    },
    {
     "name": "stdout",
     "output_type": "stream",
     "text": [
      "\n",
      "📊 Epoch [12/100] - 71.37s - LR: 0.000294\n",
      "   Train Loss: 0.0907 | Train Acc: 51.46% | Train AUC: 0.5041\n",
      "   Val Loss:   0.0863 | Val Acc:   76.24% | Val AUC:   0.4670\n",
      "   ⏱️ No improvement for 11/25 epochs\n",
      "--------------------------------------------------------------------------------\n"
     ]
    },
    {
     "name": "stderr",
     "output_type": "stream",
     "text": [
      "Training: 100%|██████████| 140/140 [00:39<00:00,  3.56it/s, loss=0.093, acc=48.6] \n",
      "Training: 100%|██████████| 140/140 [00:39<00:00,  3.56it/s, loss=0.093, acc=48.6] \n",
      "Validation: 100%|██████████| 25/25 [00:00<00:00, 42.40it/s]\n",
      "Validation: 100%|██████████| 25/25 [00:00<00:00, 42.40it/s]\n"
     ]
    },
    {
     "name": "stdout",
     "output_type": "stream",
     "text": [
      "\n",
      "📊 Epoch [13/100] - 39.89s - LR: 0.000292\n",
      "   Train Loss: 0.0910 | Train Acc: 48.61% | Train AUC: 0.5014\n",
      "   Val Loss:   0.0885 | Val Acc:   76.24% | Val AUC:   0.5151\n",
      "   ⏱️ No improvement for 12/25 epochs\n",
      "--------------------------------------------------------------------------------\n"
     ]
    },
    {
     "name": "stderr",
     "output_type": "stream",
     "text": [
      "Training: 100%|██████████| 140/140 [00:32<00:00,  4.33it/s, loss=0.0866, acc=50.9]\n",
      "Training: 100%|██████████| 140/140 [00:32<00:00,  4.33it/s, loss=0.0866, acc=50.9]\n",
      "Validation: 100%|██████████| 25/25 [00:00<00:00, 42.28it/s]\n",
      "Validation: 100%|██████████| 25/25 [00:00<00:00, 42.28it/s]\n"
     ]
    },
    {
     "name": "stdout",
     "output_type": "stream",
     "text": [
      "\n",
      "📊 Epoch [14/100] - 32.93s - LR: 0.000291\n",
      "   Train Loss: 0.0908 | Train Acc: 50.90% | Train AUC: 0.4977\n",
      "   Val Loss:   0.0871 | Val Acc:   76.24% | Val AUC:   0.5147\n",
      "   ⏱️ No improvement for 13/25 epochs\n",
      "--------------------------------------------------------------------------------\n"
     ]
    },
    {
     "name": "stderr",
     "output_type": "stream",
     "text": [
      "Training: 100%|██████████| 140/140 [00:31<00:00,  4.38it/s, loss=0.0912, acc=49.5]\n",
      "Training: 100%|██████████| 140/140 [00:31<00:00,  4.38it/s, loss=0.0912, acc=49.5]\n",
      "Validation: 100%|██████████| 25/25 [00:00<00:00, 42.39it/s]\n",
      "Validation: 100%|██████████| 25/25 [00:00<00:00, 42.39it/s]\n"
     ]
    },
    {
     "name": "stdout",
     "output_type": "stream",
     "text": [
      "\n",
      "📊 Epoch [15/100] - 32.58s - LR: 0.000289\n",
      "   Train Loss: 0.0909 | Train Acc: 49.48% | Train AUC: 0.5071\n",
      "   Val Loss:   0.0888 | Val Acc:   76.24% | Val AUC:   0.5003\n",
      "   ⏱️ No improvement for 14/25 epochs\n",
      "--------------------------------------------------------------------------------\n"
     ]
    },
    {
     "name": "stderr",
     "output_type": "stream",
     "text": [
      "Training: 100%|██████████| 140/140 [00:32<00:00,  4.30it/s, loss=0.0906, acc=50]  \n",
      "Training: 100%|██████████| 140/140 [00:32<00:00,  4.30it/s, loss=0.0906, acc=50]\n",
      "Validation: 100%|██████████| 25/25 [00:00<00:00, 40.52it/s]\n",
      "Validation: 100%|██████████| 25/25 [00:00<00:00, 40.52it/s]\n"
     ]
    },
    {
     "name": "stdout",
     "output_type": "stream",
     "text": [
      "\n",
      "📊 Epoch [16/100] - 33.17s - LR: 0.000287\n",
      "   Train Loss: 0.0909 | Train Acc: 50.00% | Train AUC: 0.5044\n",
      "   Val Loss:   0.0881 | Val Acc:   76.24% | Val AUC:   0.5001\n",
      "   ⏱️ No improvement for 15/25 epochs\n",
      "--------------------------------------------------------------------------------\n"
     ]
    },
    {
     "name": "stderr",
     "output_type": "stream",
     "text": [
      "Training: 100%|██████████| 140/140 [00:37<00:00,  3.77it/s, loss=0.0883, acc=49.8]\n",
      "Training: 100%|██████████| 140/140 [00:37<00:00,  3.77it/s, loss=0.0883, acc=49.8]\n",
      "Validation: 100%|██████████| 25/25 [00:00<00:00, 38.41it/s]\n",
      "\n"
     ]
    },
    {
     "name": "stdout",
     "output_type": "stream",
     "text": [
      "\n",
      "📊 Epoch [17/100] - 37.82s - LR: 0.000285\n",
      "   Train Loss: 0.0909 | Train Acc: 49.84% | Train AUC: 0.5019\n",
      "   Val Loss:   0.0882 | Val Acc:   76.24% | Val AUC:   0.5063\n",
      "   ⏱️ No improvement for 16/25 epochs\n",
      "--------------------------------------------------------------------------------\n"
     ]
    },
    {
     "name": "stderr",
     "output_type": "stream",
     "text": [
      "Training: 100%|██████████| 140/140 [00:48<00:00,  2.91it/s, loss=0.0907, acc=49.3]\n",
      "Training: 100%|██████████| 140/140 [00:48<00:00,  2.91it/s, loss=0.0907, acc=49.3]\n",
      "Validation: 100%|██████████| 25/25 [00:00<00:00, 35.12it/s]\n",
      "Validation: 100%|██████████| 25/25 [00:00<00:00, 35.12it/s]\n"
     ]
    },
    {
     "name": "stdout",
     "output_type": "stream",
     "text": [
      "\n",
      "📊 Epoch [18/100] - 48.84s - LR: 0.000283\n",
      "   Train Loss: 0.0909 | Train Acc: 49.28% | Train AUC: 0.5079\n",
      "   Val Loss:   0.0889 | Val Acc:   76.24% | Val AUC:   0.4825\n",
      "   ⏱️ No improvement for 17/25 epochs\n",
      "--------------------------------------------------------------------------------\n"
     ]
    },
    {
     "name": "stderr",
     "output_type": "stream",
     "text": [
      "Training: 100%|██████████| 140/140 [00:54<00:00,  2.58it/s, loss=0.0898, acc=48.4]\n",
      "Training: 100%|██████████| 140/140 [00:54<00:00,  2.58it/s, loss=0.0898, acc=48.4]\n",
      "Validation: 100%|██████████| 25/25 [00:00<00:00, 35.26it/s]\n",
      "Validation: 100%|██████████| 25/25 [00:00<00:00, 35.26it/s]\n"
     ]
    },
    {
     "name": "stdout",
     "output_type": "stream",
     "text": [
      "\n",
      "📊 Epoch [19/100] - 54.91s - LR: 0.000280\n",
      "   Train Loss: 0.0910 | Train Acc: 48.36% | Train AUC: 0.5000\n",
      "   Val Loss:   0.0893 | Val Acc:   76.24% | Val AUC:   0.5036\n",
      "   ⏱️ No improvement for 18/25 epochs\n",
      "--------------------------------------------------------------------------------\n"
     ]
    },
    {
     "name": "stderr",
     "output_type": "stream",
     "text": [
      "Training: 100%|██████████| 140/140 [00:54<00:00,  2.59it/s, loss=0.0916, acc=49.2]\n",
      "Training: 100%|██████████| 140/140 [00:54<00:00,  2.59it/s, loss=0.0916, acc=49.2]\n",
      "Validation: 100%|██████████| 25/25 [00:00<00:00, 35.36it/s]\n",
      "\n"
     ]
    },
    {
     "name": "stdout",
     "output_type": "stream",
     "text": [
      "\n",
      "📊 Epoch [20/100] - 54.74s - LR: 0.000278\n",
      "   Train Loss: 0.0910 | Train Acc: 49.21% | Train AUC: 0.4984\n",
      "   Val Loss:   0.0895 | Val Acc:   76.24% | Val AUC:   0.4926\n",
      "   ⏱️ No improvement for 19/25 epochs\n",
      "--------------------------------------------------------------------------------\n"
     ]
    },
    {
     "name": "stderr",
     "output_type": "stream",
     "text": [
      "Training: 100%|██████████| 140/140 [00:53<00:00,  2.61it/s, loss=0.0895, acc=50.4]\n",
      "Training: 100%|██████████| 140/140 [00:53<00:00,  2.61it/s, loss=0.0895, acc=50.4]\n",
      "Validation: 100%|██████████| 25/25 [00:00<00:00, 36.13it/s]\n",
      "\n"
     ]
    },
    {
     "name": "stdout",
     "output_type": "stream",
     "text": [
      "\n",
      "📊 Epoch [21/100] - 54.43s - LR: 0.000275\n",
      "   Train Loss: 0.0908 | Train Acc: 50.38% | Train AUC: 0.5127\n",
      "   Val Loss:   0.0898 | Val Acc:   76.24% | Val AUC:   0.5023\n",
      "   ⏱️ No improvement for 20/25 epochs\n",
      "--------------------------------------------------------------------------------\n"
     ]
    },
    {
     "name": "stderr",
     "output_type": "stream",
     "text": [
      "Training: 100%|██████████| 140/140 [00:57<00:00,  2.43it/s, loss=0.09, acc=49.8]  \n",
      "Training: 100%|██████████| 140/140 [00:57<00:00,  2.43it/s, loss=0.09, acc=49.8]  \n",
      "Validation: 100%|██████████| 25/25 [00:00<00:00, 33.68it/s]\n",
      "Validation: 100%|██████████| 25/25 [00:00<00:00, 33.68it/s]\n"
     ]
    },
    {
     "name": "stdout",
     "output_type": "stream",
     "text": [
      "🚀 Starting training...\n",
      "📊 Training for up to 100 epochs\n",
      "⏱️ Early stopping patience: 25 epochs\n",
      "🔥 Using device: cuda\n",
      "================================================================================\n"
     ]
    },
    {
     "name": "stderr",
     "output_type": "stream",
     "text": [
      "Training: 100%|██████████| 140/140 [00:43<00:00,  3.18it/s, loss=0.0957, acc=49.2]\n",
      "Training: 100%|██████████| 140/140 [00:43<00:00,  3.18it/s, loss=0.0957, acc=49.2]\n",
      "Validation: 100%|██████████| 25/25 [00:00<00:00, 37.42it/s]\n",
      "\n"
     ]
    },
    {
     "name": "stdout",
     "output_type": "stream",
     "text": [
      "\n",
      "📊 Epoch [1/100] - 44.66s - LR: 0.000200\n",
      "   Train Loss: 0.0920 | Train Acc: 49.19% | Train AUC: 0.4932\n",
      "   Val Loss:   0.0868 | Val Acc:   76.24% | Val AUC:   0.5226\n",
      "   ✅ New best model saved! (Val AUC: 0.5226)\n",
      "--------------------------------------------------------------------------------\n"
     ]
    },
    {
     "name": "stderr",
     "output_type": "stream",
     "text": [
      "Training: 100%|██████████| 140/140 [00:40<00:00,  3.48it/s, loss=0.09, acc=49.2]  \n",
      "Training: 100%|██████████| 140/140 [00:40<00:00,  3.48it/s, loss=0.09, acc=49.2]  \n",
      "Validation: 100%|██████████| 25/25 [00:00<00:00, 43.26it/s]\n",
      "Validation: 100%|██████████| 25/25 [00:00<00:00, 43.26it/s]\n"
     ]
    },
    {
     "name": "stdout",
     "output_type": "stream",
     "text": [
      "\n",
      "📊 Epoch [2/100] - 40.80s - LR: 0.000300\n",
      "   Train Loss: 0.0916 | Train Acc: 49.21% | Train AUC: 0.4915\n",
      "   Val Loss:   0.0894 | Val Acc:   76.24% | Val AUC:   0.5081\n",
      "   ⏱️ No improvement for 1/25 epochs\n",
      "--------------------------------------------------------------------------------\n"
     ]
    },
    {
     "name": "stderr",
     "output_type": "stream",
     "text": [
      "Training: 100%|██████████| 140/140 [00:30<00:00,  4.55it/s, loss=0.0904, acc=49.6]\n",
      "Training: 100%|██████████| 140/140 [00:30<00:00,  4.55it/s, loss=0.0904, acc=49.6]\n",
      "Validation: 100%|██████████| 25/25 [00:00<00:00, 42.49it/s]\n",
      "Validation: 100%|██████████| 25/25 [00:00<00:00, 42.49it/s]\n"
     ]
    },
    {
     "name": "stdout",
     "output_type": "stream",
     "text": [
      "\n",
      "📊 Epoch [3/100] - 31.35s - LR: 0.000300\n",
      "   Train Loss: 0.0912 | Train Acc: 49.57% | Train AUC: 0.5020\n",
      "   Val Loss:   0.0866 | Val Acc:   76.24% | Val AUC:   0.5084\n",
      "   ⏱️ No improvement for 2/25 epochs\n",
      "--------------------------------------------------------------------------------\n"
     ]
    },
    {
     "name": "stderr",
     "output_type": "stream",
     "text": [
      "Training: 100%|██████████| 140/140 [00:44<00:00,  3.11it/s, loss=0.0919, acc=50.2]\n",
      "Training: 100%|██████████| 140/140 [00:44<00:00,  3.11it/s, loss=0.0919, acc=50.2]\n",
      "Validation: 100%|██████████| 25/25 [00:00<00:00, 36.29it/s]\n",
      "Validation: 100%|██████████| 25/25 [00:00<00:00, 36.29it/s]\n"
     ]
    },
    {
     "name": "stdout",
     "output_type": "stream",
     "text": [
      "\n",
      "📊 Epoch [4/100] - 45.68s - LR: 0.000300\n",
      "   Train Loss: 0.0911 | Train Acc: 50.25% | Train AUC: 0.4927\n",
      "   Val Loss:   0.0861 | Val Acc:   76.24% | Val AUC:   0.5152\n",
      "   ⏱️ No improvement for 3/25 epochs\n",
      "--------------------------------------------------------------------------------\n"
     ]
    },
    {
     "name": "stderr",
     "output_type": "stream",
     "text": [
      "Training: 100%|██████████| 140/140 [00:52<00:00,  2.68it/s, loss=0.094, acc=50.3] \n",
      "Training: 100%|██████████| 140/140 [00:52<00:00,  2.68it/s, loss=0.094, acc=50.3]\n",
      "Validation: 100%|██████████| 25/25 [00:00<00:00, 36.17it/s]\n",
      "Validation: 100%|██████████| 25/25 [00:00<00:00, 36.17it/s]\n"
     ]
    },
    {
     "name": "stdout",
     "output_type": "stream",
     "text": [
      "\n",
      "📊 Epoch [5/100] - 53.00s - LR: 0.000300\n",
      "   Train Loss: 0.0910 | Train Acc: 50.27% | Train AUC: 0.5113\n",
      "   Val Loss:   0.0889 | Val Acc:   76.24% | Val AUC:   0.5147\n",
      "   ⏱️ No improvement for 4/25 epochs\n",
      "--------------------------------------------------------------------------------\n"
     ]
    },
    {
     "name": "stderr",
     "output_type": "stream",
     "text": [
      "Training: 100%|██████████| 140/140 [00:53<00:00,  2.61it/s, loss=0.0917, acc=50]  \n",
      "Training: 100%|██████████| 140/140 [00:53<00:00,  2.61it/s, loss=0.0917, acc=50]\n",
      "Validation: 100%|██████████| 25/25 [00:00<00:00, 36.34it/s]\n",
      "\n"
     ]
    },
    {
     "name": "stdout",
     "output_type": "stream",
     "text": [
      "\n",
      "📊 Epoch [6/100] - 54.33s - LR: 0.000299\n",
      "   Train Loss: 0.0911 | Train Acc: 49.96% | Train AUC: 0.4963\n",
      "   Val Loss:   0.0886 | Val Acc:   76.24% | Val AUC:   0.4984\n",
      "   ⏱️ No improvement for 5/25 epochs\n",
      "--------------------------------------------------------------------------------\n"
     ]
    },
    {
     "name": "stderr",
     "output_type": "stream",
     "text": [
      "Training: 100%|██████████| 140/140 [00:52<00:00,  2.65it/s, loss=0.0912, acc=48.7]\n",
      "Training: 100%|██████████| 140/140 [00:52<00:00,  2.65it/s, loss=0.0912, acc=48.7]\n",
      "Validation: 100%|██████████| 25/25 [00:00<00:00, 36.03it/s]\n",
      "\n"
     ]
    },
    {
     "name": "stdout",
     "output_type": "stream",
     "text": [
      "\n",
      "📊 Epoch [7/100] - 53.51s - LR: 0.000299\n",
      "   Train Loss: 0.0911 | Train Acc: 48.72% | Train AUC: 0.4976\n",
      "   Val Loss:   0.0896 | Val Acc:   76.24% | Val AUC:   0.4970\n",
      "   ⏱️ No improvement for 6/25 epochs\n",
      "--------------------------------------------------------------------------------\n"
     ]
    },
    {
     "name": "stderr",
     "output_type": "stream",
     "text": [
      "Training: 100%|██████████| 140/140 [00:54<00:00,  2.58it/s, loss=0.0883, acc=50.1]\n",
      "Training: 100%|██████████| 140/140 [00:54<00:00,  2.58it/s, loss=0.0883, acc=50.1]\n",
      "Validation: 100%|██████████| 25/25 [00:00<00:00, 37.40it/s]\n",
      "Validation: 100%|██████████| 25/25 [00:00<00:00, 37.40it/s]\n"
     ]
    },
    {
     "name": "stdout",
     "output_type": "stream",
     "text": [
      "\n",
      "📊 Epoch [8/100] - 55.04s - LR: 0.000298\n",
      "   Train Loss: 0.0909 | Train Acc: 50.07% | Train AUC: 0.4996\n",
      "   Val Loss:   0.0883 | Val Acc:   76.24% | Val AUC:   0.4994\n",
      "   ⏱️ No improvement for 7/25 epochs\n",
      "--------------------------------------------------------------------------------\n"
     ]
    },
    {
     "name": "stderr",
     "output_type": "stream",
     "text": [
      "Training: 100%|██████████| 140/140 [00:54<00:00,  2.55it/s, loss=0.0915, acc=50.4]\n",
      "Training: 100%|██████████| 140/140 [00:54<00:00,  2.55it/s, loss=0.0915, acc=50.4]\n",
      "Validation: 100%|██████████| 25/25 [00:00<00:00, 35.56it/s]\n",
      "Validation: 100%|██████████| 25/25 [00:00<00:00, 35.56it/s]\n"
     ]
    },
    {
     "name": "stdout",
     "output_type": "stream",
     "text": [
      "\n",
      "📊 Epoch [9/100] - 55.59s - LR: 0.000297\n",
      "   Train Loss: 0.0909 | Train Acc: 50.38% | Train AUC: 0.4965\n",
      "   Val Loss:   0.0867 | Val Acc:   76.24% | Val AUC:   0.4891\n",
      "   ⏱️ No improvement for 8/25 epochs\n",
      "--------------------------------------------------------------------------------\n"
     ]
    },
    {
     "name": "stderr",
     "output_type": "stream",
     "text": [
      "Training: 100%|██████████| 140/140 [00:54<00:00,  2.56it/s, loss=0.0876, acc=49.7]\n",
      "Training: 100%|██████████| 140/140 [00:54<00:00,  2.56it/s, loss=0.0876, acc=49.7]\n",
      "Validation: 100%|██████████| 25/25 [00:00<00:00, 34.86it/s]\n",
      "\n"
     ]
    },
    {
     "name": "stdout",
     "output_type": "stream",
     "text": [
      "\n",
      "📊 Epoch [10/100] - 55.46s - LR: 0.000296\n",
      "   Train Loss: 0.0910 | Train Acc: 49.71% | Train AUC: 0.4966\n",
      "   Val Loss:   0.0893 | Val Acc:   76.24% | Val AUC:   0.4880\n",
      "   ⏱️ No improvement for 9/25 epochs\n",
      "--------------------------------------------------------------------------------\n"
     ]
    },
    {
     "name": "stderr",
     "output_type": "stream",
     "text": [
      "Training: 100%|██████████| 140/140 [00:55<00:00,  2.54it/s, loss=0.0937, acc=49.8]\n",
      "Training: 100%|██████████| 140/140 [00:55<00:00,  2.54it/s, loss=0.0937, acc=49.8]\n",
      "Validation: 100%|██████████| 25/25 [00:00<00:00, 36.71it/s]\n",
      "Validation: 100%|██████████| 25/25 [00:00<00:00, 36.71it/s]\n"
     ]
    },
    {
     "name": "stdout",
     "output_type": "stream",
     "text": [
      "\n",
      "📊 Epoch [11/100] - 55.72s - LR: 0.000295\n",
      "   Train Loss: 0.0910 | Train Acc: 49.80% | Train AUC: 0.4939\n",
      "   Val Loss:   0.0884 | Val Acc:   76.24% | Val AUC:   0.4682\n",
      "   ⏱️ No improvement for 10/25 epochs\n",
      "--------------------------------------------------------------------------------\n"
     ]
    },
    {
     "name": "stderr",
     "output_type": "stream",
     "text": [
      "Training: 100%|██████████| 140/140 [01:09<00:00,  2.02it/s, loss=0.0914, acc=51.5]\n",
      "Training: 100%|██████████| 140/140 [01:09<00:00,  2.02it/s, loss=0.0914, acc=51.5]\n",
      "Validation: 100%|██████████| 25/25 [00:01<00:00, 12.88it/s]\n",
      "Validation: 100%|██████████| 25/25 [00:01<00:00, 12.88it/s]\n"
     ]
    },
    {
     "name": "stdout",
     "output_type": "stream",
     "text": [
      "\n",
      "📊 Epoch [12/100] - 71.37s - LR: 0.000294\n",
      "   Train Loss: 0.0907 | Train Acc: 51.46% | Train AUC: 0.5041\n",
      "   Val Loss:   0.0863 | Val Acc:   76.24% | Val AUC:   0.4670\n",
      "   ⏱️ No improvement for 11/25 epochs\n",
      "--------------------------------------------------------------------------------\n"
     ]
    },
    {
     "name": "stderr",
     "output_type": "stream",
     "text": [
      "Training: 100%|██████████| 140/140 [00:39<00:00,  3.56it/s, loss=0.093, acc=48.6] \n",
      "Training: 100%|██████████| 140/140 [00:39<00:00,  3.56it/s, loss=0.093, acc=48.6] \n",
      "Validation: 100%|██████████| 25/25 [00:00<00:00, 42.40it/s]\n",
      "Validation: 100%|██████████| 25/25 [00:00<00:00, 42.40it/s]\n"
     ]
    },
    {
     "name": "stdout",
     "output_type": "stream",
     "text": [
      "\n",
      "📊 Epoch [13/100] - 39.89s - LR: 0.000292\n",
      "   Train Loss: 0.0910 | Train Acc: 48.61% | Train AUC: 0.5014\n",
      "   Val Loss:   0.0885 | Val Acc:   76.24% | Val AUC:   0.5151\n",
      "   ⏱️ No improvement for 12/25 epochs\n",
      "--------------------------------------------------------------------------------\n"
     ]
    },
    {
     "name": "stderr",
     "output_type": "stream",
     "text": [
      "Training: 100%|██████████| 140/140 [00:32<00:00,  4.33it/s, loss=0.0866, acc=50.9]\n",
      "Training: 100%|██████████| 140/140 [00:32<00:00,  4.33it/s, loss=0.0866, acc=50.9]\n",
      "Validation: 100%|██████████| 25/25 [00:00<00:00, 42.28it/s]\n",
      "Validation: 100%|██████████| 25/25 [00:00<00:00, 42.28it/s]\n"
     ]
    },
    {
     "name": "stdout",
     "output_type": "stream",
     "text": [
      "\n",
      "📊 Epoch [14/100] - 32.93s - LR: 0.000291\n",
      "   Train Loss: 0.0908 | Train Acc: 50.90% | Train AUC: 0.4977\n",
      "   Val Loss:   0.0871 | Val Acc:   76.24% | Val AUC:   0.5147\n",
      "   ⏱️ No improvement for 13/25 epochs\n",
      "--------------------------------------------------------------------------------\n"
     ]
    },
    {
     "name": "stderr",
     "output_type": "stream",
     "text": [
      "Training: 100%|██████████| 140/140 [00:31<00:00,  4.38it/s, loss=0.0912, acc=49.5]\n",
      "Training: 100%|██████████| 140/140 [00:31<00:00,  4.38it/s, loss=0.0912, acc=49.5]\n",
      "Validation: 100%|██████████| 25/25 [00:00<00:00, 42.39it/s]\n",
      "Validation: 100%|██████████| 25/25 [00:00<00:00, 42.39it/s]\n"
     ]
    },
    {
     "name": "stdout",
     "output_type": "stream",
     "text": [
      "\n",
      "📊 Epoch [15/100] - 32.58s - LR: 0.000289\n",
      "   Train Loss: 0.0909 | Train Acc: 49.48% | Train AUC: 0.5071\n",
      "   Val Loss:   0.0888 | Val Acc:   76.24% | Val AUC:   0.5003\n",
      "   ⏱️ No improvement for 14/25 epochs\n",
      "--------------------------------------------------------------------------------\n"
     ]
    },
    {
     "name": "stderr",
     "output_type": "stream",
     "text": [
      "Training: 100%|██████████| 140/140 [00:32<00:00,  4.30it/s, loss=0.0906, acc=50]  \n",
      "Training: 100%|██████████| 140/140 [00:32<00:00,  4.30it/s, loss=0.0906, acc=50]\n",
      "Validation: 100%|██████████| 25/25 [00:00<00:00, 40.52it/s]\n",
      "Validation: 100%|██████████| 25/25 [00:00<00:00, 40.52it/s]\n"
     ]
    },
    {
     "name": "stdout",
     "output_type": "stream",
     "text": [
      "\n",
      "📊 Epoch [16/100] - 33.17s - LR: 0.000287\n",
      "   Train Loss: 0.0909 | Train Acc: 50.00% | Train AUC: 0.5044\n",
      "   Val Loss:   0.0881 | Val Acc:   76.24% | Val AUC:   0.5001\n",
      "   ⏱️ No improvement for 15/25 epochs\n",
      "--------------------------------------------------------------------------------\n"
     ]
    },
    {
     "name": "stderr",
     "output_type": "stream",
     "text": [
      "Training: 100%|██████████| 140/140 [00:37<00:00,  3.77it/s, loss=0.0883, acc=49.8]\n",
      "Training: 100%|██████████| 140/140 [00:37<00:00,  3.77it/s, loss=0.0883, acc=49.8]\n",
      "Validation: 100%|██████████| 25/25 [00:00<00:00, 38.41it/s]\n",
      "\n"
     ]
    },
    {
     "name": "stdout",
     "output_type": "stream",
     "text": [
      "\n",
      "📊 Epoch [17/100] - 37.82s - LR: 0.000285\n",
      "   Train Loss: 0.0909 | Train Acc: 49.84% | Train AUC: 0.5019\n",
      "   Val Loss:   0.0882 | Val Acc:   76.24% | Val AUC:   0.5063\n",
      "   ⏱️ No improvement for 16/25 epochs\n",
      "--------------------------------------------------------------------------------\n"
     ]
    },
    {
     "name": "stderr",
     "output_type": "stream",
     "text": [
      "Training: 100%|██████████| 140/140 [00:48<00:00,  2.91it/s, loss=0.0907, acc=49.3]\n",
      "Training: 100%|██████████| 140/140 [00:48<00:00,  2.91it/s, loss=0.0907, acc=49.3]\n",
      "Validation: 100%|██████████| 25/25 [00:00<00:00, 35.12it/s]\n",
      "Validation: 100%|██████████| 25/25 [00:00<00:00, 35.12it/s]\n"
     ]
    },
    {
     "name": "stdout",
     "output_type": "stream",
     "text": [
      "\n",
      "📊 Epoch [18/100] - 48.84s - LR: 0.000283\n",
      "   Train Loss: 0.0909 | Train Acc: 49.28% | Train AUC: 0.5079\n",
      "   Val Loss:   0.0889 | Val Acc:   76.24% | Val AUC:   0.4825\n",
      "   ⏱️ No improvement for 17/25 epochs\n",
      "--------------------------------------------------------------------------------\n"
     ]
    },
    {
     "name": "stderr",
     "output_type": "stream",
     "text": [
      "Training: 100%|██████████| 140/140 [00:54<00:00,  2.58it/s, loss=0.0898, acc=48.4]\n",
      "Training: 100%|██████████| 140/140 [00:54<00:00,  2.58it/s, loss=0.0898, acc=48.4]\n",
      "Validation: 100%|██████████| 25/25 [00:00<00:00, 35.26it/s]\n",
      "Validation: 100%|██████████| 25/25 [00:00<00:00, 35.26it/s]\n"
     ]
    },
    {
     "name": "stdout",
     "output_type": "stream",
     "text": [
      "\n",
      "📊 Epoch [19/100] - 54.91s - LR: 0.000280\n",
      "   Train Loss: 0.0910 | Train Acc: 48.36% | Train AUC: 0.5000\n",
      "   Val Loss:   0.0893 | Val Acc:   76.24% | Val AUC:   0.5036\n",
      "   ⏱️ No improvement for 18/25 epochs\n",
      "--------------------------------------------------------------------------------\n"
     ]
    },
    {
     "name": "stderr",
     "output_type": "stream",
     "text": [
      "Training: 100%|██████████| 140/140 [00:54<00:00,  2.59it/s, loss=0.0916, acc=49.2]\n",
      "Training: 100%|██████████| 140/140 [00:54<00:00,  2.59it/s, loss=0.0916, acc=49.2]\n",
      "Validation: 100%|██████████| 25/25 [00:00<00:00, 35.36it/s]\n",
      "\n"
     ]
    },
    {
     "name": "stdout",
     "output_type": "stream",
     "text": [
      "\n",
      "📊 Epoch [20/100] - 54.74s - LR: 0.000278\n",
      "   Train Loss: 0.0910 | Train Acc: 49.21% | Train AUC: 0.4984\n",
      "   Val Loss:   0.0895 | Val Acc:   76.24% | Val AUC:   0.4926\n",
      "   ⏱️ No improvement for 19/25 epochs\n",
      "--------------------------------------------------------------------------------\n"
     ]
    },
    {
     "name": "stderr",
     "output_type": "stream",
     "text": [
      "Training: 100%|██████████| 140/140 [00:53<00:00,  2.61it/s, loss=0.0895, acc=50.4]\n",
      "Training: 100%|██████████| 140/140 [00:53<00:00,  2.61it/s, loss=0.0895, acc=50.4]\n",
      "Validation: 100%|██████████| 25/25 [00:00<00:00, 36.13it/s]\n",
      "\n"
     ]
    },
    {
     "name": "stdout",
     "output_type": "stream",
     "text": [
      "\n",
      "📊 Epoch [21/100] - 54.43s - LR: 0.000275\n",
      "   Train Loss: 0.0908 | Train Acc: 50.38% | Train AUC: 0.5127\n",
      "   Val Loss:   0.0898 | Val Acc:   76.24% | Val AUC:   0.5023\n",
      "   ⏱️ No improvement for 20/25 epochs\n",
      "--------------------------------------------------------------------------------\n"
     ]
    },
    {
     "name": "stderr",
     "output_type": "stream",
     "text": [
      "Training: 100%|██████████| 140/140 [00:57<00:00,  2.43it/s, loss=0.09, acc=49.8]  \n",
      "Training: 100%|██████████| 140/140 [00:57<00:00,  2.43it/s, loss=0.09, acc=49.8]  \n",
      "Validation: 100%|██████████| 25/25 [00:00<00:00, 33.68it/s]\n",
      "Validation: 100%|██████████| 25/25 [00:00<00:00, 33.68it/s]\n"
     ]
    },
    {
     "name": "stdout",
     "output_type": "stream",
     "text": [
      "\n",
      "📊 Epoch [22/100] - 58.27s - LR: 0.000272\n",
      "   Train Loss: 0.0909 | Train Acc: 49.80% | Train AUC: 0.5009\n",
      "   Val Loss:   0.0883 | Val Acc:   76.24% | Val AUC:   0.4938\n",
      "   ⏱️ No improvement for 21/25 epochs\n",
      "--------------------------------------------------------------------------------\n"
     ]
    },
    {
     "name": "stderr",
     "output_type": "stream",
     "text": [
      "Training: 100%|██████████| 140/140 [00:54<00:00,  2.58it/s, loss=0.0903, acc=50]  \n",
      "Training: 100%|██████████| 140/140 [00:54<00:00,  2.58it/s, loss=0.0903, acc=50]\n",
      "Validation: 100%|██████████| 25/25 [00:00<00:00, 36.79it/s]\n",
      "\n"
     ]
    },
    {
     "name": "stdout",
     "output_type": "stream",
     "text": [
      "🚀 Starting training...\n",
      "📊 Training for up to 100 epochs\n",
      "⏱️ Early stopping patience: 25 epochs\n",
      "🔥 Using device: cuda\n",
      "================================================================================\n"
     ]
    },
    {
     "name": "stderr",
     "output_type": "stream",
     "text": [
      "Training: 100%|██████████| 140/140 [00:43<00:00,  3.18it/s, loss=0.0957, acc=49.2]\n",
      "Training: 100%|██████████| 140/140 [00:43<00:00,  3.18it/s, loss=0.0957, acc=49.2]\n",
      "Validation: 100%|██████████| 25/25 [00:00<00:00, 37.42it/s]\n",
      "\n"
     ]
    },
    {
     "name": "stdout",
     "output_type": "stream",
     "text": [
      "\n",
      "📊 Epoch [1/100] - 44.66s - LR: 0.000200\n",
      "   Train Loss: 0.0920 | Train Acc: 49.19% | Train AUC: 0.4932\n",
      "   Val Loss:   0.0868 | Val Acc:   76.24% | Val AUC:   0.5226\n",
      "   ✅ New best model saved! (Val AUC: 0.5226)\n",
      "--------------------------------------------------------------------------------\n"
     ]
    },
    {
     "name": "stderr",
     "output_type": "stream",
     "text": [
      "Training: 100%|██████████| 140/140 [00:40<00:00,  3.48it/s, loss=0.09, acc=49.2]  \n",
      "Training: 100%|██████████| 140/140 [00:40<00:00,  3.48it/s, loss=0.09, acc=49.2]  \n",
      "Validation: 100%|██████████| 25/25 [00:00<00:00, 43.26it/s]\n",
      "Validation: 100%|██████████| 25/25 [00:00<00:00, 43.26it/s]\n"
     ]
    },
    {
     "name": "stdout",
     "output_type": "stream",
     "text": [
      "\n",
      "📊 Epoch [2/100] - 40.80s - LR: 0.000300\n",
      "   Train Loss: 0.0916 | Train Acc: 49.21% | Train AUC: 0.4915\n",
      "   Val Loss:   0.0894 | Val Acc:   76.24% | Val AUC:   0.5081\n",
      "   ⏱️ No improvement for 1/25 epochs\n",
      "--------------------------------------------------------------------------------\n"
     ]
    },
    {
     "name": "stderr",
     "output_type": "stream",
     "text": [
      "Training: 100%|██████████| 140/140 [00:30<00:00,  4.55it/s, loss=0.0904, acc=49.6]\n",
      "Training: 100%|██████████| 140/140 [00:30<00:00,  4.55it/s, loss=0.0904, acc=49.6]\n",
      "Validation: 100%|██████████| 25/25 [00:00<00:00, 42.49it/s]\n",
      "Validation: 100%|██████████| 25/25 [00:00<00:00, 42.49it/s]\n"
     ]
    },
    {
     "name": "stdout",
     "output_type": "stream",
     "text": [
      "\n",
      "📊 Epoch [3/100] - 31.35s - LR: 0.000300\n",
      "   Train Loss: 0.0912 | Train Acc: 49.57% | Train AUC: 0.5020\n",
      "   Val Loss:   0.0866 | Val Acc:   76.24% | Val AUC:   0.5084\n",
      "   ⏱️ No improvement for 2/25 epochs\n",
      "--------------------------------------------------------------------------------\n"
     ]
    },
    {
     "name": "stderr",
     "output_type": "stream",
     "text": [
      "Training: 100%|██████████| 140/140 [00:44<00:00,  3.11it/s, loss=0.0919, acc=50.2]\n",
      "Training: 100%|██████████| 140/140 [00:44<00:00,  3.11it/s, loss=0.0919, acc=50.2]\n",
      "Validation: 100%|██████████| 25/25 [00:00<00:00, 36.29it/s]\n",
      "Validation: 100%|██████████| 25/25 [00:00<00:00, 36.29it/s]\n"
     ]
    },
    {
     "name": "stdout",
     "output_type": "stream",
     "text": [
      "\n",
      "📊 Epoch [4/100] - 45.68s - LR: 0.000300\n",
      "   Train Loss: 0.0911 | Train Acc: 50.25% | Train AUC: 0.4927\n",
      "   Val Loss:   0.0861 | Val Acc:   76.24% | Val AUC:   0.5152\n",
      "   ⏱️ No improvement for 3/25 epochs\n",
      "--------------------------------------------------------------------------------\n"
     ]
    },
    {
     "name": "stderr",
     "output_type": "stream",
     "text": [
      "Training: 100%|██████████| 140/140 [00:52<00:00,  2.68it/s, loss=0.094, acc=50.3] \n",
      "Training: 100%|██████████| 140/140 [00:52<00:00,  2.68it/s, loss=0.094, acc=50.3]\n",
      "Validation: 100%|██████████| 25/25 [00:00<00:00, 36.17it/s]\n",
      "Validation: 100%|██████████| 25/25 [00:00<00:00, 36.17it/s]\n"
     ]
    },
    {
     "name": "stdout",
     "output_type": "stream",
     "text": [
      "\n",
      "📊 Epoch [5/100] - 53.00s - LR: 0.000300\n",
      "   Train Loss: 0.0910 | Train Acc: 50.27% | Train AUC: 0.5113\n",
      "   Val Loss:   0.0889 | Val Acc:   76.24% | Val AUC:   0.5147\n",
      "   ⏱️ No improvement for 4/25 epochs\n",
      "--------------------------------------------------------------------------------\n"
     ]
    },
    {
     "name": "stderr",
     "output_type": "stream",
     "text": [
      "Training: 100%|██████████| 140/140 [00:53<00:00,  2.61it/s, loss=0.0917, acc=50]  \n",
      "Training: 100%|██████████| 140/140 [00:53<00:00,  2.61it/s, loss=0.0917, acc=50]\n",
      "Validation: 100%|██████████| 25/25 [00:00<00:00, 36.34it/s]\n",
      "\n"
     ]
    },
    {
     "name": "stdout",
     "output_type": "stream",
     "text": [
      "\n",
      "📊 Epoch [6/100] - 54.33s - LR: 0.000299\n",
      "   Train Loss: 0.0911 | Train Acc: 49.96% | Train AUC: 0.4963\n",
      "   Val Loss:   0.0886 | Val Acc:   76.24% | Val AUC:   0.4984\n",
      "   ⏱️ No improvement for 5/25 epochs\n",
      "--------------------------------------------------------------------------------\n"
     ]
    },
    {
     "name": "stderr",
     "output_type": "stream",
     "text": [
      "Training: 100%|██████████| 140/140 [00:52<00:00,  2.65it/s, loss=0.0912, acc=48.7]\n",
      "Training: 100%|██████████| 140/140 [00:52<00:00,  2.65it/s, loss=0.0912, acc=48.7]\n",
      "Validation: 100%|██████████| 25/25 [00:00<00:00, 36.03it/s]\n",
      "\n"
     ]
    },
    {
     "name": "stdout",
     "output_type": "stream",
     "text": [
      "\n",
      "📊 Epoch [7/100] - 53.51s - LR: 0.000299\n",
      "   Train Loss: 0.0911 | Train Acc: 48.72% | Train AUC: 0.4976\n",
      "   Val Loss:   0.0896 | Val Acc:   76.24% | Val AUC:   0.4970\n",
      "   ⏱️ No improvement for 6/25 epochs\n",
      "--------------------------------------------------------------------------------\n"
     ]
    },
    {
     "name": "stderr",
     "output_type": "stream",
     "text": [
      "Training: 100%|██████████| 140/140 [00:54<00:00,  2.58it/s, loss=0.0883, acc=50.1]\n",
      "Training: 100%|██████████| 140/140 [00:54<00:00,  2.58it/s, loss=0.0883, acc=50.1]\n",
      "Validation: 100%|██████████| 25/25 [00:00<00:00, 37.40it/s]\n",
      "Validation: 100%|██████████| 25/25 [00:00<00:00, 37.40it/s]\n"
     ]
    },
    {
     "name": "stdout",
     "output_type": "stream",
     "text": [
      "\n",
      "📊 Epoch [8/100] - 55.04s - LR: 0.000298\n",
      "   Train Loss: 0.0909 | Train Acc: 50.07% | Train AUC: 0.4996\n",
      "   Val Loss:   0.0883 | Val Acc:   76.24% | Val AUC:   0.4994\n",
      "   ⏱️ No improvement for 7/25 epochs\n",
      "--------------------------------------------------------------------------------\n"
     ]
    },
    {
     "name": "stderr",
     "output_type": "stream",
     "text": [
      "Training: 100%|██████████| 140/140 [00:54<00:00,  2.55it/s, loss=0.0915, acc=50.4]\n",
      "Training: 100%|██████████| 140/140 [00:54<00:00,  2.55it/s, loss=0.0915, acc=50.4]\n",
      "Validation: 100%|██████████| 25/25 [00:00<00:00, 35.56it/s]\n",
      "Validation: 100%|██████████| 25/25 [00:00<00:00, 35.56it/s]\n"
     ]
    },
    {
     "name": "stdout",
     "output_type": "stream",
     "text": [
      "\n",
      "📊 Epoch [9/100] - 55.59s - LR: 0.000297\n",
      "   Train Loss: 0.0909 | Train Acc: 50.38% | Train AUC: 0.4965\n",
      "   Val Loss:   0.0867 | Val Acc:   76.24% | Val AUC:   0.4891\n",
      "   ⏱️ No improvement for 8/25 epochs\n",
      "--------------------------------------------------------------------------------\n"
     ]
    },
    {
     "name": "stderr",
     "output_type": "stream",
     "text": [
      "Training: 100%|██████████| 140/140 [00:54<00:00,  2.56it/s, loss=0.0876, acc=49.7]\n",
      "Training: 100%|██████████| 140/140 [00:54<00:00,  2.56it/s, loss=0.0876, acc=49.7]\n",
      "Validation: 100%|██████████| 25/25 [00:00<00:00, 34.86it/s]\n",
      "\n"
     ]
    },
    {
     "name": "stdout",
     "output_type": "stream",
     "text": [
      "\n",
      "📊 Epoch [10/100] - 55.46s - LR: 0.000296\n",
      "   Train Loss: 0.0910 | Train Acc: 49.71% | Train AUC: 0.4966\n",
      "   Val Loss:   0.0893 | Val Acc:   76.24% | Val AUC:   0.4880\n",
      "   ⏱️ No improvement for 9/25 epochs\n",
      "--------------------------------------------------------------------------------\n"
     ]
    },
    {
     "name": "stderr",
     "output_type": "stream",
     "text": [
      "Training: 100%|██████████| 140/140 [00:55<00:00,  2.54it/s, loss=0.0937, acc=49.8]\n",
      "Training: 100%|██████████| 140/140 [00:55<00:00,  2.54it/s, loss=0.0937, acc=49.8]\n",
      "Validation: 100%|██████████| 25/25 [00:00<00:00, 36.71it/s]\n",
      "Validation: 100%|██████████| 25/25 [00:00<00:00, 36.71it/s]\n"
     ]
    },
    {
     "name": "stdout",
     "output_type": "stream",
     "text": [
      "\n",
      "📊 Epoch [11/100] - 55.72s - LR: 0.000295\n",
      "   Train Loss: 0.0910 | Train Acc: 49.80% | Train AUC: 0.4939\n",
      "   Val Loss:   0.0884 | Val Acc:   76.24% | Val AUC:   0.4682\n",
      "   ⏱️ No improvement for 10/25 epochs\n",
      "--------------------------------------------------------------------------------\n"
     ]
    },
    {
     "name": "stderr",
     "output_type": "stream",
     "text": [
      "Training: 100%|██████████| 140/140 [01:09<00:00,  2.02it/s, loss=0.0914, acc=51.5]\n",
      "Training: 100%|██████████| 140/140 [01:09<00:00,  2.02it/s, loss=0.0914, acc=51.5]\n",
      "Validation: 100%|██████████| 25/25 [00:01<00:00, 12.88it/s]\n",
      "Validation: 100%|██████████| 25/25 [00:01<00:00, 12.88it/s]\n"
     ]
    },
    {
     "name": "stdout",
     "output_type": "stream",
     "text": [
      "\n",
      "📊 Epoch [12/100] - 71.37s - LR: 0.000294\n",
      "   Train Loss: 0.0907 | Train Acc: 51.46% | Train AUC: 0.5041\n",
      "   Val Loss:   0.0863 | Val Acc:   76.24% | Val AUC:   0.4670\n",
      "   ⏱️ No improvement for 11/25 epochs\n",
      "--------------------------------------------------------------------------------\n"
     ]
    },
    {
     "name": "stderr",
     "output_type": "stream",
     "text": [
      "Training: 100%|██████████| 140/140 [00:39<00:00,  3.56it/s, loss=0.093, acc=48.6] \n",
      "Training: 100%|██████████| 140/140 [00:39<00:00,  3.56it/s, loss=0.093, acc=48.6] \n",
      "Validation: 100%|██████████| 25/25 [00:00<00:00, 42.40it/s]\n",
      "Validation: 100%|██████████| 25/25 [00:00<00:00, 42.40it/s]\n"
     ]
    },
    {
     "name": "stdout",
     "output_type": "stream",
     "text": [
      "\n",
      "📊 Epoch [13/100] - 39.89s - LR: 0.000292\n",
      "   Train Loss: 0.0910 | Train Acc: 48.61% | Train AUC: 0.5014\n",
      "   Val Loss:   0.0885 | Val Acc:   76.24% | Val AUC:   0.5151\n",
      "   ⏱️ No improvement for 12/25 epochs\n",
      "--------------------------------------------------------------------------------\n"
     ]
    },
    {
     "name": "stderr",
     "output_type": "stream",
     "text": [
      "Training: 100%|██████████| 140/140 [00:32<00:00,  4.33it/s, loss=0.0866, acc=50.9]\n",
      "Training: 100%|██████████| 140/140 [00:32<00:00,  4.33it/s, loss=0.0866, acc=50.9]\n",
      "Validation: 100%|██████████| 25/25 [00:00<00:00, 42.28it/s]\n",
      "Validation: 100%|██████████| 25/25 [00:00<00:00, 42.28it/s]\n"
     ]
    },
    {
     "name": "stdout",
     "output_type": "stream",
     "text": [
      "\n",
      "📊 Epoch [14/100] - 32.93s - LR: 0.000291\n",
      "   Train Loss: 0.0908 | Train Acc: 50.90% | Train AUC: 0.4977\n",
      "   Val Loss:   0.0871 | Val Acc:   76.24% | Val AUC:   0.5147\n",
      "   ⏱️ No improvement for 13/25 epochs\n",
      "--------------------------------------------------------------------------------\n"
     ]
    },
    {
     "name": "stderr",
     "output_type": "stream",
     "text": [
      "Training: 100%|██████████| 140/140 [00:31<00:00,  4.38it/s, loss=0.0912, acc=49.5]\n",
      "Training: 100%|██████████| 140/140 [00:31<00:00,  4.38it/s, loss=0.0912, acc=49.5]\n",
      "Validation: 100%|██████████| 25/25 [00:00<00:00, 42.39it/s]\n",
      "Validation: 100%|██████████| 25/25 [00:00<00:00, 42.39it/s]\n"
     ]
    },
    {
     "name": "stdout",
     "output_type": "stream",
     "text": [
      "\n",
      "📊 Epoch [15/100] - 32.58s - LR: 0.000289\n",
      "   Train Loss: 0.0909 | Train Acc: 49.48% | Train AUC: 0.5071\n",
      "   Val Loss:   0.0888 | Val Acc:   76.24% | Val AUC:   0.5003\n",
      "   ⏱️ No improvement for 14/25 epochs\n",
      "--------------------------------------------------------------------------------\n"
     ]
    },
    {
     "name": "stderr",
     "output_type": "stream",
     "text": [
      "Training: 100%|██████████| 140/140 [00:32<00:00,  4.30it/s, loss=0.0906, acc=50]  \n",
      "Training: 100%|██████████| 140/140 [00:32<00:00,  4.30it/s, loss=0.0906, acc=50]\n",
      "Validation: 100%|██████████| 25/25 [00:00<00:00, 40.52it/s]\n",
      "Validation: 100%|██████████| 25/25 [00:00<00:00, 40.52it/s]\n"
     ]
    },
    {
     "name": "stdout",
     "output_type": "stream",
     "text": [
      "\n",
      "📊 Epoch [16/100] - 33.17s - LR: 0.000287\n",
      "   Train Loss: 0.0909 | Train Acc: 50.00% | Train AUC: 0.5044\n",
      "   Val Loss:   0.0881 | Val Acc:   76.24% | Val AUC:   0.5001\n",
      "   ⏱️ No improvement for 15/25 epochs\n",
      "--------------------------------------------------------------------------------\n"
     ]
    },
    {
     "name": "stderr",
     "output_type": "stream",
     "text": [
      "Training: 100%|██████████| 140/140 [00:37<00:00,  3.77it/s, loss=0.0883, acc=49.8]\n",
      "Training: 100%|██████████| 140/140 [00:37<00:00,  3.77it/s, loss=0.0883, acc=49.8]\n",
      "Validation: 100%|██████████| 25/25 [00:00<00:00, 38.41it/s]\n",
      "\n"
     ]
    },
    {
     "name": "stdout",
     "output_type": "stream",
     "text": [
      "\n",
      "📊 Epoch [17/100] - 37.82s - LR: 0.000285\n",
      "   Train Loss: 0.0909 | Train Acc: 49.84% | Train AUC: 0.5019\n",
      "   Val Loss:   0.0882 | Val Acc:   76.24% | Val AUC:   0.5063\n",
      "   ⏱️ No improvement for 16/25 epochs\n",
      "--------------------------------------------------------------------------------\n"
     ]
    },
    {
     "name": "stderr",
     "output_type": "stream",
     "text": [
      "Training: 100%|██████████| 140/140 [00:48<00:00,  2.91it/s, loss=0.0907, acc=49.3]\n",
      "Training: 100%|██████████| 140/140 [00:48<00:00,  2.91it/s, loss=0.0907, acc=49.3]\n",
      "Validation: 100%|██████████| 25/25 [00:00<00:00, 35.12it/s]\n",
      "Validation: 100%|██████████| 25/25 [00:00<00:00, 35.12it/s]\n"
     ]
    },
    {
     "name": "stdout",
     "output_type": "stream",
     "text": [
      "\n",
      "📊 Epoch [18/100] - 48.84s - LR: 0.000283\n",
      "   Train Loss: 0.0909 | Train Acc: 49.28% | Train AUC: 0.5079\n",
      "   Val Loss:   0.0889 | Val Acc:   76.24% | Val AUC:   0.4825\n",
      "   ⏱️ No improvement for 17/25 epochs\n",
      "--------------------------------------------------------------------------------\n"
     ]
    },
    {
     "name": "stderr",
     "output_type": "stream",
     "text": [
      "Training: 100%|██████████| 140/140 [00:54<00:00,  2.58it/s, loss=0.0898, acc=48.4]\n",
      "Training: 100%|██████████| 140/140 [00:54<00:00,  2.58it/s, loss=0.0898, acc=48.4]\n",
      "Validation: 100%|██████████| 25/25 [00:00<00:00, 35.26it/s]\n",
      "Validation: 100%|██████████| 25/25 [00:00<00:00, 35.26it/s]\n"
     ]
    },
    {
     "name": "stdout",
     "output_type": "stream",
     "text": [
      "\n",
      "📊 Epoch [19/100] - 54.91s - LR: 0.000280\n",
      "   Train Loss: 0.0910 | Train Acc: 48.36% | Train AUC: 0.5000\n",
      "   Val Loss:   0.0893 | Val Acc:   76.24% | Val AUC:   0.5036\n",
      "   ⏱️ No improvement for 18/25 epochs\n",
      "--------------------------------------------------------------------------------\n"
     ]
    },
    {
     "name": "stderr",
     "output_type": "stream",
     "text": [
      "Training: 100%|██████████| 140/140 [00:54<00:00,  2.59it/s, loss=0.0916, acc=49.2]\n",
      "Training: 100%|██████████| 140/140 [00:54<00:00,  2.59it/s, loss=0.0916, acc=49.2]\n",
      "Validation: 100%|██████████| 25/25 [00:00<00:00, 35.36it/s]\n",
      "\n"
     ]
    },
    {
     "name": "stdout",
     "output_type": "stream",
     "text": [
      "\n",
      "📊 Epoch [20/100] - 54.74s - LR: 0.000278\n",
      "   Train Loss: 0.0910 | Train Acc: 49.21% | Train AUC: 0.4984\n",
      "   Val Loss:   0.0895 | Val Acc:   76.24% | Val AUC:   0.4926\n",
      "   ⏱️ No improvement for 19/25 epochs\n",
      "--------------------------------------------------------------------------------\n"
     ]
    },
    {
     "name": "stderr",
     "output_type": "stream",
     "text": [
      "Training: 100%|██████████| 140/140 [00:53<00:00,  2.61it/s, loss=0.0895, acc=50.4]\n",
      "Training: 100%|██████████| 140/140 [00:53<00:00,  2.61it/s, loss=0.0895, acc=50.4]\n",
      "Validation: 100%|██████████| 25/25 [00:00<00:00, 36.13it/s]\n",
      "\n"
     ]
    },
    {
     "name": "stdout",
     "output_type": "stream",
     "text": [
      "\n",
      "📊 Epoch [21/100] - 54.43s - LR: 0.000275\n",
      "   Train Loss: 0.0908 | Train Acc: 50.38% | Train AUC: 0.5127\n",
      "   Val Loss:   0.0898 | Val Acc:   76.24% | Val AUC:   0.5023\n",
      "   ⏱️ No improvement for 20/25 epochs\n",
      "--------------------------------------------------------------------------------\n"
     ]
    },
    {
     "name": "stderr",
     "output_type": "stream",
     "text": [
      "Training: 100%|██████████| 140/140 [00:57<00:00,  2.43it/s, loss=0.09, acc=49.8]  \n",
      "Training: 100%|██████████| 140/140 [00:57<00:00,  2.43it/s, loss=0.09, acc=49.8]  \n",
      "Validation: 100%|██████████| 25/25 [00:00<00:00, 33.68it/s]\n",
      "Validation: 100%|██████████| 25/25 [00:00<00:00, 33.68it/s]\n"
     ]
    },
    {
     "name": "stdout",
     "output_type": "stream",
     "text": [
      "\n",
      "📊 Epoch [22/100] - 58.27s - LR: 0.000272\n",
      "   Train Loss: 0.0909 | Train Acc: 49.80% | Train AUC: 0.5009\n",
      "   Val Loss:   0.0883 | Val Acc:   76.24% | Val AUC:   0.4938\n",
      "   ⏱️ No improvement for 21/25 epochs\n",
      "--------------------------------------------------------------------------------\n"
     ]
    },
    {
     "name": "stderr",
     "output_type": "stream",
     "text": [
      "Training: 100%|██████████| 140/140 [00:54<00:00,  2.58it/s, loss=0.0903, acc=50]  \n",
      "Training: 100%|██████████| 140/140 [00:54<00:00,  2.58it/s, loss=0.0903, acc=50]\n",
      "Validation: 100%|██████████| 25/25 [00:00<00:00, 36.79it/s]\n",
      "\n"
     ]
    },
    {
     "name": "stdout",
     "output_type": "stream",
     "text": [
      "\n",
      "📊 Epoch [23/100] - 55.02s - LR: 0.000270\n",
      "   Train Loss: 0.0908 | Train Acc: 49.98% | Train AUC: 0.5046\n",
      "   Val Loss:   0.0888 | Val Acc:   76.24% | Val AUC:   0.4941\n",
      "   ⏱️ No improvement for 22/25 epochs\n",
      "--------------------------------------------------------------------------------\n"
     ]
    },
    {
     "name": "stderr",
     "output_type": "stream",
     "text": [
      "Training: 100%|██████████| 140/140 [00:36<00:00,  3.86it/s, loss=0.0922, acc=49.6]\n",
      "Training: 100%|██████████| 140/140 [00:36<00:00,  3.86it/s, loss=0.0922, acc=49.6]\n",
      "Validation: 100%|██████████| 25/25 [00:00<00:00, 42.34it/s]\n",
      "Validation: 100%|██████████| 25/25 [00:00<00:00, 42.34it/s]\n"
     ]
    },
    {
     "name": "stdout",
     "output_type": "stream",
     "text": [
      "🚀 Starting training...\n",
      "📊 Training for up to 100 epochs\n",
      "⏱️ Early stopping patience: 25 epochs\n",
      "🔥 Using device: cuda\n",
      "================================================================================\n"
     ]
    },
    {
     "name": "stderr",
     "output_type": "stream",
     "text": [
      "Training: 100%|██████████| 140/140 [00:43<00:00,  3.18it/s, loss=0.0957, acc=49.2]\n",
      "Training: 100%|██████████| 140/140 [00:43<00:00,  3.18it/s, loss=0.0957, acc=49.2]\n",
      "Validation: 100%|██████████| 25/25 [00:00<00:00, 37.42it/s]\n",
      "\n"
     ]
    },
    {
     "name": "stdout",
     "output_type": "stream",
     "text": [
      "\n",
      "📊 Epoch [1/100] - 44.66s - LR: 0.000200\n",
      "   Train Loss: 0.0920 | Train Acc: 49.19% | Train AUC: 0.4932\n",
      "   Val Loss:   0.0868 | Val Acc:   76.24% | Val AUC:   0.5226\n",
      "   ✅ New best model saved! (Val AUC: 0.5226)\n",
      "--------------------------------------------------------------------------------\n"
     ]
    },
    {
     "name": "stderr",
     "output_type": "stream",
     "text": [
      "Training: 100%|██████████| 140/140 [00:40<00:00,  3.48it/s, loss=0.09, acc=49.2]  \n",
      "Training: 100%|██████████| 140/140 [00:40<00:00,  3.48it/s, loss=0.09, acc=49.2]  \n",
      "Validation: 100%|██████████| 25/25 [00:00<00:00, 43.26it/s]\n",
      "Validation: 100%|██████████| 25/25 [00:00<00:00, 43.26it/s]\n"
     ]
    },
    {
     "name": "stdout",
     "output_type": "stream",
     "text": [
      "\n",
      "📊 Epoch [2/100] - 40.80s - LR: 0.000300\n",
      "   Train Loss: 0.0916 | Train Acc: 49.21% | Train AUC: 0.4915\n",
      "   Val Loss:   0.0894 | Val Acc:   76.24% | Val AUC:   0.5081\n",
      "   ⏱️ No improvement for 1/25 epochs\n",
      "--------------------------------------------------------------------------------\n"
     ]
    },
    {
     "name": "stderr",
     "output_type": "stream",
     "text": [
      "Training: 100%|██████████| 140/140 [00:30<00:00,  4.55it/s, loss=0.0904, acc=49.6]\n",
      "Training: 100%|██████████| 140/140 [00:30<00:00,  4.55it/s, loss=0.0904, acc=49.6]\n",
      "Validation: 100%|██████████| 25/25 [00:00<00:00, 42.49it/s]\n",
      "Validation: 100%|██████████| 25/25 [00:00<00:00, 42.49it/s]\n"
     ]
    },
    {
     "name": "stdout",
     "output_type": "stream",
     "text": [
      "\n",
      "📊 Epoch [3/100] - 31.35s - LR: 0.000300\n",
      "   Train Loss: 0.0912 | Train Acc: 49.57% | Train AUC: 0.5020\n",
      "   Val Loss:   0.0866 | Val Acc:   76.24% | Val AUC:   0.5084\n",
      "   ⏱️ No improvement for 2/25 epochs\n",
      "--------------------------------------------------------------------------------\n"
     ]
    },
    {
     "name": "stderr",
     "output_type": "stream",
     "text": [
      "Training: 100%|██████████| 140/140 [00:44<00:00,  3.11it/s, loss=0.0919, acc=50.2]\n",
      "Training: 100%|██████████| 140/140 [00:44<00:00,  3.11it/s, loss=0.0919, acc=50.2]\n",
      "Validation: 100%|██████████| 25/25 [00:00<00:00, 36.29it/s]\n",
      "Validation: 100%|██████████| 25/25 [00:00<00:00, 36.29it/s]\n"
     ]
    },
    {
     "name": "stdout",
     "output_type": "stream",
     "text": [
      "\n",
      "📊 Epoch [4/100] - 45.68s - LR: 0.000300\n",
      "   Train Loss: 0.0911 | Train Acc: 50.25% | Train AUC: 0.4927\n",
      "   Val Loss:   0.0861 | Val Acc:   76.24% | Val AUC:   0.5152\n",
      "   ⏱️ No improvement for 3/25 epochs\n",
      "--------------------------------------------------------------------------------\n"
     ]
    },
    {
     "name": "stderr",
     "output_type": "stream",
     "text": [
      "Training: 100%|██████████| 140/140 [00:52<00:00,  2.68it/s, loss=0.094, acc=50.3] \n",
      "Training: 100%|██████████| 140/140 [00:52<00:00,  2.68it/s, loss=0.094, acc=50.3]\n",
      "Validation: 100%|██████████| 25/25 [00:00<00:00, 36.17it/s]\n",
      "Validation: 100%|██████████| 25/25 [00:00<00:00, 36.17it/s]\n"
     ]
    },
    {
     "name": "stdout",
     "output_type": "stream",
     "text": [
      "\n",
      "📊 Epoch [5/100] - 53.00s - LR: 0.000300\n",
      "   Train Loss: 0.0910 | Train Acc: 50.27% | Train AUC: 0.5113\n",
      "   Val Loss:   0.0889 | Val Acc:   76.24% | Val AUC:   0.5147\n",
      "   ⏱️ No improvement for 4/25 epochs\n",
      "--------------------------------------------------------------------------------\n"
     ]
    },
    {
     "name": "stderr",
     "output_type": "stream",
     "text": [
      "Training: 100%|██████████| 140/140 [00:53<00:00,  2.61it/s, loss=0.0917, acc=50]  \n",
      "Training: 100%|██████████| 140/140 [00:53<00:00,  2.61it/s, loss=0.0917, acc=50]\n",
      "Validation: 100%|██████████| 25/25 [00:00<00:00, 36.34it/s]\n",
      "\n"
     ]
    },
    {
     "name": "stdout",
     "output_type": "stream",
     "text": [
      "\n",
      "📊 Epoch [6/100] - 54.33s - LR: 0.000299\n",
      "   Train Loss: 0.0911 | Train Acc: 49.96% | Train AUC: 0.4963\n",
      "   Val Loss:   0.0886 | Val Acc:   76.24% | Val AUC:   0.4984\n",
      "   ⏱️ No improvement for 5/25 epochs\n",
      "--------------------------------------------------------------------------------\n"
     ]
    },
    {
     "name": "stderr",
     "output_type": "stream",
     "text": [
      "Training: 100%|██████████| 140/140 [00:52<00:00,  2.65it/s, loss=0.0912, acc=48.7]\n",
      "Training: 100%|██████████| 140/140 [00:52<00:00,  2.65it/s, loss=0.0912, acc=48.7]\n",
      "Validation: 100%|██████████| 25/25 [00:00<00:00, 36.03it/s]\n",
      "\n"
     ]
    },
    {
     "name": "stdout",
     "output_type": "stream",
     "text": [
      "\n",
      "📊 Epoch [7/100] - 53.51s - LR: 0.000299\n",
      "   Train Loss: 0.0911 | Train Acc: 48.72% | Train AUC: 0.4976\n",
      "   Val Loss:   0.0896 | Val Acc:   76.24% | Val AUC:   0.4970\n",
      "   ⏱️ No improvement for 6/25 epochs\n",
      "--------------------------------------------------------------------------------\n"
     ]
    },
    {
     "name": "stderr",
     "output_type": "stream",
     "text": [
      "Training: 100%|██████████| 140/140 [00:54<00:00,  2.58it/s, loss=0.0883, acc=50.1]\n",
      "Training: 100%|██████████| 140/140 [00:54<00:00,  2.58it/s, loss=0.0883, acc=50.1]\n",
      "Validation: 100%|██████████| 25/25 [00:00<00:00, 37.40it/s]\n",
      "Validation: 100%|██████████| 25/25 [00:00<00:00, 37.40it/s]\n"
     ]
    },
    {
     "name": "stdout",
     "output_type": "stream",
     "text": [
      "\n",
      "📊 Epoch [8/100] - 55.04s - LR: 0.000298\n",
      "   Train Loss: 0.0909 | Train Acc: 50.07% | Train AUC: 0.4996\n",
      "   Val Loss:   0.0883 | Val Acc:   76.24% | Val AUC:   0.4994\n",
      "   ⏱️ No improvement for 7/25 epochs\n",
      "--------------------------------------------------------------------------------\n"
     ]
    },
    {
     "name": "stderr",
     "output_type": "stream",
     "text": [
      "Training: 100%|██████████| 140/140 [00:54<00:00,  2.55it/s, loss=0.0915, acc=50.4]\n",
      "Training: 100%|██████████| 140/140 [00:54<00:00,  2.55it/s, loss=0.0915, acc=50.4]\n",
      "Validation: 100%|██████████| 25/25 [00:00<00:00, 35.56it/s]\n",
      "Validation: 100%|██████████| 25/25 [00:00<00:00, 35.56it/s]\n"
     ]
    },
    {
     "name": "stdout",
     "output_type": "stream",
     "text": [
      "\n",
      "📊 Epoch [9/100] - 55.59s - LR: 0.000297\n",
      "   Train Loss: 0.0909 | Train Acc: 50.38% | Train AUC: 0.4965\n",
      "   Val Loss:   0.0867 | Val Acc:   76.24% | Val AUC:   0.4891\n",
      "   ⏱️ No improvement for 8/25 epochs\n",
      "--------------------------------------------------------------------------------\n"
     ]
    },
    {
     "name": "stderr",
     "output_type": "stream",
     "text": [
      "Training: 100%|██████████| 140/140 [00:54<00:00,  2.56it/s, loss=0.0876, acc=49.7]\n",
      "Training: 100%|██████████| 140/140 [00:54<00:00,  2.56it/s, loss=0.0876, acc=49.7]\n",
      "Validation: 100%|██████████| 25/25 [00:00<00:00, 34.86it/s]\n",
      "\n"
     ]
    },
    {
     "name": "stdout",
     "output_type": "stream",
     "text": [
      "\n",
      "📊 Epoch [10/100] - 55.46s - LR: 0.000296\n",
      "   Train Loss: 0.0910 | Train Acc: 49.71% | Train AUC: 0.4966\n",
      "   Val Loss:   0.0893 | Val Acc:   76.24% | Val AUC:   0.4880\n",
      "   ⏱️ No improvement for 9/25 epochs\n",
      "--------------------------------------------------------------------------------\n"
     ]
    },
    {
     "name": "stderr",
     "output_type": "stream",
     "text": [
      "Training: 100%|██████████| 140/140 [00:55<00:00,  2.54it/s, loss=0.0937, acc=49.8]\n",
      "Training: 100%|██████████| 140/140 [00:55<00:00,  2.54it/s, loss=0.0937, acc=49.8]\n",
      "Validation: 100%|██████████| 25/25 [00:00<00:00, 36.71it/s]\n",
      "Validation: 100%|██████████| 25/25 [00:00<00:00, 36.71it/s]\n"
     ]
    },
    {
     "name": "stdout",
     "output_type": "stream",
     "text": [
      "\n",
      "📊 Epoch [11/100] - 55.72s - LR: 0.000295\n",
      "   Train Loss: 0.0910 | Train Acc: 49.80% | Train AUC: 0.4939\n",
      "   Val Loss:   0.0884 | Val Acc:   76.24% | Val AUC:   0.4682\n",
      "   ⏱️ No improvement for 10/25 epochs\n",
      "--------------------------------------------------------------------------------\n"
     ]
    },
    {
     "name": "stderr",
     "output_type": "stream",
     "text": [
      "Training: 100%|██████████| 140/140 [01:09<00:00,  2.02it/s, loss=0.0914, acc=51.5]\n",
      "Training: 100%|██████████| 140/140 [01:09<00:00,  2.02it/s, loss=0.0914, acc=51.5]\n",
      "Validation: 100%|██████████| 25/25 [00:01<00:00, 12.88it/s]\n",
      "Validation: 100%|██████████| 25/25 [00:01<00:00, 12.88it/s]\n"
     ]
    },
    {
     "name": "stdout",
     "output_type": "stream",
     "text": [
      "\n",
      "📊 Epoch [12/100] - 71.37s - LR: 0.000294\n",
      "   Train Loss: 0.0907 | Train Acc: 51.46% | Train AUC: 0.5041\n",
      "   Val Loss:   0.0863 | Val Acc:   76.24% | Val AUC:   0.4670\n",
      "   ⏱️ No improvement for 11/25 epochs\n",
      "--------------------------------------------------------------------------------\n"
     ]
    },
    {
     "name": "stderr",
     "output_type": "stream",
     "text": [
      "Training: 100%|██████████| 140/140 [00:39<00:00,  3.56it/s, loss=0.093, acc=48.6] \n",
      "Training: 100%|██████████| 140/140 [00:39<00:00,  3.56it/s, loss=0.093, acc=48.6] \n",
      "Validation: 100%|██████████| 25/25 [00:00<00:00, 42.40it/s]\n",
      "Validation: 100%|██████████| 25/25 [00:00<00:00, 42.40it/s]\n"
     ]
    },
    {
     "name": "stdout",
     "output_type": "stream",
     "text": [
      "\n",
      "📊 Epoch [13/100] - 39.89s - LR: 0.000292\n",
      "   Train Loss: 0.0910 | Train Acc: 48.61% | Train AUC: 0.5014\n",
      "   Val Loss:   0.0885 | Val Acc:   76.24% | Val AUC:   0.5151\n",
      "   ⏱️ No improvement for 12/25 epochs\n",
      "--------------------------------------------------------------------------------\n"
     ]
    },
    {
     "name": "stderr",
     "output_type": "stream",
     "text": [
      "Training: 100%|██████████| 140/140 [00:32<00:00,  4.33it/s, loss=0.0866, acc=50.9]\n",
      "Training: 100%|██████████| 140/140 [00:32<00:00,  4.33it/s, loss=0.0866, acc=50.9]\n",
      "Validation: 100%|██████████| 25/25 [00:00<00:00, 42.28it/s]\n",
      "Validation: 100%|██████████| 25/25 [00:00<00:00, 42.28it/s]\n"
     ]
    },
    {
     "name": "stdout",
     "output_type": "stream",
     "text": [
      "\n",
      "📊 Epoch [14/100] - 32.93s - LR: 0.000291\n",
      "   Train Loss: 0.0908 | Train Acc: 50.90% | Train AUC: 0.4977\n",
      "   Val Loss:   0.0871 | Val Acc:   76.24% | Val AUC:   0.5147\n",
      "   ⏱️ No improvement for 13/25 epochs\n",
      "--------------------------------------------------------------------------------\n"
     ]
    },
    {
     "name": "stderr",
     "output_type": "stream",
     "text": [
      "Training: 100%|██████████| 140/140 [00:31<00:00,  4.38it/s, loss=0.0912, acc=49.5]\n",
      "Training: 100%|██████████| 140/140 [00:31<00:00,  4.38it/s, loss=0.0912, acc=49.5]\n",
      "Validation: 100%|██████████| 25/25 [00:00<00:00, 42.39it/s]\n",
      "Validation: 100%|██████████| 25/25 [00:00<00:00, 42.39it/s]\n"
     ]
    },
    {
     "name": "stdout",
     "output_type": "stream",
     "text": [
      "\n",
      "📊 Epoch [15/100] - 32.58s - LR: 0.000289\n",
      "   Train Loss: 0.0909 | Train Acc: 49.48% | Train AUC: 0.5071\n",
      "   Val Loss:   0.0888 | Val Acc:   76.24% | Val AUC:   0.5003\n",
      "   ⏱️ No improvement for 14/25 epochs\n",
      "--------------------------------------------------------------------------------\n"
     ]
    },
    {
     "name": "stderr",
     "output_type": "stream",
     "text": [
      "Training: 100%|██████████| 140/140 [00:32<00:00,  4.30it/s, loss=0.0906, acc=50]  \n",
      "Training: 100%|██████████| 140/140 [00:32<00:00,  4.30it/s, loss=0.0906, acc=50]\n",
      "Validation: 100%|██████████| 25/25 [00:00<00:00, 40.52it/s]\n",
      "Validation: 100%|██████████| 25/25 [00:00<00:00, 40.52it/s]\n"
     ]
    },
    {
     "name": "stdout",
     "output_type": "stream",
     "text": [
      "\n",
      "📊 Epoch [16/100] - 33.17s - LR: 0.000287\n",
      "   Train Loss: 0.0909 | Train Acc: 50.00% | Train AUC: 0.5044\n",
      "   Val Loss:   0.0881 | Val Acc:   76.24% | Val AUC:   0.5001\n",
      "   ⏱️ No improvement for 15/25 epochs\n",
      "--------------------------------------------------------------------------------\n"
     ]
    },
    {
     "name": "stderr",
     "output_type": "stream",
     "text": [
      "Training: 100%|██████████| 140/140 [00:37<00:00,  3.77it/s, loss=0.0883, acc=49.8]\n",
      "Training: 100%|██████████| 140/140 [00:37<00:00,  3.77it/s, loss=0.0883, acc=49.8]\n",
      "Validation: 100%|██████████| 25/25 [00:00<00:00, 38.41it/s]\n",
      "\n"
     ]
    },
    {
     "name": "stdout",
     "output_type": "stream",
     "text": [
      "\n",
      "📊 Epoch [17/100] - 37.82s - LR: 0.000285\n",
      "   Train Loss: 0.0909 | Train Acc: 49.84% | Train AUC: 0.5019\n",
      "   Val Loss:   0.0882 | Val Acc:   76.24% | Val AUC:   0.5063\n",
      "   ⏱️ No improvement for 16/25 epochs\n",
      "--------------------------------------------------------------------------------\n"
     ]
    },
    {
     "name": "stderr",
     "output_type": "stream",
     "text": [
      "Training: 100%|██████████| 140/140 [00:48<00:00,  2.91it/s, loss=0.0907, acc=49.3]\n",
      "Training: 100%|██████████| 140/140 [00:48<00:00,  2.91it/s, loss=0.0907, acc=49.3]\n",
      "Validation: 100%|██████████| 25/25 [00:00<00:00, 35.12it/s]\n",
      "Validation: 100%|██████████| 25/25 [00:00<00:00, 35.12it/s]\n"
     ]
    },
    {
     "name": "stdout",
     "output_type": "stream",
     "text": [
      "\n",
      "📊 Epoch [18/100] - 48.84s - LR: 0.000283\n",
      "   Train Loss: 0.0909 | Train Acc: 49.28% | Train AUC: 0.5079\n",
      "   Val Loss:   0.0889 | Val Acc:   76.24% | Val AUC:   0.4825\n",
      "   ⏱️ No improvement for 17/25 epochs\n",
      "--------------------------------------------------------------------------------\n"
     ]
    },
    {
     "name": "stderr",
     "output_type": "stream",
     "text": [
      "Training: 100%|██████████| 140/140 [00:54<00:00,  2.58it/s, loss=0.0898, acc=48.4]\n",
      "Training: 100%|██████████| 140/140 [00:54<00:00,  2.58it/s, loss=0.0898, acc=48.4]\n",
      "Validation: 100%|██████████| 25/25 [00:00<00:00, 35.26it/s]\n",
      "Validation: 100%|██████████| 25/25 [00:00<00:00, 35.26it/s]\n"
     ]
    },
    {
     "name": "stdout",
     "output_type": "stream",
     "text": [
      "\n",
      "📊 Epoch [19/100] - 54.91s - LR: 0.000280\n",
      "   Train Loss: 0.0910 | Train Acc: 48.36% | Train AUC: 0.5000\n",
      "   Val Loss:   0.0893 | Val Acc:   76.24% | Val AUC:   0.5036\n",
      "   ⏱️ No improvement for 18/25 epochs\n",
      "--------------------------------------------------------------------------------\n"
     ]
    },
    {
     "name": "stderr",
     "output_type": "stream",
     "text": [
      "Training: 100%|██████████| 140/140 [00:54<00:00,  2.59it/s, loss=0.0916, acc=49.2]\n",
      "Training: 100%|██████████| 140/140 [00:54<00:00,  2.59it/s, loss=0.0916, acc=49.2]\n",
      "Validation: 100%|██████████| 25/25 [00:00<00:00, 35.36it/s]\n",
      "\n"
     ]
    },
    {
     "name": "stdout",
     "output_type": "stream",
     "text": [
      "\n",
      "📊 Epoch [20/100] - 54.74s - LR: 0.000278\n",
      "   Train Loss: 0.0910 | Train Acc: 49.21% | Train AUC: 0.4984\n",
      "   Val Loss:   0.0895 | Val Acc:   76.24% | Val AUC:   0.4926\n",
      "   ⏱️ No improvement for 19/25 epochs\n",
      "--------------------------------------------------------------------------------\n"
     ]
    },
    {
     "name": "stderr",
     "output_type": "stream",
     "text": [
      "Training: 100%|██████████| 140/140 [00:53<00:00,  2.61it/s, loss=0.0895, acc=50.4]\n",
      "Training: 100%|██████████| 140/140 [00:53<00:00,  2.61it/s, loss=0.0895, acc=50.4]\n",
      "Validation: 100%|██████████| 25/25 [00:00<00:00, 36.13it/s]\n",
      "\n"
     ]
    },
    {
     "name": "stdout",
     "output_type": "stream",
     "text": [
      "\n",
      "📊 Epoch [21/100] - 54.43s - LR: 0.000275\n",
      "   Train Loss: 0.0908 | Train Acc: 50.38% | Train AUC: 0.5127\n",
      "   Val Loss:   0.0898 | Val Acc:   76.24% | Val AUC:   0.5023\n",
      "   ⏱️ No improvement for 20/25 epochs\n",
      "--------------------------------------------------------------------------------\n"
     ]
    },
    {
     "name": "stderr",
     "output_type": "stream",
     "text": [
      "Training: 100%|██████████| 140/140 [00:57<00:00,  2.43it/s, loss=0.09, acc=49.8]  \n",
      "Training: 100%|██████████| 140/140 [00:57<00:00,  2.43it/s, loss=0.09, acc=49.8]  \n",
      "Validation: 100%|██████████| 25/25 [00:00<00:00, 33.68it/s]\n",
      "Validation: 100%|██████████| 25/25 [00:00<00:00, 33.68it/s]\n"
     ]
    },
    {
     "name": "stdout",
     "output_type": "stream",
     "text": [
      "\n",
      "📊 Epoch [22/100] - 58.27s - LR: 0.000272\n",
      "   Train Loss: 0.0909 | Train Acc: 49.80% | Train AUC: 0.5009\n",
      "   Val Loss:   0.0883 | Val Acc:   76.24% | Val AUC:   0.4938\n",
      "   ⏱️ No improvement for 21/25 epochs\n",
      "--------------------------------------------------------------------------------\n"
     ]
    },
    {
     "name": "stderr",
     "output_type": "stream",
     "text": [
      "Training: 100%|██████████| 140/140 [00:54<00:00,  2.58it/s, loss=0.0903, acc=50]  \n",
      "Training: 100%|██████████| 140/140 [00:54<00:00,  2.58it/s, loss=0.0903, acc=50]\n",
      "Validation: 100%|██████████| 25/25 [00:00<00:00, 36.79it/s]\n",
      "\n"
     ]
    },
    {
     "name": "stdout",
     "output_type": "stream",
     "text": [
      "\n",
      "📊 Epoch [23/100] - 55.02s - LR: 0.000270\n",
      "   Train Loss: 0.0908 | Train Acc: 49.98% | Train AUC: 0.5046\n",
      "   Val Loss:   0.0888 | Val Acc:   76.24% | Val AUC:   0.4941\n",
      "   ⏱️ No improvement for 22/25 epochs\n",
      "--------------------------------------------------------------------------------\n"
     ]
    },
    {
     "name": "stderr",
     "output_type": "stream",
     "text": [
      "Training: 100%|██████████| 140/140 [00:36<00:00,  3.86it/s, loss=0.0922, acc=49.6]\n",
      "Training: 100%|██████████| 140/140 [00:36<00:00,  3.86it/s, loss=0.0922, acc=49.6]\n",
      "Validation: 100%|██████████| 25/25 [00:00<00:00, 42.34it/s]\n",
      "Validation: 100%|██████████| 25/25 [00:00<00:00, 42.34it/s]\n"
     ]
    },
    {
     "name": "stdout",
     "output_type": "stream",
     "text": [
      "\n",
      "📊 Epoch [24/100] - 36.92s - LR: 0.000267\n",
      "   Train Loss: 0.0909 | Train Acc: 49.64% | Train AUC: 0.5133\n",
      "   Val Loss:   0.0892 | Val Acc:   76.24% | Val AUC:   0.4977\n",
      "   ⏱️ No improvement for 23/25 epochs\n",
      "--------------------------------------------------------------------------------\n"
     ]
    },
    {
     "name": "stderr",
     "output_type": "stream",
     "text": [
      "Training: 100%|██████████| 140/140 [00:30<00:00,  4.57it/s, loss=0.0922, acc=48.8]\n",
      "Training: 100%|██████████| 140/140 [00:30<00:00,  4.57it/s, loss=0.0922, acc=48.8]\n",
      "Validation: 100%|██████████| 25/25 [00:00<00:00, 42.90it/s]\n",
      "Validation: 100%|██████████| 25/25 [00:00<00:00, 42.90it/s]\n"
     ]
    },
    {
     "name": "stdout",
     "output_type": "stream",
     "text": [
      "🚀 Starting training...\n",
      "📊 Training for up to 100 epochs\n",
      "⏱️ Early stopping patience: 25 epochs\n",
      "🔥 Using device: cuda\n",
      "================================================================================\n"
     ]
    },
    {
     "name": "stderr",
     "output_type": "stream",
     "text": [
      "Training: 100%|██████████| 140/140 [00:43<00:00,  3.18it/s, loss=0.0957, acc=49.2]\n",
      "Training: 100%|██████████| 140/140 [00:43<00:00,  3.18it/s, loss=0.0957, acc=49.2]\n",
      "Validation: 100%|██████████| 25/25 [00:00<00:00, 37.42it/s]\n",
      "\n"
     ]
    },
    {
     "name": "stdout",
     "output_type": "stream",
     "text": [
      "\n",
      "📊 Epoch [1/100] - 44.66s - LR: 0.000200\n",
      "   Train Loss: 0.0920 | Train Acc: 49.19% | Train AUC: 0.4932\n",
      "   Val Loss:   0.0868 | Val Acc:   76.24% | Val AUC:   0.5226\n",
      "   ✅ New best model saved! (Val AUC: 0.5226)\n",
      "--------------------------------------------------------------------------------\n"
     ]
    },
    {
     "name": "stderr",
     "output_type": "stream",
     "text": [
      "Training: 100%|██████████| 140/140 [00:40<00:00,  3.48it/s, loss=0.09, acc=49.2]  \n",
      "Training: 100%|██████████| 140/140 [00:40<00:00,  3.48it/s, loss=0.09, acc=49.2]  \n",
      "Validation: 100%|██████████| 25/25 [00:00<00:00, 43.26it/s]\n",
      "Validation: 100%|██████████| 25/25 [00:00<00:00, 43.26it/s]\n"
     ]
    },
    {
     "name": "stdout",
     "output_type": "stream",
     "text": [
      "\n",
      "📊 Epoch [2/100] - 40.80s - LR: 0.000300\n",
      "   Train Loss: 0.0916 | Train Acc: 49.21% | Train AUC: 0.4915\n",
      "   Val Loss:   0.0894 | Val Acc:   76.24% | Val AUC:   0.5081\n",
      "   ⏱️ No improvement for 1/25 epochs\n",
      "--------------------------------------------------------------------------------\n"
     ]
    },
    {
     "name": "stderr",
     "output_type": "stream",
     "text": [
      "Training: 100%|██████████| 140/140 [00:30<00:00,  4.55it/s, loss=0.0904, acc=49.6]\n",
      "Training: 100%|██████████| 140/140 [00:30<00:00,  4.55it/s, loss=0.0904, acc=49.6]\n",
      "Validation: 100%|██████████| 25/25 [00:00<00:00, 42.49it/s]\n",
      "Validation: 100%|██████████| 25/25 [00:00<00:00, 42.49it/s]\n"
     ]
    },
    {
     "name": "stdout",
     "output_type": "stream",
     "text": [
      "\n",
      "📊 Epoch [3/100] - 31.35s - LR: 0.000300\n",
      "   Train Loss: 0.0912 | Train Acc: 49.57% | Train AUC: 0.5020\n",
      "   Val Loss:   0.0866 | Val Acc:   76.24% | Val AUC:   0.5084\n",
      "   ⏱️ No improvement for 2/25 epochs\n",
      "--------------------------------------------------------------------------------\n"
     ]
    },
    {
     "name": "stderr",
     "output_type": "stream",
     "text": [
      "Training: 100%|██████████| 140/140 [00:44<00:00,  3.11it/s, loss=0.0919, acc=50.2]\n",
      "Training: 100%|██████████| 140/140 [00:44<00:00,  3.11it/s, loss=0.0919, acc=50.2]\n",
      "Validation: 100%|██████████| 25/25 [00:00<00:00, 36.29it/s]\n",
      "Validation: 100%|██████████| 25/25 [00:00<00:00, 36.29it/s]\n"
     ]
    },
    {
     "name": "stdout",
     "output_type": "stream",
     "text": [
      "\n",
      "📊 Epoch [4/100] - 45.68s - LR: 0.000300\n",
      "   Train Loss: 0.0911 | Train Acc: 50.25% | Train AUC: 0.4927\n",
      "   Val Loss:   0.0861 | Val Acc:   76.24% | Val AUC:   0.5152\n",
      "   ⏱️ No improvement for 3/25 epochs\n",
      "--------------------------------------------------------------------------------\n"
     ]
    },
    {
     "name": "stderr",
     "output_type": "stream",
     "text": [
      "Training: 100%|██████████| 140/140 [00:52<00:00,  2.68it/s, loss=0.094, acc=50.3] \n",
      "Training: 100%|██████████| 140/140 [00:52<00:00,  2.68it/s, loss=0.094, acc=50.3]\n",
      "Validation: 100%|██████████| 25/25 [00:00<00:00, 36.17it/s]\n",
      "Validation: 100%|██████████| 25/25 [00:00<00:00, 36.17it/s]\n"
     ]
    },
    {
     "name": "stdout",
     "output_type": "stream",
     "text": [
      "\n",
      "📊 Epoch [5/100] - 53.00s - LR: 0.000300\n",
      "   Train Loss: 0.0910 | Train Acc: 50.27% | Train AUC: 0.5113\n",
      "   Val Loss:   0.0889 | Val Acc:   76.24% | Val AUC:   0.5147\n",
      "   ⏱️ No improvement for 4/25 epochs\n",
      "--------------------------------------------------------------------------------\n"
     ]
    },
    {
     "name": "stderr",
     "output_type": "stream",
     "text": [
      "Training: 100%|██████████| 140/140 [00:53<00:00,  2.61it/s, loss=0.0917, acc=50]  \n",
      "Training: 100%|██████████| 140/140 [00:53<00:00,  2.61it/s, loss=0.0917, acc=50]\n",
      "Validation: 100%|██████████| 25/25 [00:00<00:00, 36.34it/s]\n",
      "\n"
     ]
    },
    {
     "name": "stdout",
     "output_type": "stream",
     "text": [
      "\n",
      "📊 Epoch [6/100] - 54.33s - LR: 0.000299\n",
      "   Train Loss: 0.0911 | Train Acc: 49.96% | Train AUC: 0.4963\n",
      "   Val Loss:   0.0886 | Val Acc:   76.24% | Val AUC:   0.4984\n",
      "   ⏱️ No improvement for 5/25 epochs\n",
      "--------------------------------------------------------------------------------\n"
     ]
    },
    {
     "name": "stderr",
     "output_type": "stream",
     "text": [
      "Training: 100%|██████████| 140/140 [00:52<00:00,  2.65it/s, loss=0.0912, acc=48.7]\n",
      "Training: 100%|██████████| 140/140 [00:52<00:00,  2.65it/s, loss=0.0912, acc=48.7]\n",
      "Validation: 100%|██████████| 25/25 [00:00<00:00, 36.03it/s]\n",
      "\n"
     ]
    },
    {
     "name": "stdout",
     "output_type": "stream",
     "text": [
      "\n",
      "📊 Epoch [7/100] - 53.51s - LR: 0.000299\n",
      "   Train Loss: 0.0911 | Train Acc: 48.72% | Train AUC: 0.4976\n",
      "   Val Loss:   0.0896 | Val Acc:   76.24% | Val AUC:   0.4970\n",
      "   ⏱️ No improvement for 6/25 epochs\n",
      "--------------------------------------------------------------------------------\n"
     ]
    },
    {
     "name": "stderr",
     "output_type": "stream",
     "text": [
      "Training: 100%|██████████| 140/140 [00:54<00:00,  2.58it/s, loss=0.0883, acc=50.1]\n",
      "Training: 100%|██████████| 140/140 [00:54<00:00,  2.58it/s, loss=0.0883, acc=50.1]\n",
      "Validation: 100%|██████████| 25/25 [00:00<00:00, 37.40it/s]\n",
      "Validation: 100%|██████████| 25/25 [00:00<00:00, 37.40it/s]\n"
     ]
    },
    {
     "name": "stdout",
     "output_type": "stream",
     "text": [
      "\n",
      "📊 Epoch [8/100] - 55.04s - LR: 0.000298\n",
      "   Train Loss: 0.0909 | Train Acc: 50.07% | Train AUC: 0.4996\n",
      "   Val Loss:   0.0883 | Val Acc:   76.24% | Val AUC:   0.4994\n",
      "   ⏱️ No improvement for 7/25 epochs\n",
      "--------------------------------------------------------------------------------\n"
     ]
    },
    {
     "name": "stderr",
     "output_type": "stream",
     "text": [
      "Training: 100%|██████████| 140/140 [00:54<00:00,  2.55it/s, loss=0.0915, acc=50.4]\n",
      "Training: 100%|██████████| 140/140 [00:54<00:00,  2.55it/s, loss=0.0915, acc=50.4]\n",
      "Validation: 100%|██████████| 25/25 [00:00<00:00, 35.56it/s]\n",
      "Validation: 100%|██████████| 25/25 [00:00<00:00, 35.56it/s]\n"
     ]
    },
    {
     "name": "stdout",
     "output_type": "stream",
     "text": [
      "\n",
      "📊 Epoch [9/100] - 55.59s - LR: 0.000297\n",
      "   Train Loss: 0.0909 | Train Acc: 50.38% | Train AUC: 0.4965\n",
      "   Val Loss:   0.0867 | Val Acc:   76.24% | Val AUC:   0.4891\n",
      "   ⏱️ No improvement for 8/25 epochs\n",
      "--------------------------------------------------------------------------------\n"
     ]
    },
    {
     "name": "stderr",
     "output_type": "stream",
     "text": [
      "Training: 100%|██████████| 140/140 [00:54<00:00,  2.56it/s, loss=0.0876, acc=49.7]\n",
      "Training: 100%|██████████| 140/140 [00:54<00:00,  2.56it/s, loss=0.0876, acc=49.7]\n",
      "Validation: 100%|██████████| 25/25 [00:00<00:00, 34.86it/s]\n",
      "\n"
     ]
    },
    {
     "name": "stdout",
     "output_type": "stream",
     "text": [
      "\n",
      "📊 Epoch [10/100] - 55.46s - LR: 0.000296\n",
      "   Train Loss: 0.0910 | Train Acc: 49.71% | Train AUC: 0.4966\n",
      "   Val Loss:   0.0893 | Val Acc:   76.24% | Val AUC:   0.4880\n",
      "   ⏱️ No improvement for 9/25 epochs\n",
      "--------------------------------------------------------------------------------\n"
     ]
    },
    {
     "name": "stderr",
     "output_type": "stream",
     "text": [
      "Training: 100%|██████████| 140/140 [00:55<00:00,  2.54it/s, loss=0.0937, acc=49.8]\n",
      "Training: 100%|██████████| 140/140 [00:55<00:00,  2.54it/s, loss=0.0937, acc=49.8]\n",
      "Validation: 100%|██████████| 25/25 [00:00<00:00, 36.71it/s]\n",
      "Validation: 100%|██████████| 25/25 [00:00<00:00, 36.71it/s]\n"
     ]
    },
    {
     "name": "stdout",
     "output_type": "stream",
     "text": [
      "\n",
      "📊 Epoch [11/100] - 55.72s - LR: 0.000295\n",
      "   Train Loss: 0.0910 | Train Acc: 49.80% | Train AUC: 0.4939\n",
      "   Val Loss:   0.0884 | Val Acc:   76.24% | Val AUC:   0.4682\n",
      "   ⏱️ No improvement for 10/25 epochs\n",
      "--------------------------------------------------------------------------------\n"
     ]
    },
    {
     "name": "stderr",
     "output_type": "stream",
     "text": [
      "Training: 100%|██████████| 140/140 [01:09<00:00,  2.02it/s, loss=0.0914, acc=51.5]\n",
      "Training: 100%|██████████| 140/140 [01:09<00:00,  2.02it/s, loss=0.0914, acc=51.5]\n",
      "Validation: 100%|██████████| 25/25 [00:01<00:00, 12.88it/s]\n",
      "Validation: 100%|██████████| 25/25 [00:01<00:00, 12.88it/s]\n"
     ]
    },
    {
     "name": "stdout",
     "output_type": "stream",
     "text": [
      "\n",
      "📊 Epoch [12/100] - 71.37s - LR: 0.000294\n",
      "   Train Loss: 0.0907 | Train Acc: 51.46% | Train AUC: 0.5041\n",
      "   Val Loss:   0.0863 | Val Acc:   76.24% | Val AUC:   0.4670\n",
      "   ⏱️ No improvement for 11/25 epochs\n",
      "--------------------------------------------------------------------------------\n"
     ]
    },
    {
     "name": "stderr",
     "output_type": "stream",
     "text": [
      "Training: 100%|██████████| 140/140 [00:39<00:00,  3.56it/s, loss=0.093, acc=48.6] \n",
      "Training: 100%|██████████| 140/140 [00:39<00:00,  3.56it/s, loss=0.093, acc=48.6] \n",
      "Validation: 100%|██████████| 25/25 [00:00<00:00, 42.40it/s]\n",
      "Validation: 100%|██████████| 25/25 [00:00<00:00, 42.40it/s]\n"
     ]
    },
    {
     "name": "stdout",
     "output_type": "stream",
     "text": [
      "\n",
      "📊 Epoch [13/100] - 39.89s - LR: 0.000292\n",
      "   Train Loss: 0.0910 | Train Acc: 48.61% | Train AUC: 0.5014\n",
      "   Val Loss:   0.0885 | Val Acc:   76.24% | Val AUC:   0.5151\n",
      "   ⏱️ No improvement for 12/25 epochs\n",
      "--------------------------------------------------------------------------------\n"
     ]
    },
    {
     "name": "stderr",
     "output_type": "stream",
     "text": [
      "Training: 100%|██████████| 140/140 [00:32<00:00,  4.33it/s, loss=0.0866, acc=50.9]\n",
      "Training: 100%|██████████| 140/140 [00:32<00:00,  4.33it/s, loss=0.0866, acc=50.9]\n",
      "Validation: 100%|██████████| 25/25 [00:00<00:00, 42.28it/s]\n",
      "Validation: 100%|██████████| 25/25 [00:00<00:00, 42.28it/s]\n"
     ]
    },
    {
     "name": "stdout",
     "output_type": "stream",
     "text": [
      "\n",
      "📊 Epoch [14/100] - 32.93s - LR: 0.000291\n",
      "   Train Loss: 0.0908 | Train Acc: 50.90% | Train AUC: 0.4977\n",
      "   Val Loss:   0.0871 | Val Acc:   76.24% | Val AUC:   0.5147\n",
      "   ⏱️ No improvement for 13/25 epochs\n",
      "--------------------------------------------------------------------------------\n"
     ]
    },
    {
     "name": "stderr",
     "output_type": "stream",
     "text": [
      "Training: 100%|██████████| 140/140 [00:31<00:00,  4.38it/s, loss=0.0912, acc=49.5]\n",
      "Training: 100%|██████████| 140/140 [00:31<00:00,  4.38it/s, loss=0.0912, acc=49.5]\n",
      "Validation: 100%|██████████| 25/25 [00:00<00:00, 42.39it/s]\n",
      "Validation: 100%|██████████| 25/25 [00:00<00:00, 42.39it/s]\n"
     ]
    },
    {
     "name": "stdout",
     "output_type": "stream",
     "text": [
      "\n",
      "📊 Epoch [15/100] - 32.58s - LR: 0.000289\n",
      "   Train Loss: 0.0909 | Train Acc: 49.48% | Train AUC: 0.5071\n",
      "   Val Loss:   0.0888 | Val Acc:   76.24% | Val AUC:   0.5003\n",
      "   ⏱️ No improvement for 14/25 epochs\n",
      "--------------------------------------------------------------------------------\n"
     ]
    },
    {
     "name": "stderr",
     "output_type": "stream",
     "text": [
      "Training: 100%|██████████| 140/140 [00:32<00:00,  4.30it/s, loss=0.0906, acc=50]  \n",
      "Training: 100%|██████████| 140/140 [00:32<00:00,  4.30it/s, loss=0.0906, acc=50]\n",
      "Validation: 100%|██████████| 25/25 [00:00<00:00, 40.52it/s]\n",
      "Validation: 100%|██████████| 25/25 [00:00<00:00, 40.52it/s]\n"
     ]
    },
    {
     "name": "stdout",
     "output_type": "stream",
     "text": [
      "\n",
      "📊 Epoch [16/100] - 33.17s - LR: 0.000287\n",
      "   Train Loss: 0.0909 | Train Acc: 50.00% | Train AUC: 0.5044\n",
      "   Val Loss:   0.0881 | Val Acc:   76.24% | Val AUC:   0.5001\n",
      "   ⏱️ No improvement for 15/25 epochs\n",
      "--------------------------------------------------------------------------------\n"
     ]
    },
    {
     "name": "stderr",
     "output_type": "stream",
     "text": [
      "Training: 100%|██████████| 140/140 [00:37<00:00,  3.77it/s, loss=0.0883, acc=49.8]\n",
      "Training: 100%|██████████| 140/140 [00:37<00:00,  3.77it/s, loss=0.0883, acc=49.8]\n",
      "Validation: 100%|██████████| 25/25 [00:00<00:00, 38.41it/s]\n",
      "\n"
     ]
    },
    {
     "name": "stdout",
     "output_type": "stream",
     "text": [
      "\n",
      "📊 Epoch [17/100] - 37.82s - LR: 0.000285\n",
      "   Train Loss: 0.0909 | Train Acc: 49.84% | Train AUC: 0.5019\n",
      "   Val Loss:   0.0882 | Val Acc:   76.24% | Val AUC:   0.5063\n",
      "   ⏱️ No improvement for 16/25 epochs\n",
      "--------------------------------------------------------------------------------\n"
     ]
    },
    {
     "name": "stderr",
     "output_type": "stream",
     "text": [
      "Training: 100%|██████████| 140/140 [00:48<00:00,  2.91it/s, loss=0.0907, acc=49.3]\n",
      "Training: 100%|██████████| 140/140 [00:48<00:00,  2.91it/s, loss=0.0907, acc=49.3]\n",
      "Validation: 100%|██████████| 25/25 [00:00<00:00, 35.12it/s]\n",
      "Validation: 100%|██████████| 25/25 [00:00<00:00, 35.12it/s]\n"
     ]
    },
    {
     "name": "stdout",
     "output_type": "stream",
     "text": [
      "\n",
      "📊 Epoch [18/100] - 48.84s - LR: 0.000283\n",
      "   Train Loss: 0.0909 | Train Acc: 49.28% | Train AUC: 0.5079\n",
      "   Val Loss:   0.0889 | Val Acc:   76.24% | Val AUC:   0.4825\n",
      "   ⏱️ No improvement for 17/25 epochs\n",
      "--------------------------------------------------------------------------------\n"
     ]
    },
    {
     "name": "stderr",
     "output_type": "stream",
     "text": [
      "Training: 100%|██████████| 140/140 [00:54<00:00,  2.58it/s, loss=0.0898, acc=48.4]\n",
      "Training: 100%|██████████| 140/140 [00:54<00:00,  2.58it/s, loss=0.0898, acc=48.4]\n",
      "Validation: 100%|██████████| 25/25 [00:00<00:00, 35.26it/s]\n",
      "Validation: 100%|██████████| 25/25 [00:00<00:00, 35.26it/s]\n"
     ]
    },
    {
     "name": "stdout",
     "output_type": "stream",
     "text": [
      "\n",
      "📊 Epoch [19/100] - 54.91s - LR: 0.000280\n",
      "   Train Loss: 0.0910 | Train Acc: 48.36% | Train AUC: 0.5000\n",
      "   Val Loss:   0.0893 | Val Acc:   76.24% | Val AUC:   0.5036\n",
      "   ⏱️ No improvement for 18/25 epochs\n",
      "--------------------------------------------------------------------------------\n"
     ]
    },
    {
     "name": "stderr",
     "output_type": "stream",
     "text": [
      "Training: 100%|██████████| 140/140 [00:54<00:00,  2.59it/s, loss=0.0916, acc=49.2]\n",
      "Training: 100%|██████████| 140/140 [00:54<00:00,  2.59it/s, loss=0.0916, acc=49.2]\n",
      "Validation: 100%|██████████| 25/25 [00:00<00:00, 35.36it/s]\n",
      "\n"
     ]
    },
    {
     "name": "stdout",
     "output_type": "stream",
     "text": [
      "\n",
      "📊 Epoch [20/100] - 54.74s - LR: 0.000278\n",
      "   Train Loss: 0.0910 | Train Acc: 49.21% | Train AUC: 0.4984\n",
      "   Val Loss:   0.0895 | Val Acc:   76.24% | Val AUC:   0.4926\n",
      "   ⏱️ No improvement for 19/25 epochs\n",
      "--------------------------------------------------------------------------------\n"
     ]
    },
    {
     "name": "stderr",
     "output_type": "stream",
     "text": [
      "Training: 100%|██████████| 140/140 [00:53<00:00,  2.61it/s, loss=0.0895, acc=50.4]\n",
      "Training: 100%|██████████| 140/140 [00:53<00:00,  2.61it/s, loss=0.0895, acc=50.4]\n",
      "Validation: 100%|██████████| 25/25 [00:00<00:00, 36.13it/s]\n",
      "\n"
     ]
    },
    {
     "name": "stdout",
     "output_type": "stream",
     "text": [
      "\n",
      "📊 Epoch [21/100] - 54.43s - LR: 0.000275\n",
      "   Train Loss: 0.0908 | Train Acc: 50.38% | Train AUC: 0.5127\n",
      "   Val Loss:   0.0898 | Val Acc:   76.24% | Val AUC:   0.5023\n",
      "   ⏱️ No improvement for 20/25 epochs\n",
      "--------------------------------------------------------------------------------\n"
     ]
    },
    {
     "name": "stderr",
     "output_type": "stream",
     "text": [
      "Training: 100%|██████████| 140/140 [00:57<00:00,  2.43it/s, loss=0.09, acc=49.8]  \n",
      "Training: 100%|██████████| 140/140 [00:57<00:00,  2.43it/s, loss=0.09, acc=49.8]  \n",
      "Validation: 100%|██████████| 25/25 [00:00<00:00, 33.68it/s]\n",
      "Validation: 100%|██████████| 25/25 [00:00<00:00, 33.68it/s]\n"
     ]
    },
    {
     "name": "stdout",
     "output_type": "stream",
     "text": [
      "\n",
      "📊 Epoch [22/100] - 58.27s - LR: 0.000272\n",
      "   Train Loss: 0.0909 | Train Acc: 49.80% | Train AUC: 0.5009\n",
      "   Val Loss:   0.0883 | Val Acc:   76.24% | Val AUC:   0.4938\n",
      "   ⏱️ No improvement for 21/25 epochs\n",
      "--------------------------------------------------------------------------------\n"
     ]
    },
    {
     "name": "stderr",
     "output_type": "stream",
     "text": [
      "Training: 100%|██████████| 140/140 [00:54<00:00,  2.58it/s, loss=0.0903, acc=50]  \n",
      "Training: 100%|██████████| 140/140 [00:54<00:00,  2.58it/s, loss=0.0903, acc=50]\n",
      "Validation: 100%|██████████| 25/25 [00:00<00:00, 36.79it/s]\n",
      "\n"
     ]
    },
    {
     "name": "stdout",
     "output_type": "stream",
     "text": [
      "\n",
      "📊 Epoch [23/100] - 55.02s - LR: 0.000270\n",
      "   Train Loss: 0.0908 | Train Acc: 49.98% | Train AUC: 0.5046\n",
      "   Val Loss:   0.0888 | Val Acc:   76.24% | Val AUC:   0.4941\n",
      "   ⏱️ No improvement for 22/25 epochs\n",
      "--------------------------------------------------------------------------------\n"
     ]
    },
    {
     "name": "stderr",
     "output_type": "stream",
     "text": [
      "Training: 100%|██████████| 140/140 [00:36<00:00,  3.86it/s, loss=0.0922, acc=49.6]\n",
      "Training: 100%|██████████| 140/140 [00:36<00:00,  3.86it/s, loss=0.0922, acc=49.6]\n",
      "Validation: 100%|██████████| 25/25 [00:00<00:00, 42.34it/s]\n",
      "Validation: 100%|██████████| 25/25 [00:00<00:00, 42.34it/s]\n"
     ]
    },
    {
     "name": "stdout",
     "output_type": "stream",
     "text": [
      "\n",
      "📊 Epoch [24/100] - 36.92s - LR: 0.000267\n",
      "   Train Loss: 0.0909 | Train Acc: 49.64% | Train AUC: 0.5133\n",
      "   Val Loss:   0.0892 | Val Acc:   76.24% | Val AUC:   0.4977\n",
      "   ⏱️ No improvement for 23/25 epochs\n",
      "--------------------------------------------------------------------------------\n"
     ]
    },
    {
     "name": "stderr",
     "output_type": "stream",
     "text": [
      "Training: 100%|██████████| 140/140 [00:30<00:00,  4.57it/s, loss=0.0922, acc=48.8]\n",
      "Training: 100%|██████████| 140/140 [00:30<00:00,  4.57it/s, loss=0.0922, acc=48.8]\n",
      "Validation: 100%|██████████| 25/25 [00:00<00:00, 42.90it/s]\n",
      "Validation: 100%|██████████| 25/25 [00:00<00:00, 42.90it/s]\n"
     ]
    },
    {
     "name": "stdout",
     "output_type": "stream",
     "text": [
      "\n",
      "📊 Epoch [25/100] - 31.25s - LR: 0.000264\n",
      "   Train Loss: 0.0909 | Train Acc: 48.79% | Train AUC: 0.5140\n",
      "   Val Loss:   0.0894 | Val Acc:   76.24% | Val AUC:   0.4879\n",
      "   ⏱️ No improvement for 24/25 epochs\n",
      "--------------------------------------------------------------------------------\n"
     ]
    },
    {
     "name": "stderr",
     "output_type": "stream",
     "text": [
      "Training: 100%|██████████| 140/140 [00:30<00:00,  4.52it/s, loss=0.0895, acc=49.8]\n",
      "Training: 100%|██████████| 140/140 [00:30<00:00,  4.52it/s, loss=0.0895, acc=49.8]\n",
      "Validation: 100%|██████████| 25/25 [00:00<00:00, 43.29it/s]"
     ]
    },
    {
     "name": "stdout",
     "output_type": "stream",
     "text": [
      "🚀 Starting training...\n",
      "📊 Training for up to 100 epochs\n",
      "⏱️ Early stopping patience: 25 epochs\n",
      "🔥 Using device: cuda\n",
      "================================================================================\n"
     ]
    },
    {
     "name": "stderr",
     "output_type": "stream",
     "text": [
      "Training: 100%|██████████| 140/140 [00:43<00:00,  3.18it/s, loss=0.0957, acc=49.2]\n",
      "Training: 100%|██████████| 140/140 [00:43<00:00,  3.18it/s, loss=0.0957, acc=49.2]\n",
      "Validation: 100%|██████████| 25/25 [00:00<00:00, 37.42it/s]\n",
      "\n"
     ]
    },
    {
     "name": "stdout",
     "output_type": "stream",
     "text": [
      "\n",
      "📊 Epoch [1/100] - 44.66s - LR: 0.000200\n",
      "   Train Loss: 0.0920 | Train Acc: 49.19% | Train AUC: 0.4932\n",
      "   Val Loss:   0.0868 | Val Acc:   76.24% | Val AUC:   0.5226\n",
      "   ✅ New best model saved! (Val AUC: 0.5226)\n",
      "--------------------------------------------------------------------------------\n"
     ]
    },
    {
     "name": "stderr",
     "output_type": "stream",
     "text": [
      "Training: 100%|██████████| 140/140 [00:40<00:00,  3.48it/s, loss=0.09, acc=49.2]  \n",
      "Training: 100%|██████████| 140/140 [00:40<00:00,  3.48it/s, loss=0.09, acc=49.2]  \n",
      "Validation: 100%|██████████| 25/25 [00:00<00:00, 43.26it/s]\n",
      "Validation: 100%|██████████| 25/25 [00:00<00:00, 43.26it/s]\n"
     ]
    },
    {
     "name": "stdout",
     "output_type": "stream",
     "text": [
      "\n",
      "📊 Epoch [2/100] - 40.80s - LR: 0.000300\n",
      "   Train Loss: 0.0916 | Train Acc: 49.21% | Train AUC: 0.4915\n",
      "   Val Loss:   0.0894 | Val Acc:   76.24% | Val AUC:   0.5081\n",
      "   ⏱️ No improvement for 1/25 epochs\n",
      "--------------------------------------------------------------------------------\n"
     ]
    },
    {
     "name": "stderr",
     "output_type": "stream",
     "text": [
      "Training: 100%|██████████| 140/140 [00:30<00:00,  4.55it/s, loss=0.0904, acc=49.6]\n",
      "Training: 100%|██████████| 140/140 [00:30<00:00,  4.55it/s, loss=0.0904, acc=49.6]\n",
      "Validation: 100%|██████████| 25/25 [00:00<00:00, 42.49it/s]\n",
      "Validation: 100%|██████████| 25/25 [00:00<00:00, 42.49it/s]\n"
     ]
    },
    {
     "name": "stdout",
     "output_type": "stream",
     "text": [
      "\n",
      "📊 Epoch [3/100] - 31.35s - LR: 0.000300\n",
      "   Train Loss: 0.0912 | Train Acc: 49.57% | Train AUC: 0.5020\n",
      "   Val Loss:   0.0866 | Val Acc:   76.24% | Val AUC:   0.5084\n",
      "   ⏱️ No improvement for 2/25 epochs\n",
      "--------------------------------------------------------------------------------\n"
     ]
    },
    {
     "name": "stderr",
     "output_type": "stream",
     "text": [
      "Training: 100%|██████████| 140/140 [00:44<00:00,  3.11it/s, loss=0.0919, acc=50.2]\n",
      "Training: 100%|██████████| 140/140 [00:44<00:00,  3.11it/s, loss=0.0919, acc=50.2]\n",
      "Validation: 100%|██████████| 25/25 [00:00<00:00, 36.29it/s]\n",
      "Validation: 100%|██████████| 25/25 [00:00<00:00, 36.29it/s]\n"
     ]
    },
    {
     "name": "stdout",
     "output_type": "stream",
     "text": [
      "\n",
      "📊 Epoch [4/100] - 45.68s - LR: 0.000300\n",
      "   Train Loss: 0.0911 | Train Acc: 50.25% | Train AUC: 0.4927\n",
      "   Val Loss:   0.0861 | Val Acc:   76.24% | Val AUC:   0.5152\n",
      "   ⏱️ No improvement for 3/25 epochs\n",
      "--------------------------------------------------------------------------------\n"
     ]
    },
    {
     "name": "stderr",
     "output_type": "stream",
     "text": [
      "Training: 100%|██████████| 140/140 [00:52<00:00,  2.68it/s, loss=0.094, acc=50.3] \n",
      "Training: 100%|██████████| 140/140 [00:52<00:00,  2.68it/s, loss=0.094, acc=50.3]\n",
      "Validation: 100%|██████████| 25/25 [00:00<00:00, 36.17it/s]\n",
      "Validation: 100%|██████████| 25/25 [00:00<00:00, 36.17it/s]\n"
     ]
    },
    {
     "name": "stdout",
     "output_type": "stream",
     "text": [
      "\n",
      "📊 Epoch [5/100] - 53.00s - LR: 0.000300\n",
      "   Train Loss: 0.0910 | Train Acc: 50.27% | Train AUC: 0.5113\n",
      "   Val Loss:   0.0889 | Val Acc:   76.24% | Val AUC:   0.5147\n",
      "   ⏱️ No improvement for 4/25 epochs\n",
      "--------------------------------------------------------------------------------\n"
     ]
    },
    {
     "name": "stderr",
     "output_type": "stream",
     "text": [
      "Training: 100%|██████████| 140/140 [00:53<00:00,  2.61it/s, loss=0.0917, acc=50]  \n",
      "Training: 100%|██████████| 140/140 [00:53<00:00,  2.61it/s, loss=0.0917, acc=50]\n",
      "Validation: 100%|██████████| 25/25 [00:00<00:00, 36.34it/s]\n",
      "\n"
     ]
    },
    {
     "name": "stdout",
     "output_type": "stream",
     "text": [
      "\n",
      "📊 Epoch [6/100] - 54.33s - LR: 0.000299\n",
      "   Train Loss: 0.0911 | Train Acc: 49.96% | Train AUC: 0.4963\n",
      "   Val Loss:   0.0886 | Val Acc:   76.24% | Val AUC:   0.4984\n",
      "   ⏱️ No improvement for 5/25 epochs\n",
      "--------------------------------------------------------------------------------\n"
     ]
    },
    {
     "name": "stderr",
     "output_type": "stream",
     "text": [
      "Training: 100%|██████████| 140/140 [00:52<00:00,  2.65it/s, loss=0.0912, acc=48.7]\n",
      "Training: 100%|██████████| 140/140 [00:52<00:00,  2.65it/s, loss=0.0912, acc=48.7]\n",
      "Validation: 100%|██████████| 25/25 [00:00<00:00, 36.03it/s]\n",
      "\n"
     ]
    },
    {
     "name": "stdout",
     "output_type": "stream",
     "text": [
      "\n",
      "📊 Epoch [7/100] - 53.51s - LR: 0.000299\n",
      "   Train Loss: 0.0911 | Train Acc: 48.72% | Train AUC: 0.4976\n",
      "   Val Loss:   0.0896 | Val Acc:   76.24% | Val AUC:   0.4970\n",
      "   ⏱️ No improvement for 6/25 epochs\n",
      "--------------------------------------------------------------------------------\n"
     ]
    },
    {
     "name": "stderr",
     "output_type": "stream",
     "text": [
      "Training: 100%|██████████| 140/140 [00:54<00:00,  2.58it/s, loss=0.0883, acc=50.1]\n",
      "Training: 100%|██████████| 140/140 [00:54<00:00,  2.58it/s, loss=0.0883, acc=50.1]\n",
      "Validation: 100%|██████████| 25/25 [00:00<00:00, 37.40it/s]\n",
      "Validation: 100%|██████████| 25/25 [00:00<00:00, 37.40it/s]\n"
     ]
    },
    {
     "name": "stdout",
     "output_type": "stream",
     "text": [
      "\n",
      "📊 Epoch [8/100] - 55.04s - LR: 0.000298\n",
      "   Train Loss: 0.0909 | Train Acc: 50.07% | Train AUC: 0.4996\n",
      "   Val Loss:   0.0883 | Val Acc:   76.24% | Val AUC:   0.4994\n",
      "   ⏱️ No improvement for 7/25 epochs\n",
      "--------------------------------------------------------------------------------\n"
     ]
    },
    {
     "name": "stderr",
     "output_type": "stream",
     "text": [
      "Training: 100%|██████████| 140/140 [00:54<00:00,  2.55it/s, loss=0.0915, acc=50.4]\n",
      "Training: 100%|██████████| 140/140 [00:54<00:00,  2.55it/s, loss=0.0915, acc=50.4]\n",
      "Validation: 100%|██████████| 25/25 [00:00<00:00, 35.56it/s]\n",
      "Validation: 100%|██████████| 25/25 [00:00<00:00, 35.56it/s]\n"
     ]
    },
    {
     "name": "stdout",
     "output_type": "stream",
     "text": [
      "\n",
      "📊 Epoch [9/100] - 55.59s - LR: 0.000297\n",
      "   Train Loss: 0.0909 | Train Acc: 50.38% | Train AUC: 0.4965\n",
      "   Val Loss:   0.0867 | Val Acc:   76.24% | Val AUC:   0.4891\n",
      "   ⏱️ No improvement for 8/25 epochs\n",
      "--------------------------------------------------------------------------------\n"
     ]
    },
    {
     "name": "stderr",
     "output_type": "stream",
     "text": [
      "Training: 100%|██████████| 140/140 [00:54<00:00,  2.56it/s, loss=0.0876, acc=49.7]\n",
      "Training: 100%|██████████| 140/140 [00:54<00:00,  2.56it/s, loss=0.0876, acc=49.7]\n",
      "Validation: 100%|██████████| 25/25 [00:00<00:00, 34.86it/s]\n",
      "\n"
     ]
    },
    {
     "name": "stdout",
     "output_type": "stream",
     "text": [
      "\n",
      "📊 Epoch [10/100] - 55.46s - LR: 0.000296\n",
      "   Train Loss: 0.0910 | Train Acc: 49.71% | Train AUC: 0.4966\n",
      "   Val Loss:   0.0893 | Val Acc:   76.24% | Val AUC:   0.4880\n",
      "   ⏱️ No improvement for 9/25 epochs\n",
      "--------------------------------------------------------------------------------\n"
     ]
    },
    {
     "name": "stderr",
     "output_type": "stream",
     "text": [
      "Training: 100%|██████████| 140/140 [00:55<00:00,  2.54it/s, loss=0.0937, acc=49.8]\n",
      "Training: 100%|██████████| 140/140 [00:55<00:00,  2.54it/s, loss=0.0937, acc=49.8]\n",
      "Validation: 100%|██████████| 25/25 [00:00<00:00, 36.71it/s]\n",
      "Validation: 100%|██████████| 25/25 [00:00<00:00, 36.71it/s]\n"
     ]
    },
    {
     "name": "stdout",
     "output_type": "stream",
     "text": [
      "\n",
      "📊 Epoch [11/100] - 55.72s - LR: 0.000295\n",
      "   Train Loss: 0.0910 | Train Acc: 49.80% | Train AUC: 0.4939\n",
      "   Val Loss:   0.0884 | Val Acc:   76.24% | Val AUC:   0.4682\n",
      "   ⏱️ No improvement for 10/25 epochs\n",
      "--------------------------------------------------------------------------------\n"
     ]
    },
    {
     "name": "stderr",
     "output_type": "stream",
     "text": [
      "Training: 100%|██████████| 140/140 [01:09<00:00,  2.02it/s, loss=0.0914, acc=51.5]\n",
      "Training: 100%|██████████| 140/140 [01:09<00:00,  2.02it/s, loss=0.0914, acc=51.5]\n",
      "Validation: 100%|██████████| 25/25 [00:01<00:00, 12.88it/s]\n",
      "Validation: 100%|██████████| 25/25 [00:01<00:00, 12.88it/s]\n"
     ]
    },
    {
     "name": "stdout",
     "output_type": "stream",
     "text": [
      "\n",
      "📊 Epoch [12/100] - 71.37s - LR: 0.000294\n",
      "   Train Loss: 0.0907 | Train Acc: 51.46% | Train AUC: 0.5041\n",
      "   Val Loss:   0.0863 | Val Acc:   76.24% | Val AUC:   0.4670\n",
      "   ⏱️ No improvement for 11/25 epochs\n",
      "--------------------------------------------------------------------------------\n"
     ]
    },
    {
     "name": "stderr",
     "output_type": "stream",
     "text": [
      "Training: 100%|██████████| 140/140 [00:39<00:00,  3.56it/s, loss=0.093, acc=48.6] \n",
      "Training: 100%|██████████| 140/140 [00:39<00:00,  3.56it/s, loss=0.093, acc=48.6] \n",
      "Validation: 100%|██████████| 25/25 [00:00<00:00, 42.40it/s]\n",
      "Validation: 100%|██████████| 25/25 [00:00<00:00, 42.40it/s]\n"
     ]
    },
    {
     "name": "stdout",
     "output_type": "stream",
     "text": [
      "\n",
      "📊 Epoch [13/100] - 39.89s - LR: 0.000292\n",
      "   Train Loss: 0.0910 | Train Acc: 48.61% | Train AUC: 0.5014\n",
      "   Val Loss:   0.0885 | Val Acc:   76.24% | Val AUC:   0.5151\n",
      "   ⏱️ No improvement for 12/25 epochs\n",
      "--------------------------------------------------------------------------------\n"
     ]
    },
    {
     "name": "stderr",
     "output_type": "stream",
     "text": [
      "Training: 100%|██████████| 140/140 [00:32<00:00,  4.33it/s, loss=0.0866, acc=50.9]\n",
      "Training: 100%|██████████| 140/140 [00:32<00:00,  4.33it/s, loss=0.0866, acc=50.9]\n",
      "Validation: 100%|██████████| 25/25 [00:00<00:00, 42.28it/s]\n",
      "Validation: 100%|██████████| 25/25 [00:00<00:00, 42.28it/s]\n"
     ]
    },
    {
     "name": "stdout",
     "output_type": "stream",
     "text": [
      "\n",
      "📊 Epoch [14/100] - 32.93s - LR: 0.000291\n",
      "   Train Loss: 0.0908 | Train Acc: 50.90% | Train AUC: 0.4977\n",
      "   Val Loss:   0.0871 | Val Acc:   76.24% | Val AUC:   0.5147\n",
      "   ⏱️ No improvement for 13/25 epochs\n",
      "--------------------------------------------------------------------------------\n"
     ]
    },
    {
     "name": "stderr",
     "output_type": "stream",
     "text": [
      "Training: 100%|██████████| 140/140 [00:31<00:00,  4.38it/s, loss=0.0912, acc=49.5]\n",
      "Training: 100%|██████████| 140/140 [00:31<00:00,  4.38it/s, loss=0.0912, acc=49.5]\n",
      "Validation: 100%|██████████| 25/25 [00:00<00:00, 42.39it/s]\n",
      "Validation: 100%|██████████| 25/25 [00:00<00:00, 42.39it/s]\n"
     ]
    },
    {
     "name": "stdout",
     "output_type": "stream",
     "text": [
      "\n",
      "📊 Epoch [15/100] - 32.58s - LR: 0.000289\n",
      "   Train Loss: 0.0909 | Train Acc: 49.48% | Train AUC: 0.5071\n",
      "   Val Loss:   0.0888 | Val Acc:   76.24% | Val AUC:   0.5003\n",
      "   ⏱️ No improvement for 14/25 epochs\n",
      "--------------------------------------------------------------------------------\n"
     ]
    },
    {
     "name": "stderr",
     "output_type": "stream",
     "text": [
      "Training: 100%|██████████| 140/140 [00:32<00:00,  4.30it/s, loss=0.0906, acc=50]  \n",
      "Training: 100%|██████████| 140/140 [00:32<00:00,  4.30it/s, loss=0.0906, acc=50]\n",
      "Validation: 100%|██████████| 25/25 [00:00<00:00, 40.52it/s]\n",
      "Validation: 100%|██████████| 25/25 [00:00<00:00, 40.52it/s]\n"
     ]
    },
    {
     "name": "stdout",
     "output_type": "stream",
     "text": [
      "\n",
      "📊 Epoch [16/100] - 33.17s - LR: 0.000287\n",
      "   Train Loss: 0.0909 | Train Acc: 50.00% | Train AUC: 0.5044\n",
      "   Val Loss:   0.0881 | Val Acc:   76.24% | Val AUC:   0.5001\n",
      "   ⏱️ No improvement for 15/25 epochs\n",
      "--------------------------------------------------------------------------------\n"
     ]
    },
    {
     "name": "stderr",
     "output_type": "stream",
     "text": [
      "Training: 100%|██████████| 140/140 [00:37<00:00,  3.77it/s, loss=0.0883, acc=49.8]\n",
      "Training: 100%|██████████| 140/140 [00:37<00:00,  3.77it/s, loss=0.0883, acc=49.8]\n",
      "Validation: 100%|██████████| 25/25 [00:00<00:00, 38.41it/s]\n",
      "\n"
     ]
    },
    {
     "name": "stdout",
     "output_type": "stream",
     "text": [
      "\n",
      "📊 Epoch [17/100] - 37.82s - LR: 0.000285\n",
      "   Train Loss: 0.0909 | Train Acc: 49.84% | Train AUC: 0.5019\n",
      "   Val Loss:   0.0882 | Val Acc:   76.24% | Val AUC:   0.5063\n",
      "   ⏱️ No improvement for 16/25 epochs\n",
      "--------------------------------------------------------------------------------\n"
     ]
    },
    {
     "name": "stderr",
     "output_type": "stream",
     "text": [
      "Training: 100%|██████████| 140/140 [00:48<00:00,  2.91it/s, loss=0.0907, acc=49.3]\n",
      "Training: 100%|██████████| 140/140 [00:48<00:00,  2.91it/s, loss=0.0907, acc=49.3]\n",
      "Validation: 100%|██████████| 25/25 [00:00<00:00, 35.12it/s]\n",
      "Validation: 100%|██████████| 25/25 [00:00<00:00, 35.12it/s]\n"
     ]
    },
    {
     "name": "stdout",
     "output_type": "stream",
     "text": [
      "\n",
      "📊 Epoch [18/100] - 48.84s - LR: 0.000283\n",
      "   Train Loss: 0.0909 | Train Acc: 49.28% | Train AUC: 0.5079\n",
      "   Val Loss:   0.0889 | Val Acc:   76.24% | Val AUC:   0.4825\n",
      "   ⏱️ No improvement for 17/25 epochs\n",
      "--------------------------------------------------------------------------------\n"
     ]
    },
    {
     "name": "stderr",
     "output_type": "stream",
     "text": [
      "Training: 100%|██████████| 140/140 [00:54<00:00,  2.58it/s, loss=0.0898, acc=48.4]\n",
      "Training: 100%|██████████| 140/140 [00:54<00:00,  2.58it/s, loss=0.0898, acc=48.4]\n",
      "Validation: 100%|██████████| 25/25 [00:00<00:00, 35.26it/s]\n",
      "Validation: 100%|██████████| 25/25 [00:00<00:00, 35.26it/s]\n"
     ]
    },
    {
     "name": "stdout",
     "output_type": "stream",
     "text": [
      "\n",
      "📊 Epoch [19/100] - 54.91s - LR: 0.000280\n",
      "   Train Loss: 0.0910 | Train Acc: 48.36% | Train AUC: 0.5000\n",
      "   Val Loss:   0.0893 | Val Acc:   76.24% | Val AUC:   0.5036\n",
      "   ⏱️ No improvement for 18/25 epochs\n",
      "--------------------------------------------------------------------------------\n"
     ]
    },
    {
     "name": "stderr",
     "output_type": "stream",
     "text": [
      "Training: 100%|██████████| 140/140 [00:54<00:00,  2.59it/s, loss=0.0916, acc=49.2]\n",
      "Training: 100%|██████████| 140/140 [00:54<00:00,  2.59it/s, loss=0.0916, acc=49.2]\n",
      "Validation: 100%|██████████| 25/25 [00:00<00:00, 35.36it/s]\n",
      "\n"
     ]
    },
    {
     "name": "stdout",
     "output_type": "stream",
     "text": [
      "\n",
      "📊 Epoch [20/100] - 54.74s - LR: 0.000278\n",
      "   Train Loss: 0.0910 | Train Acc: 49.21% | Train AUC: 0.4984\n",
      "   Val Loss:   0.0895 | Val Acc:   76.24% | Val AUC:   0.4926\n",
      "   ⏱️ No improvement for 19/25 epochs\n",
      "--------------------------------------------------------------------------------\n"
     ]
    },
    {
     "name": "stderr",
     "output_type": "stream",
     "text": [
      "Training: 100%|██████████| 140/140 [00:53<00:00,  2.61it/s, loss=0.0895, acc=50.4]\n",
      "Training: 100%|██████████| 140/140 [00:53<00:00,  2.61it/s, loss=0.0895, acc=50.4]\n",
      "Validation: 100%|██████████| 25/25 [00:00<00:00, 36.13it/s]\n",
      "\n"
     ]
    },
    {
     "name": "stdout",
     "output_type": "stream",
     "text": [
      "\n",
      "📊 Epoch [21/100] - 54.43s - LR: 0.000275\n",
      "   Train Loss: 0.0908 | Train Acc: 50.38% | Train AUC: 0.5127\n",
      "   Val Loss:   0.0898 | Val Acc:   76.24% | Val AUC:   0.5023\n",
      "   ⏱️ No improvement for 20/25 epochs\n",
      "--------------------------------------------------------------------------------\n"
     ]
    },
    {
     "name": "stderr",
     "output_type": "stream",
     "text": [
      "Training: 100%|██████████| 140/140 [00:57<00:00,  2.43it/s, loss=0.09, acc=49.8]  \n",
      "Training: 100%|██████████| 140/140 [00:57<00:00,  2.43it/s, loss=0.09, acc=49.8]  \n",
      "Validation: 100%|██████████| 25/25 [00:00<00:00, 33.68it/s]\n",
      "Validation: 100%|██████████| 25/25 [00:00<00:00, 33.68it/s]\n"
     ]
    },
    {
     "name": "stdout",
     "output_type": "stream",
     "text": [
      "\n",
      "📊 Epoch [22/100] - 58.27s - LR: 0.000272\n",
      "   Train Loss: 0.0909 | Train Acc: 49.80% | Train AUC: 0.5009\n",
      "   Val Loss:   0.0883 | Val Acc:   76.24% | Val AUC:   0.4938\n",
      "   ⏱️ No improvement for 21/25 epochs\n",
      "--------------------------------------------------------------------------------\n"
     ]
    },
    {
     "name": "stderr",
     "output_type": "stream",
     "text": [
      "Training: 100%|██████████| 140/140 [00:54<00:00,  2.58it/s, loss=0.0903, acc=50]  \n",
      "Training: 100%|██████████| 140/140 [00:54<00:00,  2.58it/s, loss=0.0903, acc=50]\n",
      "Validation: 100%|██████████| 25/25 [00:00<00:00, 36.79it/s]\n",
      "\n"
     ]
    },
    {
     "name": "stdout",
     "output_type": "stream",
     "text": [
      "\n",
      "📊 Epoch [23/100] - 55.02s - LR: 0.000270\n",
      "   Train Loss: 0.0908 | Train Acc: 49.98% | Train AUC: 0.5046\n",
      "   Val Loss:   0.0888 | Val Acc:   76.24% | Val AUC:   0.4941\n",
      "   ⏱️ No improvement for 22/25 epochs\n",
      "--------------------------------------------------------------------------------\n"
     ]
    },
    {
     "name": "stderr",
     "output_type": "stream",
     "text": [
      "Training: 100%|██████████| 140/140 [00:36<00:00,  3.86it/s, loss=0.0922, acc=49.6]\n",
      "Training: 100%|██████████| 140/140 [00:36<00:00,  3.86it/s, loss=0.0922, acc=49.6]\n",
      "Validation: 100%|██████████| 25/25 [00:00<00:00, 42.34it/s]\n",
      "Validation: 100%|██████████| 25/25 [00:00<00:00, 42.34it/s]\n"
     ]
    },
    {
     "name": "stdout",
     "output_type": "stream",
     "text": [
      "\n",
      "📊 Epoch [24/100] - 36.92s - LR: 0.000267\n",
      "   Train Loss: 0.0909 | Train Acc: 49.64% | Train AUC: 0.5133\n",
      "   Val Loss:   0.0892 | Val Acc:   76.24% | Val AUC:   0.4977\n",
      "   ⏱️ No improvement for 23/25 epochs\n",
      "--------------------------------------------------------------------------------\n"
     ]
    },
    {
     "name": "stderr",
     "output_type": "stream",
     "text": [
      "Training: 100%|██████████| 140/140 [00:30<00:00,  4.57it/s, loss=0.0922, acc=48.8]\n",
      "Training: 100%|██████████| 140/140 [00:30<00:00,  4.57it/s, loss=0.0922, acc=48.8]\n",
      "Validation: 100%|██████████| 25/25 [00:00<00:00, 42.90it/s]\n",
      "Validation: 100%|██████████| 25/25 [00:00<00:00, 42.90it/s]\n"
     ]
    },
    {
     "name": "stdout",
     "output_type": "stream",
     "text": [
      "\n",
      "📊 Epoch [25/100] - 31.25s - LR: 0.000264\n",
      "   Train Loss: 0.0909 | Train Acc: 48.79% | Train AUC: 0.5140\n",
      "   Val Loss:   0.0894 | Val Acc:   76.24% | Val AUC:   0.4879\n",
      "   ⏱️ No improvement for 24/25 epochs\n",
      "--------------------------------------------------------------------------------\n"
     ]
    },
    {
     "name": "stderr",
     "output_type": "stream",
     "text": [
      "Training: 100%|██████████| 140/140 [00:30<00:00,  4.52it/s, loss=0.0895, acc=49.8]\n",
      "Training: 100%|██████████| 140/140 [00:30<00:00,  4.52it/s, loss=0.0895, acc=49.8]\n",
      "Validation: 100%|██████████| 25/25 [00:00<00:00, 43.29it/s]"
     ]
    },
    {
     "name": "stdout",
     "output_type": "stream",
     "text": [
      "\n",
      "📊 Epoch [26/100] - 31.55s - LR: 0.000260\n",
      "   Train Loss: 0.0908 | Train Acc: 49.84% | Train AUC: 0.5172\n",
      "   Val Loss:   0.0883 | Val Acc:   76.24% | Val AUC:   0.4825\n",
      "   ⏱️ No improvement for 25/25 epochs\n",
      "\n",
      "⏹️ Early stopping triggered after 26 epochs\n",
      "\n",
      "✅ Training completed in 20.31 minutes\n",
      "🏆 Best validation AUC: 0.5226\n"
     ]
    },
    {
     "name": "stderr",
     "output_type": "stream",
     "text": [
      "\n"
     ]
    }
   ],
   "source": [
    "# Training loop with early stopping\n",
    "best_val_auc = 0.0\n",
    "patience_counter = 0\n",
    "train_losses = []\n",
    "val_losses = []\n",
    "train_accs = []\n",
    "val_accs = []\n",
    "train_aucs = []\n",
    "val_aucs = []\n",
    "\n",
    "print(\"🚀 Starting training...\")\n",
    "print(f\"📊 Training for up to {config.NUM_EPOCHS} epochs\")\n",
    "print(f\"⏱️ Early stopping patience: {config.PATIENCE} epochs\")\n",
    "print(f\"🔥 Using device: {config.DEVICE}\")\n",
    "print(\"=\" * 80)\n",
    "\n",
    "start_time = time.time()\n",
    "\n",
    "for epoch in range(config.NUM_EPOCHS):\n",
    "    epoch_start = time.time()\n",
    "    \n",
    "    # Train\n",
    "    train_loss, train_acc, train_auc = train_epoch(\n",
    "        model, train_loader, criterion, optimizer, scaler, config.DEVICE\n",
    "    )\n",
    "    \n",
    "    # Validate\n",
    "    val_loss, val_acc, val_auc, _, _ = validate(\n",
    "        model, val_loader, criterion, config.DEVICE\n",
    "    )\n",
    "    \n",
    "    # Update learning rate\n",
    "    scheduler.step()\n",
    "    current_lr = optimizer.param_groups[0]['lr']\n",
    "    \n",
    "    # Save metrics\n",
    "    train_losses.append(train_loss)\n",
    "    val_losses.append(val_loss)\n",
    "    train_accs.append(train_acc)\n",
    "    val_accs.append(val_acc)\n",
    "    train_aucs.append(train_auc)\n",
    "    val_aucs.append(val_auc)\n",
    "    \n",
    "    epoch_time = time.time() - epoch_start\n",
    "    \n",
    "    # Print progress\n",
    "    print(f\"\\n📊 Epoch [{epoch+1}/{config.NUM_EPOCHS}] - {epoch_time:.2f}s - LR: {current_lr:.6f}\")\n",
    "    print(f\"   Train Loss: {train_loss:.4f} | Train Acc: {train_acc:.2f}% | Train AUC: {train_auc:.4f}\")\n",
    "    print(f\"   Val Loss:   {val_loss:.4f} | Val Acc:   {val_acc:.2f}% | Val AUC:   {val_auc:.4f}\")\n",
    "    \n",
    "    # Save best model\n",
    "    if val_auc > best_val_auc:\n",
    "        best_val_auc = val_auc\n",
    "        patience_counter = 0\n",
    "        torch.save({\n",
    "            'epoch': epoch,\n",
    "            'model_state_dict': model.state_dict(),\n",
    "            'optimizer_state_dict': optimizer.state_dict(),\n",
    "            'scheduler_state_dict': scheduler.state_dict(),\n",
    "            'val_auc': val_auc,\n",
    "            'val_loss': val_loss,\n",
    "        }, config.MODEL_SAVE_DIR / 'best_cnn_model.pth')\n",
    "        print(f\"   ✅ New best model saved! (Val AUC: {val_auc:.4f})\")\n",
    "    else:\n",
    "        patience_counter += 1\n",
    "        print(f\"   ⏱️ No improvement for {patience_counter}/{config.PATIENCE} epochs\")\n",
    "    \n",
    "    # Early stopping\n",
    "    if patience_counter >= config.PATIENCE:\n",
    "        print(f\"\\n⏹️ Early stopping triggered after {epoch+1} epochs\")\n",
    "        break\n",
    "    \n",
    "    print(\"-\" * 80)\n",
    "\n",
    "total_time = time.time() - start_time\n",
    "print(f\"\\n✅ Training completed in {total_time/60:.2f} minutes\")\n",
    "print(f\"🏆 Best validation AUC: {best_val_auc:.4f}\")"
   ]
  },
  {
   "cell_type": "markdown",
   "id": "cb305c69",
   "metadata": {},
   "source": [
    "## 10. 📈 Training Curves Visualization"
   ]
  },
  {
   "cell_type": "code",
   "execution_count": 38,
   "id": "b4df42a2",
   "metadata": {},
   "outputs": [
    {
     "data": {
      "image/png": "[encoded data removed]",
      "text/plain": [
       "<Figure size 1800x500 with 3 Axes>"
      ]
     },
     "metadata": {},
     "output_type": "display_data"
    },
    {
     "name": "stdout",
     "output_type": "stream",
     "text": [
      "✅ Training curves plotted!\n"
     ]
    }
   ],
   "source": [
    "# Plot training curves\n",
    "fig, axes = plt.subplots(1, 3, figsize=(18, 5))\n",
    "\n",
    "# Loss\n",
    "axes[0].plot(train_losses, label='Train Loss', marker='o')\n",
    "axes[0].plot(val_losses, label='Val Loss', marker='s')\n",
    "axes[0].set_xlabel('Epoch')\n",
    "axes[0].set_ylabel('Loss')\n",
    "axes[0].set_title('Training and Validation Loss')\n",
    "axes[0].legend()\n",
    "axes[0].grid(True, alpha=0.3)\n",
    "\n",
    "# Accuracy\n",
    "axes[1].plot(train_accs, label='Train Acc', marker='o')\n",
    "axes[1].plot(val_accs, label='Val Acc', marker='s')\n",
    "axes[1].set_xlabel('Epoch')\n",
    "axes[1].set_ylabel('Accuracy (%)')\n",
    "axes[1].set_title('Training and Validation Accuracy')\n",
    "axes[1].legend()\n",
    "axes[1].grid(True, alpha=0.3)\n",
    "\n",
    "# AUC\n",
    "axes[2].plot(train_aucs, label='Train AUC', marker='o')\n",
    "axes[2].plot(val_aucs, label='Val AUC', marker='s')\n",
    "axes[2].set_xlabel('Epoch')\n",
    "axes[2].set_ylabel('AUC')\n",
    "axes[2].set_title('Training and Validation AUC')\n",
    "axes[2].legend()\n",
    "axes[2].grid(True, alpha=0.3)\n",
    "\n",
    "plt.tight_layout()\n",
    "plt.show()\n",
    "\n",
    "print(\"✅ Training curves plotted!\")"
   ]
  },
  {
   "cell_type": "markdown",
   "id": "ccae4c42",
   "metadata": {},
   "source": [
    "## 11. 🧪 Test Set Evaluation"
   ]
  },
  {
   "cell_type": "code",
   "execution_count": 46,
   "id": "04cca6e2",
   "metadata": {},
   "outputs": [
    {
     "name": "stdout",
     "output_type": "stream",
     "text": [
      "✅ Loaded best model from epoch 1\n",
      "   Validation AUC: 0.5226\n"
     ]
    },
    {
     "name": "stderr",
     "output_type": "stream",
     "text": [
      "Testing: 100%|██████████| 41/41 [00:01<00:00, 34.87it/s]"
     ]
    },
    {
     "name": "stdout",
     "output_type": "stream",
     "text": [
      "✅ Loaded best model from epoch 1\n",
      "   Validation AUC: 0.5226\n"
     ]
    },
    {
     "name": "stderr",
     "output_type": "stream",
     "text": [
      "Testing: 100%|██████████| 41/41 [00:01<00:00, 34.87it/s]"
     ]
    },
    {
     "name": "stdout",
     "output_type": "stream",
     "text": [
      "\n",
      "📊 Test Set Results:\n",
      "   Accuracy: 76.22%\n",
      "   AUC-ROC: 0.5050\n"
     ]
    },
    {
     "name": "stderr",
     "output_type": "stream",
     "text": [
      "\n"
     ]
    }
   ],
   "source": [
    "# Load best model\n",
    "checkpoint = torch.load(config.MODEL_SAVE_DIR / 'best_cnn_model.pth', weights_only=False)\n",
    "model.load_state_dict(checkpoint['model_state_dict'])\n",
    "print(f\"✅ Loaded best model from epoch {checkpoint['epoch']+1}\")\n",
    "print(f\"   Validation AUC: {checkpoint['val_auc']:.4f}\")\n",
    "\n",
    "# Evaluate on test set\n",
    "model.eval()\n",
    "test_preds = []\n",
    "test_labels = []\n",
    "test_probs = []\n",
    "\n",
    "with torch.no_grad():\n",
    "    for inputs, labels in tqdm(test_loader, desc='Testing'):\n",
    "        inputs = inputs.to(config.DEVICE)\n",
    "        \n",
    "        if config.DEVICE.type == 'cuda':\n",
    "            with torch.cuda.amp.autocast():\n",
    "                outputs = model(inputs)\n",
    "        else:\n",
    "            outputs = model(inputs)\n",
    "        \n",
    "        probs = F.softmax(outputs, dim=1)\n",
    "        _, predicted = torch.max(outputs, 1)\n",
    "        \n",
    "        test_preds.extend(predicted.cpu().numpy())\n",
    "        test_labels.extend(labels.numpy())\n",
    "        test_probs.extend(probs[:, 1].cpu().numpy())\n",
    "\n",
    "test_preds = np.array(test_preds)\n",
    "test_labels = np.array(test_labels)\n",
    "test_probs = np.array(test_probs)\n",
    "\n",
    "# Calculate metrics\n",
    "test_auc = roc_auc_score(test_labels, test_probs)\n",
    "test_acc = 100 * (test_preds == test_labels).sum() / len(test_labels)\n",
    "\n",
    "print(f\"\\n📊 Test Set Results:\")\n",
    "print(f\"   Accuracy: {test_acc:.2f}%\")\n",
    "print(f\"   AUC-ROC: {test_auc:.4f}\")"
   ]
  },
  {
   "cell_type": "code",
   "execution_count": 47,
   "id": "02696e66",
   "metadata": {},
   "outputs": [
    {
     "data": {
      "image/png": "[encoded data removed]",
      "text/plain": [
       "<Figure size 800x600 with 2 Axes>"
      ]
     },
     "metadata": {},
     "output_type": "display_data"
    },
    {
     "name": "stdout",
     "output_type": "stream",
     "text": [
      "\n",
      "📊 Confusion Matrix:\n",
      "[[1000    0]\n",
      " [ 312    0]]\n",
      "\n",
      "Interpretation:\n",
      "  True Negatives (TN): 1000 - Correctly identified non-nodules\n",
      "  False Positives (FP): 0 - Non-nodules incorrectly classified as nodules\n",
      "  False Negatives (FN): 312 - Nodules incorrectly classified as non-nodules\n",
      "  True Positives (TP): 0 - Correctly identified nodules\n",
      "\n",
      "🎯 Key Metrics:\n",
      "  Sensitivity (Recall): 0.00% - Ability to detect nodules\n",
      "  Specificity: 100.00% - Ability to identify non-nodules\n",
      "  Precision: N/A\n"
     ]
    }
   ],
   "source": [
    "# Confusion Matrix\n",
    "cm = confusion_matrix(test_labels, test_preds)\n",
    "\n",
    "plt.figure(figsize=(8, 6))\n",
    "sns.heatmap(cm, annot=True, fmt='d', cmap='Blues', \n",
    "            xticklabels=['Non-Nodule', 'Nodule'],\n",
    "            yticklabels=['Non-Nodule', 'Nodule'])\n",
    "plt.title('Confusion Matrix - Test Set')\n",
    "plt.ylabel('True Label')\n",
    "plt.xlabel('Predicted Label')\n",
    "plt.show()\n",
    "\n",
    "print(\"\\n📊 Confusion Matrix:\")\n",
    "print(cm)\n",
    "print(\"\\nInterpretation:\")\n",
    "print(f\"  True Negatives (TN): {cm[0,0]} - Correctly identified non-nodules\")\n",
    "print(f\"  False Positives (FP): {cm[0,1]} - Non-nodules incorrectly classified as nodules\")\n",
    "print(f\"  False Negatives (FN): {cm[1,0]} - Nodules incorrectly classified as non-nodules\")\n",
    "print(f\"  True Positives (TP): {cm[1,1]} - Correctly identified nodules\")\n",
    "\n",
    "# Calculate sensitivity and specificity\n",
    "tn, fp, fn, tp = cm.ravel()\n",
    "sensitivity = tp / (tp + fn) if (tp + fn) > 0 else 0\n",
    "specificity = tn / (tn + fp) if (tn + fp) > 0 else 0\n",
    "\n",
    "print(f\"\\n🎯 Key Metrics:\")\n",
    "print(f\"  Sensitivity (Recall): {sensitivity*100:.2f}% - Ability to detect nodules\")\n",
    "print(f\"  Specificity: {specificity*100:.2f}% - Ability to identify non-nodules\")\n",
    "print(f\"  Precision: {tp/(tp+fp)*100:.2f}% - Accuracy of nodule predictions\" if (tp+fp) > 0 else \"  Precision: N/A\")"
   ]
  },
  {
   "cell_type": "code",
   "execution_count": 48,
   "id": "2c9af32b",
   "metadata": {},
   "outputs": [
    {
     "name": "stdout",
     "output_type": "stream",
     "text": [
      "\n",
      "📋 Detailed Classification Report:\n",
      "              precision    recall  f1-score   support\n",
      "\n",
      "  Non-Nodule     0.7622    1.0000    0.8651      1000\n",
      "      Nodule     0.0000    0.0000    0.0000       312\n",
      "\n",
      "    accuracy                         0.7622      1312\n",
      "   macro avg     0.3811    0.5000    0.4325      1312\n",
      "weighted avg     0.5809    0.7622    0.6593      1312\n",
      "\n"
     ]
    }
   ],
   "source": [
    "# Classification Report\n",
    "print(\"\\n📋 Detailed Classification Report:\")\n",
    "print(classification_report(test_labels, test_preds, \n",
    "                          target_names=['Non-Nodule', 'Nodule'],\n",
    "                          digits=4))"
   ]
  },
  {
   "cell_type": "markdown",
   "id": "d1fe93be",
   "metadata": {},
   "source": [
    "## 12. 📉 ROC Curve and Precision-Recall Curve"
   ]
  },
  {
   "cell_type": "code",
   "execution_count": 19,
   "id": "4f1ac682",
   "metadata": {},
   "outputs": [
    {
     "data": {
      "image/png": "[encoded data removed]",
      "text/plain": [
       "<Figure size 1400x500 with 2 Axes>"
      ]
     },
     "metadata": {},
     "output_type": "display_data"
    },
    {
     "name": "stdout",
     "output_type": "stream",
     "text": [
      "✅ ROC AUC: 0.5254\n",
      "✅ Average Precision: 0.2641\n"
     ]
    }
   ],
   "source": [
    "# ROC Curve and PR Curve\n",
    "fig, axes = plt.subplots(1, 2, figsize=(14, 5))\n",
    "\n",
    "# ROC Curve\n",
    "fpr, tpr, thresholds = roc_curve(test_labels, test_probs)\n",
    "axes[0].plot(fpr, tpr, label=f'ROC Curve (AUC = {test_auc:.4f})', linewidth=2)\n",
    "axes[0].plot([0, 1], [0, 1], 'k--', label='Random Classifier', alpha=0.5)\n",
    "axes[0].set_xlabel('False Positive Rate')\n",
    "axes[0].set_ylabel('True Positive Rate')\n",
    "axes[0].set_title('ROC Curve')\n",
    "axes[0].legend()\n",
    "axes[0].grid(True, alpha=0.3)\n",
    "\n",
    "# Precision-Recall Curve\n",
    "precision, recall, pr_thresholds = precision_recall_curve(test_labels, test_probs)\n",
    "avg_precision = average_precision_score(test_labels, test_probs)\n",
    "axes[1].plot(recall, precision, label=f'PR Curve (AP = {avg_precision:.4f})', linewidth=2)\n",
    "axes[1].set_xlabel('Recall')\n",
    "axes[1].set_ylabel('Precision')\n",
    "axes[1].set_title('Precision-Recall Curve')\n",
    "axes[1].legend()\n",
    "axes[1].grid(True, alpha=0.3)\n",
    "\n",
    "plt.tight_layout()\n",
    "plt.show()\n",
    "\n",
    "print(f\"✅ ROC AUC: {test_auc:.4f}\")\n",
    "print(f\"✅ Average Precision: {avg_precision:.4f}\")"
   ]
  },
  {
   "cell_type": "markdown",
   "id": "d5ed44ef",
   "metadata": {},
   "source": [
    "## 13. 🎯 Threshold Optimization for Balanced Performance"
   ]
  },
  {
   "cell_type": "code",
   "execution_count": 49,
   "id": "52db2841",
   "metadata": {},
   "outputs": [
    {
     "name": "stdout",
     "output_type": "stream",
     "text": [
      "🎯 Optimal Thresholds Found:\n",
      "\n",
      "1️⃣ Max F1 Score:\n",
      "   Threshold: 0.3987\n",
      "   F1 Score: 0.3842\n",
      "\n",
      "2️⃣ Balanced (Equal Sensitivity/Specificity):\n",
      "   Threshold: 0.4341\n",
      "   Sensitivity: 75.00%\n",
      "   Specificity: 27.00%\n",
      "\n",
      "3️⃣ High Sensitivity (Medical Screening):\n",
      "   Threshold: 0.4033\n",
      "   Sensitivity: 95.19%\n",
      "   Specificity: 6.00%\n"
     ]
    }
   ],
   "source": [
    "# Find optimal threshold using different strategies\n",
    "\n",
    "def find_optimal_thresholds(y_true, y_probs):\n",
    "    \"\"\"Find optimal thresholds for different objectives\"\"\"\n",
    "    \n",
    "    # Strategy 1: Maximize F1 Score\n",
    "    precision, recall, thresholds = precision_recall_curve(y_true, y_probs)\n",
    "    f1_scores = 2 * (precision[:-1] * recall[:-1]) / (precision[:-1] + recall[:-1] + 1e-10)\n",
    "    best_f1_idx = np.argmax(f1_scores)\n",
    "    best_f1_threshold = thresholds[best_f1_idx]\n",
    "    \n",
    "    # Strategy 2: Balance Sensitivity and Specificity\n",
    "    fpr, tpr, roc_thresholds = roc_curve(y_true, y_probs)\n",
    "    # Find point closest to (0,1) - perfect classifier\n",
    "    distances = np.sqrt((1 - tpr)**2 + fpr**2)\n",
    "    best_balance_idx = np.argmin(distances)\n",
    "    best_balance_threshold = roc_thresholds[best_balance_idx]\n",
    "    \n",
    "    # Strategy 3: High Sensitivity (for medical screening)\n",
    "    # Find threshold that achieves ~95% sensitivity\n",
    "    target_sensitivity = 0.95\n",
    "    valid_indices = tpr >= target_sensitivity\n",
    "    if valid_indices.any():\n",
    "        high_sens_idx = np.where(valid_indices)[0][0]\n",
    "        high_sens_threshold = roc_thresholds[high_sens_idx]\n",
    "    else:\n",
    "        high_sens_threshold = 0.1  # fallback\n",
    "    \n",
    "    return {\n",
    "        'f1': (best_f1_threshold, f1_scores[best_f1_idx]),\n",
    "        'balanced': (best_balance_threshold, tpr[best_balance_idx], 1-fpr[best_balance_idx]),\n",
    "        'high_sens': (high_sens_threshold, tpr[high_sens_idx] if valid_indices.any() else 0, \n",
    "                     1-fpr[high_sens_idx] if valid_indices.any() else 0)\n",
    "    }\n",
    "\n",
    "thresholds_info = find_optimal_thresholds(test_labels, test_probs)\n",
    "\n",
    "print(\"🎯 Optimal Thresholds Found:\\n\")\n",
    "print(f\"1️⃣ Max F1 Score:\")\n",
    "print(f\"   Threshold: {thresholds_info['f1'][0]:.4f}\")\n",
    "print(f\"   F1 Score: {thresholds_info['f1'][1]:.4f}\")\n",
    "\n",
    "print(f\"\\n2️⃣ Balanced (Equal Sensitivity/Specificity):\")\n",
    "print(f\"   Threshold: {thresholds_info['balanced'][0]:.4f}\")\n",
    "print(f\"   Sensitivity: {thresholds_info['balanced'][1]*100:.2f}%\")\n",
    "print(f\"   Specificity: {thresholds_info['balanced'][2]*100:.2f}%\")\n",
    "\n",
    "print(f\"\\n3️⃣ High Sensitivity (Medical Screening):\")\n",
    "print(f\"   Threshold: {thresholds_info['high_sens'][0]:.4f}\")\n",
    "print(f\"   Sensitivity: {thresholds_info['high_sens'][1]*100:.2f}%\")\n",
    "print(f\"   Specificity: {thresholds_info['high_sens'][2]*100:.2f}%\")"
   ]
  },
  {
   "cell_type": "code",
   "execution_count": 50,
   "id": "f6fee19a",
   "metadata": {},
   "outputs": [
    {
     "name": "stdout",
     "output_type": "stream",
     "text": [
      "\n",
      "============================================================\n",
      "📊 Strategy 1: Maximum F1 Score\n",
      "============================================================\n",
      "Threshold: 0.3987\n",
      "\n",
      "Confusion Matrix:\n",
      "  [[TN=   0, FP=1000],\n",
      "   [FN=   0, TP= 312]]\n",
      "\n",
      "Metrics:\n",
      "  Sensitivity (Recall): 100.00%\n",
      "  Specificity:          0.00%\n",
      "  Precision:            23.78%\n",
      "  F1 Score:             0.3842\n",
      "  Balanced Accuracy:    50.00%\n",
      "\n",
      "============================================================\n",
      "📊 Strategy 2: Balanced Sensitivity/Specificity\n",
      "============================================================\n",
      "Threshold: 0.4341\n",
      "\n",
      "Confusion Matrix:\n",
      "  [[TN= 270, FP= 730],\n",
      "   [FN=  78, TP= 234]]\n",
      "\n",
      "Metrics:\n",
      "  Sensitivity (Recall): 75.00%\n",
      "  Specificity:          27.00%\n",
      "  Precision:            24.27%\n",
      "  F1 Score:             0.3668\n",
      "  Balanced Accuracy:    51.00%\n",
      "\n",
      "============================================================\n",
      "📊 Strategy 3: High Sensitivity (Medical Screening)\n",
      "============================================================\n",
      "Threshold: 0.4033\n",
      "\n",
      "Confusion Matrix:\n",
      "  [[TN=  60, FP= 940],\n",
      "   [FN=  15, TP= 297]]\n",
      "\n",
      "Metrics:\n",
      "  Sensitivity (Recall): 95.19%\n",
      "  Specificity:          6.00%\n",
      "  Precision:            24.01%\n",
      "  F1 Score:             0.3835\n",
      "  Balanced Accuracy:    50.60%\n"
     ]
    }
   ],
   "source": [
    "# Evaluate with optimal thresholds\n",
    "def evaluate_with_threshold(y_true, y_probs, threshold, strategy_name):\n",
    "    \"\"\"Evaluate model with a specific threshold\"\"\"\n",
    "    y_pred = (y_probs >= threshold).astype(int)\n",
    "    \n",
    "    cm = confusion_matrix(y_true, y_pred)\n",
    "    tn, fp, fn, tp = cm.ravel()\n",
    "    \n",
    "    sensitivity = tp / (tp + fn) if (tp + fn) > 0 else 0\n",
    "    specificity = tn / (tn + fp) if (tn + fp) > 0 else 0\n",
    "    precision = tp / (tp + fp) if (tp + fp) > 0 else 0\n",
    "    f1 = 2 * (precision * sensitivity) / (precision + sensitivity) if (precision + sensitivity) > 0 else 0\n",
    "    \n",
    "    print(f\"\\n{'='*60}\")\n",
    "    print(f\"📊 {strategy_name}\")\n",
    "    print(f\"{'='*60}\")\n",
    "    print(f\"Threshold: {threshold:.4f}\")\n",
    "    print(f\"\\nConfusion Matrix:\")\n",
    "    print(f\"  [[TN={tn:4d}, FP={fp:4d}],\")\n",
    "    print(f\"   [FN={fn:4d}, TP={tp:4d}]]\")\n",
    "    print(f\"\\nMetrics:\")\n",
    "    print(f\"  Sensitivity (Recall): {sensitivity*100:.2f}%\")\n",
    "    print(f\"  Specificity:          {specificity*100:.2f}%\")\n",
    "    print(f\"  Precision:            {precision*100:.2f}%\")\n",
    "    print(f\"  F1 Score:             {f1:.4f}\")\n",
    "    print(f\"  Balanced Accuracy:    {((sensitivity + specificity)/2)*100:.2f}%\")\n",
    "\n",
    "# Evaluate with each threshold\n",
    "evaluate_with_threshold(test_labels, test_probs, \n",
    "                       thresholds_info['f1'][0], \n",
    "                       \"Strategy 1: Maximum F1 Score\")\n",
    "\n",
    "evaluate_with_threshold(test_labels, test_probs, \n",
    "                       thresholds_info['balanced'][0], \n",
    "                       \"Strategy 2: Balanced Sensitivity/Specificity\")\n",
    "\n",
    "evaluate_with_threshold(test_labels, test_probs, \n",
    "                       thresholds_info['high_sens'][0], \n",
    "                       \"Strategy 3: High Sensitivity (Medical Screening)\")"
   ]
  },
  {
   "cell_type": "markdown",
   "id": "3b0c6744",
   "metadata": {},
   "source": [
    "## 14. 📊 Comprehensive Performance Summary"
   ]
  },
  {
   "cell_type": "code",
   "execution_count": 51,
   "id": "50f81494",
   "metadata": {},
   "outputs": [
    {
     "name": "stdout",
     "output_type": "stream",
     "text": [
      "================================================================================\n",
      "🎯 FINAL PERFORMANCE SUMMARY - 3D CNN LUNG NODULE DETECTION\n",
      "================================================================================\n",
      "\n",
      "📊 Model Architecture:\n",
      "   Type: 3D CNN with Residual Blocks\n",
      "   Parameters: 3,555,362\n",
      "   Input: 32×32×32 voxel patches\n",
      "\n",
      "⚖️ Training Configuration:\n",
      "   Loss Function: Balanced Focal Loss\n",
      "   Alpha: 0.25 | Gamma: 2.0\n",
      "   Positive Weight: 1.5x\n",
      "   Effective Nodule Weight: 0.38\n",
      "   Epochs Trained: 26\n",
      "   Best Validation AUC: 0.5226\n",
      "\n",
      "📈 Test Set Performance:\n",
      "   AUC-ROC: 0.5050\n",
      "   Average Precision: 0.2641\n",
      "   Default Accuracy: 76.22%\n",
      "\n",
      "🎯 Default Threshold (0.5) Performance:\n",
      "   True Negatives:  1000\n",
      "   False Positives:    0\n",
      "   False Negatives:  312\n",
      "   True Positives:     0\n",
      "   Sensitivity: 0.00%\n",
      "   Specificity: 100.00%\n",
      "   Precision: N/A\n",
      "\n",
      "🏆 Recommended Threshold (Balanced):\n",
      "   Threshold: 0.4341\n",
      "   Sensitivity: 75.00%\n",
      "   Specificity: 27.00%\n",
      "\n",
      "================================================================================\n",
      "✅ Evaluation Complete!\n",
      "================================================================================\n"
     ]
    }
   ],
   "source": [
    "# Final comprehensive summary\n",
    "print(\"=\"*80)\n",
    "print(\"🎯 FINAL PERFORMANCE SUMMARY - 3D CNN LUNG NODULE DETECTION\")\n",
    "print(\"=\"*80)\n",
    "\n",
    "print(f\"\\n📊 Model Architecture:\")\n",
    "print(f\"   Type: 3D CNN with Residual Blocks\")\n",
    "print(f\"   Parameters: {total_params:,}\")\n",
    "print(f\"   Input: 32×32×32 voxel patches\")\n",
    "\n",
    "print(f\"\\n⚖️ Training Configuration:\")\n",
    "print(f\"   Loss Function: Balanced Focal Loss\")\n",
    "print(f\"   Alpha: {config.FOCAL_ALPHA} | Gamma: {config.FOCAL_GAMMA}\")\n",
    "print(f\"   Positive Weight: {config.POSITIVE_WEIGHT}x\")\n",
    "print(f\"   Effective Nodule Weight: {config.FOCAL_ALPHA * config.POSITIVE_WEIGHT:.2f}\")\n",
    "print(f\"   Epochs Trained: {len(train_losses)}\")\n",
    "print(f\"   Best Validation AUC: {best_val_auc:.4f}\")\n",
    "\n",
    "print(f\"\\n📈 Test Set Performance:\")\n",
    "print(f\"   AUC-ROC: {test_auc:.4f}\")\n",
    "print(f\"   Average Precision: {avg_precision:.4f}\")\n",
    "print(f\"   Default Accuracy: {test_acc:.2f}%\")\n",
    "\n",
    "# Get default threshold predictions (0.5)\n",
    "default_preds = (test_probs >= 0.5).astype(int)\n",
    "cm_default = confusion_matrix(test_labels, default_preds)\n",
    "tn, fp, fn, tp = cm_default.ravel()\n",
    "\n",
    "print(f\"\\n🎯 Default Threshold (0.5) Performance:\")\n",
    "print(f\"   True Negatives:  {tn:4d}\")\n",
    "print(f\"   False Positives: {fp:4d}\")\n",
    "print(f\"   False Negatives: {fn:4d}\")\n",
    "print(f\"   True Positives:  {tp:4d}\")\n",
    "print(f\"   Sensitivity: {tp/(tp+fn)*100:.2f}%\" if (tp+fn) > 0 else \"   Sensitivity: N/A\")\n",
    "print(f\"   Specificity: {tn/(tn+fp)*100:.2f}%\" if (tn+fp) > 0 else \"   Specificity: N/A\")\n",
    "print(f\"   Precision:   {tp/(tp+fp)*100:.2f}%\" if (tp+fp) > 0 else \"   Precision: N/A\")\n",
    "\n",
    "print(f\"\\n🏆 Recommended Threshold (Balanced):\")\n",
    "print(f\"   Threshold: {thresholds_info['balanced'][0]:.4f}\")\n",
    "print(f\"   Sensitivity: {thresholds_info['balanced'][1]*100:.2f}%\")\n",
    "print(f\"   Specificity: {thresholds_info['balanced'][2]*100:.2f}%\")\n",
    "\n",
    "print(\"\\n\" + \"=\"*80)\n",
    "print(\"✅ Evaluation Complete!\")\n",
    "print(\"=\"*80)"
   ]
  }
 ],
 "metadata": {
  "kernelspec": {
   "display_name": "pytorch-12.8",
   "language": "python",
   "name": "python3"
  },
  "language_info": {
   "codemirror_mode": {
    "name": "ipython",
    "version": 3
   },
   "file_extension": ".py",
   "mimetype": "text/x-python",
   "name": "python",
   "nbconvert_exporter": "python",
   "pygments_lexer": "ipython3",
   "version": "3.10.18"
  }
 },
 "nbformat": 4,
 "nbformat_minor": 5
}
