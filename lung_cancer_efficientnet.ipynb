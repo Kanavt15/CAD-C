{
 "cells": [
  {
   "cell_type": "markdown",
   "id": "8b95800f",
   "metadata": {},
   "source": [
    "# 🫁 LUNA16 Lung Cancer Detection - EfficientNet-B0 Pretrained Model\n",
    "\n",
    "**Transfer Learning with EfficientNet-B0 for Medical Imaging**\n",
    "\n",
    "### Key Features:\n",
    "- 🔮 **Pretrained EfficientNet-B0** - Efficient and accurate transfer learning\n",
    "- 🎯 **2D Multi-Slice Approach** - Process CT scan slices with pretrained CNN\n",
    "- ⚖️ **Focal Loss** - Handle class imbalance effectively\n",
    "- 📈 **Advanced Metrics** - Precision, Recall, F1, AUC-ROC\n",
    "- 🚀 **Data Augmentation** - Robust training with augmented patches\n",
    "- ⚡ **Pre-extraction** - Fast training with patches cached in memory\n",
    "\n",
    "**Dataset**: LUNA16 (Lung Nodule Analysis 2016)\n",
    "\n",
    "### Why EfficientNet?\n",
    "- More parameter efficient than ResNet\n",
    "- Better accuracy with fewer parameters\n",
    "- Compound scaling (depth, width, resolution)\n",
    "- Excellent for medical imaging tasks"
   ]
  },
  {
   "cell_type": "markdown",
   "id": "ed810618",
   "metadata": {},
   "source": [
    "## 1. 📦 Import Required Libraries"
   ]
  },
  {
   "cell_type": "code",
   "execution_count": 1,
   "id": "dc1b77bd",
   "metadata": {},
   "outputs": [
    {
     "name": "stdout",
     "output_type": "stream",
     "text": [
      "PyTorch version: 2.10.0.dev20250930+cu128\n",
      "CUDA available: True\n",
      "CUDA device: NVIDIA GeForce RTX 5060 Ti\n"
     ]
    },
    {
     "name": "stderr",
     "output_type": "stream",
     "text": [
      "c:\\Users\\admin\\anaconda3\\envs\\pytorch-12.8\\lib\\site-packages\\tqdm\\auto.py:21: TqdmWarning: IProgress not found. Please update jupyter and ipywidgets. See https://ipywidgets.readthedocs.io/en/stable/user_install.html\n",
      "  from .autonotebook import tqdm as notebook_tqdm\n"
     ]
    }
   ],
   "source": [
    "# Core libraries\n",
    "import os\n",
    "import sys\n",
    "import glob\n",
    "import warnings\n",
    "from pathlib import Path\n",
    "import time\n",
    "import math\n",
    "import random\n",
    "\n",
    "# Data processing\n",
    "import numpy as np\n",
    "import pandas as pd\n",
    "from collections import Counter\n",
    "from sklearn.model_selection import train_test_split\n",
    "from sklearn.metrics import (\n",
    "    classification_report, confusion_matrix, roc_auc_score,\n",
    "    roc_curve, precision_recall_curve, f1_score, matthews_corrcoef\n",
    ")\n",
    "\n",
    "# Medical imaging\n",
    "import SimpleITK as sitk\n",
    "\n",
    "# PyTorch and deep learning\n",
    "import torch\n",
    "import torch.nn as nn\n",
    "import torch.nn.functional as F\n",
    "import torch.optim as optim\n",
    "from torch.utils.data import Dataset, DataLoader\n",
    "from torch.optim.lr_scheduler import ReduceLROnPlateau\n",
    "import torchvision.models as models\n",
    "import torchvision.transforms as transforms\n",
    "\n",
    "# Visualization\n",
    "import matplotlib.pyplot as plt\n",
    "import seaborn as sns\n",
    "from tqdm.auto import tqdm\n",
    "\n",
    "# Suppress warnings\n",
    "warnings.filterwarnings('ignore')\n",
    "\n",
    "# Set random seeds for reproducibility\n",
    "SEED = 42\n",
    "random.seed(SEED)\n",
    "np.random.seed(SEED)\n",
    "torch.manual_seed(SEED)\n",
    "torch.cuda.manual_seed_all(SEED)\n",
    "torch.backends.cudnn.deterministic = True\n",
    "torch.backends.cudnn.benchmark = False\n",
    "\n",
    "print(f\"PyTorch version: {torch.__version__}\")\n",
    "print(f\"CUDA available: {torch.cuda.is_available()}\")\n",
    "if torch.cuda.is_available():\n",
    "    print(f\"CUDA device: {torch.cuda.get_device_name(0)}\")"
   ]
  },
  {
   "cell_type": "markdown",
   "id": "21fcea07",
   "metadata": {},
   "source": [
    "## 2. ⚙️ Configuration and Setup"
   ]
  },
  {
   "cell_type": "code",
   "execution_count": 2,
   "id": "7aa22bbe",
   "metadata": {},
   "outputs": [
    {
     "name": "stdout",
     "output_type": "stream",
     "text": [
      "Configuration:\n",
      "  batch_size: 32\n",
      "  num_epochs: 50\n",
      "  learning_rate: 0.001\n",
      "  weight_decay: 0.0001\n",
      "  patch_size: 64\n",
      "  num_slices: 3\n",
      "  patience: 10\n",
      "  preload_patches: True\n",
      "  max_samples: None\n",
      "  sample_ratio: 3.0\n",
      "  num_workers: 0\n",
      "  device: cuda\n",
      "  focal_alpha: 0.75\n",
      "  focal_gamma: 2.0\n"
     ]
    }
   ],
   "source": [
    "# Paths\n",
    "BASE_DIR = Path(r'e:\\Kanav\\Projects\\CAD_C')\n",
    "ANNOTATIONS_FILE = BASE_DIR / 'annotations.csv'\n",
    "CANDIDATES_FILE = BASE_DIR / 'candidates_V2.csv'\n",
    "SUBSET_DIRS = [BASE_DIR / f'subset{i}' for i in range(10)]\n",
    "MODEL_DIR = BASE_DIR / 'models_efficientnet'\n",
    "MODEL_DIR.mkdir(exist_ok=True)\n",
    "\n",
    "# Hyperparameters\n",
    "CONFIG = {\n",
    "    'batch_size': 32,\n",
    "    'num_epochs': 50,\n",
    "    'learning_rate': 0.001,\n",
    "    'weight_decay': 1e-4,\n",
    "    'patch_size': 64,      # Size of 2D patch\n",
    "    'num_slices': 3,       # Number of consecutive slices (channels)\n",
    "    'patience': 10,        # Early stopping patience\n",
    "    'preload_patches': True,   # Pre-extract patches for faster training (requires ~4-8 GB RAM)\n",
    "    'max_samples': None,   # Limit samples for testing (None = use all)\n",
    "    'sample_ratio': 3.0,   # Ratio of negative to positive samples (3:1)\n",
    "    'num_workers': 0,      # Number of workers for data loading (0 for Windows)\n",
    "    'device': 'cuda' if torch.cuda.is_available() else 'cpu',  # Device to use\n",
    "    'focal_alpha': 0.75,   # Focal Loss alpha parameter (weight for positive class)\n",
    "    'focal_gamma': 2.0,    # Focal Loss gamma parameter (focusing parameter)\n",
    "}\n",
    "\n",
    "print(\"Configuration:\")\n",
    "for key, value in CONFIG.items():\n",
    "    print(f\"  {key}: {value}\")"
   ]
  },
  {
   "cell_type": "markdown",
   "id": "d5a3a015",
   "metadata": {},
   "source": [
    "## 3. 📊 Load Dataset (Reuse from ResNet notebook)"
   ]
  },
  {
   "cell_type": "code",
   "execution_count": 3,
   "id": "03f177ef",
   "metadata": {},
   "outputs": [
    {
     "name": "stdout",
     "output_type": "stream",
     "text": [
      "Annotations loaded: 1186 records\n",
      "Loading candidates file...\n",
      "Candidates loaded: 754975 records\n",
      "Class distribution: {0: 753418, 1: 1557}\n"
     ]
    }
   ],
   "source": [
    "# Load annotations\n",
    "annotations_df = pd.read_csv(ANNOTATIONS_FILE)\n",
    "print(f\"Annotations loaded: {len(annotations_df)} records\")\n",
    "\n",
    "# Load candidates\n",
    "print(\"Loading candidates file...\")\n",
    "chunk_size = 100000\n",
    "chunks = []\n",
    "for chunk in pd.read_csv(CANDIDATES_FILE, chunksize=chunk_size):\n",
    "    chunks.append(chunk)\n",
    "candidates_df = pd.concat(chunks, ignore_index=True)\n",
    "print(f\"Candidates loaded: {len(candidates_df)} records\")\n",
    "print(f\"Class distribution: {candidates_df['class'].value_counts().to_dict()}\")"
   ]
  },
  {
   "cell_type": "markdown",
   "id": "c280bbe4",
   "metadata": {},
   "source": [
    "## 4. 🔧 Utility Functions (Same as ResNet)"
   ]
  },
  {
   "cell_type": "code",
   "execution_count": 4,
   "id": "ea287826",
   "metadata": {},
   "outputs": [
    {
     "name": "stdout",
     "output_type": "stream",
     "text": [
      "✓ Utility functions defined\n"
     ]
    }
   ],
   "source": [
    "def load_ct_scan(series_uid, subset_dirs):\n",
    "    \"\"\"Load CT scan from .mhd/.raw files\"\"\"\n",
    "    for subset_dir in subset_dirs:\n",
    "        mhd_path = subset_dir / f\"{series_uid}.mhd\"\n",
    "        if mhd_path.exists():\n",
    "            try:\n",
    "                ct_scan = sitk.ReadImage(str(mhd_path))\n",
    "                return ct_scan\n",
    "            except Exception as e:\n",
    "                print(f\"Error loading {mhd_path}: {e}\")\n",
    "                return None\n",
    "    return None\n",
    "\n",
    "def world_to_voxel(world_coords, origin, spacing):\n",
    "    \"\"\"Convert world coordinates to voxel coordinates\"\"\"\n",
    "    world_coords = np.array(world_coords)\n",
    "    origin = np.array(origin)\n",
    "    spacing = np.array(spacing)\n",
    "    voxel_coords = (world_coords - origin) / spacing\n",
    "    return int(voxel_coords[2]), int(voxel_coords[1]), int(voxel_coords[0])\n",
    "\n",
    "def normalize_hu(image):\n",
    "    \"\"\"Normalize CT Hounsfield Units to 0-1 range\"\"\"\n",
    "    MIN_HU = -1000\n",
    "    MAX_HU = 400\n",
    "    image = np.clip(image, MIN_HU, MAX_HU)\n",
    "    image = (image - MIN_HU) / (MAX_HU - MIN_HU)\n",
    "    return image.astype(np.float32)\n",
    "\n",
    "def extract_2d_patch(ct_array, center_z, center_y, center_x, patch_size=64, num_slices=3):\n",
    "    \"\"\"Extract 2D multi-slice patch\"\"\"\n",
    "    half_size = patch_size // 2\n",
    "    half_slices = num_slices // 2\n",
    "    \n",
    "    z_start = center_z - half_slices\n",
    "    z_end = z_start + num_slices\n",
    "    y_start = center_y - half_size\n",
    "    y_end = center_y + half_size\n",
    "    x_start = center_x - half_size\n",
    "    x_end = center_x + half_size\n",
    "    \n",
    "    if (z_start < 0 or z_end > ct_array.shape[0] or\n",
    "        y_start < 0 or y_end > ct_array.shape[1] or\n",
    "        x_start < 0 or x_end > ct_array.shape[2]):\n",
    "        return None\n",
    "    \n",
    "    patch = ct_array[z_start:z_end, y_start:y_end, x_start:x_end]\n",
    "    patch = normalize_hu(patch)\n",
    "    return patch\n",
    "\n",
    "print(\"✓ Utility functions defined\")"
   ]
  },
  {
   "cell_type": "markdown",
   "id": "9f601d52",
   "metadata": {},
   "source": [
    "## 5. 🎯 Dataset Class (Same as ResNet with fixed indexing)"
   ]
  },
  {
   "cell_type": "code",
   "execution_count": 5,
   "id": "ab25cb89",
   "metadata": {},
   "outputs": [
    {
     "name": "stdout",
     "output_type": "stream",
     "text": [
      "✓ Dataset class defined\n"
     ]
    }
   ],
   "source": [
    "class LUNA16Dataset(Dataset):\n",
    "    \"\"\"PyTorch Dataset for LUNA16 with 2D multi-slice patches\"\"\"\n",
    "    \n",
    "    def __init__(self, candidates_df, subset_dirs, patch_size=64, num_slices=3, \n",
    "                 augment=False, max_samples=None, preload=False):\n",
    "        self.candidates_df = candidates_df.copy()\n",
    "        if max_samples is not None and len(self.candidates_df) > max_samples:\n",
    "            self.candidates_df = self.candidates_df.sample(n=max_samples, random_state=SEED)\n",
    "        \n",
    "        self.subset_dirs = subset_dirs\n",
    "        self.patch_size = patch_size\n",
    "        self.num_slices = num_slices\n",
    "        self.augment = augment\n",
    "        self.preload = preload\n",
    "        self.ct_cache = {}\n",
    "        self.patch_cache = {}\n",
    "        \n",
    "        print(f\"Dataset initialized with {len(self.candidates_df)} samples\")\n",
    "        print(f\"  Positive: {self.candidates_df['class'].sum()}\")\n",
    "        print(f\"  Negative: {(self.candidates_df['class'] == 0).sum()}\")\n",
    "        \n",
    "        if self.preload:\n",
    "            print(f\"  Preloading patches into memory...\")\n",
    "            self._preload_patches()\n",
    "    \n",
    "    def _preload_patches(self):\n",
    "        \"\"\"Pre-extract all patches and store in memory\"\"\"\n",
    "        from tqdm.auto import tqdm\n",
    "        \n",
    "        successful = 0\n",
    "        failed = 0\n",
    "        grouped = self.candidates_df.groupby('seriesuid')\n",
    "        \n",
    "        for series_uid, group in tqdm(grouped, desc=\"Processing CT scans\"):\n",
    "            ct_scan = load_ct_scan(series_uid, self.subset_dirs)\n",
    "            if ct_scan is None:\n",
    "                for idx in group.index:\n",
    "                    label = int(group.loc[idx, 'class'])\n",
    "                    self.patch_cache[idx] = (torch.zeros(self.num_slices, self.patch_size, self.patch_size), label)\n",
    "                    failed += 1\n",
    "                continue\n",
    "            \n",
    "            ct_array = sitk.GetArrayFromImage(ct_scan)\n",
    "            origin = ct_scan.GetOrigin()\n",
    "            spacing = ct_scan.GetSpacing()\n",
    "            \n",
    "            for idx in group.index:\n",
    "                row = group.loc[idx]\n",
    "                coord_x = row['coordX']\n",
    "                coord_y = row['coordY']\n",
    "                coord_z = row['coordZ']\n",
    "                label = int(row['class'])\n",
    "                \n",
    "                voxel_z, voxel_y, voxel_x = world_to_voxel(\n",
    "                    [coord_x, coord_y, coord_z], origin, spacing\n",
    "                )\n",
    "                \n",
    "                patch = extract_2d_patch(\n",
    "                    ct_array, voxel_z, voxel_y, voxel_x, \n",
    "                    self.patch_size, self.num_slices\n",
    "                )\n",
    "                \n",
    "                if patch is None:\n",
    "                    self.patch_cache[idx] = (torch.zeros(self.num_slices, self.patch_size, self.patch_size), label)\n",
    "                    failed += 1\n",
    "                else:\n",
    "                    patch = torch.from_numpy(patch).float()\n",
    "                    self.patch_cache[idx] = (patch, label)\n",
    "                    successful += 1\n",
    "            \n",
    "            del ct_array, ct_scan\n",
    "        \n",
    "        print(f\"\\n  ✓ Preloading completed:\")\n",
    "        print(f\"    Successful: {successful}\")\n",
    "        print(f\"    Failed: {failed}\")\n",
    "        print(f\"    Total patches in memory: {len(self.patch_cache)}\")\n",
    "    \n",
    "    def __len__(self):\n",
    "        return len(self.candidates_df)\n",
    "    \n",
    "    def __getitem__(self, idx):\n",
    "        # Get the actual DataFrame index (not positional index)\n",
    "        df_idx = self.candidates_df.index[idx]\n",
    "        \n",
    "        # If preloaded, return from cache\n",
    "        if self.preload and df_idx in self.patch_cache:\n",
    "            patch, label = self.patch_cache[df_idx]\n",
    "            patch = patch.clone()\n",
    "            \n",
    "            if self.augment:\n",
    "                patch = self.apply_augmentation(patch)\n",
    "            \n",
    "            return patch, label\n",
    "        \n",
    "        # Otherwise, extract on-the-fly (fallback)\n",
    "        row = self.candidates_df.iloc[idx]\n",
    "        series_uid = row['seriesuid']\n",
    "        label = int(row['class'])\n",
    "        \n",
    "        # Return dummy if can't load\n",
    "        patch = torch.zeros(self.num_slices, self.patch_size, self.patch_size)\n",
    "        return patch, label\n",
    "    \n",
    "    def apply_augmentation(self, patch):\n",
    "        \"\"\"Apply random augmentations\"\"\"\n",
    "        if random.random() > 0.5:\n",
    "            patch = torch.flip(patch, dims=[2])\n",
    "        if random.random() > 0.5:\n",
    "            patch = torch.flip(patch, dims=[1])\n",
    "        if random.random() > 0.5:\n",
    "            k = random.randint(1, 3)\n",
    "            patch = torch.rot90(patch, k, dims=[1, 2])\n",
    "        if random.random() > 0.5:\n",
    "            brightness_factor = 0.8 + random.random() * 0.4\n",
    "            patch = torch.clamp(patch * brightness_factor, 0, 1)\n",
    "        return patch\n",
    "\n",
    "print(\"✓ Dataset class defined\")"
   ]
  },
  {
   "cell_type": "markdown",
   "id": "baaaa5e4",
   "metadata": {},
   "source": [
    "## 6. 🏗️ EfficientNet-B0 Model Architecture\n",
    "\n",
    "**EfficientNet-B0 is more efficient than ResNet-101:**\n",
    "- ResNet-101: 44.5M parameters\n",
    "- EfficientNet-B0: 5.3M parameters (8x smaller!)\n",
    "- Better accuracy with fewer parameters\n",
    "- Faster training and inference"
   ]
  },
  {
   "cell_type": "code",
   "execution_count": 6,
   "id": "cf2f2116",
   "metadata": {},
   "outputs": [
    {
     "name": "stdout",
     "output_type": "stream",
     "text": [
      "✓ Model class defined\n"
     ]
    }
   ],
   "source": [
    "class EfficientNetLungCancer(nn.Module):\n",
    "    \"\"\"EfficientNet-B0 pretrained model adapted for lung cancer detection\"\"\"\n",
    "    \n",
    "    def __init__(self, pretrained=True, num_classes=2, dropout=0.5):\n",
    "        super(EfficientNetLungCancer, self).__init__()\n",
    "        \n",
    "        # Load pretrained EfficientNet-B0\n",
    "        if pretrained:\n",
    "            self.efficientnet = models.efficientnet_b0(pretrained=True)\n",
    "        else:\n",
    "            self.efficientnet = models.efficientnet_b0(pretrained=False)\n",
    "        \n",
    "        # Get number of features from the last layer\n",
    "        num_features = self.efficientnet.classifier[1].in_features\n",
    "        \n",
    "        # Replace the final classifier\n",
    "        self.efficientnet.classifier = nn.Sequential(\n",
    "            nn.Dropout(dropout),\n",
    "            nn.Linear(num_features, 512),\n",
    "            nn.ReLU(),\n",
    "            nn.Dropout(dropout),\n",
    "            nn.Linear(512, num_classes)\n",
    "        )\n",
    "        \n",
    "        print(f\"✓ EfficientNet-B0 initialized (pretrained={pretrained})\")\n",
    "        print(f\"  Total parameters: {sum(p.numel() for p in self.parameters()):,}\")\n",
    "        print(f\"  Trainable parameters: {sum(p.numel() for p in self.parameters() if p.requires_grad):,}\")\n",
    "    \n",
    "    def forward(self, x):\n",
    "        return self.efficientnet(x)\n",
    "    \n",
    "    def freeze_backbone(self):\n",
    "        \"\"\"Freeze all layers except the final classifier\"\"\"\n",
    "        for name, param in self.efficientnet.named_parameters():\n",
    "            if 'classifier' not in name:\n",
    "                param.requires_grad = False\n",
    "        print(\"✓ Backbone frozen, only training final classifier\")\n",
    "    \n",
    "    def unfreeze_backbone(self):\n",
    "        \"\"\"Unfreeze all layers for fine-tuning\"\"\"\n",
    "        for param in self.efficientnet.parameters():\n",
    "            param.requires_grad = True\n",
    "        print(\"✓ Backbone unfrozen, training all layers\")\n",
    "\n",
    "print(\"✓ Model class defined\")"
   ]
  },
  {
   "cell_type": "markdown",
   "id": "e96ccf7f",
   "metadata": {},
   "source": [
    "## 7. 📉 Focal Loss (Same as ResNet)"
   ]
  },
  {
   "cell_type": "code",
   "execution_count": 7,
   "id": "898cb3d3",
   "metadata": {},
   "outputs": [
    {
     "name": "stdout",
     "output_type": "stream",
     "text": [
      "✓ Focal Loss defined\n"
     ]
    }
   ],
   "source": [
    "class FocalLoss(nn.Module):\n",
    "    \"\"\"Focal Loss for handling class imbalance\"\"\"\n",
    "    \n",
    "    def __init__(self, alpha=0.75, gamma=2.0, reduction='mean'):\n",
    "        super(FocalLoss, self).__init__()\n",
    "        self.alpha = alpha\n",
    "        self.gamma = gamma\n",
    "        self.reduction = reduction\n",
    "    \n",
    "    def forward(self, inputs, targets):\n",
    "        ce_loss = F.cross_entropy(inputs, targets, reduction='none')\n",
    "        p = torch.exp(-ce_loss)\n",
    "        alpha_t = self.alpha * targets + (1 - self.alpha) * (1 - targets)\n",
    "        focal_loss = alpha_t * (1 - p) ** self.gamma * ce_loss\n",
    "        \n",
    "        if self.reduction == 'mean':\n",
    "            return focal_loss.mean()\n",
    "        elif self.reduction == 'sum':\n",
    "            return focal_loss.sum()\n",
    "        else:\n",
    "            return focal_loss\n",
    "\n",
    "print(\"✓ Focal Loss defined\")"
   ]
  },
  {
   "cell_type": "markdown",
   "id": "78073347",
   "metadata": {},
   "source": [
    "## 8. 📊 Prepare Data"
   ]
  },
  {
   "cell_type": "code",
   "execution_count": 8,
   "id": "90c09ba2",
   "metadata": {},
   "outputs": [
    {
     "name": "stdout",
     "output_type": "stream",
     "text": [
      "Preparing balanced dataset...\n",
      "Original distribution:\n",
      "  Positive: 1557\n",
      "  Negative: 753418\n",
      "\n",
      "Balanced distribution:\n",
      "  Positive: 1557\n",
      "  Negative: 4671\n",
      "  Total: 6228\n",
      "\n",
      "Data splits:\n",
      "  Train: 4359 samples\n",
      "  Validation: 934 samples\n",
      "  Test: 935 samples\n"
     ]
    }
   ],
   "source": [
    "# Balance the dataset\n",
    "print(\"Preparing balanced dataset...\")\n",
    "\n",
    "positive_samples = candidates_df[candidates_df['class'] == 1]\n",
    "negative_samples = candidates_df[candidates_df['class'] == 0]\n",
    "\n",
    "print(f\"Original distribution:\")\n",
    "print(f\"  Positive: {len(positive_samples)}\")\n",
    "print(f\"  Negative: {len(negative_samples)}\")\n",
    "\n",
    "n_positive = len(positive_samples)\n",
    "n_negative = int(n_positive * CONFIG['sample_ratio'])\n",
    "n_negative = min(n_negative, len(negative_samples))\n",
    "\n",
    "negative_samples_sampled = negative_samples.sample(n=n_negative, random_state=SEED)\n",
    "balanced_df = pd.concat([positive_samples, negative_samples_sampled], ignore_index=True)\n",
    "balanced_df = balanced_df.sample(frac=1, random_state=SEED).reset_index(drop=True)\n",
    "\n",
    "print(f\"\\nBalanced distribution:\")\n",
    "print(f\"  Positive: {(balanced_df['class'] == 1).sum()}\")\n",
    "print(f\"  Negative: {(balanced_df['class'] == 0).sum()}\")\n",
    "print(f\"  Total: {len(balanced_df)}\")\n",
    "\n",
    "# Split\n",
    "train_df, temp_df = train_test_split(\n",
    "    balanced_df, test_size=0.3, random_state=SEED, stratify=balanced_df['class']\n",
    ")\n",
    "val_df, test_df = train_test_split(\n",
    "    temp_df, test_size=0.5, random_state=SEED, stratify=temp_df['class']\n",
    ")\n",
    "\n",
    "print(f\"\\nData splits:\")\n",
    "print(f\"  Train: {len(train_df)} samples\")\n",
    "print(f\"  Validation: {len(val_df)} samples\")\n",
    "print(f\"  Test: {len(test_df)} samples\")"
   ]
  },
  {
   "cell_type": "markdown",
   "id": "4455bc6d",
   "metadata": {},
   "source": [
    "## 9. 🚀 Create Datasets with Pre-Extraction"
   ]
  },
  {
   "cell_type": "code",
   "execution_count": 9,
   "id": "135cd44b",
   "metadata": {},
   "outputs": [
    {
     "name": "stdout",
     "output_type": "stream",
     "text": [
      "Creating datasets with patch pre-extraction...\n",
      "This will take ~7 minutes but will speed up training significantly!\n",
      "\n",
      "Dataset initialized with 4359 samples\n",
      "  Positive: 1090\n",
      "  Negative: 3269\n",
      "  Preloading patches into memory...\n"
     ]
    },
    {
     "name": "stderr",
     "output_type": "stream",
     "text": [
      "Processing CT scans: 100%|██████████| 862/862 [03:20<00:00,  4.31it/s]\n"
     ]
    },
    {
     "name": "stdout",
     "output_type": "stream",
     "text": [
      "\n",
      "  ✓ Preloading completed:\n",
      "    Successful: 4316\n",
      "    Failed: 43\n",
      "    Total patches in memory: 4359\n",
      "\n",
      "------------------------------------------------------------\n",
      "\n",
      "Dataset initialized with 934 samples\n",
      "  Positive: 233\n",
      "  Negative: 701\n",
      "  Preloading patches into memory...\n"
     ]
    },
    {
     "name": "stderr",
     "output_type": "stream",
     "text": [
      "Processing CT scans: 100%|██████████| 548/548 [02:05<00:00,  4.38it/s]\n"
     ]
    },
    {
     "name": "stdout",
     "output_type": "stream",
     "text": [
      "\n",
      "  ✓ Preloading completed:\n",
      "    Successful: 925\n",
      "    Failed: 9\n",
      "    Total patches in memory: 934\n",
      "\n",
      "------------------------------------------------------------\n",
      "\n",
      "Dataset initialized with 935 samples\n",
      "  Positive: 234\n",
      "  Negative: 701\n",
      "  Preloading patches into memory...\n"
     ]
    },
    {
     "name": "stderr",
     "output_type": "stream",
     "text": [
      "Processing CT scans: 100%|██████████| 552/552 [02:05<00:00,  4.40it/s]"
     ]
    },
    {
     "name": "stdout",
     "output_type": "stream",
     "text": [
      "\n",
      "  ✓ Preloading completed:\n",
      "    Successful: 925\n",
      "    Failed: 10\n",
      "    Total patches in memory: 935\n",
      "\n",
      "============================================================\n",
      "✓ All datasets created with patches pre-extracted\n",
      "============================================================\n"
     ]
    },
    {
     "name": "stderr",
     "output_type": "stream",
     "text": [
      "\n"
     ]
    }
   ],
   "source": [
    "# Create datasets\n",
    "if CONFIG['preload_patches']:\n",
    "    print(\"Creating datasets with patch pre-extraction...\")\n",
    "    print(\"This will take ~7 minutes but will speed up training significantly!\\n\")\n",
    "else:\n",
    "    print(\"Creating datasets (on-the-fly extraction)...\\n\")\n",
    "\n",
    "train_dataset = LUNA16Dataset(\n",
    "    train_df, SUBSET_DIRS, \n",
    "    patch_size=CONFIG['patch_size'],\n",
    "    num_slices=CONFIG['num_slices'],\n",
    "    augment=True,\n",
    "    preload=CONFIG['preload_patches']\n",
    ")\n",
    "\n",
    "print(\"\\n\" + \"-\"*60 + \"\\n\")\n",
    "\n",
    "val_dataset = LUNA16Dataset(\n",
    "    val_df, SUBSET_DIRS,\n",
    "    patch_size=CONFIG['patch_size'],\n",
    "    num_slices=CONFIG['num_slices'],\n",
    "    augment=False,\n",
    "    preload=CONFIG['preload_patches']\n",
    ")\n",
    "\n",
    "print(\"\\n\" + \"-\"*60 + \"\\n\")\n",
    "\n",
    "test_dataset = LUNA16Dataset(\n",
    "    test_df, SUBSET_DIRS,\n",
    "    patch_size=CONFIG['patch_size'],\n",
    "    num_slices=CONFIG['num_slices'],\n",
    "    augment=False,\n",
    "    preload=CONFIG['preload_patches']\n",
    ")\n",
    "\n",
    "print(\"\\n\" + \"=\"*60)\n",
    "if CONFIG['preload_patches']:\n",
    "    print(\"✓ All datasets created with patches pre-extracted\")\n",
    "else:\n",
    "    print(\"✓ All datasets created (on-the-fly extraction)\")\n",
    "print(\"=\"*60)"
   ]
  },
  {
   "cell_type": "code",
   "execution_count": 10,
   "id": "c261bd3b",
   "metadata": {},
   "outputs": [
    {
     "name": "stdout",
     "output_type": "stream",
     "text": [
      "✓ Data loaders created\n",
      "  Train batches: 137\n",
      "  Validation batches: 30\n",
      "  Test batches: 30\n"
     ]
    }
   ],
   "source": [
    "# Create data loaders\n",
    "train_loader = DataLoader(\n",
    "    train_dataset,\n",
    "    batch_size=CONFIG['batch_size'],\n",
    "    shuffle=True,\n",
    "    num_workers=CONFIG['num_workers'],\n",
    "    pin_memory=True if CONFIG['device'] == 'cuda' else False\n",
    ")\n",
    "\n",
    "val_loader = DataLoader(\n",
    "    val_dataset,\n",
    "    batch_size=CONFIG['batch_size'],\n",
    "    shuffle=False,\n",
    "    num_workers=CONFIG['num_workers'],\n",
    "    pin_memory=True if CONFIG['device'] == 'cuda' else False\n",
    ")\n",
    "\n",
    "test_loader = DataLoader(\n",
    "    test_dataset,\n",
    "    batch_size=CONFIG['batch_size'],\n",
    "    shuffle=False,\n",
    "    num_workers=CONFIG['num_workers'],\n",
    "    pin_memory=True if CONFIG['device'] == 'cuda' else False\n",
    ")\n",
    "\n",
    "print(f\"✓ Data loaders created\")\n",
    "print(f\"  Train batches: {len(train_loader)}\")\n",
    "print(f\"  Validation batches: {len(val_loader)}\")\n",
    "print(f\"  Test batches: {len(test_loader)}\")"
   ]
  },
  {
   "cell_type": "markdown",
   "id": "2930c06a",
   "metadata": {},
   "source": [
    "## 10. 🎓 Training Functions"
   ]
  },
  {
   "cell_type": "code",
   "execution_count": 11,
   "id": "4c2ea115",
   "metadata": {},
   "outputs": [
    {
     "name": "stdout",
     "output_type": "stream",
     "text": [
      "✓ Training functions defined\n"
     ]
    }
   ],
   "source": [
    "def train_epoch(model, train_loader, criterion, optimizer, device):\n",
    "    \"\"\"Train for one epoch\"\"\"\n",
    "    model.train()\n",
    "    running_loss = 0.0\n",
    "    correct = 0\n",
    "    total = 0\n",
    "    \n",
    "    progress_bar = tqdm(train_loader, desc='Training', leave=False)\n",
    "    \n",
    "    for inputs, labels in progress_bar:\n",
    "        inputs, labels = inputs.to(device), labels.to(device)\n",
    "        \n",
    "        optimizer.zero_grad()\n",
    "        outputs = model(inputs)\n",
    "        loss = criterion(outputs, labels)\n",
    "        loss.backward()\n",
    "        optimizer.step()\n",
    "        \n",
    "        running_loss += loss.item() * inputs.size(0)\n",
    "        _, predicted = outputs.max(1)\n",
    "        total += labels.size(0)\n",
    "        correct += predicted.eq(labels).sum().item()\n",
    "        \n",
    "        progress_bar.set_postfix({\n",
    "            'loss': loss.item(),\n",
    "            'acc': 100. * correct / total\n",
    "        })\n",
    "    \n",
    "    epoch_loss = running_loss / total\n",
    "    epoch_acc = 100. * correct / total\n",
    "    return epoch_loss, epoch_acc\n",
    "\n",
    "def validate(model, val_loader, criterion, device):\n",
    "    \"\"\"Validate the model\"\"\"\n",
    "    model.eval()\n",
    "    running_loss = 0.0\n",
    "    correct = 0\n",
    "    total = 0\n",
    "    \n",
    "    all_labels = []\n",
    "    all_preds = []\n",
    "    all_probs = []\n",
    "    \n",
    "    with torch.no_grad():\n",
    "        for inputs, labels in tqdm(val_loader, desc='Validation', leave=False):\n",
    "            inputs, labels = inputs.to(device), labels.to(device)\n",
    "            outputs = model(inputs)\n",
    "            loss = criterion(outputs, labels)\n",
    "            \n",
    "            running_loss += loss.item() * inputs.size(0)\n",
    "            probs = F.softmax(outputs, dim=1)\n",
    "            _, predicted = outputs.max(1)\n",
    "            \n",
    "            total += labels.size(0)\n",
    "            correct += predicted.eq(labels).sum().item()\n",
    "            \n",
    "            all_labels.extend(labels.cpu().numpy())\n",
    "            all_preds.extend(predicted.cpu().numpy())\n",
    "            all_probs.extend(probs[:, 1].cpu().numpy())\n",
    "    \n",
    "    epoch_loss = running_loss / total\n",
    "    epoch_acc = 100. * correct / total\n",
    "    \n",
    "    all_labels = np.array(all_labels)\n",
    "    all_preds = np.array(all_preds)\n",
    "    all_probs = np.array(all_probs)\n",
    "    \n",
    "    try:\n",
    "        auc_score = roc_auc_score(all_labels, all_probs)\n",
    "    except:\n",
    "        auc_score = 0.0\n",
    "    \n",
    "    f1 = f1_score(all_labels, all_preds, zero_division=0)\n",
    "    \n",
    "    return epoch_loss, epoch_acc, auc_score, f1, all_labels, all_preds, all_probs\n",
    "\n",
    "print(\"✓ Training functions defined\")"
   ]
  },
  {
   "cell_type": "markdown",
   "id": "4864eec3",
   "metadata": {},
   "source": [
    "## 11. 🚀 Initialize Model and Start Training"
   ]
  },
  {
   "cell_type": "code",
   "execution_count": 12,
   "id": "a7ba483a",
   "metadata": {},
   "outputs": [
    {
     "name": "stdout",
     "output_type": "stream",
     "text": [
      "Downloading: \"https://download.pytorch.org/models/efficientnet_b0_rwightman-7f5810bc.pth\" to C:\\Users\\admin/.cache\\torch\\hub\\checkpoints\\efficientnet_b0_rwightman-7f5810bc.pth\n"
     ]
    },
    {
     "name": "stderr",
     "output_type": "stream",
     "text": [
      "100%|██████████| 20.5M/20.5M [00:05<00:00, 3.91MB/s]\n"
     ]
    },
    {
     "name": "stdout",
     "output_type": "stream",
     "text": [
      "✓ EfficientNet-B0 initialized (pretrained=True)\n",
      "  Total parameters: 4,664,446\n",
      "  Trainable parameters: 4,664,446\n",
      "✓ Model, loss, optimizer, and scheduler initialized\n"
     ]
    }
   ],
   "source": [
    "# Initialize model\n",
    "device = torch.device(CONFIG['device'])\n",
    "model = EfficientNetLungCancer(pretrained=True, num_classes=2, dropout=0.5)\n",
    "model = model.to(device)\n",
    "\n",
    "# Loss function\n",
    "criterion = FocalLoss(\n",
    "    alpha=CONFIG['focal_alpha'],\n",
    "    gamma=CONFIG['focal_gamma']\n",
    ")\n",
    "\n",
    "# Optimizer\n",
    "optimizer = optim.AdamW(\n",
    "    model.parameters(),\n",
    "    lr=CONFIG['learning_rate'],\n",
    "    weight_decay=CONFIG['weight_decay']\n",
    ")\n",
    "\n",
    "# Scheduler\n",
    "scheduler = ReduceLROnPlateau(\n",
    "    optimizer, mode='min', factor=0.5, patience=5\n",
    ")\n",
    "\n",
    "print(\"✓ Model, loss, optimizer, and scheduler initialized\")"
   ]
  },
  {
   "cell_type": "code",
   "execution_count": 13,
   "id": "1b86d6e8",
   "metadata": {},
   "outputs": [
    {
     "name": "stdout",
     "output_type": "stream",
     "text": [
      "Starting training...\n",
      "\n",
      "\n",
      "Epoch 1/50\n",
      "------------------------------------------------------------\n"
     ]
    },
    {
     "name": "stderr",
     "output_type": "stream",
     "text": [
      "                                                                                  \r"
     ]
    },
    {
     "name": "stdout",
     "output_type": "stream",
     "text": [
      "\n",
      "Train Loss: 0.0686 | Train Acc: 65.24%\n",
      "Val Loss: 0.0382 | Val Acc: 81.05%\n",
      "Val AUC: 0.9075 | Val F1: 0.6889\n",
      "Time: 4.94s\n",
      "✓ Saved best model (AUC: 0.9075, F1: 0.6889)\n",
      "\n",
      "Epoch 2/50\n",
      "------------------------------------------------------------\n"
     ]
    },
    {
     "name": "stderr",
     "output_type": "stream",
     "text": [
      "                                                                                  \r"
     ]
    },
    {
     "name": "stdout",
     "output_type": "stream",
     "text": [
      "\n",
      "Train Loss: 0.0336 | Train Acc: 85.00%\n",
      "Val Loss: 0.0274 | Val Acc: 87.79%\n",
      "Val AUC: 0.9526 | Val F1: 0.7816\n",
      "Time: 4.45s\n",
      "✓ Saved best model (AUC: 0.9526, F1: 0.7816)\n",
      "\n",
      "Epoch 3/50\n",
      "------------------------------------------------------------\n"
     ]
    },
    {
     "name": "stderr",
     "output_type": "stream",
     "text": [
      "                                                                                   \r"
     ]
    },
    {
     "name": "stdout",
     "output_type": "stream",
     "text": [
      "\n",
      "Train Loss: 0.0312 | Train Acc: 88.35%\n",
      "Val Loss: 0.0234 | Val Acc: 88.01%\n",
      "Val AUC: 0.9714 | Val F1: 0.7986\n",
      "Time: 4.19s\n",
      "✓ Saved best model (AUC: 0.9714, F1: 0.7986)\n",
      "\n",
      "Epoch 4/50\n",
      "------------------------------------------------------------\n"
     ]
    },
    {
     "name": "stderr",
     "output_type": "stream",
     "text": [
      "                                                                                   \r"
     ]
    },
    {
     "name": "stdout",
     "output_type": "stream",
     "text": [
      "\n",
      "Train Loss: 0.0260 | Train Acc: 89.13%\n",
      "Val Loss: 0.0219 | Val Acc: 90.69%\n",
      "Val AUC: 0.9828 | Val F1: 0.8386\n",
      "Time: 4.40s\n",
      "✓ Saved best model (AUC: 0.9828, F1: 0.8386)\n",
      "\n",
      "Epoch 5/50\n",
      "------------------------------------------------------------\n"
     ]
    },
    {
     "name": "stderr",
     "output_type": "stream",
     "text": [
      "                                                                                   \r"
     ]
    },
    {
     "name": "stdout",
     "output_type": "stream",
     "text": [
      "\n",
      "Train Loss: 0.0342 | Train Acc: 89.31%\n",
      "Val Loss: 0.0223 | Val Acc: 89.61%\n",
      "Val AUC: 0.9695 | Val F1: 0.8145\n",
      "Time: 4.43s\n",
      "\n",
      "Epoch 6/50\n",
      "------------------------------------------------------------\n"
     ]
    },
    {
     "name": "stderr",
     "output_type": "stream",
     "text": [
      "                                                                                  \r"
     ]
    },
    {
     "name": "stdout",
     "output_type": "stream",
     "text": [
      "\n",
      "Train Loss: 0.0241 | Train Acc: 91.51%\n",
      "Val Loss: 0.0193 | Val Acc: 92.29%\n",
      "Val AUC: 0.9795 | Val F1: 0.8599\n",
      "Time: 4.25s\n",
      "\n",
      "Epoch 7/50\n",
      "------------------------------------------------------------\n"
     ]
    },
    {
     "name": "stderr",
     "output_type": "stream",
     "text": [
      "                                                                                   \r"
     ]
    },
    {
     "name": "stdout",
     "output_type": "stream",
     "text": [
      "\n",
      "Train Loss: 0.0214 | Train Acc: 92.15%\n",
      "Val Loss: 0.0180 | Val Acc: 95.50%\n",
      "Val AUC: 0.9890 | Val F1: 0.9079\n",
      "Time: 4.28s\n",
      "✓ Saved best model (AUC: 0.9890, F1: 0.9079)\n",
      "\n",
      "Epoch 8/50\n",
      "------------------------------------------------------------\n"
     ]
    },
    {
     "name": "stderr",
     "output_type": "stream",
     "text": [
      "                                                                                   \r"
     ]
    },
    {
     "name": "stdout",
     "output_type": "stream",
     "text": [
      "\n",
      "Train Loss: 0.0205 | Train Acc: 92.91%\n",
      "Val Loss: 0.0249 | Val Acc: 90.69%\n",
      "Val AUC: 0.9625 | Val F1: 0.8263\n",
      "Time: 4.15s\n",
      "\n",
      "Epoch 9/50\n",
      "------------------------------------------------------------\n"
     ]
    },
    {
     "name": "stderr",
     "output_type": "stream",
     "text": [
      "                                                                                   \r"
     ]
    },
    {
     "name": "stdout",
     "output_type": "stream",
     "text": [
      "\n",
      "Train Loss: 0.0238 | Train Acc: 91.35%\n",
      "Val Loss: 0.0237 | Val Acc: 92.40%\n",
      "Val AUC: 0.9715 | Val F1: 0.8588\n",
      "Time: 4.37s\n",
      "\n",
      "Epoch 10/50\n",
      "------------------------------------------------------------\n"
     ]
    },
    {
     "name": "stderr",
     "output_type": "stream",
     "text": [
      "                                                                                   \r"
     ]
    },
    {
     "name": "stdout",
     "output_type": "stream",
     "text": [
      "\n",
      "Train Loss: 0.0206 | Train Acc: 92.87%\n",
      "Val Loss: 0.0221 | Val Acc: 96.15%\n",
      "Val AUC: 0.9880 | Val F1: 0.9244\n",
      "Time: 4.28s\n",
      "\n",
      "Epoch 11/50\n",
      "------------------------------------------------------------\n"
     ]
    },
    {
     "name": "stderr",
     "output_type": "stream",
     "text": [
      "                                                                                   \r"
     ]
    },
    {
     "name": "stdout",
     "output_type": "stream",
     "text": [
      "\n",
      "Train Loss: 0.0148 | Train Acc: 94.04%\n",
      "Val Loss: 0.0174 | Val Acc: 96.90%\n",
      "Val AUC: 0.9926 | Val F1: 0.9407\n",
      "Time: 4.18s\n",
      "✓ Saved best model (AUC: 0.9926, F1: 0.9407)\n",
      "\n",
      "Epoch 12/50\n",
      "------------------------------------------------------------\n"
     ]
    },
    {
     "name": "stderr",
     "output_type": "stream",
     "text": [
      "                                                                                   \r"
     ]
    },
    {
     "name": "stdout",
     "output_type": "stream",
     "text": [
      "\n",
      "Train Loss: 0.0174 | Train Acc: 94.33%\n",
      "Val Loss: 0.4823 | Val Acc: 90.69%\n",
      "Val AUC: 0.9142 | Val F1: 0.8168\n",
      "Time: 4.38s\n",
      "\n",
      "Epoch 13/50\n",
      "------------------------------------------------------------\n"
     ]
    },
    {
     "name": "stderr",
     "output_type": "stream",
     "text": [
      "                                                                                  \r"
     ]
    },
    {
     "name": "stdout",
     "output_type": "stream",
     "text": [
      "\n",
      "Train Loss: 0.0488 | Train Acc: 86.97%\n",
      "Val Loss: 0.0199 | Val Acc: 91.33%\n",
      "Val AUC: 0.9764 | Val F1: 0.8396\n",
      "Time: 4.30s\n",
      "\n",
      "Epoch 14/50\n",
      "------------------------------------------------------------\n"
     ]
    },
    {
     "name": "stderr",
     "output_type": "stream",
     "text": [
      "                                                                                   \r"
     ]
    },
    {
     "name": "stdout",
     "output_type": "stream",
     "text": [
      "\n",
      "Train Loss: 0.0243 | Train Acc: 91.40%\n",
      "Val Loss: 0.0160 | Val Acc: 93.79%\n",
      "Val AUC: 0.9874 | Val F1: 0.8867\n",
      "Time: 4.34s\n",
      "\n",
      "Epoch 15/50\n",
      "------------------------------------------------------------\n"
     ]
    },
    {
     "name": "stderr",
     "output_type": "stream",
     "text": [
      "                                                                                   \r"
     ]
    },
    {
     "name": "stdout",
     "output_type": "stream",
     "text": [
      "\n",
      "Train Loss: 0.0179 | Train Acc: 93.28%\n",
      "Val Loss: 0.0198 | Val Acc: 95.18%\n",
      "Val AUC: 0.9918 | Val F1: 0.8980\n",
      "Time: 4.28s\n",
      "\n",
      "Epoch 16/50\n",
      "------------------------------------------------------------\n"
     ]
    },
    {
     "name": "stderr",
     "output_type": "stream",
     "text": [
      "                                                                                   \r"
     ]
    },
    {
     "name": "stdout",
     "output_type": "stream",
     "text": [
      "\n",
      "Train Loss: 0.0179 | Train Acc: 93.30%\n",
      "Val Loss: 0.0147 | Val Acc: 97.11%\n",
      "Val AUC: 0.9894 | Val F1: 0.9429\n",
      "Time: 4.14s\n",
      "\n",
      "Epoch 17/50\n",
      "------------------------------------------------------------\n"
     ]
    },
    {
     "name": "stderr",
     "output_type": "stream",
     "text": [
      "                                                                                   \r"
     ]
    },
    {
     "name": "stdout",
     "output_type": "stream",
     "text": [
      "\n",
      "Train Loss: 0.0136 | Train Acc: 95.37%\n",
      "Val Loss: 0.0102 | Val Acc: 96.90%\n",
      "Val AUC: 0.9951 | Val F1: 0.9389\n",
      "Time: 4.48s\n",
      "✓ Saved best model (AUC: 0.9951, F1: 0.9389)\n",
      "\n",
      "Epoch 18/50\n",
      "------------------------------------------------------------\n"
     ]
    },
    {
     "name": "stderr",
     "output_type": "stream",
     "text": [
      "                                                                                   \r"
     ]
    },
    {
     "name": "stdout",
     "output_type": "stream",
     "text": [
      "\n",
      "Train Loss: 0.0142 | Train Acc: 94.79%\n",
      "Val Loss: 0.0093 | Val Acc: 97.43%\n",
      "Val AUC: 0.9947 | Val F1: 0.9498\n",
      "Time: 4.39s\n",
      "\n",
      "Epoch 19/50\n",
      "------------------------------------------------------------\n"
     ]
    },
    {
     "name": "stderr",
     "output_type": "stream",
     "text": [
      "                                                                                   \r"
     ]
    },
    {
     "name": "stdout",
     "output_type": "stream",
     "text": [
      "\n",
      "Train Loss: 0.0125 | Train Acc: 95.25%\n",
      "Val Loss: 0.0113 | Val Acc: 96.90%\n",
      "Val AUC: 0.9943 | Val F1: 0.9363\n",
      "Time: 4.38s\n",
      "\n",
      "Epoch 20/50\n",
      "------------------------------------------------------------\n"
     ]
    },
    {
     "name": "stderr",
     "output_type": "stream",
     "text": [
      "                                                                                    \r"
     ]
    },
    {
     "name": "stdout",
     "output_type": "stream",
     "text": [
      "\n",
      "Train Loss: 0.0113 | Train Acc: 95.76%\n",
      "Val Loss: 0.0132 | Val Acc: 96.04%\n",
      "Val AUC: 0.9916 | Val F1: 0.9204\n",
      "Time: 4.41s\n",
      "\n",
      "Epoch 21/50\n",
      "------------------------------------------------------------\n"
     ]
    },
    {
     "name": "stderr",
     "output_type": "stream",
     "text": [
      "                                                                                    \r"
     ]
    },
    {
     "name": "stdout",
     "output_type": "stream",
     "text": [
      "\n",
      "Train Loss: 0.0112 | Train Acc: 96.05%\n",
      "Val Loss: 0.0090 | Val Acc: 97.54%\n",
      "Val AUC: 0.9964 | Val F1: 0.9514\n",
      "Time: 4.43s\n",
      "✓ Saved best model (AUC: 0.9964, F1: 0.9514)\n",
      "\n",
      "Epoch 22/50\n",
      "------------------------------------------------------------\n"
     ]
    },
    {
     "name": "stderr",
     "output_type": "stream",
     "text": [
      "                                                                                    \r"
     ]
    },
    {
     "name": "stdout",
     "output_type": "stream",
     "text": [
      "\n",
      "Train Loss: 0.0123 | Train Acc: 95.27%\n",
      "Val Loss: 0.0101 | Val Acc: 97.43%\n",
      "Val AUC: 0.9952 | Val F1: 0.9492\n",
      "Time: 4.19s\n",
      "\n",
      "Epoch 23/50\n",
      "------------------------------------------------------------\n"
     ]
    },
    {
     "name": "stderr",
     "output_type": "stream",
     "text": [
      "                                                                                    \r"
     ]
    },
    {
     "name": "stdout",
     "output_type": "stream",
     "text": [
      "\n",
      "Train Loss: 0.0093 | Train Acc: 96.31%\n",
      "Val Loss: 0.0092 | Val Acc: 96.79%\n",
      "Val AUC: 0.9952 | Val F1: 0.9378\n",
      "Time: 4.22s\n",
      "\n",
      "Epoch 24/50\n",
      "------------------------------------------------------------\n"
     ]
    },
    {
     "name": "stderr",
     "output_type": "stream",
     "text": [
      "                                                                                   \r"
     ]
    },
    {
     "name": "stdout",
     "output_type": "stream",
     "text": [
      "\n",
      "Train Loss: 0.0104 | Train Acc: 96.44%\n",
      "Val Loss: 0.0087 | Val Acc: 97.11%\n",
      "Val AUC: 0.9956 | Val F1: 0.9439\n",
      "Time: 4.19s\n",
      "\n",
      "Epoch 25/50\n",
      "------------------------------------------------------------\n"
     ]
    },
    {
     "name": "stderr",
     "output_type": "stream",
     "text": [
      "                                                                                   \r"
     ]
    },
    {
     "name": "stdout",
     "output_type": "stream",
     "text": [
      "\n",
      "Train Loss: 0.0113 | Train Acc: 96.10%\n",
      "Val Loss: 0.0131 | Val Acc: 96.79%\n",
      "Val AUC: 0.9915 | Val F1: 0.9372\n",
      "Time: 4.48s\n",
      "\n",
      "Epoch 26/50\n",
      "------------------------------------------------------------\n"
     ]
    },
    {
     "name": "stderr",
     "output_type": "stream",
     "text": [
      "                                                                                    \r"
     ]
    },
    {
     "name": "stdout",
     "output_type": "stream",
     "text": [
      "\n",
      "Train Loss: 0.0111 | Train Acc: 95.60%\n",
      "Val Loss: 0.0091 | Val Acc: 97.11%\n",
      "Val AUC: 0.9947 | Val F1: 0.9441\n",
      "Time: 4.36s\n",
      "\n",
      "Epoch 27/50\n",
      "------------------------------------------------------------\n"
     ]
    },
    {
     "name": "stderr",
     "output_type": "stream",
     "text": [
      "                                                                                    \r"
     ]
    },
    {
     "name": "stdout",
     "output_type": "stream",
     "text": [
      "\n",
      "Train Loss: 0.0080 | Train Acc: 96.44%\n",
      "Val Loss: 0.0085 | Val Acc: 98.07%\n",
      "Val AUC: 0.9960 | Val F1: 0.9622\n",
      "Time: 4.28s\n",
      "\n",
      "Epoch 28/50\n",
      "------------------------------------------------------------\n"
     ]
    },
    {
     "name": "stderr",
     "output_type": "stream",
     "text": [
      "                                                                                   \r"
     ]
    },
    {
     "name": "stdout",
     "output_type": "stream",
     "text": [
      "\n",
      "Train Loss: 0.0115 | Train Acc: 96.15%\n",
      "Val Loss: 0.0119 | Val Acc: 96.57%\n",
      "Val AUC: 0.9918 | Val F1: 0.9325\n",
      "Time: 4.51s\n",
      "\n",
      "Epoch 29/50\n",
      "------------------------------------------------------------\n"
     ]
    },
    {
     "name": "stderr",
     "output_type": "stream",
     "text": [
      "                                                                                    \r"
     ]
    },
    {
     "name": "stdout",
     "output_type": "stream",
     "text": [
      "\n",
      "Train Loss: 0.0092 | Train Acc: 96.63%\n",
      "Val Loss: 0.0082 | Val Acc: 96.68%\n",
      "Val AUC: 0.9958 | Val F1: 0.9366\n",
      "Time: 4.40s\n",
      "\n",
      "Epoch 30/50\n",
      "------------------------------------------------------------\n"
     ]
    },
    {
     "name": "stderr",
     "output_type": "stream",
     "text": [
      "                                                                                    \r"
     ]
    },
    {
     "name": "stdout",
     "output_type": "stream",
     "text": [
      "\n",
      "Train Loss: 0.0091 | Train Acc: 96.49%\n",
      "Val Loss: 0.0163 | Val Acc: 96.15%\n",
      "Val AUC: 0.9951 | Val F1: 0.9189\n",
      "Time: 4.41s\n",
      "\n",
      "Epoch 31/50\n",
      "------------------------------------------------------------\n"
     ]
    },
    {
     "name": "stderr",
     "output_type": "stream",
     "text": [
      "                                                                                    "
     ]
    },
    {
     "name": "stdout",
     "output_type": "stream",
     "text": [
      "\n",
      "Train Loss: 0.0112 | Train Acc: 95.73%\n",
      "Val Loss: 0.0087 | Val Acc: 96.57%\n",
      "Val AUC: 0.9953 | Val F1: 0.9339\n",
      "Time: 4.28s\n",
      "\n",
      "Early stopping triggered after 31 epochs\n",
      "\n",
      "============================================================\n",
      "Training completed!\n",
      "Best Validation AUC: 0.9964\n",
      "Best Validation F1: 0.9514\n",
      "============================================================\n"
     ]
    },
    {
     "name": "stderr",
     "output_type": "stream",
     "text": [
      "\r"
     ]
    }
   ],
   "source": [
    "# Training loop\n",
    "print(\"Starting training...\\n\")\n",
    "\n",
    "best_val_auc = 0.0\n",
    "best_val_f1 = 0.0\n",
    "patience_counter = 0\n",
    "history = {\n",
    "    'train_loss': [],\n",
    "    'train_acc': [],\n",
    "    'val_loss': [],\n",
    "    'val_acc': [],\n",
    "    'val_auc': [],\n",
    "    'val_f1': []\n",
    "}\n",
    "\n",
    "for epoch in range(CONFIG['num_epochs']):\n",
    "    epoch_start_time = time.time()\n",
    "    \n",
    "    print(f\"\\nEpoch {epoch+1}/{CONFIG['num_epochs']}\")\n",
    "    print(\"-\" * 60)\n",
    "    \n",
    "    # Train\n",
    "    train_loss, train_acc = train_epoch(model, train_loader, criterion, optimizer, device)\n",
    "    \n",
    "    # Validate\n",
    "    val_loss, val_acc, val_auc, val_f1, _, _, _ = validate(model, val_loader, criterion, device)\n",
    "    \n",
    "    # Update learning rate\n",
    "    scheduler.step(val_loss)\n",
    "    \n",
    "    # Save history\n",
    "    history['train_loss'].append(train_loss)\n",
    "    history['train_acc'].append(train_acc)\n",
    "    history['val_loss'].append(val_loss)\n",
    "    history['val_acc'].append(val_acc)\n",
    "    history['val_auc'].append(val_auc)\n",
    "    history['val_f1'].append(val_f1)\n",
    "    \n",
    "    epoch_time = time.time() - epoch_start_time\n",
    "    \n",
    "    print(f\"\\nTrain Loss: {train_loss:.4f} | Train Acc: {train_acc:.2f}%\")\n",
    "    print(f\"Val Loss: {val_loss:.4f} | Val Acc: {val_acc:.2f}%\")\n",
    "    print(f\"Val AUC: {val_auc:.4f} | Val F1: {val_f1:.4f}\")\n",
    "    print(f\"Time: {epoch_time:.2f}s\")\n",
    "    \n",
    "    # Save best model\n",
    "    if val_auc > best_val_auc:\n",
    "        best_val_auc = val_auc\n",
    "        best_val_f1 = val_f1\n",
    "        torch.save({\n",
    "            'epoch': epoch,\n",
    "            'model_state_dict': model.state_dict(),\n",
    "            'optimizer_state_dict': optimizer.state_dict(),\n",
    "            'val_auc': val_auc,\n",
    "            'val_f1': val_f1,\n",
    "        }, MODEL_DIR / 'best_efficientnet_model.pth')\n",
    "        print(f\"✓ Saved best model (AUC: {val_auc:.4f}, F1: {val_f1:.4f})\")\n",
    "        patience_counter = 0\n",
    "    else:\n",
    "        patience_counter += 1\n",
    "    \n",
    "    # Early stopping\n",
    "    if patience_counter >= CONFIG['patience']:\n",
    "        print(f\"\\nEarly stopping triggered after {epoch+1} epochs\")\n",
    "        break\n",
    "\n",
    "print(\"\\n\" + \"=\"*60)\n",
    "print(\"Training completed!\")\n",
    "print(f\"Best Validation AUC: {best_val_auc:.4f}\")\n",
    "print(f\"Best Validation F1: {best_val_f1:.4f}\")\n",
    "print(\"=\"*60)"
   ]
  },
  {
   "cell_type": "markdown",
   "id": "8c9166a4",
   "metadata": {},
   "source": [
    "## 12. 📈 Plot Training History"
   ]
  },
  {
   "cell_type": "code",
   "execution_count": 21,
   "id": "8a31e6bc",
   "metadata": {},
   "outputs": [
    {
     "data": {
      "image/png": "[encoded data removed]",
      "text/plain": [
       "<Figure size 1500x1000 with 4 Axes>"
      ]
     },
     "metadata": {},
     "output_type": "display_data"
    },
    {
     "name": "stdout",
     "output_type": "stream",
     "text": [
      "✓ Training history plotted and saved\n"
     ]
    }
   ],
   "source": [
    "# Plot training history\n",
    "fig, axes = plt.subplots(2, 2, figsize=(15, 10))\n",
    "\n",
    "# Loss\n",
    "axes[0, 0].plot(history['train_loss'], label='Train Loss', marker='o')\n",
    "axes[0, 0].plot(history['val_loss'], label='Val Loss', marker='s')\n",
    "axes[0, 0].set_xlabel('Epoch')\n",
    "axes[0, 0].set_ylabel('Loss')\n",
    "axes[0, 0].set_title('Training and Validation Loss')\n",
    "axes[0, 0].legend()\n",
    "axes[0, 0].grid(True, alpha=0.3)\n",
    "\n",
    "# Accuracy\n",
    "axes[0, 1].plot(history['train_acc'], label='Train Acc', marker='o')\n",
    "axes[0, 1].plot(history['val_acc'], label='Val Acc', marker='s')\n",
    "axes[0, 1].set_xlabel('Epoch')\n",
    "axes[0, 1].set_ylabel('Accuracy (%)')\n",
    "axes[0, 1].set_title('Training and Validation Accuracy')\n",
    "axes[0, 1].legend()\n",
    "axes[0, 1].grid(True, alpha=0.3)\n",
    "\n",
    "# AUC\n",
    "axes[1, 0].plot(history['val_auc'], label='Val AUC', marker='o', color='green')\n",
    "axes[1, 0].set_xlabel('Epoch')\n",
    "axes[1, 0].set_ylabel('AUC-ROC')\n",
    "axes[1, 0].set_title('Validation AUC-ROC')\n",
    "axes[1, 0].legend()\n",
    "axes[1, 0].grid(True, alpha=0.3)\n",
    "\n",
    "# F1\n",
    "axes[1, 1].plot(history['val_f1'], label='Val F1', marker='o', color='red')\n",
    "axes[1, 1].set_xlabel('Epoch')\n",
    "axes[1, 1].set_ylabel('F1 Score')\n",
    "axes[1, 1].set_title('Validation F1 Score')\n",
    "axes[1, 1].legend()\n",
    "axes[1, 1].grid(True, alpha=0.3)\n",
    "\n",
    "plt.tight_layout()\n",
    "plt.savefig(MODEL_DIR / 'training_history.png', dpi=300, bbox_inches='tight')\n",
    "plt.show()\n",
    "\n",
    "print(\"✓ Training history plotted and saved\")"
   ]
  },
  {
   "cell_type": "markdown",
   "id": "c8d65221",
   "metadata": {},
   "source": [
    "## 13. 🧪 Evaluate on Test Set"
   ]
  },
  {
   "cell_type": "code",
   "execution_count": 22,
   "id": "bf81f39d",
   "metadata": {},
   "outputs": [
    {
     "name": "stdout",
     "output_type": "stream",
     "text": [
      "✓ Loaded best model from epoch 21\n",
      "\n",
      "Evaluating on test set...\n"
     ]
    },
    {
     "name": "stderr",
     "output_type": "stream",
     "text": [
      "                                                           "
     ]
    },
    {
     "name": "stdout",
     "output_type": "stream",
     "text": [
      "\n",
      "============================================================\n",
      "TEST SET RESULTS (EfficientNet-B0)\n",
      "============================================================\n",
      "Test Loss: 0.0198\n",
      "Test Accuracy: 96.15%\n",
      "Test AUC-ROC: 0.9853\n",
      "Test F1 Score: 0.9241\n",
      "============================================================\n"
     ]
    },
    {
     "name": "stderr",
     "output_type": "stream",
     "text": [
      "\r"
     ]
    }
   ],
   "source": [
    "# Load best model\n",
    "checkpoint = torch.load(MODEL_DIR / 'best_efficientnet_model.pth')\n",
    "model.load_state_dict(checkpoint['model_state_dict'])\n",
    "print(f\"✓ Loaded best model from epoch {checkpoint['epoch']+1}\")\n",
    "\n",
    "# Evaluate\n",
    "print(\"\\nEvaluating on test set...\")\n",
    "test_loss, test_acc, test_auc, test_f1, test_labels, test_preds, test_probs = validate(\n",
    "    model, test_loader, criterion, device\n",
    ")\n",
    "\n",
    "print(\"\\n\" + \"=\"*60)\n",
    "print(\"TEST SET RESULTS (EfficientNet-B0)\")\n",
    "print(\"=\"*60)\n",
    "print(f\"Test Loss: {test_loss:.4f}\")\n",
    "print(f\"Test Accuracy: {test_acc:.2f}%\")\n",
    "print(f\"Test AUC-ROC: {test_auc:.4f}\")\n",
    "print(f\"Test F1 Score: {test_f1:.4f}\")\n",
    "print(\"=\"*60)"
   ]
  },
  {
   "cell_type": "code",
   "execution_count": 23,
   "id": "82b0b659",
   "metadata": {},
   "outputs": [
    {
     "data": {
      "image/png": "[encoded data removed]",
      "text/plain": [
       "<Figure size 800x600 with 2 Axes>"
      ]
     },
     "metadata": {},
     "output_type": "display_data"
    },
    {
     "name": "stdout",
     "output_type": "stream",
     "text": [
      "\n",
      "Confusion Matrix:\n",
      "[[680  21]\n",
      " [ 15 219]]\n"
     ]
    }
   ],
   "source": [
    "# Confusion Matrix\n",
    "cm = confusion_matrix(test_labels, test_preds)\n",
    "\n",
    "plt.figure(figsize=(8, 6))\n",
    "sns.heatmap(cm, annot=True, fmt='d', cmap='Blues', \n",
    "            xticklabels=['Non-Nodule', 'Nodule'],\n",
    "            yticklabels=['Non-Nodule', 'Nodule'])\n",
    "plt.ylabel('True Label')\n",
    "plt.xlabel('Predicted Label')\n",
    "plt.title('Confusion Matrix - Test Set (EfficientNet-B0)')\n",
    "plt.tight_layout()\n",
    "plt.savefig(MODEL_DIR / 'confusion_matrix.png', dpi=300, bbox_inches='tight')\n",
    "plt.show()\n",
    "\n",
    "print(\"\\nConfusion Matrix:\")\n",
    "print(cm)"
   ]
  },
  {
   "cell_type": "code",
   "execution_count": 24,
   "id": "1be4a0d3",
   "metadata": {},
   "outputs": [
    {
     "name": "stdout",
     "output_type": "stream",
     "text": [
      "\n",
      "Classification Report:\n",
      "              precision    recall  f1-score   support\n",
      "\n",
      "  Non-Nodule     0.9784    0.9700    0.9742       701\n",
      "      Nodule     0.9125    0.9359    0.9241       234\n",
      "\n",
      "    accuracy                         0.9615       935\n",
      "   macro avg     0.9455    0.9530    0.9491       935\n",
      "weighted avg     0.9619    0.9615    0.9617       935\n",
      "\n"
     ]
    }
   ],
   "source": [
    "# Classification Report\n",
    "print(\"\\nClassification Report:\")\n",
    "print(classification_report(test_labels, test_preds, \n",
    "                          target_names=['Non-Nodule', 'Nodule'],\n",
    "                          digits=4))"
   ]
  },
  {
   "cell_type": "code",
   "execution_count": 25,
   "id": "f3e31867",
   "metadata": {},
   "outputs": [
    {
     "data": {
      "image/png": "[encoded data removed]",
      "text/plain": [
       "<Figure size 800x600 with 1 Axes>"
      ]
     },
     "metadata": {},
     "output_type": "display_data"
    }
   ],
   "source": [
    "# ROC Curve\n",
    "fpr, tpr, thresholds = roc_curve(test_labels, test_probs)\n",
    "\n",
    "plt.figure(figsize=(8, 6))\n",
    "plt.plot(fpr, tpr, linewidth=2, label=f'ROC curve (AUC = {test_auc:.4f})')\n",
    "plt.plot([0, 1], [0, 1], 'k--', linewidth=1, label='Random Classifier')\n",
    "plt.xlabel('False Positive Rate')\n",
    "plt.ylabel('True Positive Rate')\n",
    "plt.title('ROC Curve - Test Set (EfficientNet-B0)')\n",
    "plt.legend()\n",
    "plt.grid(True, alpha=0.3)\n",
    "plt.tight_layout()\n",
    "plt.savefig(MODEL_DIR / 'roc_curve.png', dpi=300, bbox_inches='tight')\n",
    "plt.show()"
   ]
  },
  {
   "cell_type": "code",
   "execution_count": 19,
   "id": "ec770fd2",
   "metadata": {},
   "outputs": [
    {
     "data": {
      "image/png": "[encoded data removed]",
      "text/plain": [
       "<Figure size 800x600 with 1 Axes>"
      ]
     },
     "metadata": {},
     "output_type": "display_data"
    }
   ],
   "source": [
    "# Precision-Recall Curve\n",
    "precision, recall, pr_thresholds = precision_recall_curve(test_labels, test_probs)\n",
    "\n",
    "plt.figure(figsize=(8, 6))\n",
    "plt.plot(recall, precision, linewidth=2, label='Precision-Recall curve')\n",
    "plt.xlabel('Recall')\n",
    "plt.ylabel('Precision')\n",
    "plt.title('Precision-Recall Curve - Test Set (EfficientNet-B0)')\n",
    "plt.legend()\n",
    "plt.grid(True, alpha=0.3)\n",
    "plt.tight_layout()\n",
    "plt.savefig(MODEL_DIR / 'precision_recall_curve.png', dpi=300, bbox_inches='tight')\n",
    "plt.show()"
   ]
  },
  {
   "cell_type": "markdown",
   "id": "513b464d",
   "metadata": {},
   "source": [
    "## 14. 💾 Save Results"
   ]
  },
  {
   "cell_type": "code",
   "execution_count": 20,
   "id": "9fc3494a",
   "metadata": {},
   "outputs": [
    {
     "name": "stdout",
     "output_type": "stream",
     "text": [
      "✓ Training history saved\n",
      "✓ Test results saved\n",
      "\n",
      "✓ All results saved to e:\\Kanav\\Projects\\CAD_C\\models_efficientnet\n"
     ]
    }
   ],
   "source": [
    "# Save training history\n",
    "history_df = pd.DataFrame(history)\n",
    "history_df.to_csv(MODEL_DIR / 'training_history.csv', index=False)\n",
    "print(\"✓ Training history saved\")\n",
    "\n",
    "# Save test results\n",
    "test_results = {\n",
    "    'model': 'EfficientNet-B0',\n",
    "    'test_loss': test_loss,\n",
    "    'test_accuracy': test_acc,\n",
    "    'test_auc': test_auc,\n",
    "    'test_f1': test_f1,\n",
    "    'confusion_matrix': cm.tolist()\n",
    "}\n",
    "\n",
    "import json\n",
    "with open(MODEL_DIR / 'test_results.json', 'w') as f:\n",
    "    json.dump(test_results, f, indent=4)\n",
    "print(\"✓ Test results saved\")\n",
    "\n",
    "print(f\"\\n✓ All results saved to {MODEL_DIR}\")"
   ]
  },
  {
   "cell_type": "markdown",
   "id": "0647a90f",
   "metadata": {},
   "source": [
    "## 15. 📊 Model Comparison\n",
    "\n",
    "### EfficientNet-B0 vs ResNet-101:\n",
    "\n",
    "| Metric | EfficientNet-B0 | ResNet-101 |\n",
    "|--------|----------------|------------|\n",
    "| **Parameters** | ~5.3M | ~44.5M |\n",
    "| **Model Size** | 8x smaller | Baseline |\n",
    "| **Training Speed** | Faster | Slower |\n",
    "| **Memory Usage** | Lower | Higher |\n",
    "| **Accuracy** | [Will see] | 94.44% |\n",
    "| **AUC-ROC** | [Will see] | 0.9772 |\n",
    "| **F1 Score** | [Will see] | 0.8903 |\n",
    "\n",
    "### Key Advantages of EfficientNet:\n",
    "- ✅ **8x fewer parameters** - Much more efficient\n",
    "- ✅ **Faster training** - Less computation per epoch\n",
    "- ✅ **Lower memory** - Can use larger batch sizes\n",
    "- ✅ **Modern architecture** - Compound scaling approach\n",
    "- ✅ **Better efficiency** - Higher accuracy per parameter\n",
    "\n",
    "### When to use each:\n",
    "- **EfficientNet-B0**: Limited compute, faster inference, production deployment\n",
    "- **ResNet-101**: Maximum accuracy, research, plenty of compute resources"
   ]
  }
 ],
 "metadata": {
  "kernelspec": {
   "display_name": "pytorch-12.8",
   "language": "python",
   "name": "python3"
  },
  "language_info": {
   "codemirror_mode": {
    "name": "ipython",
    "version": 3
   },
   "file_extension": ".py",
   "mimetype": "text/x-python",
   "name": "python",
   "nbconvert_exporter": "python",
   "pygments_lexer": "ipython3",
   "version": "3.10.18"
  }
 },
 "nbformat": 4,
 "nbformat_minor": 5
}
