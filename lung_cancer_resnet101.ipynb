{
 "cells": [
  {
   "cell_type": "markdown",
   "id": "5bfa8720",
   "metadata": {},
   "source": [
    "# 🫁 LUNA16 Lung Cancer Detection - ResNet-101 Pretrained Model\n",
    "\n",
    "**Transfer Learning with ResNet-101 for Medical Imaging**\n",
    "\n",
    "### Key Features:\n",
    "- 🔮 **Pretrained ResNet-101** - Transfer learning from ImageNet\n",
    "- 🎯 **2D Multi-Slice Approach** - Process CT scan slices with pretrained CNN\n",
    "- ⚖️ **Focal Loss** - Handle class imbalance effectively\n",
    "- 📈 **Advanced Metrics** - Precision, Recall, F1, AUC-ROC\n",
    "- 🚀 **Data Augmentation** - Robust training with augmented patches\n",
    "\n",
    "**Dataset**: LUNA16 (Lung Nodule Analysis 2016)\n",
    "\n",
    "### Approach:\n",
    "- Extract 2D slices from 3D CT scans\n",
    "- Use pretrained ResNet-101 backbone\n",
    "- Fine-tune for nodule detection task"
   ]
  },
  {
   "cell_type": "markdown",
   "id": "d67a863e",
   "metadata": {},
   "source": [
    "## 1. 📦 Import Required Libraries"
   ]
  },
  {
   "cell_type": "code",
   "execution_count": 2,
   "id": "012a3b29",
   "metadata": {},
   "outputs": [
    {
     "name": "stdout",
     "output_type": "stream",
     "text": [
      "PyTorch version: 2.10.0.dev20250930+cu128\n",
      "CUDA available: True\n",
      "CUDA device: NVIDIA GeForce RTX 5060 Ti\n"
     ]
    },
    {
     "name": "stderr",
     "output_type": "stream",
     "text": [
      "c:\\Users\\admin\\anaconda3\\envs\\pytorch-12.8\\lib\\site-packages\\tqdm\\auto.py:21: TqdmWarning: IProgress not found. Please update jupyter and ipywidgets. See https://ipywidgets.readthedocs.io/en/stable/user_install.html\n",
      "  from .autonotebook import tqdm as notebook_tqdm\n"
     ]
    }
   ],
   "source": [
    "# Core libraries\n",
    "import os\n",
    "import sys\n",
    "import glob\n",
    "import warnings\n",
    "from pathlib import Path\n",
    "import time\n",
    "import math\n",
    "import random\n",
    "\n",
    "# Data processing\n",
    "import numpy as np\n",
    "import pandas as pd\n",
    "from collections import Counter\n",
    "from sklearn.model_selection import train_test_split\n",
    "from sklearn.metrics import (\n",
    "    classification_report, confusion_matrix, roc_auc_score,\n",
    "    roc_curve, precision_recall_curve, f1_score, matthews_corrcoef\n",
    ")\n",
    "\n",
    "# Medical imaging\n",
    "import SimpleITK as sitk\n",
    "\n",
    "# PyTorch and deep learning\n",
    "import torch\n",
    "import torch.nn as nn\n",
    "import torch.nn.functional as F\n",
    "import torch.optim as optim\n",
    "from torch.utils.data import Dataset, DataLoader, WeightedRandomSampler\n",
    "from torch.optim.lr_scheduler import CosineAnnealingLR, ReduceLROnPlateau\n",
    "import torchvision.models as models\n",
    "import torchvision.transforms as transforms\n",
    "\n",
    "# Visualization\n",
    "import matplotlib.pyplot as plt\n",
    "import seaborn as sns\n",
    "from tqdm.auto import tqdm\n",
    "\n",
    "# Suppress warnings\n",
    "warnings.filterwarnings('ignore')\n",
    "\n",
    "# Set random seeds for reproducibility\n",
    "SEED = 42\n",
    "random.seed(SEED)\n",
    "np.random.seed(SEED)\n",
    "torch.manual_seed(SEED)\n",
    "torch.cuda.manual_seed_all(SEED)\n",
    "torch.backends.cudnn.deterministic = True\n",
    "torch.backends.cudnn.benchmark = False\n",
    "\n",
    "print(f\"PyTorch version: {torch.__version__}\")\n",
    "print(f\"CUDA available: {torch.cuda.is_available()}\")\n",
    "if torch.cuda.is_available():\n",
    "    print(f\"CUDA device: {torch.cuda.get_device_name(0)}\")"
   ]
  },
  {
   "cell_type": "markdown",
   "id": "0be48172",
   "metadata": {},
   "source": [
    "## 2. ⚙️ Configuration and Setup"
   ]
  },
  {
   "cell_type": "code",
   "execution_count": 3,
   "id": "14474332",
   "metadata": {},
   "outputs": [
    {
     "name": "stdout",
     "output_type": "stream",
     "text": [
      "Configuration:\n",
      "  batch_size: 32\n",
      "  num_epochs: 50\n",
      "  learning_rate: 0.001\n",
      "  weight_decay: 0.0001\n",
      "  patch_size: 64\n",
      "  num_slices: 3\n",
      "  patience: 10\n",
      "  preload_patches: True\n",
      "  max_samples: None\n",
      "  sample_ratio: 3.0\n",
      "  num_workers: 0\n",
      "  device: cuda\n",
      "  focal_alpha: 0.75\n",
      "  focal_gamma: 2.0\n"
     ]
    }
   ],
   "source": [
    "# Paths\n",
    "BASE_DIR = Path(r'e:\\Kanav\\Projects\\CAD_C')\n",
    "ANNOTATIONS_FILE = BASE_DIR / 'annotations.csv'\n",
    "CANDIDATES_FILE = BASE_DIR / 'candidates_V2.csv'\n",
    "SUBSET_DIRS = [BASE_DIR / f'subset{i}' for i in range(10)]\n",
    "MODEL_DIR = BASE_DIR / 'models_resnet101'\n",
    "MODEL_DIR.mkdir(exist_ok=True)\n",
    "\n",
    "# Hyperparameters\n",
    "CONFIG = {\n",
    "    'batch_size': 32,\n",
    "    'num_epochs': 50,\n",
    "    'learning_rate': 0.001,\n",
    "    'weight_decay': 1e-4,\n",
    "    'patch_size': 64,      # Size of 2D patch\n",
    "    'num_slices': 3,       # Number of consecutive slices (channels)\n",
    "    'patience': 10,        # Early stopping patience\n",
    "    'preload_patches': True,   # Pre-extract patches for faster training (requires ~4-8 GB RAM)\n",
    "    'max_samples': None,   # Limit samples for testing (None = use all)\n",
    "    'sample_ratio': 3.0,   # Ratio of negative to positive samples (3:1)\n",
    "    'num_workers': 0,      # Number of workers for data loading (0 for Windows)\n",
    "    'device': 'cuda' if torch.cuda.is_available() else 'cpu',  # Device to use\n",
    "    'focal_alpha': 0.75,   # Focal Loss alpha parameter (weight for positive class)\n",
    "    'focal_gamma': 2.0,    # Focal Loss gamma parameter (focusing parameter)\n",
    "}\n",
    "\n",
    "print(\"Configuration:\")\n",
    "for key, value in CONFIG.items():\n",
    "    print(f\"  {key}: {value}\")"
   ]
  },
  {
   "cell_type": "markdown",
   "id": "aead7949",
   "metadata": {},
   "source": [
    "## 3. 📊 Load and Explore Dataset"
   ]
  },
  {
   "cell_type": "code",
   "execution_count": 4,
   "id": "7132023e",
   "metadata": {},
   "outputs": [
    {
     "name": "stdout",
     "output_type": "stream",
     "text": [
      "Annotations shape: (1186, 5)\n",
      "\n",
      "Annotations columns: ['seriesuid', 'coordX', 'coordY', 'coordZ', 'diameter_mm']\n",
      "\n",
      "Number of unique scans with nodules: 601\n",
      "\n",
      "First few annotations:\n",
      "                                           seriesuid      coordX      coordY  \\\n",
      "0  1.3.6.1.4.1.14519.5.2.1.6279.6001.100225287222... -128.699421 -175.319272   \n",
      "1  1.3.6.1.4.1.14519.5.2.1.6279.6001.100225287222...  103.783651 -211.925149   \n",
      "2  1.3.6.1.4.1.14519.5.2.1.6279.6001.100398138793...   69.639017 -140.944586   \n",
      "3  1.3.6.1.4.1.14519.5.2.1.6279.6001.100621383016...  -24.013824  192.102405   \n",
      "4  1.3.6.1.4.1.14519.5.2.1.6279.6001.100621383016...    2.441547  172.464881   \n",
      "\n",
      "       coordZ  diameter_mm  \n",
      "0 -298.387506     5.651471  \n",
      "1 -227.121250     4.224708  \n",
      "2  876.374496     5.786348  \n",
      "3 -391.081276     8.143262  \n",
      "4 -405.493732    18.545150  \n",
      "\n",
      "📊 Annotation Statistics:\n",
      "Total nodules: 1186\n",
      "Diameter range: 3.25 - 32.27 mm\n",
      "Mean diameter: 8.31 mm\n"
     ]
    }
   ],
   "source": [
    "# Load annotations (true nodules)\n",
    "annotations_df = pd.read_csv(ANNOTATIONS_FILE)\n",
    "print(f\"Annotations shape: {annotations_df.shape}\")\n",
    "print(f\"\\nAnnotations columns: {annotations_df.columns.tolist()}\")\n",
    "print(f\"\\nNumber of unique scans with nodules: {annotations_df['seriesuid'].nunique()}\")\n",
    "print(f\"\\nFirst few annotations:\")\n",
    "print(annotations_df.head())\n",
    "\n",
    "# Statistics\n",
    "print(f\"\\n📊 Annotation Statistics:\")\n",
    "print(f\"Total nodules: {len(annotations_df)}\")\n",
    "print(f\"Diameter range: {annotations_df['diameter_mm'].min():.2f} - {annotations_df['diameter_mm'].max():.2f} mm\")\n",
    "print(f\"Mean diameter: {annotations_df['diameter_mm'].mean():.2f} mm\")"
   ]
  },
  {
   "cell_type": "code",
   "execution_count": 5,
   "id": "9bbc8f8c",
   "metadata": {},
   "outputs": [
    {
     "name": "stdout",
     "output_type": "stream",
     "text": [
      "Loading candidates file (this may take a moment)...\n",
      "✓ Successfully loaded candidates file\n",
      "\n",
      "Candidates shape: (754975, 5)\n",
      "Candidates columns: ['seriesuid', 'coordX', 'coordY', 'coordZ', 'class']\n",
      "\n",
      "Class distribution:\n",
      "class\n",
      "0    753418\n",
      "1      1557\n",
      "Name: count, dtype: int64\n",
      "\n",
      "Positive rate: 0.21%\n",
      "\n",
      "First few candidates:\n",
      "                                           seriesuid     coordX      coordY  \\\n",
      "0  1.3.6.1.4.1.14519.5.2.1.6279.6001.100225287222...  68.420000  -74.480000   \n",
      "1  1.3.6.1.4.1.14519.5.2.1.6279.6001.100225287222... -95.209361  -91.809406   \n",
      "2  1.3.6.1.4.1.14519.5.2.1.6279.6001.100225287222... -24.766755 -120.379294   \n",
      "3  1.3.6.1.4.1.14519.5.2.1.6279.6001.100225287222... -63.080000  -65.740000   \n",
      "4  1.3.6.1.4.1.14519.5.2.1.6279.6001.100225287222...  52.946688  -92.688873   \n",
      "\n",
      "       coordZ  class  \n",
      "0 -288.700000      0  \n",
      "1 -377.426350      0  \n",
      "2 -273.361539      0  \n",
      "3 -344.240000      0  \n",
      "4 -241.067872      0  \n"
     ]
    }
   ],
   "source": [
    "# Load candidates (mix of nodules and non-nodules)\n",
    "# Since candidates_V2.csv is large, we'll load it in chunks\n",
    "print(\"Loading candidates file (this may take a moment)...\")\n",
    "\n",
    "try:\n",
    "    # Try loading with chunking for large files\n",
    "    chunk_size = 100000\n",
    "    chunks = []\n",
    "    for chunk in pd.read_csv(CANDIDATES_FILE, chunksize=chunk_size):\n",
    "        chunks.append(chunk)\n",
    "    candidates_df = pd.concat(chunks, ignore_index=True)\n",
    "    print(f\"✓ Successfully loaded candidates file\")\n",
    "except Exception as e:\n",
    "    print(f\"Error loading candidates: {e}\")\n",
    "    # Fallback: load first N rows\n",
    "    candidates_df = pd.read_csv(CANDIDATES_FILE, nrows=100000)\n",
    "    print(f\"✓ Loaded first 100,000 candidates\")\n",
    "\n",
    "print(f\"\\nCandidates shape: {candidates_df.shape}\")\n",
    "print(f\"Candidates columns: {candidates_df.columns.tolist()}\")\n",
    "print(f\"\\nClass distribution:\")\n",
    "print(candidates_df['class'].value_counts())\n",
    "print(f\"\\nPositive rate: {candidates_df['class'].mean()*100:.2f}%\")\n",
    "print(f\"\\nFirst few candidates:\")\n",
    "print(candidates_df.head())"
   ]
  },
  {
   "cell_type": "markdown",
   "id": "a2dfc9c1",
   "metadata": {},
   "source": [
    "## 4. 🔧 Utility Functions for CT Scan Processing"
   ]
  },
  {
   "cell_type": "code",
   "execution_count": 6,
   "id": "595f8386",
   "metadata": {},
   "outputs": [
    {
     "name": "stdout",
     "output_type": "stream",
     "text": [
      "✓ Utility functions defined\n"
     ]
    }
   ],
   "source": [
    "def load_ct_scan(series_uid, subset_dirs):\n",
    "    \"\"\"\n",
    "    Load CT scan from .mhd/.raw files\n",
    "    \n",
    "    Args:\n",
    "        series_uid: Unique identifier for the CT scan\n",
    "        subset_dirs: List of directories to search\n",
    "    \n",
    "    Returns:\n",
    "        SimpleITK Image object or None if not found\n",
    "    \"\"\"\n",
    "    for subset_dir in subset_dirs:\n",
    "        mhd_path = subset_dir / f\"{series_uid}.mhd\"\n",
    "        if mhd_path.exists():\n",
    "            try:\n",
    "                ct_scan = sitk.ReadImage(str(mhd_path))\n",
    "                return ct_scan\n",
    "            except Exception as e:\n",
    "                print(f\"Error loading {mhd_path}: {e}\")\n",
    "                return None\n",
    "    return None\n",
    "\n",
    "def world_to_voxel(world_coords, origin, spacing):\n",
    "    \"\"\"\n",
    "    Convert world coordinates to voxel coordinates\n",
    "    \n",
    "    Args:\n",
    "        world_coords: (x, y, z) in world coordinates (mm)\n",
    "        origin: Origin of the image\n",
    "        spacing: Voxel spacing\n",
    "    \n",
    "    Returns:\n",
    "        (z, y, x) voxel coordinates\n",
    "    \"\"\"\n",
    "    world_coords = np.array(world_coords)\n",
    "    origin = np.array(origin)\n",
    "    spacing = np.array(spacing)\n",
    "    voxel_coords = (world_coords - origin) / spacing\n",
    "    # Return as (z, y, x) for numpy indexing\n",
    "    return int(voxel_coords[2]), int(voxel_coords[1]), int(voxel_coords[0])\n",
    "\n",
    "def normalize_hu(image):\n",
    "    \"\"\"\n",
    "    Normalize CT Hounsfield Units to 0-1 range\n",
    "    Lung window: -1000 to 400 HU\n",
    "    \"\"\"\n",
    "    MIN_HU = -1000\n",
    "    MAX_HU = 400\n",
    "    image = np.clip(image, MIN_HU, MAX_HU)\n",
    "    image = (image - MIN_HU) / (MAX_HU - MIN_HU)\n",
    "    return image.astype(np.float32)\n",
    "\n",
    "def extract_2d_patch(ct_array, center_z, center_y, center_x, patch_size=64, num_slices=3):\n",
    "    \"\"\"\n",
    "    Extract 2D multi-slice patch centered at given coordinates\n",
    "    \n",
    "    Args:\n",
    "        ct_array: 3D CT scan array (z, y, x)\n",
    "        center_z, center_y, center_x: Center coordinates\n",
    "        patch_size: Size of the 2D patch\n",
    "        num_slices: Number of consecutive slices to extract\n",
    "    \n",
    "    Returns:\n",
    "        3D patch array (num_slices, patch_size, patch_size) or None if out of bounds\n",
    "    \"\"\"\n",
    "    half_size = patch_size // 2\n",
    "    half_slices = num_slices // 2\n",
    "    \n",
    "    z_start = center_z - half_slices\n",
    "    z_end = z_start + num_slices\n",
    "    y_start = center_y - half_size\n",
    "    y_end = center_y + half_size\n",
    "    x_start = center_x - half_size\n",
    "    x_end = center_x + half_size\n",
    "    \n",
    "    # Check bounds\n",
    "    if (z_start < 0 or z_end > ct_array.shape[0] or\n",
    "        y_start < 0 or y_end > ct_array.shape[1] or\n",
    "        x_start < 0 or x_end > ct_array.shape[2]):\n",
    "        return None\n",
    "    \n",
    "    # Extract patch\n",
    "    patch = ct_array[z_start:z_end, y_start:y_end, x_start:x_end]\n",
    "    \n",
    "    # Normalize\n",
    "    patch = normalize_hu(patch)\n",
    "    \n",
    "    return patch\n",
    "\n",
    "print(\"✓ Utility functions defined\")"
   ]
  },
  {
   "cell_type": "markdown",
   "id": "fcc066a3",
   "metadata": {},
   "source": [
    "## 5. 🎯 Dataset Class"
   ]
  },
  {
   "cell_type": "code",
   "execution_count": 7,
   "id": "e24255f2",
   "metadata": {},
   "outputs": [
    {
     "name": "stdout",
     "output_type": "stream",
     "text": [
      "✓ Dataset class defined\n"
     ]
    }
   ],
   "source": [
    "class LUNA16Dataset(Dataset):\n",
    "    \"\"\"\n",
    "    PyTorch Dataset for LUNA16 with 2D multi-slice patches\n",
    "    Supports pre-extraction for faster training\n",
    "    \"\"\"\n",
    "    \n",
    "    def __init__(self, candidates_df, subset_dirs, patch_size=64, num_slices=3, \n",
    "                 augment=False, max_samples=None, preload=False):\n",
    "        \"\"\"\n",
    "        Args:\n",
    "            candidates_df: DataFrame with candidate locations and labels\n",
    "            subset_dirs: List of directories containing CT scans\n",
    "            patch_size: Size of 2D patch\n",
    "            num_slices: Number of consecutive slices (channels)\n",
    "            augment: Whether to apply data augmentation\n",
    "            max_samples: Maximum number of samples to use\n",
    "            preload: Whether to preload all patches into memory\n",
    "        \"\"\"\n",
    "        self.candidates_df = candidates_df.copy()\n",
    "        if max_samples is not None and len(self.candidates_df) > max_samples:\n",
    "            self.candidates_df = self.candidates_df.sample(n=max_samples, random_state=SEED)\n",
    "        \n",
    "        self.subset_dirs = subset_dirs\n",
    "        self.patch_size = patch_size\n",
    "        self.num_slices = num_slices\n",
    "        self.augment = augment\n",
    "        self.preload = preload\n",
    "        \n",
    "        # Cache for loaded CT scans\n",
    "        self.ct_cache = {}\n",
    "        \n",
    "        # Cache for extracted patches (used when preload=True)\n",
    "        self.patch_cache = {}\n",
    "        \n",
    "        print(f\"Dataset initialized with {len(self.candidates_df)} samples\")\n",
    "        print(f\"  Positive: {self.candidates_df['class'].sum()}\")\n",
    "        print(f\"  Negative: {(self.candidates_df['class'] == 0).sum()}\")\n",
    "        \n",
    "        if self.preload:\n",
    "            print(f\"  Preloading patches into memory...\")\n",
    "            self._preload_patches()\n",
    "    \n",
    "    def _preload_patches(self):\n",
    "        \"\"\"\n",
    "        Pre-extract all patches and store in memory\n",
    "        Memory efficient: processes one CT scan at a time\n",
    "        \"\"\"\n",
    "        from tqdm.auto import tqdm\n",
    "        \n",
    "        successful = 0\n",
    "        failed = 0\n",
    "        \n",
    "        # Group samples by series_uid to process one CT scan at a time\n",
    "        grouped = self.candidates_df.groupby('seriesuid')\n",
    "        \n",
    "        for series_uid, group in tqdm(grouped, desc=\"Processing CT scans\"):\n",
    "            # Load CT scan\n",
    "            ct_scan = load_ct_scan(series_uid, self.subset_dirs)\n",
    "            if ct_scan is None:\n",
    "                # Add dummy patches for all samples from this scan\n",
    "                for idx in group.index:\n",
    "                    label = int(group.loc[idx, 'class'])\n",
    "                    self.patch_cache[idx] = (torch.zeros(self.num_slices, self.patch_size, self.patch_size), label)\n",
    "                    failed += 1\n",
    "                continue\n",
    "            \n",
    "            # Convert to numpy array\n",
    "            ct_array = sitk.GetArrayFromImage(ct_scan)  # (z, y, x)\n",
    "            origin = ct_scan.GetOrigin()\n",
    "            spacing = ct_scan.GetSpacing()\n",
    "            \n",
    "            # Process all samples from this CT scan\n",
    "            for idx in group.index:\n",
    "                row = group.loc[idx]\n",
    "                coord_x = row['coordX']\n",
    "                coord_y = row['coordY']\n",
    "                coord_z = row['coordZ']\n",
    "                label = int(row['class'])\n",
    "                \n",
    "                # Convert world coordinates to voxel coordinates\n",
    "                voxel_z, voxel_y, voxel_x = world_to_voxel(\n",
    "                    [coord_x, coord_y, coord_z], origin, spacing\n",
    "                )\n",
    "                \n",
    "                # Extract patch\n",
    "                patch = extract_2d_patch(\n",
    "                    ct_array, voxel_z, voxel_y, voxel_x, \n",
    "                    self.patch_size, self.num_slices\n",
    "                )\n",
    "                \n",
    "                if patch is None:\n",
    "                    self.patch_cache[idx] = (torch.zeros(self.num_slices, self.patch_size, self.patch_size), label)\n",
    "                    failed += 1\n",
    "                else:\n",
    "                    # Convert to tensor\n",
    "                    patch = torch.from_numpy(patch).float()\n",
    "                    self.patch_cache[idx] = (patch, label)\n",
    "                    successful += 1\n",
    "            \n",
    "            # Clear CT array to free memory\n",
    "            del ct_array, ct_scan\n",
    "        \n",
    "        print(f\"\\n  ✓ Preloading completed:\")\n",
    "        print(f\"    Successful: {successful}\")\n",
    "        print(f\"    Failed: {failed}\")\n",
    "        print(f\"    Total patches in memory: {len(self.patch_cache)}\")\n",
    "    \n",
    "    def __len__(self):\n",
    "        return len(self.candidates_df)\n",
    "    \n",
    "    def __getitem__(self, idx):\n",
    "        # Get the actual DataFrame index (not positional index)\n",
    "        df_idx = self.candidates_df.index[idx]\n",
    "        \n",
    "        # If preloaded, return from cache\n",
    "        if self.preload and df_idx in self.patch_cache:\n",
    "            patch, label = self.patch_cache[df_idx]\n",
    "            patch = patch.clone()  # Clone to avoid modifying cached data\n",
    "            \n",
    "            # Apply augmentation\n",
    "            if self.augment:\n",
    "                patch = self.apply_augmentation(patch)\n",
    "            \n",
    "            return patch, label\n",
    "        \n",
    "        # Otherwise, extract on-the-fly\n",
    "        row = self.candidates_df.iloc[idx]\n",
    "        series_uid = row['seriesuid']\n",
    "        coord_x = row['coordX']\n",
    "        coord_y = row['coordY']\n",
    "        coord_z = row['coordZ']\n",
    "        label = int(row['class'])\n",
    "        \n",
    "        # Load CT scan (use cache)\n",
    "        if series_uid not in self.ct_cache:\n",
    "            ct_scan = load_ct_scan(series_uid, self.subset_dirs)\n",
    "            if ct_scan is None:\n",
    "                # Return dummy data if scan not found\n",
    "                patch = torch.zeros(self.num_slices, self.patch_size, self.patch_size)\n",
    "                return patch, label\n",
    "            \n",
    "            # Convert to numpy array\n",
    "            ct_array = sitk.GetArrayFromImage(ct_scan)  # (z, y, x)\n",
    "            origin = ct_scan.GetOrigin()\n",
    "            spacing = ct_scan.GetSpacing()\n",
    "            \n",
    "            self.ct_cache[series_uid] = {\n",
    "                'array': ct_array,\n",
    "                'origin': origin,\n",
    "                'spacing': spacing\n",
    "            }\n",
    "        \n",
    "        ct_data = self.ct_cache[series_uid]\n",
    "        ct_array = ct_data['array']\n",
    "        origin = ct_data['origin']\n",
    "        spacing = ct_data['spacing']\n",
    "        \n",
    "        # Convert world coordinates to voxel coordinates\n",
    "        voxel_z, voxel_y, voxel_x = world_to_voxel(\n",
    "            [coord_x, coord_y, coord_z], origin, spacing\n",
    "        )\n",
    "        \n",
    "        # Extract patch\n",
    "        patch = extract_2d_patch(\n",
    "            ct_array, voxel_z, voxel_y, voxel_x, \n",
    "            self.patch_size, self.num_slices\n",
    "        )\n",
    "        \n",
    "        if patch is None:\n",
    "            # Return dummy data if patch extraction failed\n",
    "            patch = torch.zeros(self.num_slices, self.patch_size, self.patch_size)\n",
    "            return patch, label\n",
    "        \n",
    "        # Convert to tensor\n",
    "        patch = torch.from_numpy(patch).float()\n",
    "        \n",
    "        # Apply augmentation\n",
    "        if self.augment:\n",
    "            patch = self.apply_augmentation(patch)\n",
    "        \n",
    "        return patch, label\n",
    "    \n",
    "    def apply_augmentation(self, patch):\n",
    "        \"\"\"\n",
    "        Apply random augmentations\n",
    "        \"\"\"\n",
    "        # Random horizontal flip\n",
    "        if random.random() > 0.5:\n",
    "            patch = torch.flip(patch, dims=[2])\n",
    "        \n",
    "        # Random vertical flip\n",
    "        if random.random() > 0.5:\n",
    "            patch = torch.flip(patch, dims=[1])\n",
    "        \n",
    "        # Random rotation (90, 180, 270 degrees)\n",
    "        if random.random() > 0.5:\n",
    "            k = random.randint(1, 3)\n",
    "            patch = torch.rot90(patch, k, dims=[1, 2])\n",
    "        \n",
    "        # Random brightness adjustment\n",
    "        if random.random() > 0.5:\n",
    "            brightness_factor = 0.8 + random.random() * 0.4  # 0.8 to 1.2\n",
    "            patch = torch.clamp(patch * brightness_factor, 0, 1)\n",
    "        \n",
    "        return patch\n",
    "\n",
    "print(\"✓ Dataset class defined\")"
   ]
  },
  {
   "cell_type": "markdown",
   "id": "6413d9b6",
   "metadata": {},
   "source": [
    "## 6. 🏗️ ResNet-101 Model Architecture"
   ]
  },
  {
   "cell_type": "code",
   "execution_count": 8,
   "id": "1e35a3c0",
   "metadata": {},
   "outputs": [
    {
     "name": "stdout",
     "output_type": "stream",
     "text": [
      "✓ Model class defined\n"
     ]
    }
   ],
   "source": [
    "class ResNet101LungCancer(nn.Module):\n",
    "    \"\"\"\n",
    "    ResNet-101 pretrained model adapted for lung cancer detection\n",
    "    \"\"\"\n",
    "    \n",
    "    def __init__(self, pretrained=True, num_classes=2, dropout=0.5):\n",
    "        super(ResNet101LungCancer, self).__init__()\n",
    "        \n",
    "        # Load pretrained ResNet-101\n",
    "        self.resnet = models.resnet101(pretrained=pretrained)\n",
    "        \n",
    "        # Get number of features from the last layer\n",
    "        num_features = self.resnet.fc.in_features\n",
    "        \n",
    "        # Replace the final fully connected layer\n",
    "        self.resnet.fc = nn.Sequential(\n",
    "            nn.Dropout(dropout),\n",
    "            nn.Linear(num_features, 512),\n",
    "            nn.ReLU(),\n",
    "            nn.Dropout(dropout),\n",
    "            nn.Linear(512, num_classes)\n",
    "        )\n",
    "        \n",
    "        print(f\"✓ ResNet-101 initialized (pretrained={pretrained})\")\n",
    "        print(f\"  Total parameters: {sum(p.numel() for p in self.parameters()):,}\")\n",
    "        print(f\"  Trainable parameters: {sum(p.numel() for p in self.parameters() if p.requires_grad):,}\")\n",
    "    \n",
    "    def forward(self, x):\n",
    "        return self.resnet(x)\n",
    "    \n",
    "    def freeze_backbone(self):\n",
    "        \"\"\"Freeze all layers except the final classifier\"\"\"\n",
    "        for name, param in self.resnet.named_parameters():\n",
    "            if 'fc' not in name:\n",
    "                param.requires_grad = False\n",
    "        print(\"✓ Backbone frozen, only training final classifier\")\n",
    "    \n",
    "    def unfreeze_backbone(self):\n",
    "        \"\"\"Unfreeze all layers for fine-tuning\"\"\"\n",
    "        for param in self.resnet.parameters():\n",
    "            param.requires_grad = True\n",
    "        print(\"✓ Backbone unfrozen, training all layers\")\n",
    "\n",
    "print(\"✓ Model class defined\")"
   ]
  },
  {
   "cell_type": "markdown",
   "id": "6169a91c",
   "metadata": {},
   "source": [
    "## 7. 📉 Focal Loss for Class Imbalance"
   ]
  },
  {
   "cell_type": "code",
   "execution_count": 9,
   "id": "95c8867d",
   "metadata": {},
   "outputs": [
    {
     "name": "stdout",
     "output_type": "stream",
     "text": [
      "✓ Focal Loss defined\n"
     ]
    }
   ],
   "source": [
    "class FocalLoss(nn.Module):\n",
    "    \"\"\"\n",
    "    Focal Loss for handling class imbalance\n",
    "    FL(p_t) = -alpha_t * (1 - p_t)^gamma * log(p_t)\n",
    "    \"\"\"\n",
    "    \n",
    "    def __init__(self, alpha=0.75, gamma=2.0, reduction='mean'):\n",
    "        super(FocalLoss, self).__init__()\n",
    "        self.alpha = alpha\n",
    "        self.gamma = gamma\n",
    "        self.reduction = reduction\n",
    "    \n",
    "    def forward(self, inputs, targets):\n",
    "        \"\"\"\n",
    "        Args:\n",
    "            inputs: (N, C) logits\n",
    "            targets: (N,) class labels\n",
    "        \"\"\"\n",
    "        ce_loss = F.cross_entropy(inputs, targets, reduction='none')\n",
    "        p = torch.exp(-ce_loss)\n",
    "        \n",
    "        # Apply alpha weighting\n",
    "        alpha_t = self.alpha * targets + (1 - self.alpha) * (1 - targets)\n",
    "        \n",
    "        # Apply focal term\n",
    "        focal_loss = alpha_t * (1 - p) ** self.gamma * ce_loss\n",
    "        \n",
    "        if self.reduction == 'mean':\n",
    "            return focal_loss.mean()\n",
    "        elif self.reduction == 'sum':\n",
    "            return focal_loss.sum()\n",
    "        else:\n",
    "            return focal_loss\n",
    "\n",
    "print(\"✓ Focal Loss defined\")"
   ]
  },
  {
   "cell_type": "markdown",
   "id": "58149b63",
   "metadata": {},
   "source": [
    "## 8. 📊 Prepare Data Loaders"
   ]
  },
  {
   "cell_type": "code",
   "execution_count": 10,
   "id": "7156a639",
   "metadata": {},
   "outputs": [
    {
     "name": "stdout",
     "output_type": "stream",
     "text": [
      "Preparing balanced dataset...\n",
      "Original distribution:\n",
      "  Positive: 1557\n",
      "  Negative: 753418\n",
      "\n",
      "Balanced distribution:\n",
      "  Positive: 1557\n",
      "  Negative: 4671\n",
      "  Total: 6228\n",
      "\n",
      "Data splits:\n",
      "  Train: 4359 samples\n",
      "  Validation: 934 samples\n",
      "  Test: 935 samples\n"
     ]
    }
   ],
   "source": [
    "# Balance the dataset\n",
    "print(\"Preparing balanced dataset...\")\n",
    "\n",
    "# Separate positive and negative samples\n",
    "positive_samples = candidates_df[candidates_df['class'] == 1]\n",
    "negative_samples = candidates_df[candidates_df['class'] == 0]\n",
    "\n",
    "print(f\"Original distribution:\")\n",
    "print(f\"  Positive: {len(positive_samples)}\")\n",
    "print(f\"  Negative: {len(negative_samples)}\")\n",
    "\n",
    "# Sample negatives to match positives (with some ratio)\n",
    "n_positive = len(positive_samples)\n",
    "n_negative = int(n_positive * CONFIG['sample_ratio'])\n",
    "n_negative = min(n_negative, len(negative_samples))\n",
    "\n",
    "negative_samples_sampled = negative_samples.sample(n=n_negative, random_state=SEED)\n",
    "\n",
    "# Combine\n",
    "balanced_df = pd.concat([positive_samples, negative_samples_sampled], ignore_index=True)\n",
    "balanced_df = balanced_df.sample(frac=1, random_state=SEED).reset_index(drop=True)  # Shuffle\n",
    "\n",
    "print(f\"\\nBalanced distribution:\")\n",
    "print(f\"  Positive: {(balanced_df['class'] == 1).sum()}\")\n",
    "print(f\"  Negative: {(balanced_df['class'] == 0).sum()}\")\n",
    "print(f\"  Total: {len(balanced_df)}\")\n",
    "\n",
    "# Split into train, validation, and test sets\n",
    "train_df, temp_df = train_test_split(\n",
    "    balanced_df, test_size=0.3, random_state=SEED, stratify=balanced_df['class']\n",
    ")\n",
    "val_df, test_df = train_test_split(\n",
    "    temp_df, test_size=0.5, random_state=SEED, stratify=temp_df['class']\n",
    ")\n",
    "\n",
    "print(f\"\\nData splits:\")\n",
    "print(f\"  Train: {len(train_df)} samples\")\n",
    "print(f\"  Validation: {len(val_df)} samples\")\n",
    "print(f\"  Test: {len(test_df)} samples\")"
   ]
  },
  {
   "cell_type": "markdown",
   "id": "954c05b2",
   "metadata": {},
   "source": [
    "### 🚀 Pre-Extract Patches for Faster Training\n",
    "\n",
    "**Benefits of Pre-Extraction:**\n",
    "- ⚡ **10-100x Faster Training** - No I/O bottleneck during training\n",
    "- 🎯 **Consistent Performance** - Each epoch takes the same time\n",
    "- 💾 **Memory Trade-off** - Uses more RAM but saves hours of training time\n",
    "\n",
    "**How it works:**\n",
    "1. Extract all patches from CT scans once\n",
    "2. Store patches in memory (RAM)\n",
    "3. Training reads from memory instead of disk\n",
    "\n",
    "**Note:** If you run out of memory, set `CONFIG['preload_patches'] = False` in the configuration cell above."
   ]
  },
  {
   "cell_type": "code",
   "execution_count": 11,
   "id": "bc0d1e6a",
   "metadata": {},
   "outputs": [
    {
     "name": "stdout",
     "output_type": "stream",
     "text": [
      "Creating datasets with patch pre-extraction...\n",
      "This will take some time but will speed up training significantly!\n",
      "\n",
      "Dataset initialized with 4359 samples\n",
      "  Positive: 1090\n",
      "  Negative: 3269\n",
      "  Preloading patches into memory...\n"
     ]
    },
    {
     "name": "stderr",
     "output_type": "stream",
     "text": [
      "Processing CT scans: 100%|██████████| 862/862 [03:16<00:00,  4.39it/s]\n"
     ]
    },
    {
     "name": "stdout",
     "output_type": "stream",
     "text": [
      "\n",
      "  ✓ Preloading completed:\n",
      "    Successful: 4316\n",
      "    Failed: 43\n",
      "    Total patches in memory: 4359\n",
      "\n",
      "------------------------------------------------------------\n",
      "\n",
      "Dataset initialized with 934 samples\n",
      "  Positive: 233\n",
      "  Negative: 701\n",
      "  Preloading patches into memory...\n"
     ]
    },
    {
     "name": "stderr",
     "output_type": "stream",
     "text": [
      "Processing CT scans: 100%|██████████| 548/548 [02:04<00:00,  4.39it/s]\n"
     ]
    },
    {
     "name": "stdout",
     "output_type": "stream",
     "text": [
      "\n",
      "  ✓ Preloading completed:\n",
      "    Successful: 925\n",
      "    Failed: 9\n",
      "    Total patches in memory: 934\n",
      "\n",
      "------------------------------------------------------------\n",
      "\n",
      "Dataset initialized with 935 samples\n",
      "  Positive: 234\n",
      "  Negative: 701\n",
      "  Preloading patches into memory...\n"
     ]
    },
    {
     "name": "stderr",
     "output_type": "stream",
     "text": [
      "Processing CT scans: 100%|██████████| 552/552 [02:04<00:00,  4.42it/s]"
     ]
    },
    {
     "name": "stdout",
     "output_type": "stream",
     "text": [
      "\n",
      "  ✓ Preloading completed:\n",
      "    Successful: 925\n",
      "    Failed: 10\n",
      "    Total patches in memory: 935\n",
      "\n",
      "============================================================\n",
      "✓ All datasets created with patches pre-extracted and cached in memory\n",
      "============================================================\n"
     ]
    },
    {
     "name": "stderr",
     "output_type": "stream",
     "text": [
      "\n"
     ]
    }
   ],
   "source": [
    "# Create datasets with optional pre-extraction\n",
    "if CONFIG['preload_patches']:\n",
    "    print(\"Creating datasets with patch pre-extraction...\")\n",
    "    print(\"This will take some time but will speed up training significantly!\\n\")\n",
    "else:\n",
    "    print(\"Creating datasets (patches will be extracted on-the-fly during training)...\\n\")\n",
    "\n",
    "train_dataset = LUNA16Dataset(\n",
    "    train_df, SUBSET_DIRS, \n",
    "    patch_size=CONFIG['patch_size'],\n",
    "    num_slices=CONFIG['num_slices'],\n",
    "    augment=True,\n",
    "    max_samples=None,  # Use all training samples\n",
    "    preload=CONFIG['preload_patches']\n",
    ")\n",
    "\n",
    "print(\"\\n\" + \"-\"*60 + \"\\n\")\n",
    "\n",
    "val_dataset = LUNA16Dataset(\n",
    "    val_df, SUBSET_DIRS,\n",
    "    patch_size=CONFIG['patch_size'],\n",
    "    num_slices=CONFIG['num_slices'],\n",
    "    augment=False,\n",
    "    max_samples=None,\n",
    "    preload=CONFIG['preload_patches']\n",
    ")\n",
    "\n",
    "print(\"\\n\" + \"-\"*60 + \"\\n\")\n",
    "\n",
    "test_dataset = LUNA16Dataset(\n",
    "    test_df, SUBSET_DIRS,\n",
    "    patch_size=CONFIG['patch_size'],\n",
    "    num_slices=CONFIG['num_slices'],\n",
    "    augment=False,\n",
    "    max_samples=None,\n",
    "    preload=CONFIG['preload_patches']\n",
    ")\n",
    "\n",
    "print(\"\\n\" + \"=\"*60)\n",
    "if CONFIG['preload_patches']:\n",
    "    print(\"✓ All datasets created with patches pre-extracted and cached in memory\")\n",
    "else:\n",
    "    print(\"✓ All datasets created (on-the-fly extraction enabled)\")\n",
    "print(\"=\"*60)"
   ]
  },
  {
   "cell_type": "code",
   "execution_count": 12,
   "id": "4e731431",
   "metadata": {},
   "outputs": [
    {
     "name": "stdout",
     "output_type": "stream",
     "text": [
      "\n",
      "📊 Memory Usage Estimates:\n",
      "  Train dataset: ~204.33 MB\n",
      "  Val dataset: ~43.78 MB\n",
      "  Test dataset: ~43.83 MB\n",
      "  Total: ~291.94 MB (0.29 GB)\n",
      "\n",
      "💡 Benefit: Training will be much faster with pre-extracted patches!\n"
     ]
    }
   ],
   "source": [
    "# Check memory usage of preloaded datasets\n",
    "if CONFIG['preload_patches']:\n",
    "    import sys\n",
    "\n",
    "    def get_size_mb(obj):\n",
    "        \"\"\"Get approximate size of object in MB\"\"\"\n",
    "        size_bytes = sys.getsizeof(obj)\n",
    "        # For datasets, estimate based on patch cache\n",
    "        if hasattr(obj, 'patch_cache'):\n",
    "            for patch, label in obj.patch_cache.values():\n",
    "                size_bytes += patch.element_size() * patch.nelement()\n",
    "        return size_bytes / (1024 * 1024)\n",
    "\n",
    "    print(\"\\n📊 Memory Usage Estimates:\")\n",
    "    print(f\"  Train dataset: ~{get_size_mb(train_dataset):.2f} MB\")\n",
    "    print(f\"  Val dataset: ~{get_size_mb(val_dataset):.2f} MB\")\n",
    "    print(f\"  Test dataset: ~{get_size_mb(test_dataset):.2f} MB\")\n",
    "    total_mb = get_size_mb(train_dataset) + get_size_mb(val_dataset) + get_size_mb(test_dataset)\n",
    "    print(f\"  Total: ~{total_mb:.2f} MB ({total_mb/1024:.2f} GB)\")\n",
    "    print(\"\\n💡 Benefit: Training will be much faster with pre-extracted patches!\")\n",
    "else:\n",
    "    print(\"\\n💡 Pre-extraction is disabled. Patches will be loaded on-the-fly during training.\")"
   ]
  },
  {
   "cell_type": "code",
   "execution_count": 13,
   "id": "efa9a47b",
   "metadata": {},
   "outputs": [
    {
     "name": "stdout",
     "output_type": "stream",
     "text": [
      "✓ Data loaders created\n",
      "  Train batches: 137\n",
      "  Validation batches: 30\n",
      "  Test batches: 30\n"
     ]
    }
   ],
   "source": [
    "# Create data loaders\n",
    "train_loader = DataLoader(\n",
    "    train_dataset,\n",
    "    batch_size=CONFIG['batch_size'],\n",
    "    shuffle=True,\n",
    "    num_workers=CONFIG['num_workers'],\n",
    "    pin_memory=True if CONFIG['device'] == 'cuda' else False\n",
    ")\n",
    "\n",
    "val_loader = DataLoader(\n",
    "    val_dataset,\n",
    "    batch_size=CONFIG['batch_size'],\n",
    "    shuffle=False,\n",
    "    num_workers=CONFIG['num_workers'],\n",
    "    pin_memory=True if CONFIG['device'] == 'cuda' else False\n",
    ")\n",
    "\n",
    "test_loader = DataLoader(\n",
    "    test_dataset,\n",
    "    batch_size=CONFIG['batch_size'],\n",
    "    shuffle=False,\n",
    "    num_workers=CONFIG['num_workers'],\n",
    "    pin_memory=True if CONFIG['device'] == 'cuda' else False\n",
    ")\n",
    "\n",
    "print(f\"✓ Data loaders created\")\n",
    "print(f\"  Train batches: {len(train_loader)}\")\n",
    "print(f\"  Validation batches: {len(val_loader)}\")\n",
    "print(f\"  Test batches: {len(test_loader)}\")"
   ]
  },
  {
   "cell_type": "markdown",
   "id": "5b9e7454",
   "metadata": {},
   "source": [
    "## 9. 🎓 Training Functions"
   ]
  },
  {
   "cell_type": "code",
   "execution_count": 14,
   "id": "5ac0365e",
   "metadata": {},
   "outputs": [
    {
     "name": "stdout",
     "output_type": "stream",
     "text": [
      "✓ Training functions defined\n"
     ]
    }
   ],
   "source": [
    "def train_epoch(model, train_loader, criterion, optimizer, device):\n",
    "    \"\"\"\n",
    "    Train for one epoch\n",
    "    \"\"\"\n",
    "    model.train()\n",
    "    running_loss = 0.0\n",
    "    correct = 0\n",
    "    total = 0\n",
    "    \n",
    "    progress_bar = tqdm(train_loader, desc='Training', leave=False)\n",
    "    \n",
    "    for inputs, labels in progress_bar:\n",
    "        inputs, labels = inputs.to(device), labels.to(device)\n",
    "        \n",
    "        optimizer.zero_grad()\n",
    "        \n",
    "        outputs = model(inputs)\n",
    "        loss = criterion(outputs, labels)\n",
    "        \n",
    "        loss.backward()\n",
    "        optimizer.step()\n",
    "        \n",
    "        running_loss += loss.item() * inputs.size(0)\n",
    "        _, predicted = outputs.max(1)\n",
    "        total += labels.size(0)\n",
    "        correct += predicted.eq(labels).sum().item()\n",
    "        \n",
    "        progress_bar.set_postfix({\n",
    "            'loss': loss.item(),\n",
    "            'acc': 100. * correct / total\n",
    "        })\n",
    "    \n",
    "    epoch_loss = running_loss / total\n",
    "    epoch_acc = 100. * correct / total\n",
    "    \n",
    "    return epoch_loss, epoch_acc\n",
    "\n",
    "def validate(model, val_loader, criterion, device):\n",
    "    \"\"\"\n",
    "    Validate the model\n",
    "    \"\"\"\n",
    "    model.eval()\n",
    "    running_loss = 0.0\n",
    "    correct = 0\n",
    "    total = 0\n",
    "    \n",
    "    all_labels = []\n",
    "    all_preds = []\n",
    "    all_probs = []\n",
    "    \n",
    "    with torch.no_grad():\n",
    "        for inputs, labels in tqdm(val_loader, desc='Validation', leave=False):\n",
    "            inputs, labels = inputs.to(device), labels.to(device)\n",
    "            \n",
    "            outputs = model(inputs)\n",
    "            loss = criterion(outputs, labels)\n",
    "            \n",
    "            running_loss += loss.item() * inputs.size(0)\n",
    "            \n",
    "            probs = F.softmax(outputs, dim=1)\n",
    "            _, predicted = outputs.max(1)\n",
    "            \n",
    "            total += labels.size(0)\n",
    "            correct += predicted.eq(labels).sum().item()\n",
    "            \n",
    "            all_labels.extend(labels.cpu().numpy())\n",
    "            all_preds.extend(predicted.cpu().numpy())\n",
    "            all_probs.extend(probs[:, 1].cpu().numpy())\n",
    "    \n",
    "    epoch_loss = running_loss / total\n",
    "    epoch_acc = 100. * correct / total\n",
    "    \n",
    "    # Calculate metrics\n",
    "    all_labels = np.array(all_labels)\n",
    "    all_preds = np.array(all_preds)\n",
    "    all_probs = np.array(all_probs)\n",
    "    \n",
    "    # ROC-AUC\n",
    "    try:\n",
    "        auc_score = roc_auc_score(all_labels, all_probs)\n",
    "    except:\n",
    "        auc_score = 0.0\n",
    "    \n",
    "    # F1 Score\n",
    "    f1 = f1_score(all_labels, all_preds, zero_division=0)\n",
    "    \n",
    "    return epoch_loss, epoch_acc, auc_score, f1, all_labels, all_preds, all_probs\n",
    "\n",
    "print(\"✓ Training functions defined\")"
   ]
  },
  {
   "cell_type": "markdown",
   "id": "fdd6cab2",
   "metadata": {},
   "source": [
    "## 10. 🚀 Initialize Model and Training"
   ]
  },
  {
   "cell_type": "code",
   "execution_count": 15,
   "id": "f43a753a",
   "metadata": {},
   "outputs": [
    {
     "name": "stdout",
     "output_type": "stream",
     "text": [
      "✓ ResNet-101 initialized (pretrained=True)\n",
      "  Total parameters: 43,550,274\n",
      "  Trainable parameters: 43,550,274\n",
      "✓ Model, loss, optimizer, and scheduler initialized\n"
     ]
    }
   ],
   "source": [
    "# Initialize model\n",
    "device = torch.device(CONFIG['device'])\n",
    "model = ResNet101LungCancer(pretrained=True, num_classes=2, dropout=0.5)\n",
    "model = model.to(device)\n",
    "\n",
    "# Loss function\n",
    "criterion = FocalLoss(\n",
    "    alpha=CONFIG['focal_alpha'],\n",
    "    gamma=CONFIG['focal_gamma']\n",
    ")\n",
    "\n",
    "# Optimizer\n",
    "optimizer = optim.AdamW(\n",
    "    model.parameters(),\n",
    "    lr=CONFIG['learning_rate'],\n",
    "    weight_decay=CONFIG['weight_decay']\n",
    ")\n",
    "\n",
    "# Learning rate scheduler\n",
    "scheduler = ReduceLROnPlateau(\n",
    "    optimizer, mode='min', factor=0.5, patience=5\n",
    ")\n",
    "\n",
    "print(\"✓ Model, loss, optimizer, and scheduler initialized\")"
   ]
  },
  {
   "cell_type": "markdown",
   "id": "5a312cea",
   "metadata": {},
   "source": [
    "## 11. 🏋️ Train the Model"
   ]
  },
  {
   "cell_type": "code",
   "execution_count": 16,
   "id": "4265d75d",
   "metadata": {},
   "outputs": [
    {
     "name": "stdout",
     "output_type": "stream",
     "text": [
      "Starting training...\n",
      "\n",
      "\n",
      "Epoch 1/50\n",
      "------------------------------------------------------------\n"
     ]
    },
    {
     "name": "stderr",
     "output_type": "stream",
     "text": [
      "                                                                                  \r"
     ]
    },
    {
     "name": "stdout",
     "output_type": "stream",
     "text": [
      "\n",
      "Train Loss: 0.0885 | Train Acc: 51.02%\n",
      "Val Loss: 0.0623 | Val Acc: 49.57%\n",
      "Val AUC: 0.6960 | Val F1: 0.4542\n",
      "Time: 8.52s\n",
      "✓ Saved best model (AUC: 0.6960, F1: 0.4542)\n",
      "\n",
      "Epoch 2/50\n",
      "------------------------------------------------------------\n"
     ]
    },
    {
     "name": "stderr",
     "output_type": "stream",
     "text": [
      "                                                                                  \r"
     ]
    },
    {
     "name": "stdout",
     "output_type": "stream",
     "text": [
      "\n",
      "Train Loss: 0.0540 | Train Acc: 72.31%\n",
      "Val Loss: 0.0366 | Val Acc: 82.33%\n",
      "Val AUC: 0.9314 | Val F1: 0.7208\n",
      "Time: 7.33s\n",
      "✓ Saved best model (AUC: 0.9314, F1: 0.7208)\n",
      "\n",
      "Epoch 3/50\n",
      "------------------------------------------------------------\n"
     ]
    },
    {
     "name": "stderr",
     "output_type": "stream",
     "text": [
      "                                                                                  \r"
     ]
    },
    {
     "name": "stdout",
     "output_type": "stream",
     "text": [
      "\n",
      "Train Loss: 0.0399 | Train Acc: 83.57%\n",
      "Val Loss: 1.8047 | Val Acc: 72.48%\n",
      "Val AUC: 0.6466 | Val F1: 0.4911\n",
      "Time: 7.26s\n",
      "\n",
      "Epoch 4/50\n",
      "------------------------------------------------------------\n"
     ]
    },
    {
     "name": "stderr",
     "output_type": "stream",
     "text": [
      "                                                                                  \r"
     ]
    },
    {
     "name": "stdout",
     "output_type": "stream",
     "text": [
      "\n",
      "Train Loss: 0.0384 | Train Acc: 85.16%\n",
      "Val Loss: 0.1349 | Val Acc: 81.16%\n",
      "Val AUC: 0.9345 | Val F1: 0.7096\n",
      "Time: 7.28s\n",
      "✓ Saved best model (AUC: 0.9345, F1: 0.7096)\n",
      "\n",
      "Epoch 5/50\n",
      "------------------------------------------------------------\n"
     ]
    },
    {
     "name": "stderr",
     "output_type": "stream",
     "text": [
      "                                                                                  \r"
     ]
    },
    {
     "name": "stdout",
     "output_type": "stream",
     "text": [
      "\n",
      "Train Loss: 0.0360 | Train Acc: 85.62%\n",
      "Val Loss: 0.0321 | Val Acc: 91.22%\n",
      "Val AUC: 0.9569 | Val F1: 0.8057\n",
      "Time: 7.31s\n",
      "✓ Saved best model (AUC: 0.9569, F1: 0.8057)\n",
      "\n",
      "Epoch 6/50\n",
      "------------------------------------------------------------\n"
     ]
    },
    {
     "name": "stderr",
     "output_type": "stream",
     "text": [
      "                                                                                  \r"
     ]
    },
    {
     "name": "stdout",
     "output_type": "stream",
     "text": [
      "\n",
      "Train Loss: 0.0292 | Train Acc: 89.22%\n",
      "Val Loss: 0.1241 | Val Acc: 79.55%\n",
      "Val AUC: 0.8694 | Val F1: 0.6713\n",
      "Time: 7.30s\n",
      "\n",
      "Epoch 7/50\n",
      "------------------------------------------------------------\n"
     ]
    },
    {
     "name": "stderr",
     "output_type": "stream",
     "text": [
      "                                                                                  \r"
     ]
    },
    {
     "name": "stdout",
     "output_type": "stream",
     "text": [
      "\n",
      "Train Loss: 0.0324 | Train Acc: 86.07%\n",
      "Val Loss: 0.0297 | Val Acc: 85.22%\n",
      "Val AUC: 0.9477 | Val F1: 0.7500\n",
      "Time: 7.31s\n",
      "\n",
      "Epoch 8/50\n",
      "------------------------------------------------------------\n"
     ]
    },
    {
     "name": "stderr",
     "output_type": "stream",
     "text": [
      "                                                                                  \r"
     ]
    },
    {
     "name": "stdout",
     "output_type": "stream",
     "text": [
      "\n",
      "Train Loss: 0.0295 | Train Acc: 87.70%\n",
      "Val Loss: 0.0210 | Val Acc: 92.83%\n",
      "Val AUC: 0.9778 | Val F1: 0.8607\n",
      "Time: 7.36s\n",
      "✓ Saved best model (AUC: 0.9778, F1: 0.8607)\n",
      "\n",
      "Epoch 9/50\n",
      "------------------------------------------------------------\n"
     ]
    },
    {
     "name": "stderr",
     "output_type": "stream",
     "text": [
      "                                                                                   \r"
     ]
    },
    {
     "name": "stdout",
     "output_type": "stream",
     "text": [
      "\n",
      "Train Loss: 0.0267 | Train Acc: 89.22%\n",
      "Val Loss: 0.0200 | Val Acc: 92.29%\n",
      "Val AUC: 0.9778 | Val F1: 0.8543\n",
      "Time: 7.29s\n",
      "\n",
      "Epoch 10/50\n",
      "------------------------------------------------------------\n"
     ]
    },
    {
     "name": "stderr",
     "output_type": "stream",
     "text": [
      "                                                                                  \r"
     ]
    },
    {
     "name": "stdout",
     "output_type": "stream",
     "text": [
      "\n",
      "Train Loss: 0.0262 | Train Acc: 89.88%\n",
      "Val Loss: 0.0268 | Val Acc: 89.40%\n",
      "Val AUC: 0.9696 | Val F1: 0.8170\n",
      "Time: 7.31s\n",
      "\n",
      "Epoch 11/50\n",
      "------------------------------------------------------------\n"
     ]
    },
    {
     "name": "stderr",
     "output_type": "stream",
     "text": [
      "                                                                                   \r"
     ]
    },
    {
     "name": "stdout",
     "output_type": "stream",
     "text": [
      "\n",
      "Train Loss: 0.0222 | Train Acc: 91.74%\n",
      "Val Loss: 0.0286 | Val Acc: 94.00%\n",
      "Val AUC: 0.9805 | Val F1: 0.8828\n",
      "Time: 7.28s\n",
      "✓ Saved best model (AUC: 0.9805, F1: 0.8828)\n",
      "\n",
      "Epoch 12/50\n",
      "------------------------------------------------------------\n"
     ]
    },
    {
     "name": "stderr",
     "output_type": "stream",
     "text": [
      "                                                                                   \r"
     ]
    },
    {
     "name": "stdout",
     "output_type": "stream",
     "text": [
      "\n",
      "Train Loss: 0.0205 | Train Acc: 91.90%\n",
      "Val Loss: 0.0156 | Val Acc: 94.22%\n",
      "Val AUC: 0.9860 | Val F1: 0.8851\n",
      "Time: 7.26s\n",
      "✓ Saved best model (AUC: 0.9860, F1: 0.8851)\n",
      "\n",
      "Epoch 13/50\n",
      "------------------------------------------------------------\n"
     ]
    },
    {
     "name": "stderr",
     "output_type": "stream",
     "text": [
      "                                                                                   \r"
     ]
    },
    {
     "name": "stdout",
     "output_type": "stream",
     "text": [
      "\n",
      "Train Loss: 0.0209 | Train Acc: 91.42%\n",
      "Val Loss: 0.0260 | Val Acc: 91.76%\n",
      "Val AUC: 0.9628 | Val F1: 0.8351\n",
      "Time: 7.24s\n",
      "\n",
      "Epoch 14/50\n",
      "------------------------------------------------------------\n"
     ]
    },
    {
     "name": "stderr",
     "output_type": "stream",
     "text": [
      "                                                                                   \r"
     ]
    },
    {
     "name": "stdout",
     "output_type": "stream",
     "text": [
      "\n",
      "Train Loss: 0.0228 | Train Acc: 92.27%\n",
      "Val Loss: 0.0180 | Val Acc: 93.58%\n",
      "Val AUC: 0.9812 | Val F1: 0.8765\n",
      "Time: 7.33s\n",
      "\n",
      "Epoch 15/50\n",
      "------------------------------------------------------------\n"
     ]
    },
    {
     "name": "stderr",
     "output_type": "stream",
     "text": [
      "                                                                                  \r"
     ]
    },
    {
     "name": "stdout",
     "output_type": "stream",
     "text": [
      "\n",
      "Train Loss: 0.0359 | Train Acc: 86.24%\n",
      "Val Loss: 0.0301 | Val Acc: 86.08%\n",
      "Val AUC: 0.9456 | Val F1: 0.7510\n",
      "Time: 7.32s\n",
      "\n",
      "Epoch 16/50\n",
      "------------------------------------------------------------\n"
     ]
    },
    {
     "name": "stderr",
     "output_type": "stream",
     "text": [
      "                                                                                  \r"
     ]
    },
    {
     "name": "stdout",
     "output_type": "stream",
     "text": [
      "\n",
      "Train Loss: 0.0319 | Train Acc: 85.80%\n",
      "Val Loss: 0.0279 | Val Acc: 86.62%\n",
      "Val AUC: 0.9481 | Val F1: 0.7515\n",
      "Time: 7.32s\n",
      "\n",
      "Epoch 17/50\n",
      "------------------------------------------------------------\n"
     ]
    },
    {
     "name": "stderr",
     "output_type": "stream",
     "text": [
      "                                                                                   \r"
     ]
    },
    {
     "name": "stdout",
     "output_type": "stream",
     "text": [
      "\n",
      "Train Loss: 0.0266 | Train Acc: 90.46%\n",
      "Val Loss: 0.0843 | Val Acc: 85.97%\n",
      "Val AUC: 0.9482 | Val F1: 0.7745\n",
      "Time: 7.22s\n",
      "\n",
      "Epoch 18/50\n",
      "------------------------------------------------------------\n"
     ]
    },
    {
     "name": "stderr",
     "output_type": "stream",
     "text": [
      "                                                                                  \r"
     ]
    },
    {
     "name": "stdout",
     "output_type": "stream",
     "text": [
      "\n",
      "Train Loss: 0.0402 | Train Acc: 86.79%\n",
      "Val Loss: 0.0434 | Val Acc: 84.69%\n",
      "Val AUC: 0.9119 | Val F1: 0.7191\n",
      "Time: 7.30s\n",
      "\n",
      "Epoch 19/50\n",
      "------------------------------------------------------------\n"
     ]
    },
    {
     "name": "stderr",
     "output_type": "stream",
     "text": [
      "                                                                                  \r"
     ]
    },
    {
     "name": "stdout",
     "output_type": "stream",
     "text": [
      "\n",
      "Train Loss: 0.0391 | Train Acc: 83.76%\n",
      "Val Loss: 0.0280 | Val Acc: 85.97%\n",
      "Val AUC: 0.9513 | Val F1: 0.7533\n",
      "Time: 7.34s\n",
      "\n",
      "Epoch 20/50\n",
      "------------------------------------------------------------\n"
     ]
    },
    {
     "name": "stderr",
     "output_type": "stream",
     "text": [
      "                                                                                  \r"
     ]
    },
    {
     "name": "stdout",
     "output_type": "stream",
     "text": [
      "\n",
      "Train Loss: 0.0313 | Train Acc: 87.77%\n",
      "Val Loss: 0.0212 | Val Acc: 90.69%\n",
      "Val AUC: 0.9749 | Val F1: 0.8291\n",
      "Time: 7.29s\n",
      "\n",
      "Epoch 21/50\n",
      "------------------------------------------------------------\n"
     ]
    },
    {
     "name": "stderr",
     "output_type": "stream",
     "text": [
      "                                                                                   \r"
     ]
    },
    {
     "name": "stdout",
     "output_type": "stream",
     "text": [
      "\n",
      "Train Loss: 0.0256 | Train Acc: 89.81%\n",
      "Val Loss: 0.0221 | Val Acc: 90.58%\n",
      "Val AUC: 0.9695 | Val F1: 0.8281\n",
      "Time: 7.22s\n",
      "\n",
      "Epoch 22/50\n",
      "------------------------------------------------------------\n"
     ]
    },
    {
     "name": "stderr",
     "output_type": "stream",
     "text": [
      "                                                                                   "
     ]
    },
    {
     "name": "stdout",
     "output_type": "stream",
     "text": [
      "\n",
      "Train Loss: 0.0211 | Train Acc: 91.31%\n",
      "Val Loss: 0.0167 | Val Acc: 92.29%\n",
      "Val AUC: 0.9822 | Val F1: 0.8571\n",
      "Time: 7.31s\n",
      "\n",
      "Early stopping triggered after 22 epochs\n",
      "\n",
      "============================================================\n",
      "Training completed!\n",
      "Best Validation AUC: 0.9860\n",
      "Best Validation F1: 0.8851\n",
      "============================================================\n"
     ]
    },
    {
     "name": "stderr",
     "output_type": "stream",
     "text": [
      "\r"
     ]
    }
   ],
   "source": [
    "# Training loop\n",
    "print(\"Starting training...\\n\")\n",
    "\n",
    "best_val_auc = 0.0\n",
    "best_val_f1 = 0.0\n",
    "patience_counter = 0\n",
    "history = {\n",
    "    'train_loss': [],\n",
    "    'train_acc': [],\n",
    "    'val_loss': [],\n",
    "    'val_acc': [],\n",
    "    'val_auc': [],\n",
    "    'val_f1': []\n",
    "}\n",
    "\n",
    "for epoch in range(CONFIG['num_epochs']):\n",
    "    epoch_start_time = time.time()\n",
    "    \n",
    "    print(f\"\\nEpoch {epoch+1}/{CONFIG['num_epochs']}\")\n",
    "    print(\"-\" * 60)\n",
    "    \n",
    "    # Train\n",
    "    train_loss, train_acc = train_epoch(model, train_loader, criterion, optimizer, device)\n",
    "    \n",
    "    # Validate\n",
    "    val_loss, val_acc, val_auc, val_f1, _, _, _ = validate(model, val_loader, criterion, device)\n",
    "    \n",
    "    # Update learning rate\n",
    "    scheduler.step(val_loss)\n",
    "    \n",
    "    # Save history\n",
    "    history['train_loss'].append(train_loss)\n",
    "    history['train_acc'].append(train_acc)\n",
    "    history['val_loss'].append(val_loss)\n",
    "    history['val_acc'].append(val_acc)\n",
    "    history['val_auc'].append(val_auc)\n",
    "    history['val_f1'].append(val_f1)\n",
    "    \n",
    "    epoch_time = time.time() - epoch_start_time\n",
    "    \n",
    "    print(f\"\\nTrain Loss: {train_loss:.4f} | Train Acc: {train_acc:.2f}%\")\n",
    "    print(f\"Val Loss: {val_loss:.4f} | Val Acc: {val_acc:.2f}%\")\n",
    "    print(f\"Val AUC: {val_auc:.4f} | Val F1: {val_f1:.4f}\")\n",
    "    print(f\"Time: {epoch_time:.2f}s\")\n",
    "    \n",
    "    # Save best model\n",
    "    if val_auc > best_val_auc:\n",
    "        best_val_auc = val_auc\n",
    "        best_val_f1 = val_f1\n",
    "        torch.save({\n",
    "            'epoch': epoch,\n",
    "            'model_state_dict': model.state_dict(),\n",
    "            'optimizer_state_dict': optimizer.state_dict(),\n",
    "            'val_auc': val_auc,\n",
    "            'val_f1': val_f1,\n",
    "        }, MODEL_DIR / 'best_resnet101_model.pth')\n",
    "        print(f\"✓ Saved best model (AUC: {val_auc:.4f}, F1: {val_f1:.4f})\")\n",
    "        patience_counter = 0\n",
    "    else:\n",
    "        patience_counter += 1\n",
    "    \n",
    "    # Early stopping\n",
    "    if patience_counter >= CONFIG['patience']:\n",
    "        print(f\"\\nEarly stopping triggered after {epoch+1} epochs\")\n",
    "        break\n",
    "\n",
    "print(\"\\n\" + \"=\"*60)\n",
    "print(\"Training completed!\")\n",
    "print(f\"Best Validation AUC: {best_val_auc:.4f}\")\n",
    "print(f\"Best Validation F1: {best_val_f1:.4f}\")\n",
    "print(\"=\"*60)"
   ]
  },
  {
   "cell_type": "markdown",
   "id": "fc71d49c",
   "metadata": {},
   "source": [
    "## 12. 📈 Plot Training History"
   ]
  },
  {
   "cell_type": "code",
   "execution_count": 18,
   "id": "00e0152a",
   "metadata": {},
   "outputs": [
    {
     "data": {
      "image/png": "[encoded data removed]",
      "text/plain": [
       "<Figure size 1500x1000 with 4 Axes>"
      ]
     },
     "metadata": {},
     "output_type": "display_data"
    },
    {
     "name": "stdout",
     "output_type": "stream",
     "text": [
      "✓ Training history saved\n"
     ]
    }
   ],
   "source": [
    "# Plot training history\n",
    "fig, axes = plt.subplots(2, 2, figsize=(15, 10))\n",
    "\n",
    "# Loss\n",
    "axes[0, 0].plot(history['train_loss'], label='Train Loss', marker='o')\n",
    "axes[0, 0].plot(history['val_loss'], label='Val Loss', marker='s')\n",
    "axes[0, 0].set_xlabel('Epoch')\n",
    "axes[0, 0].set_ylabel('Loss')\n",
    "axes[0, 0].set_title('Training and Validation Loss')\n",
    "axes[0, 0].legend()\n",
    "axes[0, 0].grid(True, alpha=0.3)\n",
    "\n",
    "# Accuracy\n",
    "axes[0, 1].plot(history['train_acc'], label='Train Acc', marker='o')\n",
    "axes[0, 1].plot(history['val_acc'], label='Val Acc', marker='s')\n",
    "axes[0, 1].set_xlabel('Epoch')\n",
    "axes[0, 1].set_ylabel('Accuracy (%)')\n",
    "axes[0, 1].set_title('Training and Validation Accuracy')\n",
    "axes[0, 1].legend()\n",
    "axes[0, 1].grid(True, alpha=0.3)\n",
    "\n",
    "# AUC\n",
    "axes[1, 0].plot(history['val_auc'], label='Val AUC', marker='o', color='green')\n",
    "axes[1, 0].set_xlabel('Epoch')\n",
    "axes[1, 0].set_ylabel('AUC-ROC')\n",
    "axes[1, 0].set_title('Validation AUC-ROC')\n",
    "axes[1, 0].legend()\n",
    "axes[1, 0].grid(True, alpha=0.3)\n",
    "\n",
    "# F1 Score\n",
    "axes[1, 1].plot(history['val_f1'], label='Val F1', marker='o', color='red')\n",
    "axes[1, 1].set_xlabel('Epoch')\n",
    "axes[1, 1].set_ylabel('F1 Score')\n",
    "axes[1, 1].set_title('Validation F1 Score')\n",
    "axes[1, 1].legend()\n",
    "axes[1, 1].grid(True, alpha=0.3)\n",
    "\n",
    "plt.tight_layout()\n",
    "plt.savefig(MODEL_DIR / 'training_history.png', dpi=300, bbox_inches='tight')\n",
    "plt.show()\n",
    "\n",
    "print(\"✓ Training history saved\")"
   ]
  },
  {
   "cell_type": "markdown",
   "id": "ec5eaf59",
   "metadata": {},
   "source": [
    "## 13. 🧪 Evaluate on Test Set"
   ]
  },
  {
   "cell_type": "code",
   "execution_count": 19,
   "id": "28ee2495",
   "metadata": {},
   "outputs": [
    {
     "name": "stdout",
     "output_type": "stream",
     "text": [
      "✓ Loaded best model from epoch 12\n",
      "\n",
      "Evaluating on test set...\n"
     ]
    },
    {
     "name": "stderr",
     "output_type": "stream",
     "text": [
      "                                                           "
     ]
    },
    {
     "name": "stdout",
     "output_type": "stream",
     "text": [
      "\n",
      "============================================================\n",
      "TEST SET RESULTS\n",
      "============================================================\n",
      "Test Loss: 0.0210\n",
      "Test Accuracy: 94.44%\n",
      "Test AUC-ROC: 0.9772\n",
      "Test F1 Score: 0.8903\n",
      "============================================================\n"
     ]
    },
    {
     "name": "stderr",
     "output_type": "stream",
     "text": [
      "\r"
     ]
    }
   ],
   "source": [
    "# Load best model\n",
    "checkpoint = torch.load(MODEL_DIR / 'best_resnet101_model.pth')\n",
    "model.load_state_dict(checkpoint['model_state_dict'])\n",
    "print(f\"✓ Loaded best model from epoch {checkpoint['epoch']+1}\")\n",
    "\n",
    "# Evaluate on test set\n",
    "print(\"\\nEvaluating on test set...\")\n",
    "test_loss, test_acc, test_auc, test_f1, test_labels, test_preds, test_probs = validate(\n",
    "    model, test_loader, criterion, device\n",
    ")\n",
    "\n",
    "print(\"\\n\" + \"=\"*60)\n",
    "print(\"TEST SET RESULTS\")\n",
    "print(\"=\"*60)\n",
    "print(f\"Test Loss: {test_loss:.4f}\")\n",
    "print(f\"Test Accuracy: {test_acc:.2f}%\")\n",
    "print(f\"Test AUC-ROC: {test_auc:.4f}\")\n",
    "print(f\"Test F1 Score: {test_f1:.4f}\")\n",
    "print(\"=\"*60)"
   ]
  },
  {
   "cell_type": "code",
   "execution_count": 20,
   "id": "47e79dc3",
   "metadata": {},
   "outputs": [
    {
     "data": {
      "image/png": "[encoded data removed]",
      "text/plain": [
       "<Figure size 800x600 with 2 Axes>"
      ]
     },
     "metadata": {},
     "output_type": "display_data"
    },
    {
     "name": "stdout",
     "output_type": "stream",
     "text": [
      "\n",
      "Confusion Matrix:\n",
      "[[672  29]\n",
      " [ 23 211]]\n"
     ]
    }
   ],
   "source": [
    "# Confusion Matrix\n",
    "cm = confusion_matrix(test_labels, test_preds)\n",
    "\n",
    "plt.figure(figsize=(8, 6))\n",
    "sns.heatmap(cm, annot=True, fmt='d', cmap='Blues', \n",
    "            xticklabels=['Non-Nodule', 'Nodule'],\n",
    "            yticklabels=['Non-Nodule', 'Nodule'])\n",
    "plt.ylabel('True Label')\n",
    "plt.xlabel('Predicted Label')\n",
    "plt.title('Confusion Matrix - Test Set')\n",
    "plt.tight_layout()\n",
    "plt.savefig(MODEL_DIR / 'confusion_matrix.png', dpi=300, bbox_inches='tight')\n",
    "plt.show()\n",
    "\n",
    "print(\"\\nConfusion Matrix:\")\n",
    "print(cm)"
   ]
  },
  {
   "cell_type": "code",
   "execution_count": 21,
   "id": "0f4ea4e2",
   "metadata": {},
   "outputs": [
    {
     "name": "stdout",
     "output_type": "stream",
     "text": [
      "\n",
      "Classification Report:\n",
      "              precision    recall  f1-score   support\n",
      "\n",
      "  Non-Nodule     0.9669    0.9586    0.9628       701\n",
      "      Nodule     0.8792    0.9017    0.8903       234\n",
      "\n",
      "    accuracy                         0.9444       935\n",
      "   macro avg     0.9230    0.9302    0.9265       935\n",
      "weighted avg     0.9449    0.9444    0.9446       935\n",
      "\n"
     ]
    }
   ],
   "source": [
    "# Classification Report\n",
    "print(\"\\nClassification Report:\")\n",
    "print(classification_report(test_labels, test_preds, \n",
    "                          target_names=['Non-Nodule', 'Nodule'],\n",
    "                          digits=4))"
   ]
  },
  {
   "cell_type": "code",
   "execution_count": 22,
   "id": "cecae68c",
   "metadata": {},
   "outputs": [
    {
     "data": {
      "image/png": "[encoded data removed]",
      "text/plain": [
       "<Figure size 800x600 with 1 Axes>"
      ]
     },
     "metadata": {},
     "output_type": "display_data"
    }
   ],
   "source": [
    "# ROC Curve\n",
    "fpr, tpr, thresholds = roc_curve(test_labels, test_probs)\n",
    "\n",
    "plt.figure(figsize=(8, 6))\n",
    "plt.plot(fpr, tpr, linewidth=2, label=f'ROC curve (AUC = {test_auc:.4f})')\n",
    "plt.plot([0, 1], [0, 1], 'k--', linewidth=1, label='Random Classifier')\n",
    "plt.xlabel('False Positive Rate')\n",
    "plt.ylabel('True Positive Rate')\n",
    "plt.title('ROC Curve - Test Set')\n",
    "plt.legend()\n",
    "plt.grid(True, alpha=0.3)\n",
    "plt.tight_layout()\n",
    "plt.savefig(MODEL_DIR / 'roc_curve.png', dpi=300, bbox_inches='tight')\n",
    "plt.show()"
   ]
  },
  {
   "cell_type": "code",
   "execution_count": 23,
   "id": "097c2dc1",
   "metadata": {},
   "outputs": [
    {
     "data": {
      "image/png": "[encoded data removed]",
      "text/plain": [
       "<Figure size 800x600 with 1 Axes>"
      ]
     },
     "metadata": {},
     "output_type": "display_data"
    }
   ],
   "source": [
    "# Precision-Recall Curve\n",
    "precision, recall, pr_thresholds = precision_recall_curve(test_labels, test_probs)\n",
    "\n",
    "plt.figure(figsize=(8, 6))\n",
    "plt.plot(recall, precision, linewidth=2, label='Precision-Recall curve')\n",
    "plt.xlabel('Recall')\n",
    "plt.ylabel('Precision')\n",
    "plt.title('Precision-Recall Curve - Test Set')\n",
    "plt.legend()\n",
    "plt.grid(True, alpha=0.3)\n",
    "plt.tight_layout()\n",
    "plt.savefig(MODEL_DIR / 'precision_recall_curve.png', dpi=300, bbox_inches='tight')\n",
    "plt.show()"
   ]
  },
  {
   "cell_type": "markdown",
   "id": "645ecd13",
   "metadata": {},
   "source": [
    "## 14. 💾 Save Results"
   ]
  },
  {
   "cell_type": "code",
   "execution_count": 24,
   "id": "fe02766f",
   "metadata": {},
   "outputs": [
    {
     "name": "stdout",
     "output_type": "stream",
     "text": [
      "✓ Training history saved\n",
      "✓ Test results saved\n",
      "\n",
      "✓ All results saved to e:\\Kanav\\Projects\\CAD_C\\models_resnet101\n"
     ]
    }
   ],
   "source": [
    "# Save training history\n",
    "history_df = pd.DataFrame(history)\n",
    "history_df.to_csv(MODEL_DIR / 'training_history.csv', index=False)\n",
    "print(\"✓ Training history saved\")\n",
    "\n",
    "# Save test results\n",
    "test_results = {\n",
    "    'test_loss': test_loss,\n",
    "    'test_accuracy': test_acc,\n",
    "    'test_auc': test_auc,\n",
    "    'test_f1': test_f1,\n",
    "    'confusion_matrix': cm.tolist()\n",
    "}\n",
    "\n",
    "import json\n",
    "with open(MODEL_DIR / 'test_results.json', 'w') as f:\n",
    "    json.dump(test_results, f, indent=4)\n",
    "print(\"✓ Test results saved\")\n",
    "\n",
    "print(f\"\\n✓ All results saved to {MODEL_DIR}\")"
   ]
  },
  {
   "cell_type": "markdown",
   "id": "4110b0ee",
   "metadata": {},
   "source": [
    "## 15. 🎯 Summary\n",
    "\n",
    "### Model Architecture:\n",
    "- **Backbone**: Pretrained ResNet-101 (ImageNet weights)\n",
    "- **Input**: 2D multi-slice patches (3 consecutive slices as RGB channels)\n",
    "- **Output**: Binary classification (Nodule / Non-Nodule)\n",
    "\n",
    "### Training Strategy:\n",
    "- **Loss Function**: Focal Loss for class imbalance\n",
    "- **Optimizer**: AdamW with weight decay\n",
    "- **Learning Rate**: Adaptive with ReduceLROnPlateau\n",
    "- **Data Augmentation**: Flips, rotations, brightness adjustments\n",
    "\n",
    "### Performance Metrics:\n",
    "- Accuracy, Precision, Recall, F1-Score\n",
    "- AUC-ROC for overall performance\n",
    "- Confusion Matrix for error analysis\n",
    "\n",
    "### Next Steps:\n",
    "1. **Fine-tuning**: Unfreeze more layers for better adaptation\n",
    "2. **Ensemble**: Combine multiple models for improved accuracy\n",
    "3. **3D Extension**: Use ResNet3D or Med3D for full 3D processing\n",
    "4. **Deployment**: Export model for clinical use"
   ]
  }
 ],
 "metadata": {
  "kernelspec": {
   "display_name": "pytorch-12.8",
   "language": "python",
   "name": "python3"
  },
  "language_info": {
   "codemirror_mode": {
    "name": "ipython",
    "version": 3
   },
   "file_extension": ".py",
   "mimetype": "text/x-python",
   "name": "python",
   "nbconvert_exporter": "python",
   "pygments_lexer": "ipython3",
   "version": "3.10.18"
  }
 },
 "nbformat": 4,
 "nbformat_minor": 5
}
